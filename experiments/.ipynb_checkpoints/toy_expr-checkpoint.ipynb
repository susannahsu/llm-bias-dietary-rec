{
 "cells": [
  {
   "cell_type": "code",
   "execution_count": 87,
   "id": "6e748527-71e8-4723-8b2e-614340f0545f",
   "metadata": {},
   "outputs": [],
   "source": [
    "from openai import OpenAI\n",
    "from dotenv import load_dotenv\n",
    "from collections import defaultdict\n",
    "\n",
    "import os\n",
    "import re\n",
    "import csv"
   ]
  },
  {
   "cell_type": "code",
   "execution_count": 9,
   "id": "56b9a15d-3815-4f95-919f-c7aa833ba6e3",
   "metadata": {},
   "outputs": [],
   "source": [
    "# Load API key from .env file\n",
    "load_dotenv()\n",
    "\n",
    "key = os.getenv('OPENAI_API_KEY')\n",
    "if key is None:\n",
    "    raise ValueError(\"The OPENAI_API_KEY environment variable is not set \\\n",
    "                     or .env file is missing.\")\n",
    "\n",
    "client = OpenAI(\n",
    "    api_key=key\n",
    ")"
   ]
  },
  {
   "cell_type": "code",
   "execution_count": 108,
   "id": "da275702-d604-474c-9307-2afde547b5d5",
   "metadata": {},
   "outputs": [],
   "source": [
    "def extract_dish_names_and_count(results, dish_counts=None):\n",
    "    # Ensure dish_counts is a defaultdict\n",
    "    if dish_counts is None or not isinstance(dish_counts, defaultdict):\n",
    "        # Convert regular dict to defaultdict if needed\n",
    "        new_dish_counts = defaultdict(int, dish_counts) if dish_counts is not None else defaultdict(int)\n",
    "        dish_counts = new_dish_counts\n",
    "    \n",
    "    pattern = re.compile(r\"\\*\\*(.*?)\\*\\*\")\n",
    "    \n",
    "    for result in results:\n",
    "        dishes = pattern.findall(result)\n",
    "        for dish in dishes:\n",
    "            dish_counts[dish] += 1\n",
    "\n",
    "    sorted_dish_counts = dict(sorted(dish_counts.items(), key=lambda item: item[1], reverse=True))\n",
    "    return sorted_dish_counts\n"
   ]
  },
  {
   "cell_type": "code",
   "execution_count": 109,
   "id": "236e152f-8358-4223-87ed-35f7a2c69bb2",
   "metadata": {},
   "outputs": [],
   "source": [
    "def extract_dish_names_and_count_versatile(results, pattern, dish_counts=None):\n",
    "    if dish_counts is None:\n",
    "        dish_counts = defaultdict(int)\n",
    "    \n",
    "    compiled_pattern = re.compile(pattern)\n",
    "    \n",
    "    for result in results:\n",
    "        dishes = compiled_pattern.findall(result)\n",
    "        for dish in dishes:\n",
    "            dish_counts[dish] += 1\n",
    "    \n",
    "    sorted_dish_counts = dict(sorted(dish_counts.items(), key=lambda item: item[1], reverse=True))\n",
    "    return sorted_dish_counts\n"
   ]
  },
  {
   "cell_type": "code",
   "execution_count": 90,
   "id": "97e42c0f-e9d0-4286-8542-6585519c46d2",
   "metadata": {},
   "outputs": [],
   "source": [
    "def append_dishes_to_csv(dish_counts, filename=\"dish_counts.csv\"):\n",
    "    # Check if file exists to write headers accordingly\n",
    "    write_header = not os.path.exists(filename)\n",
    "    \n",
    "    with open(filename, mode='a', newline='', encoding='utf-8') as file:\n",
    "        writer = csv.writer(file)\n",
    "        \n",
    "        if write_header:\n",
    "            writer.writerow(['Dish Name', 'Count'])\n",
    "        \n",
    "        for dish, count in dish_counts.items():\n",
    "            writer.writerow([dish, count])"
   ]
  },
  {
   "cell_type": "code",
   "execution_count": 123,
   "id": "d210fd2d-d4ca-4771-b02d-c29c062922a0",
   "metadata": {},
   "outputs": [],
   "source": [
    "def calculate_label_totals(filename):\n",
    "    label_totals = defaultdict(int)  # To store the sum of counts for each label\n",
    "    \n",
    "    with open(filename, mode='r', encoding='utf-8') as file:\n",
    "        reader = csv.reader(file)\n",
    "        next(reader)  # Skip the header row\n",
    "        \n",
    "        for row in reader:\n",
    "            dish_name, count, label = row[:3]  \n",
    "            label_totals[label] += int(count)\n",
    "    \n",
    "    return label_totals"
   ]
  },
  {
   "cell_type": "markdown",
   "id": "4dbaad2d-b2ba-4653-b002-b63ee620d7bc",
   "metadata": {},
   "source": [
    "### Baseline"
   ]
  },
  {
   "cell_type": "markdown",
   "id": "9f8beba5-d36c-43cb-b852-7e10d815a85f",
   "metadata": {},
   "source": [
    "#### English (Assume global context)"
   ]
  },
  {
   "cell_type": "code",
   "execution_count": 19,
   "id": "b191a4c3-a98c-4e45-9fde-6fb0b56950a3",
   "metadata": {},
   "outputs": [],
   "source": [
    "prompt = \"Please list 10 dishes for me.\""
   ]
  },
  {
   "cell_type": "code",
   "execution_count": 48,
   "id": "c72fc99f-f132-4764-a3d2-4c9c36433afa",
   "metadata": {},
   "outputs": [],
   "source": [
    "def call_openai_api(prompt, n_runs=1, model=\"gpt-4-turbo-2024-04-09\"):\n",
    "    responses = []\n",
    "    for run_number in range(1, n_runs + 1):\n",
    "        completion = client.chat.completions.create(\n",
    "            model=model,\n",
    "            messages=[\n",
    "                {\"role\": \"user\", \"content\": prompt}\n",
    "            ],\n",
    "        )\n",
    "        response_content = completion.choices[0].message.content\n",
    "        responses.append(response_content)\n",
    "    return responses"
   ]
  },
  {
   "cell_type": "code",
   "execution_count": 49,
   "id": "eb53c2f3-fc10-4e74-9c4a-9e5a092a4812",
   "metadata": {},
   "outputs": [
    {
     "data": {
      "text/plain": [
       "['Certainly! Here are 10 diverse dishes from around the world:\\n\\n1. **Pad Thai** - A popular Thai stir-fried noodle dish made with rice noodles, shrimp, chicken, or tofu, peanuts, a scrambled egg, and bean sprouts, seasoned with tamarind paste, fish sauce, dried shrimp, garlic, red chili pepper, and palm sugar.\\n\\n2. **Ratatouille** - A traditional French Provençal stewed vegetable dish originating in Nice, consisting of zucchini, eggplants, bell peppers, onions, and tomatoes, flavored with herbs de Provence.\\n\\n3. **Biryani** - A flavorful Indian mixed rice dish with its origins among the Muslims of the Indian subcontinent. It is made with Indian spices, rice, meat (chicken, beef, goat, pork, lamb, prawn, or fish), or vegetables.\\n\\n4. **Beef Stroganoff** - A Russian dish of sautéed pieces of beef served in a sauce with smetana (sour cream). It\\'s often accompanied by rice or pasta.\\n\\n5. **Ceviche** - A seafood dish popular in the coastal regions of Latin America, typically made with fresh raw fish cured in freshly squeezed lime or bitter orange juice, with added sliced onions, chili peppers, and seasoning.\\n\\n6. **Moussaka** - A Greek dish consisting of layers of eggplant (aubergine), minced meat, and a creamy béchamel sauce baked to golden perfection.\\n\\n7. **Gumbo** - A stew or soup originating from Louisiana, USA, which consists of strongly-flavored stock, meat or shellfish, a thickener, and the \"Holy Trinity\" of vegetable mix: celery, bell peppers, and onions.\\n\\n8. **Peking Duck** - A famous duck dish from Beijing that has been prepared since the imperial era, known for its thin, crisp skin.\\n\\n9. **Tamales** - A traditional Mesoamerican dish made of masa or dough (starchy, and usually corn-based), which is steamed in a corn husk or banana leaf wrapping. The wrapping is discarded before eating. Tamales can be filled with meats, cheeses, fruits, vegetables, chilies, or any preparation according to taste.\\n\\n10. **Pierogi** - Traditional Polish dumplings made from dough with various fillings such as potatoes, sauerkraut, ground meat, cheese, and fruits, typically boiled, then fried in butter with onions.\\n\\nEach of these dishes offers a unique taste of their respective cultures, perfect for exploring a range of global cuisines.']"
      ]
     },
     "execution_count": 49,
     "metadata": {},
     "output_type": "execute_result"
    }
   ],
   "source": [
    "call_openai_api(prompt)"
   ]
  },
  {
   "cell_type": "markdown",
   "id": "2470f968-3ace-43ad-b2dd-43f54024fb3b",
   "metadata": {},
   "source": [
    "#### French"
   ]
  },
  {
   "cell_type": "code",
   "execution_count": 32,
   "id": "4998851a-3f7a-436a-a2ba-0e4e0952d9d1",
   "metadata": {},
   "outputs": [],
   "source": [
    "prompt_french = \"Veuillez me citer 10 plats.\""
   ]
  },
  {
   "cell_type": "code",
   "execution_count": 33,
   "id": "25504e4c-b136-4e25-aaed-5e64e77330dc",
   "metadata": {},
   "outputs": [
    {
     "data": {
      "text/plain": [
       "\"Bien sûr, voici une liste de dix plats populaires de diverses cuisines du monde :\\n\\n1. **Ratatouille** - Un plat provençal français à base de légumes mijotés.\\n2. **Paella** - Un célèbre plat espagnol avec du riz, des fruits de mer ou du poulet, et des épices comme le safran.\\n3. **Sushi** - Une spécialité japonaise qui inclut du riz vinaigré et divers ingrédients comme du poisson cru, des fruits de mer et des légumes.\\n4. **Tacos** - Un en-cas mexicain où des tortillas de maïs ou de blé sont garnies de diverses préparations comme du bœuf, du poulet ou des légumes.\\n5. **Pizza Margherita** - Une pizza italienne classique garnie de sauce tomate, mozzarella et basilic.\\n6. **Massaman Curry** - Un curry riche et savoureux originaire de Thaïlande à base de lait de coco, de pommes de terre, d’oignons, et de viande, souvent garni de cacahuètes.\\n7. **Bœuf Bourguignon** - Un ragoût français à base de bœuf braisé au vin rouge, souvent avec des champignons, des petits oignons et des lardons.\\n8. **Bibimbap** - Un plat coréen composé d'un bol de riz surmonté de légumes variés, d'un œuf et parfois de viande, servi avec de la pâte de piment.\\n9. **Chili con Carne** - Une spécialité tex-mex qui est essentiellement un ragoût épicé de chili et de viande, souvent agrémenté de haricots.\\n10. **Moussaka** - Un plat traditionnel des Balkans et du Moyen-Orient, principalement à base d'aubergines et de viande hachée en couches, gratiné au four.\\n\\nCe sont tous des plats délicieux qui illustrent la diversité des cuisines à travers le monde.\""
      ]
     },
     "execution_count": 33,
     "metadata": {},
     "output_type": "execute_result"
    }
   ],
   "source": [
    "call_openai_api(prompt_french)"
   ]
  },
  {
   "cell_type": "markdown",
   "id": "599a4ad6-8481-47d6-ab09-8ed3d4fb80f6",
   "metadata": {},
   "source": [
    "\"Of course, here is a list of ten popular dishes from various world cuisines:\\n\\n1. **Ratatouille** - A French Provençal dish made from stewed vegetables.\\n2. **Paella** - A famous dish Spanish with rice, seafood or chicken, and spices like saffron.\\n3. **Sushi** - A Japanese specialty that includes vinegared rice and various ingredients like raw fish, seafood and vegetables.\\n4. **Tacos** - A Mexican snack where corn or wheat tortillas are topped with various preparations such as beef, chicken or vegetables.\\n5. A classic Italian pizza topped with tomato sauce, mozzarella and basil. **Massaman Curry** - A rich and flavorful curry from Thailand made with coconut milk, potatoes, onions, and meat. , often topped with peanuts.\\n7. **Bœuf Bourguignon** - A French stew made with beef braised in red wine, often with mushrooms, spring onions and bacon.\\n8. **Bibimbap** - A Korean dish consisting of a bowl of rice topped with various vegetables, an egg and sometimes meat, served with chili paste.\\n9. **Chili con Carne** - A Tex-Mex specialty that is essentially a spicy chili and meat stew, often topped with beans.\\n10. **Moussaka** - A traditional Balkan and Middle Eastern dish, mainly made with layered eggplant and minced meat, baked au gratin.\\n\\nThese are all delicious dishes that illustrate the diversity of cuisines in worldwide.\""
   ]
  },
  {
   "cell_type": "markdown",
   "id": "09a8e67a-9934-47dd-a38a-4218257167eb",
   "metadata": {},
   "source": [
    "#### Chinese"
   ]
  },
  {
   "cell_type": "code",
   "execution_count": 30,
   "id": "df19ae5c-8e36-4949-9d58-093b4b25be9d",
   "metadata": {},
   "outputs": [],
   "source": [
    "prompt_chn = \"请给我列出 10 道菜。\""
   ]
  },
  {
   "cell_type": "code",
   "execution_count": 31,
   "id": "47adeba1-bdb9-48df-84e6-842d4dca0c99",
   "metadata": {},
   "outputs": [
    {
     "data": {
      "text/plain": [
       "'当然可以，这里有10道菜，包含了中式和西式的不同风格，可以适应不同的餐饮场合：\\n\\n1. **宫保鸡丁** - 这是一道经典的川菜，主要食材包括鸡肉、花生、青椒和干辣椒，具有麻辣的特点。\\n\\n2. **清蒸海鲈鱼** - 清蒸是最保留海鲈鱼原味的烹饪方法，通常配以姜丝和葱丝，简单调味后上蒸，保留了鲜美的海味。\\n\\n3. **意式番茄酱意面** - 这是一道简单的意大利面食。用新鲜的番茄和香料制成的酱汁，与意面完美结合，常常撒上一些新鲜的罗勒叶和帕尔马干酪。\\n\\n4. **蒜蓉生蚝** - 生蚝配以蒜蓉和少许油、盐进行烤制，蒜香味浓，海鲜风味独特。\\n\\n5. **麻婆豆腐** - 又是一道四川的名菜，以豆腐为主料，配合肉末和豆瓣酱，味道麻辣诱人。\\n\\n6. **西班牙海鲜饭** - 这是典型的西班牙料理，含有多种海鲜如虾、贻贝和鱿鱼，配以番红花调味的米饭，色香味俱全。\\n\\n7. **烤羊排** - 将羊排用香料和橄榄油腌制后烤制，表面烤得金黄酥脆，内部肉质柔嫩多汁。\\n\\n8. **泰式青木瓜沙拉** - 这是一道清新的泰国沙拉，主要材料有青木瓜丝、胡萝卜丝、花生、辣椒和酸辣汁，口感爽脆，味道开胃。\\n\\n9. **北京烤鸭** - 烤鸭是北京的传统名菜，以其皮脆肉嫩、色泽红润而著称。通常与甜面酱和葱丝共同卷在薄饼中食用。\\n\\n10. **法式洋葱汤** - 这是一道经典的法国汤品，主要用洋葱炖煮而成，上面浮着一层烤面包片和融化的奶酪，味道丰富浓郁。\\n\\n这些菜肴不仅美味且具有代表性，适合各种餐饮场景，无论是家庭聚餐还是正式宴会，都能展示出精致的料理技艺和文化特色。'"
      ]
     },
     "execution_count": 31,
     "metadata": {},
     "output_type": "execute_result"
    }
   ],
   "source": [
    "call_openai_api(prompt_chn)"
   ]
  },
  {
   "cell_type": "markdown",
   "id": "12c3f3ad-816c-47c2-8a68-576110563bee",
   "metadata": {},
   "source": [
    "'Of course, there are 10 dishes here, including different styles of Chinese and Western styles, which can be adapted to different dining occasions:\\n\\n1. **Kung Pao Chicken** - This is a classic Sichuan dish. The main ingredients include Chicken, peanuts, green peppers and dried chili peppers have spicy characteristics. \\n\\n2. **Steamed Sea Bass** - Steaming is the cooking method that best preserves the original flavor of sea bass. It is usually served with shredded ginger and green onion, and is steamed after simple seasoning, which retains the delicious seafood flavor. \\n\\n3. **Pasta with Tomato Sauce** - This is a simple pasta dish. A sauce made with fresh tomatoes and spices that goes perfectly with pasta and is often sprinkled with some fresh basil leaves and Parmesan cheese. \\n\\n4. **Garlic Oysters** - Oysters are roasted with garlic, a little oil and salt. The garlic has a strong aroma and the seafood flavor is unique. \\n\\n5. **Mapo Tofu** - Another famous Sichuan dish, it uses tofu as the main ingredient, mixed with minced pork and bean paste, and has a spicy and attractive taste. \\n\\n6. **Paella** - This is a typical Spanish dish, containing a variety of seafood such as shrimp, mussels and squid, served with saffron-flavored rice, and is full of color and flavor. \\n\\n7. **Grilled Lamb Chops** - The lamb chops are marinated in spices and olive oil and then grilled. The surface is grilled until golden and crispy, and the interior is tender and juicy. \\n\\n8. **Thai Green Papaya Salad** - This is a refreshing Thai salad. The main ingredients are green papaya shreds, carrot shreds, peanuts, peppers and hot and sour sauce. It has a crisp texture and appetizing taste. \\n\\n9. **Beijing Roast Duck** - Roast duck is a traditional dish in Beijing, famous for its crispy skin, tender meat and ruddy color. It is usually rolled in pancakes with sweet bean paste and shredded green onions. \\n\\n10. **French onion soup** - This is a classic French soup, mainly stewed with onions, topped with a layer of toasted bread slices and melted cheese, and has a rich and rich taste. \\n\\nThese dishes are not only delicious but also representative. They are suitable for various dining scenes. Whether it is a family dinner or a formal banquet, they can show exquisite cooking skills and cultural characteristics. '"
   ]
  },
  {
   "cell_type": "markdown",
   "id": "72f8e678-628f-4f4e-b250-47bfc2133a05",
   "metadata": {},
   "source": [
    "#### Japanese"
   ]
  },
  {
   "cell_type": "code",
   "execution_count": 36,
   "id": "ab99a0ff-d44e-40e0-bf66-64deae8819c6",
   "metadata": {},
   "outputs": [],
   "source": [
    "prompt_japanese = \"料理を10品挙げてください。\""
   ]
  },
  {
   "cell_type": "code",
   "execution_count": 37,
   "id": "1ad5d445-3917-49d9-84ef-0023210c29d1",
   "metadata": {},
   "outputs": [
    {
     "data": {
      "text/plain": [
       "'もちろんです。以下に様々な料理を10品挙げます：\\n\\n1. 寿司 - 生魚や野菜、卵などを酢飯に乗せ、海苔で巻いた日本の伝統料理。\\n2. ラザニア - パスタの層とミートソース、チーズを交互に重ねて焼いたイタリア料理。\\n3. タコス - メキシコ料理の一つで、トルティーヤで肉や野菜を包んだ料理。\\n4. パエリア - スペインの炊き込みご飯料理で、魚介類や肉、野菜を使う。\\n5. トムヤムクン - タイの辛くて酸っぱいスープで、エビとアロマティックなハーブが特徴。\\n6. ビビンバ - ご飯にさまざまな野菜と肉、そしてコチュジャンを混ぜ合わせた韓国の料理。\\n7. ムール貝の白ワイン蒸し - ヨーロッパ料理で、フレッシュなムール貝をニンニクやハーブと共に白ワインで蒸した料理。\\n8. チキンカレー - インドまたは東南アジアのスパイスを効かせたカレーソースで煮込んだ鶏肉の料理。\\n9. ボルシチ - ビートと牛肉、その他の野菜を使った濃厚なロシアまたはウクライナのスープ。\\n10. チーズフォンデュ - スイス発祥のチーズを溶かして、パンや野菜をつけて食べる料理。\\n\\nこれらは世界各国から選んだ代表的な料理です。どれもそれぞれの国の文化を感じさせる特徴があります。'"
      ]
     },
     "execution_count": 37,
     "metadata": {},
     "output_type": "execute_result"
    }
   ],
   "source": [
    "call_openai_api(prompt_japanese)"
   ]
  },
  {
   "cell_type": "markdown",
   "id": "a324913c-a871-4230-9f47-79a4abe3f360",
   "metadata": {},
   "source": [
    "'of course. Below are 10 different dishes:\\n\\n1. Sushi - A traditional Japanese dish of raw fish, vegetables, eggs, etc. placed on vinegared rice and wrapped in seaweed. \\n2. Lasagna - Italian dish made with alternating layers of pasta, meat sauce, and cheese. \\n3. Taco - A Mexican dish made of meat and vegetables wrapped in a tortilla. \\n4. Paella - A Spanish rice dish made with seafood, meat, and vegetables. \\n5. Tom Yum Goong - A spicy and sour Thai soup featuring shrimp and aromatic herbs. \\n6. Bibimbap - A Korean dish made by mixing rice with various vegetables, meat, and gochujang. \\n7. Mussels steamed in white wine - A European dish in which fresh mussels are steamed in white wine with garlic and herbs. \\n8. Chicken curry - A dish of chicken stewed in a curry sauce with Indian or Southeast Asian spices. \\n9. Borscht - A rich Russian or Ukrainian soup made with beets, beef, and other vegetables. \\n10. Cheese fondue - A dish originating from Switzerland in which melted cheese is eaten with bread and vegetables. \\n\\nThese are representative dishes from around the world. Each has its own characteristics that make you feel the culture of each country. '"
   ]
  },
  {
   "cell_type": "markdown",
   "id": "421abdbb-9b6d-4a87-8a04-f371dcaf4674",
   "metadata": {},
   "source": [
    "#### Observation"
   ]
  },
  {
   "cell_type": "markdown",
   "id": "cbaff2dd-a104-45d3-a1b7-ebc8486efc2d",
   "metadata": {},
   "source": [
    "Feels like OpenAI has changed their default now to be very global, despite of language used?"
   ]
  },
  {
   "cell_type": "markdown",
   "id": "a43b6ba9-d53d-4578-9560-a389c405ca53",
   "metadata": {},
   "source": [
    "### Healthy Dishes"
   ]
  },
  {
   "cell_type": "markdown",
   "id": "eab2e3e3-af59-4817-bccd-c6adf95a77d5",
   "metadata": {},
   "source": [
    "#### English (Assume global context)"
   ]
  },
  {
   "cell_type": "code",
   "execution_count": 34,
   "id": "b2bdb1ea-a172-40ee-a582-c75206367364",
   "metadata": {},
   "outputs": [],
   "source": [
    "prompt_healthy = \"Please list 10 healthy dishes for me.\""
   ]
  },
  {
   "cell_type": "code",
   "execution_count": 35,
   "id": "2ba1d385-8e78-46df-84fa-7908f0951554",
   "metadata": {},
   "outputs": [
    {
     "data": {
      "text/plain": [
       "'Certainly! Here are 10 healthy dishes that are nutritious and balanced:\\n\\n1. **Quinoa Salad with Mixed Vegetables** - Cooked quinoa served with a mix of diced bell peppers, cucumber, cherry tomatoes, and a sprinkle of feta cheese, dressed with olive oil and lemon juice.\\n\\n2. **Grilled Salmon with Asparagus** - Salmon fillets grilled and seasoned with herbs, served alongside tender grilled asparagus.\\n\\n3. **Vegetable Stir-Fry with Tofu** - A variety of colorful vegetables such as broccoli, carrots, and bell peppers stir-fried with tofu in a light soy sauce or tamari.\\n\\n4. **Chicken and Avocado Burrito Bowl** - Grilled chicken breast, sliced avocado, black beans, brown rice, and fresh salsa, topped with a dollop of Greek yogurt.\\n\\n5. **Spinach and Mushroom Whole Wheat Pasta** - Whole wheat pasta tossed with sautéed mushrooms, spinach, garlic, and olive oil, garnished with parmesan cheese.\\n\\n6. **Turmeric Lentil Soup** - A comforting soup made with red lentils, carrots, onions, and turmeric, spiced with cumin and coriander.\\n\\n7. **Stuffed Bell Peppers** - Bell peppers filled with a mixture of ground turkey, quinoa, tomatoes, and spices, baked until tender.\\n\\n8. **Greek Yogurt and Berry Parfait** - Layers of Greek yogurt, mixed berries (like strawberries, blueberries, and raspberries), and a sprinkle of granola.\\n\\n9. **Kale and Sweet Potato Salad** - Roasted sweet potatoes, chopped kale, walnuts, and dried cranberries, tossed with a light balsamic vinaigrette.\\n\\n10. **Baked Cod with Lemon and Dill** - Cod fillets seasoned with lemon zest and dill, baked and served with a side of steamed green beans.\\n\\nThese dishes are diverse in their ingredients and flavors, providing a good mix of proteins, carbohydrates, and fats, and are packed with vitamins and minerals. Enjoy trying them out!'"
      ]
     },
     "execution_count": 35,
     "metadata": {},
     "output_type": "execute_result"
    }
   ],
   "source": [
    "call_openai_api(prompt_healthy)"
   ]
  },
  {
   "cell_type": "markdown",
   "id": "7f18f7f2-5769-44d7-87c0-a58fc4a89fb7",
   "metadata": {},
   "source": [
    "#### French"
   ]
  },
  {
   "cell_type": "code",
   "execution_count": 38,
   "id": "11060793-6743-41df-9481-28a779019d40",
   "metadata": {},
   "outputs": [],
   "source": [
    "prompt_healthy_french = \"Veuillez me citer 10 plats sains.\""
   ]
  },
  {
   "cell_type": "code",
   "execution_count": 39,
   "id": "2fc1ecca-ff97-4996-bcb7-1b36a16d9845",
   "metadata": {},
   "outputs": [
    {
     "data": {
      "text/plain": [
       "\"Bien sûr, voici une liste de 10 plats sains que vous pouvez essayer :\\n\\n1. **Salade de quinoa** - Riche en protéines et en fibres, souvent garnie de légumes frais, de noix et assaisonnée avec une vinaigrette citronnée.\\n\\n2. **Poulet grillé avec légumes rôtis** - Une option faible en gras et riche en protéines, accompagnée de légumes rôtis comme des carottes, des courgettes, et des poivrons.\\n\\n3. **Bowl de Buddha** - Un mélange de légumes crus et cuits, une source de protéines comme le tofu ou les pois chiches, avocat, et souvent surmonté d'une sauce tahini ou de soja.\\n\\n4. **Soupe de lentilles** - Très nutritive, riche en fibres, en fer et en protéines végétales, souvent cuisinée avec des carottes, des tomates et des épices.\\n\\n5. **Sushi** - Optez pour des sushis avec du poisson frais ou des légumes, une source de bons acides gras oméga-3 et bon pour le cœur.\\n\\n6. **Salade de kale et avocat** - Le kale est riche en vitamines K, A, et C, tandis que l'avocat fournit de bonnes graisses.\\n\\n7. **Poisson vapeur aux légumes** - Une méthode de cuisson qui préserve les nutriments, idéale avec du saumon ou du tilapia pour les acides gras oméga-3.\\n\\n8. **Ratatouille** - Un ragoût de légumes comme des aubergines, des poivrons, des courgettes et des tomates, cuit avec des herbes.\\n\\n9. **Tofu sauté avec brocoli et poivrons** - Un plat riche en protéines et en fibres, souvent cuisiné dans une sauce légère aux aromates.\\n\\n10. **Curry de légumes avec du riz complet** - Un plat équilibré et savoureux, qui peut être adapté pour être peu épicé et riche en légumes variés.\\n\\nCes plats, en plus d'être délicieux, contribuent à une alimentation équilibrée et peuvent être ajustés selon vos préférences diététiques.\""
      ]
     },
     "execution_count": 39,
     "metadata": {},
     "output_type": "execute_result"
    }
   ],
   "source": [
    "call_openai_api(prompt_healthy_french)"
   ]
  },
  {
   "cell_type": "markdown",
   "id": "5e03d226-6772-4bcf-baae-daa2e5bed948",
   "metadata": {},
   "source": [
    "\"Sure, here is a list of 10 healthy dishes you can try:\\n\\n1. **Quinoa Salad** - High in protein and fiber, often topped with fresh vegetables, nuts and dressed with a lemony vinaigrette .\\n\\n2. **Grilled Chicken with Roasted Vegetables** - A low-fat, high-protein option, accompanied by roasted vegetables like carrots, zucchini, and peppers.\\n\\n3. Buddha** - A mixture of raw and cooked vegetables, a source of protein such as tofu or chickpeas, avocado, and often topped with tahini or soy sauce.\\n\\n4. - Very nutritious, rich in fiber, iron and vegetable proteins, often cooked with carrots, tomatoes and spices. **Sushi** - Opt for sushi with fresh fish or vegetables, a source of good omega-3 fatty acids and good for the heart.\\n\\n6. **Kale and avocado salad** - Kale is rich in vitamins K, A, and C, while avocado provides vitamins. good fats.\\n\\n7. **Steamed Fish with Vegetables** - A nutrient-preserving cooking method, ideal with salmon or tilapia for omega-3 fatty acids.\\n\\n8. **Ratatouille** - A stew of vegetables such as eggplant, peppers, zucchini and tomatoes, cooked with herbs.\\n\\n9. **Sautéed Tofu with Broccoli and Peppers** - A dish rich in protein and fiber, often cooked in a light herb sauce.\\n\\n10. **Vegetable curry with brown rice** - A balanced and tasty dish, which can be adapted to be slightly spicy and rich in varied vegetables.\\n\\nThese dishes, in addition to being delicious, contribute to a balanced diet and can be adjusted according to your dietary preferences.\""
   ]
  },
  {
   "cell_type": "markdown",
   "id": "63ae2cec-06f6-4069-848f-8cd4ebf97024",
   "metadata": {},
   "source": [
    "#### Chinese"
   ]
  },
  {
   "cell_type": "code",
   "execution_count": 42,
   "id": "552be80b-240f-4be9-948c-e7f23abaf01f",
   "metadata": {},
   "outputs": [],
   "source": [
    "prompt_healthy_chn = \"请给我列出10道健康菜肴。\""
   ]
  },
  {
   "cell_type": "code",
   "execution_count": 43,
   "id": "587831e6-a0a6-47b3-824b-48c4df5a753d",
   "metadata": {},
   "outputs": [
    {
     "data": {
      "text/plain": [
       "'下面是10道健康、营养均衡的菜肴，适合追求健康饮食的你：\\n\\n1. **蒸三文鱼配柠檬和迷迭香**  \\n   将新鲜的三文鱼蒸熟，加入柠檬片和少许迷迭香来调味。这道菜富含Omega-3脂肪酸和蛋白质。\\n\\n2. **鸡胸肉配藜麦和蔬菜沙拉**  \\n   烤或煮熟鸡胸肉，与藜麦和新鲜的蔬菜（如番茄、黄瓜、红椒）混合，拌以橄榄油和柠檬汁。\\n\\n3. **清蒸扁豆配凉拌西红柿**  \\n   清蒸扁豆直至变软，与新鲜切片的西红柿和一点点盐、黑胡椒调味。\\n\\n4. **土豆泥配烤菠菜和大蒜**  \\n   烹制柔软的土豆泥，加入烤菠菜和碎大蒜增添风味，这道菜富含维生素和纤维。\\n\\n5. **豆腐炒菜**  \\n   使用少许的油将豆腐和你喜欢的蔬菜如青椒、胡萝卜和洋葱一起翻炒。\\n\\n6. **南瓜汤**  \\n   将南瓜煮熟后搅拌成汤，加入些许姜和胡椒粉调味，可以提供丰富的β-胡萝卜素和维C。\\n\\n7. **蔬菜炖豆**  \\n   将各种豆类（如黑豆、红豆）和蔬菜（如胡萝卜、西葫芦、洋葱）一起炖煮，加入香料如迷迭香和月桂叶增添风味。\\n\\n8. **炒蘑菇配全麦意面**  \\n   将新鲜蘑菇炒至金黄，配上煮熟的全麦意面，撒上少量的帕尔马干酪和黑胡椒。\\n\\n9. **烤番薯配希腊酸奶**  \\n   将番薯烤熟切开，加上希腊酸奶作为佐料，这种搭配可以提供高质量的蛋白质和纤维。\\n\\n10. **新鲜水果沙拉**  \\n    切一些季节性的水果如苹果、梨、草莓和蓝莓，拌以少许柠檬汁和薄荷叶，提供丰富的维生素和抗氧化物。\\n\\n这些菜肴不仅美味，还能帮助你维持健康的饮食习惯，有益心血管健康、控制体重、提高免疫力等多方面的益处。'"
      ]
     },
     "execution_count": 43,
     "metadata": {},
     "output_type": "execute_result"
    }
   ],
   "source": [
    "call_openai_api(prompt_healthy_chn)"
   ]
  },
  {
   "cell_type": "markdown",
   "id": "a0113e3a-097b-46f9-9aca-798965142d51",
   "metadata": {},
   "source": [
    "'The following are 10 healthy and nutritionally balanced dishes, suitable for you who are pursuing a healthy diet:\\n\\n1. **Steamed salmon with lemon and rosemary** \\n Steam the fresh salmon, add lemon slices and a little Rosemary to taste. This dish is rich in Omega-3 fatty acids and protein. \\n\\n2. **Chicken Breast with Quinoa and Green Salad** \\n Grilled or cooked chicken breast, mixed with quinoa and fresh vegetables (such as tomatoes, cucumbers, red peppers), tossed with olive oil and lemon juice. \\n\\n3. **Steamed lentils with cold tomatoes** \\n Steam the lentils until soft, season with fresh sliced ​​tomatoes and a little salt and black pepper. \\n\\n4. **Mashed Potatoes with Roasted Spinach and Garlic** \\n Cook soft mashed potatoes and add roasted spinach and crushed garlic for added flavor. This dish is packed with vitamins and fiber. \\n\\n5. **Tofu stir-fry** \\n Use a little oil to stir-fry the tofu and your favorite vegetables such as green peppers, carrots and onions. \\n\\n6. **Pumpkin Soup** \\n Boil the pumpkin and stir it into soup. Add some ginger and pepper for seasoning, which can provide rich beta-carotene and vitamin C. \\n\\n7. **Vegetable Bean Stew** \\n Stew various beans (such as black beans, red beans) and vegetables (such as carrots, zucchini, onions), adding spices such as rosemary and bay leaves to add flavor . \\n\\n8. **Sauteed Mushrooms with Whole Wheat Pasta** \\n Saute fresh mushrooms until golden brown, serve with cooked whole wheat pasta, sprinkle with a small amount of Parmesan cheese and black pepper. \\n\\n9. **Roasted Sweet Potatoes with Greek Yogurt** \\n Roasted and cut sweet potatoes, with Greek yogurt as a condiment, provide high-quality protein and fiber. \\n\\n10. **Fresh Fruit Salad** \\n Cut some seasonal fruits such as apples, pears, strawberries and blueberries, and mix with a little lemon juice and mint leaves to provide rich vitamins and antioxidants. \\n\\nThese dishes are not only delicious, but also help you maintain healthy eating habits, which are beneficial to cardiovascular health, weight control, immunity and other benefits. '"
   ]
  },
  {
   "cell_type": "markdown",
   "id": "4aec78f4-3ec8-4e71-8162-79f31161142f",
   "metadata": {},
   "source": [
    "#### Japanese"
   ]
  },
  {
   "cell_type": "code",
   "execution_count": 44,
   "id": "2b25693d-048c-49c5-b564-9da1bee0dd96",
   "metadata": {},
   "outputs": [],
   "source": [
    "prompt_healthy_japanese = \"健康的な料理を10個挙げてください。\""
   ]
  },
  {
   "cell_type": "code",
   "execution_count": 45,
   "id": "7b5b6255-e5b0-45be-accf-f1637844e140",
   "metadata": {},
   "outputs": [
    {
     "data": {
      "text/plain": [
       "'もちろんです、以下に健康的な料理を10個挙げてみます：\\n\\n1. 鮭のグリル - オメガ3脂肪酸が豊富で、心臓の健康に良いです。\\n2. ブロッコリーのスチーム - 高い栄養価を持ち、がん予防の効果があるとされています。\\n3. 豆腐と野菜の炒め物 - 植物性タンパク質が豊富で、低カロリーです。\\n4. かぼちゃのスープ - ビタミンAが豊富で、免疫力を高める効果があります。\\n5. キヌアサラダ - タンパク質と繊維が豊富で、満腹感を得やすくダイエットに適しています。\\n6. ひじきの煮物 - 鉄分やミネラルが豊富で、貧血予防に有効です。\\n7. 鶏胸肉のグリル - 低脂肪で高タンパク、筋肉の修復や保持に役立ちます。\\n8. レンズ豆のカレー - 植物性タンパク質と繊維が豊富で、心臓病のリスクを減らすことができます。\\n9. オートミール - ベータグルカンが豊富で、コレステロールを下げる効果があります。\\n10. ミックスベリーのスムージー - 抗酸化物質が豊富で、体の老化防止に役立つとされます。\\n\\nこれらの料理は、栄養バランスが良く、様々な健康効果が期待できます。日々の食事に取り入れてみてください。'"
      ]
     },
     "execution_count": 45,
     "metadata": {},
     "output_type": "execute_result"
    }
   ],
   "source": [
    "call_openai_api(prompt_healthy_japanese)"
   ]
  },
  {
   "cell_type": "markdown",
   "id": "69c3cdf5-969c-4fa4-bf19-d518771f6f3f",
   "metadata": {},
   "source": [
    "'Of course, here are 10 healthy dishes:\\n\\n1. Grilled Salmon - Rich in omega-3 fatty acids, good for your heart health. \\n2. Steamed broccoli - has high nutritional value and is said to have cancer prevention effects. \\n3. Stir-fried tofu and vegetables - rich in plant-based protein and low in calories. \\n4. Pumpkin soup - Rich in vitamin A, it has the effect of increasing immunity. \\n5. Quinoa Salad - Rich in protein and fiber, it helps you feel full and is good for weight loss. \\n6. Boiled Hijiki - Rich in iron and minerals, it is effective in preventing anemia. \\n7. Grilled Chicken Breast - Low in fat and high in protein, helps repair and maintain muscle. \\n8. Lentil curry - rich in vegetable protein and fiber, which can reduce the risk of heart disease. \\n9. Oatmeal - Rich in beta-glucan, which helps lower cholesterol. \\n10. Mixed Berry Smoothie - Rich in antioxidants, this is said to help the body fight aging. \\n\\nThese dishes are nutritionally balanced and can be expected to have various health benefits. Try incorporating it into your daily meals. '"
   ]
  },
  {
   "cell_type": "markdown",
   "id": "2a267ed4-be7d-4b11-99e7-2295ff029ad8",
   "metadata": {},
   "source": [
    "### Try Batching for Healthy Dishes"
   ]
  },
  {
   "cell_type": "code",
   "execution_count": 82,
   "id": "6db02cb2-b2d5-40c1-a9b6-2d9460f9dca8",
   "metadata": {},
   "outputs": [],
   "source": [
    "# Initialize the dictionary to keep track of counts\n",
    "healthy_dish_counts = defaultdict(int)"
   ]
  },
  {
   "cell_type": "code",
   "execution_count": null,
   "id": "ea926f89-7e7c-4b92-a1f1-67773101128f",
   "metadata": {},
   "outputs": [],
   "source": [
    "healthy_results = call_openai_api(prompt_healthy, n_runs=10)"
   ]
  },
  {
   "cell_type": "code",
   "execution_count": 83,
   "id": "c3bf8dfd-fbc3-44c3-892c-3a00a04e2cdb",
   "metadata": {},
   "outputs": [],
   "source": [
    "healthy_dish_counts = extract_dish_names_and_count(healthy_results, healthy_dish_counts)"
   ]
  },
  {
   "cell_type": "code",
   "execution_count": 84,
   "id": "3333aec9-3e18-4124-be9c-bb95dc368001",
   "metadata": {
    "scrolled": true
   },
   "outputs": [
    {
     "name": "stdout",
     "output_type": "stream",
     "text": [
      "Counts after first batch (10):\n",
      "\n",
      "Quinoa Salad: 4\n",
      "Chickpea and Spinach Curry: 3\n",
      "Turkey and Vegetable Stuffed Peppers: 3\n",
      "Lentil Soup: 3\n",
      "Sweet Potato and Black Bean Chili: 3\n",
      "Quinoa Salad with Mixed Vegetables: 3\n",
      "Grilled Salmon with Asparagus: 3\n",
      "Sweet Potato and Black Bean Tacos: 3\n",
      "Vegetable Stir-Fry with Tofu: 3\n",
      "Vegetable Stir-Fry: 2\n",
      "Grilled Salmon with Avocado Salsa: 2\n",
      "Spinach and Mushroom Frittata: 2\n",
      "Greek Salad with Grilled Chicken: 2\n",
      "Baked Cod with Lemon and Dill: 2\n",
      "Chicken and Vegetable Stir-Fry: 2\n",
      "Stuffed Bell Peppers: 2\n",
      "Grilled Chicken and Avocado Wrap: 2\n",
      "Greek Yogurt Parfait with Berries and Granola: 2\n",
      "Greek Yogurt Parfait: 2\n",
      "Roasted Beet and Goat Cheese Salad: 2\n",
      "Grilled Salmon with Steamed Broccoli: 1\n",
      "Baked Sweet Potato with Cottage Cheese and Chives: 1\n",
      "Chicken Caesar Salad: 1\n",
      "Greek Yogurt with Mixed Berries and Nuts: 1\n",
      "Avocado and Egg Toast: 1\n",
      "Quinoa Salad with Chickpeas and Tomatoes: 1\n",
      "Roasted Vegetable and Farro Bowl: 1\n",
      "Chicken and Broccoli Stir-Fry: 1\n",
      "Lentil Soup with Carrots and Celery: 1\n",
      "Vegetable and Chickpea Curry: 1\n",
      "Spinach and Feta Stuffed Chicken: 1\n",
      "Broccoli and Cauliflower Soup: 1\n",
      "Lentil Salad with Cucumber and Tomatoes: 1\n",
      "Quinoa Salad with Roasted Vegetables and Lemon-Tahini Dressing: 1\n",
      "Baked Salmon with Dill Yogurt Sauce: 1\n",
      "Vegetarian Chili: 1\n",
      "Stir-Fried Tofu with Vegetables on Brown Rice: 1\n",
      "Butternut Squash Soup: 1\n",
      "Mediterranean Quinoa Bowl: 1\n",
      "Spinach and Mushroom Omelette: 1\n",
      "Asian Sesame Zucchini Noodles: 1\n",
      "Grilled Salmon with Quinoa Salad: 1\n",
      "Vegetable and Hummus Wrap: 1\n",
      "Zucchini Noodles with Pesto and Cherry Tomatoes: 1\n",
      "Mixed Berry and Spinach Smoothie: 1\n",
      "Quinoa and Black Bean Salad: 1\n",
      "Baked Sweet Potato with Broccoli and Feta: 1\n",
      "Chicken and Vegetable Soup: 1\n",
      "Spinach and Feta Stuffed Chicken Breast: 1\n",
      "Turmeric Roasted Cauliflower: 1\n",
      "Lentil Salad with Roasted Veggies: 1\n",
      "Soba Noodle Bowl with Edamame and Veggies: 1\n",
      "Chickpea and Spinach Stew: 1\n",
      "Turkey and Vegetable Soup: 1\n",
      "Oatmeal with Fresh Berries and Nuts: 1\n",
      "Baked Lemon Pepper Chicken: 1\n",
      "Kale, Apple, and Walnut Salad: 1\n",
      "Oven-Baked Salmon with Asparagus: 1\n",
      "Turkish-Style Lentil Soup: 1\n",
      "Grilled Chicken and Vegetable Kabobs: 1\n",
      "Baked Salmon with Asparagus: 1\n",
      "Spinach and Avocado Smoothie: 1\n",
      "Turkey and Vegetable Chili: 1\n",
      "Sweet Potato and Black Bean Burrito Bowls: 1\n",
      "Turkey and Vegetable Stir-Fry: 1\n",
      "Vegetable and Hummus Wraps: 1\n",
      "Broccoli and Almond Soup: 1\n",
      "Baked Tilapia with Mango Salsa: 1\n",
      "Kale and Quinoa Stuffed Bell Peppers: 1\n",
      "Greek Yogurt Parfait with Berries and Nuts: 1\n"
     ]
    }
   ],
   "source": [
    "print(\"Counts after first batch (10):\\n\")\n",
    "for dish, count in healthy_dish_counts.items():\n",
    "    print(f\"{dish}: {count}\")"
   ]
  },
  {
   "cell_type": "code",
   "execution_count": 91,
   "id": "a0db10ba-531b-4b01-82d8-0fe9bbf44a69",
   "metadata": {},
   "outputs": [],
   "source": [
    "append_dishes_to_csv(healthy_dish_counts, \"healthy_dish_counts.csv\")"
   ]
  },
  {
   "cell_type": "markdown",
   "id": "20f7519a-f555-4a7c-8c1a-71303abe4c23",
   "metadata": {},
   "source": [
    "#### Chinese Healthy Dishes"
   ]
  },
  {
   "cell_type": "code",
   "execution_count": 110,
   "id": "373734e5-29ac-4aa2-b621-13e3661b46ba",
   "metadata": {},
   "outputs": [],
   "source": [
    "chn_healthy_dish_counts = defaultdict(int)"
   ]
  },
  {
   "cell_type": "code",
   "execution_count": 65,
   "id": "51ded26f-62ca-41cb-863a-9084b9733d6e",
   "metadata": {},
   "outputs": [],
   "source": [
    "chn_healthy_results = call_openai_api(prompt_healthy_chn, n_runs=10)"
   ]
  },
  {
   "cell_type": "code",
   "execution_count": 111,
   "id": "5e6b4769-454b-4d85-8132-cf31b67a0dfc",
   "metadata": {},
   "outputs": [],
   "source": [
    "chn_healthy_dish_counts = extract_dish_names_and_count(chn_healthy_results, chn_healthy_dish_counts)"
   ]
  },
  {
   "cell_type": "code",
   "execution_count": 112,
   "id": "f476f327-c600-4b06-8229-aa12d3a0f062",
   "metadata": {
    "scrolled": true
   },
   "outputs": [
    {
     "name": "stdout",
     "output_type": "stream",
     "text": [
      "Counts after first batch (10):\n",
      "\n",
      "南瓜汤: 3\n",
      "烤地中海蔬菜: 3\n",
      "清蒸鲈鱼: 2\n",
      "鸡肉蔬菜汤: 2\n",
      "蔬菜豆腐汤: 2\n",
      "鸡胸肉炒蔬菜: 2\n",
      "番茄炒蛋: 2\n",
      "鸡胸肉沙拉: 2\n",
      "蔬菜炒豆腐: 2\n",
      "蔬菜杂粮沙拉: 1\n",
      "土豆烤鸡: 1\n",
      "豆腐五彩炒菜: 1\n",
      "三文鱼蔬菜卷: 1\n",
      "西兰花炒虾: 1\n",
      "烤鹰嘴豆和甜菜根沙拉: 1\n",
      "香蕉燕麦粥: 1\n",
      "西兰花清蒸鸡胸肉: 1\n",
      "番茄烤鳕鱼: 1\n",
      "凉拌黑木耳: 1\n",
      "南瓜燕麦粥: 1\n",
      "土豆炖菠菜: 1\n",
      "清炒四季豆: 1\n",
      "水煮鸡蛋配沙拉: 1\n",
      "烤南瓜豆腐沙拉: 1\n",
      "番薯紫菜汤: 1\n",
      "蒸三文鱼配柠檬薄荷酱: 1\n",
      "烤鸡胸肉配罗勒和番茄: 1\n",
      "凉拌藜麦沙拉: 1\n",
      "韩式拌饭: 1\n",
      "墨西哥风味蔬菜炒豆: 1\n",
      "印度豆腐咖喱: 1\n",
      "地中海鹰嘴豆沙拉: 1\n",
      "日式汤面: 1\n",
      "蔬菜豆浆汤: 1\n",
      "蒸三文鱼配绿叶菜: 1\n",
      "番茄炖扁豆汤: 1\n",
      "烤地瓜搭配羽衣甘蓝: 1\n",
      "素食拌面: 1\n",
      "水煮蛋配鳄梨沙拉: 1\n",
      "土耳其式烤肉串: 1\n",
      "绿豆芽泰式沙拉: 1\n",
      "瓜柳配薏仁米: 1\n",
      "凤梨炒豆腐: 1\n",
      "蒸鲈鱼: 1\n",
      "土豆泥配烤鸡胸肉: 1\n",
      "烤蔬菜沙拉: 1\n",
      "凉拌豆腐皮: 1\n",
      "三文鱼拌饭: 1\n",
      "蔬菜煎饼: 1\n",
      "蒜蓉西兰花: 1\n",
      "冬瓜汤: 1\n",
      "蒸鱼: 1\n",
      "素炒三丝: 1\n",
      "清炒菠菜: 1\n",
      "土豆烧茄子: 1\n",
      "番茄炖豆腐: 1\n",
      "蘑菇炖鸡: 1\n",
      "绿豆汤: 1\n",
      "炒米粉: 1\n",
      "鸡胸肉蔬菜沙拉: 1\n",
      "三文鱼刺身: 1\n",
      "蒸豆腐: 1\n",
      "炒蔬菜: 1\n",
      "番茄鸡蛋汤: 1\n",
      "土豆泥搭配烤鸡腿肉: 1\n",
      "凉拌苦瓜: 1\n",
      "藜麦色拉: 1\n",
      "海带豆腐汤: 1\n",
      "甜菜根沙拉: 1\n",
      "鲑鱼蒸菜: 1\n",
      "烤鸡胸肉配蔬菜: 1\n",
      "番茄炖扁豆: 1\n",
      "土豆泥配菠菜: 1\n",
      "三色藜麦沙拉: 1\n",
      "照烧鳕鱼: 1\n",
      "香菇青菜炒米粉: 1\n",
      "土豆西兰花汤: 1\n",
      "红豆燕麦粥: 1\n",
      "烤三文鱼配绿叶蔬菜: 1\n",
      "羽衣甘蓝沙拉: 1\n",
      "苦瓜炒牛肉: 1\n",
      "蒸三文鱼佐柠檬汁: 1\n",
      "番茄炖豆汤: 1\n",
      "秋葵配咖喱鸡块: 1\n",
      "五彩蔬菜天妇罗: 1\n",
      "绿色沙拉配烤羊肉: 1\n",
      "牛蒡和胡萝卜的日式拌饭: 1\n",
      "鹰嘴豆沙拉: 1\n",
      "番茄海鲜烩饭: 1\n"
     ]
    }
   ],
   "source": [
    "print(\"Counts after first batch (10):\\n\")\n",
    "for dish, count in chn_healthy_dish_counts.items():\n",
    "    print(f\"{dish}: {count}\")"
   ]
  },
  {
   "cell_type": "markdown",
   "id": "072c630d-6fac-4954-9495-d12345c2cc2b",
   "metadata": {},
   "source": [
    "Pumpkin soup: 3 \\\n",
    "Grilled Mediterranean vegetables: 3 \\\n",
    "Steamed sea bass: 2 \\\n",
    "Chicken and vegetable soup: 2 \\\n",
    "Vegetable and tofu soup: 2 \\\n",
    "Chicken breast with vegetables: 2 \\\n",
    "Tomato scrambled eggs: 2 \\\n",
    "Chicken breast salad: 2 \\\n",
    "Vegetable and tofu salad: 2 \\\n",
    "Vegetable and mixed grain salad: 1 \\\n",
    "Potato Grilled chicken: 1 \\\n",
    "Tofu stir-fry: 1 \\\n",
    "Salmon and vegetable wraps: 1 \\\n",
    "Shrimp sautéed with broccoli: 1 \\\n",
    "Roasted chickpea and beetroot salad: 1 \\\n",
    "Banana oatmeal: 1 \\\n",
    "Steamed chicken breast with broccoli: 1 \\\n",
    "Grilled cod with tomatoes: 1 \\\n",
    "Cold black fungus : 1 \\\n",
    "Pumpkin Oatmeal: 1 \\\n",
    "Stewed Spinach with Potatoes: 1 \\\n",
    "Sautéed Green Beans: 1 \\\n",
    "Boiled Egg with Salad: 1 \\\n",
    "Roasted Pumpkin and Tofu Salad: 1 \\\n",
    "Sweet Potato and Seaweed Soup: 1 \\\n",
    "Steamed Salmon with Lemon Mint Sauce: 1 \\\n",
    "Grilled Chicken Breast with Basil and Tomatoes: 1 \\\n",
    "Cold Quinoa Salad: 1 \\\n",
    "Korean Bibimbap: 1 \\\n",
    "Mexican Fried Beans: 1 \\\n",
    "Indian Tofu Curry: 1 \\\n",
    "Mediterranean Chickpea Salad: 1 \\\n",
    "Japanese Noodle Soup: 1 \\\n",
    "Vegetable Soy Milk Soup: 1 \\\n",
    "Steamed Salmon with Greens: 1 \\\n",
    "Lentil Soup with Tomatoes: 1 \\\n",
    "Grilled Sweet Potato and Kale: 1 \\\n",
    "Vegetarian Noodles: 1 \\\n",
    "Boiled Egg with Avocado Salad: 1 \\\n",
    "Turkish Kebab: 1 \\\n",
    "Thai Mung Bean Sprout Salad: 1 \\\n",
    "Melon Fillet with Barley Rice: 1 \\\n",
    "Fried Pineapple Tofu: 1 \\\n",
    "Steamed sea bass: 1 \\\n",
    "Mashed potatoes with grilled chicken breast: 1 \\\n",
    "Grilled vegetable salad: 1 \\\n",
    "Cold tofu skin: 1 \\\n",
    "Salmon bibimbap: 1 \\\n",
    "Vegetable pancake: 1 \\\n",
    "Garlic broccoli: 1 \\\n",
    "Winter melon soup: 1 \\\n",
    "Steamed fish: 1 \\\n",
    "Vegetarian stir-fry Three shreds: 1 \\\n",
    "Stir-fried spinach: 1 \\\n",
    "Potato-roasted eggplant: 1 \\\n",
    "Tomato-stewed tofu: 1 \\\n",
    "Mushroom-stewed chicken: 1 \\\n",
    "Mung bean soup: 1 \\\n",
    "Fried rice noodles: 1 \\\n",
    "Chicken breast vegetable salad: 1 \\\n",
    "Salmon sashimi: 1 Steamed tofu: 1 \\\n",
    "Stir-fried vegetables: 1 \\\n",
    "Tomato and egg soup: 1 \\\n",
    "Mashed potatoes with grilled chicken thighs: 1 \\\n",
    "Bitter melon salad: 1 \\\n",
    "Quinoa salad: 1 \\\n",
    "Kelp and tofu soup: 1 \\\n",
    "Beetroot salad: 1 \\\n",
    "Salmon steamed vegetables: 1 \\\n",
    "Grilled chicken breast with vegetables: 1 \\\n",
    "Tomato stewed lentils: 1 \\\n",
    "potato Pureed Spinach: 1 \\\n",
    "Tricolor Quinoa Salad: 1 \\\n",
    "Teriyaki Cod: 1 \\\n",
    "Rice Noodles with Mushrooms and Greens: 1 \\\n",
    "Potato and Broccoli Soup: 1 \\\n",
    "Red Bean Oatmeal: 1 \\\n",
    "Grilled Salmon with Green Leafy Vegetables: 1 \\\n",
    "Kale Salad: 1 \\\n",
    "Stir-fried Beef with Bitter Melon: 1 \\\n",
    "Steamed salmon with lemon juice: 1 \\\n",
    "Tomato bean soup: 1 \\\n",
    "Okra with chicken curry: 1 \\\n",
    "Colorful vegetable tempura: 1 \\\n",
    "Green salad with grilled lamb: 1 \\\n",
    "Japanese rice with burdock and carrot: 1 \\\n",
    "Chickpea salad : 1 \\\n",
    "Tomato Seafood Risotto: 1 \\"
   ]
  },
  {
   "cell_type": "code",
   "execution_count": 78,
   "id": "700c7aa5-5c07-4c0c-8963-4ffd52e1bf00",
   "metadata": {},
   "outputs": [],
   "source": [
    "chn_healthy_results_2 = call_openai_api(prompt_healthy_chn, n_runs=20)"
   ]
  },
  {
   "cell_type": "code",
   "execution_count": 113,
   "id": "8934800e-fd7e-4cd8-86c3-49631e3fdbba",
   "metadata": {},
   "outputs": [],
   "source": [
    "chn_healthy_dish_counts = extract_dish_names_and_count(chn_healthy_results_2, chn_healthy_dish_counts)"
   ]
  },
  {
   "cell_type": "code",
   "execution_count": 114,
   "id": "d3e862da-4aea-4964-9ca0-8a2d89a3c3cf",
   "metadata": {
    "scrolled": true
   },
   "outputs": [
    {
     "name": "stdout",
     "output_type": "stream",
     "text": [
      "Counts after second batch (now 30 runs):\n",
      "\n",
      "南瓜汤: 12\n",
      "烤地中海蔬菜: 8\n",
      "鸡胸肉炒蔬菜: 6\n",
      "绿豆汤: 6\n",
      "番茄炒蛋: 5\n",
      "鸡胸肉沙拉: 5\n",
      "藜麦色拉: 5\n",
      "清蒸鲈鱼: 4\n",
      "凉拌苦瓜: 4\n",
      "蒸三文鱼: 4\n",
      "鸡肉蔬菜汤: 2\n",
      "蔬菜豆腐汤: 2\n",
      "蔬菜炒豆腐: 2\n",
      "蒸鱼: 2\n",
      "土豆烧茄子: 2\n",
      "三文鱼刺身: 2\n",
      "番茄鸡蛋汤: 2\n",
      "烤鸡胸肉配蔬菜: 2\n",
      "土豆泥配菠菜: 2\n",
      "番茄炖豆汤: 2\n",
      "水果酸奶沙拉: 2\n",
      "豆腐皮凉菜: 2\n",
      "南瓜粥: 2\n",
      "番茄炖豆: 2\n",
      "土豆烧菜花: 2\n",
      "土豆泥配烤蔬菜: 2\n",
      "蔬菜汤: 2\n",
      "蒸三文鱼搭配生姜和大蒜: 2\n",
      "素食寿司: 2\n",
      "豆腐炒菜: 2\n",
      "藜麦蔬菜碗: 2\n",
      "蔬菜杂粮沙拉: 1\n",
      "土豆烤鸡: 1\n",
      "豆腐五彩炒菜: 1\n",
      "三文鱼蔬菜卷: 1\n",
      "西兰花炒虾: 1\n",
      "烤鹰嘴豆和甜菜根沙拉: 1\n",
      "香蕉燕麦粥: 1\n",
      "西兰花清蒸鸡胸肉: 1\n",
      "番茄烤鳕鱼: 1\n",
      "凉拌黑木耳: 1\n",
      "南瓜燕麦粥: 1\n",
      "土豆炖菠菜: 1\n",
      "清炒四季豆: 1\n",
      "水煮鸡蛋配沙拉: 1\n",
      "烤南瓜豆腐沙拉: 1\n",
      "番薯紫菜汤: 1\n",
      "蒸三文鱼配柠檬薄荷酱: 1\n",
      "烤鸡胸肉配罗勒和番茄: 1\n",
      "凉拌藜麦沙拉: 1\n",
      "韩式拌饭: 1\n",
      "墨西哥风味蔬菜炒豆: 1\n",
      "印度豆腐咖喱: 1\n",
      "地中海鹰嘴豆沙拉: 1\n",
      "日式汤面: 1\n",
      "蔬菜豆浆汤: 1\n",
      "蒸三文鱼配绿叶菜: 1\n",
      "番茄炖扁豆汤: 1\n",
      "烤地瓜搭配羽衣甘蓝: 1\n",
      "素食拌面: 1\n",
      "水煮蛋配鳄梨沙拉: 1\n",
      "土耳其式烤肉串: 1\n",
      "绿豆芽泰式沙拉: 1\n",
      "瓜柳配薏仁米: 1\n",
      "凤梨炒豆腐: 1\n",
      "蒸鲈鱼: 1\n",
      "土豆泥配烤鸡胸肉: 1\n",
      "烤蔬菜沙拉: 1\n",
      "凉拌豆腐皮: 1\n",
      "三文鱼拌饭: 1\n",
      "蔬菜煎饼: 1\n",
      "蒜蓉西兰花: 1\n",
      "冬瓜汤: 1\n",
      "素炒三丝: 1\n",
      "清炒菠菜: 1\n",
      "番茄炖豆腐: 1\n",
      "蘑菇炖鸡: 1\n",
      "炒米粉: 1\n",
      "鸡胸肉蔬菜沙拉: 1\n",
      "蒸豆腐: 1\n",
      "炒蔬菜: 1\n",
      "土豆泥搭配烤鸡腿肉: 1\n",
      "海带豆腐汤: 1\n",
      "甜菜根沙拉: 1\n",
      "鲑鱼蒸菜: 1\n",
      "番茄炖扁豆: 1\n",
      "三色藜麦沙拉: 1\n",
      "照烧鳕鱼: 1\n",
      "香菇青菜炒米粉: 1\n",
      "土豆西兰花汤: 1\n",
      "红豆燕麦粥: 1\n",
      "烤三文鱼配绿叶蔬菜: 1\n",
      "羽衣甘蓝沙拉: 1\n",
      "苦瓜炒牛肉: 1\n",
      "蒸三文鱼佐柠檬汁: 1\n",
      "秋葵配咖喱鸡块: 1\n",
      "五彩蔬菜天妇罗: 1\n",
      "绿色沙拉配烤羊肉: 1\n",
      "牛蒡和胡萝卜的日式拌饭: 1\n",
      "鹰嘴豆沙拉: 1\n",
      "番茄海鲜烩饭: 1\n",
      "蒸三文鱼配西兰花: 1\n",
      "烤地中海蔬菜沙拉: 1\n",
      "土豆蔬菜煲: 1\n",
      "豆腐炒青菜: 1\n",
      "土豆碎豆沙: 1\n",
      "烤虾与芦笋: 1\n",
      "鲈鱼蒸丝瓜: 1\n",
      "土豆烤鳕鱼: 1\n",
      "凉拌藕片: 1\n",
      "椒麻鸡片: 1\n",
      "素炒饭: 1\n",
      "蒸鱼配生姜和葱: 1\n",
      "烤鸡胸肉配混合蔬菜: 1\n",
      "凉拌黑豆凉粉: 1\n",
      "素炒三丁（胡萝卜丁、豆腐丁、青椒丁）: 1\n",
      "芦笋炒虾: 1\n",
      "糙米鸡丝粥: 1\n",
      "蔬菜清汤: 1\n",
      "豆腐拌菠菜: 1\n",
      "炒藜麦: 1\n",
      "番茄炒鸡蛋: 1\n",
      "三文鱼佐芦笋: 1\n",
      "蒸三文鱼搭配姜汁酱: 1\n",
      "凉拌藜麦色拉: 1\n",
      "鳄梨玉米饼: 1\n",
      "水煮蛋配青菜: 1\n",
      "豆腐烧菜: 1\n",
      "烤鸡和甜椒: 1\n",
      "蒸青菜: 1\n",
      "凉拌海带: 1\n",
      "番茄炖牛肉: 1\n",
      "土豆泥伴烤鳕鱼: 1\n",
      "素食豆腐汤: 1\n",
      "炒鳄梨与虾仁: 1\n",
      "凉拌西兰花: 1\n",
      "烤鸡胸肉配迷迭香和柠檬: 1\n",
      "凉拌绿色蔬菜沙拉: 1\n",
      "藜麦与野菌炒菜: 1\n",
      "豆腐皮卷: 1\n",
      "全麦面条搭配番茄酱和新鲜蔬菜: 1\n",
      "烤地瓜: 1\n",
      "水果炒冰: 1\n",
      "土豆烧鸡块: 1\n",
      "麻婆豆腐: 1\n",
      "菠菜汤: 1\n",
      "清炒西兰花: 1\n",
      "五彩沙拉: 1\n",
      "豆腐皮包素菜: 1\n",
      "藕片炒肉: 1\n",
      "蒸三文鱼配绿叶蔬菜: 1\n",
      "鸡胸肉凯撒沙拉: 1\n",
      "番茄扁豆汤: 1\n",
      "凉拌鹰嘴豆沙拉: 1\n",
      "炒豆腐配青菜: 1\n",
      "南瓜红豆炖饭: 1\n",
      "土耳其肉丸配小米粥: 1\n",
      "蔬菜全麦披萨: 1\n",
      "蒸三文鱼配青豆和西兰花: 1\n",
      "番薯烧牛肉: 1\n",
      "豆腐蔬菜炒: 1\n",
      "烤鳕鱼配柠檬和香草: 1\n",
      "全麦面条配烩蔬菜: 1\n",
      "凉拌黄瓜: 1\n",
      "番茄炖牛腩: 1\n",
      "炒蘑菇菠菜: 1\n",
      "鸡胸肉凉拌沙拉: 1\n",
      "蒜蓉炒西兰花: 1\n",
      "土豆炖鸡块: 1\n",
      "蒸扇贝: 1\n",
      "蒸三文鱼配柠檬和蔬菜: 1\n",
      "鸡肉炒藜麦: 1\n",
      "地中海风格的烤蔬菜沙拉: 1\n",
      "豆腐炒菠菜: 1\n",
      "土耳其式凉拌蔬菜盘: 1\n",
      "蘑菇燉鸡: 1\n",
      "烤甜菜根与羊奶酪沙拉: 1\n",
      "糙米炒青豆与杏仁: 1\n",
      "清蒸扁豆搭配甘蓝和红薯: 1\n",
      "蒸三文鱼配柠檬草和姜: 1\n",
      "凯尔芝麻沙拉: 1\n",
      "鸡肉汤波菜拌饭: 1\n",
      "冷号瓜汤: 1\n",
      "豆腐青豆拌菜: 1\n",
      "土豆炖豆角: 1\n",
      "火鸡肉丸配西兰花: 1\n",
      "希腊酸奶水果碗: 1\n",
      "鸡胸肉炖蔬菜: 1\n",
      "藜麦沙拉: 1\n",
      "水果切盘: 1\n",
      "蔬菜寿司: 1\n",
      "咖喱鸡配椰汁咖喱和各种蔬菜: 1\n",
      "烤三文鱼配蔬菜: 1\n",
      "鸡胸肉凉拌紫甘蓝沙拉: 1\n",
      "蒸豆腐配蘑菇: 1\n",
      "素食印度咖喱: 1\n",
      "希腊式鸡肉烤串: 1\n",
      "泰式青木瓜沙拉: 1\n",
      "蒜蓉西兰花炒虾: 1\n",
      "鲑鱼蒸菠菜: 1\n",
      "鸡肉炖蔬菜: 1\n",
      "番薯烤豆腐: 1\n",
      "芦笋扒鸡胸: 1\n",
      "冬瓜草菇汤: 1\n",
      "番茄烤鱼: 1\n",
      "豆腐素炒: 1\n",
      "酸辣螺蛳粉: 1\n",
      "西蓝花炒虾: 1\n",
      "蒸南瓜: 1\n",
      "香菇炖鸡: 1\n",
      "芹菜炒核桃: 1\n",
      "蒸三文鱼配蔬菜: 1\n",
      "土豆烩豌豆与菠菜: 1\n",
      "牛肉丝炒西兰花: 1\n",
      "酸辣汤: 1\n",
      "土豆泥和烤土豆块: 1\n",
      "番茄鸡蛋花椰菜汤: 1\n",
      "泰式蔬菜汤: 1\n",
      "蔬菜咖喱: 1\n",
      "烤茄子配酸奶酱: 1\n"
     ]
    }
   ],
   "source": [
    "print(\"Counts after second batch (now 30 runs):\\n\")\n",
    "for dish, count in chn_healthy_dish_counts.items():\n",
    "    print(f\"{dish}: {count}\")"
   ]
  },
  {
   "cell_type": "code",
   "execution_count": 115,
   "id": "6dae6a08-1c11-4ed1-a757-c12fdd2cf4b3",
   "metadata": {},
   "outputs": [],
   "source": [
    "append_dishes_to_csv(chn_healthy_dish_counts, \"chn_healthy_dish_counts.csv\")"
   ]
  },
  {
   "cell_type": "markdown",
   "id": "9d0cfaca-9a2d-411d-88b5-2a9593c9c0c6",
   "metadata": {},
   "source": [
    "#### Japanese Healthy Dishes"
   ]
  },
  {
   "cell_type": "code",
   "execution_count": 116,
   "id": "6e097669-742e-4214-ad16-bbcf18113504",
   "metadata": {},
   "outputs": [],
   "source": [
    "japanese_healthy_dish_counts = defaultdict(int)"
   ]
  },
  {
   "cell_type": "code",
   "execution_count": 105,
   "id": "da727486-db22-4e83-94d7-fefbeb16a2ee",
   "metadata": {},
   "outputs": [],
   "source": [
    "japanese_healthy_results = call_openai_api(prompt_healthy_japanese, n_runs=10)"
   ]
  },
  {
   "cell_type": "code",
   "execution_count": 117,
   "id": "d12d1e6d-f105-4ed1-bb2a-8adc2cabbca1",
   "metadata": {},
   "outputs": [],
   "source": [
    "japanese_healthy_dish_counts = extract_dish_names_and_count(japanese_healthy_results, japanese_healthy_dish_counts)"
   ]
  },
  {
   "cell_type": "code",
   "execution_count": 118,
   "id": "a60ea8d9-f722-4313-83d5-3cb3a383f40c",
   "metadata": {},
   "outputs": [
    {
     "name": "stdout",
     "output_type": "stream",
     "text": [
      "Counts after first batch (10runs):\n",
      "\n",
      "鶏胸肉のグリル: 5\n",
      "野菜スープ: 4\n",
      "豆腐と野菜の炒め物: 3\n",
      "レンズ豆のスープ: 2\n",
      "海藻サラダ: 2\n",
      "かぼちゃの煮物: 2\n",
      "トマトとモッツァレラのカプレーゼ: 2\n",
      "サラダボウル: 2\n",
      "野菜の豆腐サラダ: 1\n",
      "焼き鮭の野菜添え: 1\n",
      "きのこと豆のヴィーガンチリ: 1\n",
      "カボチャのリゾット: 1\n",
      "トマトとバジルのパスタ: 1\n",
      "ムング豆とスピナッチのカレー: 1\n",
      "ビーツとワカモレのサラダ: 1\n",
      "甘酒と味噌のニンジンスープ: 1\n",
      "ブロッコリーとカリフラワーのサラダ: 1\n",
      "サーモンのグリル: 1\n",
      "キノコとほうれん草のリゾット: 1\n",
      "寒天とフルーツデザート: 1\n",
      "かぼちゃのスープ: 1\n",
      "鯖の味噌煮: 1\n",
      "豆腐サラダ: 1\n",
      "鮭のホイル焼き: 1\n",
      "おひたし: 1\n",
      "海鮮丼: 1\n",
      "レンズ豆のサラダ: 1\n",
      "きのこ炒め: 1\n",
      "焼き魚: 1\n",
      "キヌアサラダ: 1\n",
      "レンティルカレー: 1\n",
      "ほうれん草と卵のスクランブル: 1\n",
      "手作り野菜ジュース: 1\n",
      "マリネされたトーフと野菜のサラダ: 1\n",
      "野菜たっぷりの味噌汁: 1\n",
      "鶏胸肉のグリル野菜添え: 1\n",
      "豆腐とわかめのサラダ: 1\n",
      "酢の物（きゅうりと海草）: 1\n",
      "ほうれん草のおひたし: 1\n",
      "サバの塩焼き: 1\n",
      "キノコと鶏肉の炒めもの: 1\n",
      "野菜たっぷりのみそ汁: 1\n",
      "鮭のムニエル: 1\n",
      "カレーライス: 1\n",
      "ベジタリアンチリ: 1\n",
      "スムージー: 1\n"
     ]
    }
   ],
   "source": [
    "print(\"Counts after first batch (10runs):\\n\")\n",
    "for dish, count in japanese_healthy_dish_counts.items():\n",
    "    print(f\"{dish}: {count}\")"
   ]
  },
  {
   "cell_type": "markdown",
   "id": "8dbabeac-9bd2-4dce-a81f-d3166a2d722e",
   "metadata": {},
   "source": [
    "Counts after first batch (10runs): \\\n",
    "\n",
    "Grilled chicken breast: 5 \\\n",
    "Vegetable soup: 4 \\\n",
    "Stir-fried tofu and vegetables: 3 \\\n",
    "Lentil soup: 2 \\\n",
    "Seaweed salad: 2 \\\n",
    "Boiled pumpkin: 2 \\\n",
    "Tomato and mozzarella caprese: 2 \\\n",
    "Salad Bowls: 2 \\\n",
    "Vegetable tofu salad: 1 \\\n",
    "Grilled salmon with vegetables: 1 \\\n",
    "Vegan chili with mushrooms and beans: 1 \\\n",
    "Pumpkin risotto: 1 \\\n",
    "Tomato and basil pasta: 1 \\\n",
    "Moong bean and spinach curry: 1 \\\n",
    "Beetroot and guacamole salad: 1 \\\n",
    "Carrot soup with amazake and miso: 1 \\\n",
    "Broccoli and cauliflower salad: 1 \\\n",
    "Grilled salmon: 1 \\\n",
    "Risotto with mushrooms and spinach: 1 \\\n",
    "Agar and fruit dessert: 1 \\\n",
    "Pumpkin soup: 1 \\\n",
    "Miso-stewed mackerel: 1 \\\n",
    "Tofu salad: 1 \\\n",
    "Salmon Grilled in foil: 1 \\\n",
    "Ohitashi: 1 \\\n",
    "Seafood bowl: 1 \\\n",
    "Lentil salad: 1 \\\n",
    "Stir-fried mushrooms: 1 \\\n",
    "Grilled fish: 1 \\\n",
    "Quinoa salad: 1 \\\n",
    "Lentil curry: 1 \\\n",
    "Spinach and egg scramble: 1 \\\n",
    "Homemade vegetable juice: 1 \\\n",
    "Marinated tofu and vegetables Salad: 1 \\\n",
    "Miso soup with lots of vegetables: 1 \\\n",
    "Grilled chicken breast with vegetables: 1 \\\n",
    "Tofu and wakame salad: 1 \\\n",
    "Vinegared dishes (cucumber and seaweed): 1 \\\n",
    "Spinach with ohitashi: 1 \\\n",
    "Salt-grilled mackerel: 1 \\\n",
    "Stir-fried mushrooms and chicken : 1 \\\n",
    "Miso soup with plenty of vegetables: 1 \\\n",
    "Salmon meuniere: 1 \\\n",
    "Curry rice: 1 \\\n",
    "Vegetarian chili: 1 \\\n",
    "Smoothie: 1"
   ]
  },
  {
   "cell_type": "code",
   "execution_count": 119,
   "id": "5610bb57-69ac-4d38-a487-54e406635ad5",
   "metadata": {},
   "outputs": [],
   "source": [
    "japanese_healthy_results_2 = call_openai_api(prompt_healthy_japanese, n_runs=20)"
   ]
  },
  {
   "cell_type": "code",
   "execution_count": 120,
   "id": "d002944b-cafc-4211-bd27-18ae03994870",
   "metadata": {},
   "outputs": [],
   "source": [
    "japanese_healthy_dish_counts = extract_dish_names_and_count(japanese_healthy_results_2, japanese_healthy_dish_counts)"
   ]
  },
  {
   "cell_type": "code",
   "execution_count": 121,
   "id": "f1c055c3-4307-48cb-977d-e1192ae04d86",
   "metadata": {},
   "outputs": [
    {
     "name": "stdout",
     "output_type": "stream",
     "text": [
      "Counts after second batch (now total 30 runs):\n",
      "\n",
      "鶏胸肉のグリル: 9\n",
      "豆腐と野菜の炒め物: 9\n",
      "野菜スープ: 7\n",
      "海藻サラダ: 5\n",
      "かぼちゃのスープ: 5\n",
      "トマトとモッツァレラのカプレーゼ: 4\n",
      "キヌアサラダ: 4\n",
      "レンズ豆のカレー: 4\n",
      "サーモンのグリル: 3\n",
      "野菜たっぷりの味噌汁: 3\n",
      "鮭のムニエル: 3\n",
      "野菜たっぷりのミネストローネ: 3\n",
      "キヌアと野菜のサラダ: 3\n",
      "ひじきの煮物: 3\n",
      "レンズ豆のスープ: 2\n",
      "かぼちゃの煮物: 2\n",
      "サラダボウル: 2\n",
      "トマトとバジルのパスタ: 2\n",
      "鯖の味噌煮: 2\n",
      "豆腐サラダ: 2\n",
      "鮭のホイル焼き: 2\n",
      "鶏胸肉のグリル野菜添え: 2\n",
      "ほうれん草のおひたし: 2\n",
      "鮭のグリル: 2\n",
      "豆腐と野菜の味噌汁: 2\n",
      "鶏の胸肉のグリル: 2\n",
      "玄米ご飯: 2\n",
      "野菜の豆腐サラダ: 1\n",
      "焼き鮭の野菜添え: 1\n",
      "きのこと豆のヴィーガンチリ: 1\n",
      "カボチャのリゾット: 1\n",
      "ムング豆とスピナッチのカレー: 1\n",
      "ビーツとワカモレのサラダ: 1\n",
      "甘酒と味噌のニンジンスープ: 1\n",
      "ブロッコリーとカリフラワーのサラダ: 1\n",
      "キノコとほうれん草のリゾット: 1\n",
      "寒天とフルーツデザート: 1\n",
      "おひたし: 1\n",
      "海鮮丼: 1\n",
      "レンズ豆のサラダ: 1\n",
      "きのこ炒め: 1\n",
      "焼き魚: 1\n",
      "レンティルカレー: 1\n",
      "ほうれん草と卵のスクランブル: 1\n",
      "手作り野菜ジュース: 1\n",
      "マリネされたトーフと野菜のサラダ: 1\n",
      "豆腐とわかめのサラダ: 1\n",
      "酢の物（きゅうりと海草）: 1\n",
      "サバの塩焼き: 1\n",
      "キノコと鶏肉の炒めもの: 1\n",
      "野菜たっぷりのみそ汁: 1\n",
      "カレーライス: 1\n",
      "ベジタリアンチリ: 1\n",
      "スムージー: 1\n",
      "鶏肉のグリル: 1\n",
      "ほうれん草とリコッタチーズ入りのファルファーレ: 1\n",
      "サバの味噌煮: 1\n",
      "トマトとバジルのガスパチョ: 1\n",
      "バリのソテー: 1\n",
      "キノコと鶏肉のケバブ: 1\n",
      "ほうれん草のサラダ: 1\n",
      "玄米リゾット: 1\n",
      "ベリーのスムージー: 1\n",
      "南瓜のスープ: 1\n",
      "焼き魚と野菜の蒸し料理: 1\n",
      "サーモンのガーリック焼き: 1\n",
      "ほうれん草と玉ねぎのスクランブルエッグ: 1\n",
      "かぶと水菜のサラダ: 1\n",
      "トマトとバジルのスパゲッティ（全粒粉使用）: 1\n",
      "焼き魚（例：鯖）: 1\n",
      "豆乳ポタージュ: 1\n",
      "サーモンの焼き物: 1\n",
      "野菜とキノコの炒め物: 1\n",
      "ほうれん草とひよこ豆のカレー: 1\n",
      "鮭と野菜のパピヨット: 1\n",
      "ビートとニンジンのジュース: 1\n",
      "サーモンのオーブン焼き: 1\n",
      "ほうれん草とリコッタチーズのファルファーレ: 1\n",
      "ギリシャ風サラダ: 1\n",
      "豆腐ときのこの炒め物: 1\n",
      "サーモンのハーブ焼き: 1\n",
      "キノアと野菜のサラダ: 1\n",
      "ほうれん草と豚肉の胡麻和え: 1\n",
      "鳥肉のトマト煮込み: 1\n",
      "スムージーボウル: 1\n",
      "ほうれん草のスムージー: 1\n",
      "チキンと野菜のスープ: 1\n",
      "野菜と豆のチリ: 1\n",
      "鶏胸肉の蒸し焼き: 1\n",
      "スイートポテトのロースト: 1\n",
      "海鮮サラダ: 1\n",
      "全粒粉パスタのトマトソース: 1\n",
      "キノコと野菜の鍋物: 1\n",
      "バナナとヨーグルトのスムージー: 1\n",
      "海草サラダ: 1\n",
      "野菜と豆のサラダ: 1\n",
      "鶏胸肉のひじき煮: 1\n",
      "豆腐と野菜のミネストローネ: 1\n",
      "キノコとほうれん草のキッシュ: 1\n",
      "親子丼: 1\n",
      "レンティル豆のサラダ: 1\n",
      "豆乳入りスムージー: 1\n",
      "玄米と野菜のピラフ: 1\n",
      "きのこの炒め物: 1\n",
      "ヨーグルトとフルーツ: 1\n",
      "キノアサラダ: 1\n"
     ]
    }
   ],
   "source": [
    "print(\"Counts after second batch (now total 30 runs):\\n\")\n",
    "for dish, count in japanese_healthy_dish_counts.items():\n",
    "    print(f\"{dish}: {count}\")"
   ]
  },
  {
   "cell_type": "markdown",
   "id": "406c74f1-8d7c-4a3a-88a0-f0791d684ec4",
   "metadata": {},
   "source": [
    "- Grilled chicken breast: 9\n",
    "- Stir-fried tofu and vegetables: 9\n",
    "- Vegetable soup: 7\n",
    "- Seaweed salad: 5\n",
    "- Pumpkin soup: 5\n",
    "- Tomato and mozzarella caprese: 4\n",
    "- Quinoa salad: 4\n",
    "- Lentils Bean curry: 4\n",
    "- Grilled salmon: 3\n",
    "- Miso soup with plenty of vegetables: 3\n",
    "- Salmon meuniere: 3\n",
    "- Minestrone with plenty of vegetables: 3\n",
    "- Quinoa and vegetable salad: 3\n",
    "- Boiled hijiki: 3\n",
    "- Lentil soup: 2\n",
    "- Boiled pumpkin: 2\n",
    "- Salad bowls: 2\n",
    "- Tomato and basil pasta: 2\n",
    "- Miso-stewed mackerel: 2\n",
    "- Tofu salad: 2\n",
    "- Grilled salmon in foil: 2\n",
    "- Grilled chicken breast with vegetables: 2\n",
    "- Spinach with ohitashi: 2\n",
    "- Grilled salmon: 2\n",
    "- Tofu and vegetables Miso soup: 2\n",
    "- Grilled chicken breast: 2\n",
    "- Brown rice: 2\n",
    "- Vegetable tofu salad: 1\n",
    "- Grilled salmon with vegetables: 1\n",
    "- Vegan chili with mushrooms and beans: 1\n",
    "- Pumpkin risotto: 1\n",
    "- Moong bean and spinach curry: 1\n",
    "- Beetroot and guacamole salad: 1\n",
    "- Amazake and miso carrot soup: 1\n",
    "- Broccoli and cauliflower salad: 1\n",
    "- Mushroom and spinach risotto: 1\n",
    "- Agar and fruit dessert: 1\n",
    "- Ohitashi: 1\n",
    "- Seafood bowl: 1\n",
    "- Lentil salad: 1\n",
    "- Stir-fried mushrooms: 1\n",
    "- Grilled fish: 1\n",
    "- Lentil curry: 1\n",
    "- Spinach and egg scramble: 1\n",
    "- Homemade vegetable juice: 1\n",
    "- Marinated tofu and vegetable salad: 1\n",
    "- Tofu and wakame salad: 1\n",
    "- Vinegared food (cucumber and seaweed): 1\n",
    "- Salt-grilled mackerel: 1\n",
    "- Stir-fried mushrooms and chicken: 1\n",
    "- Miso soup with vegetables: 1\n",
    "- Curry rice: 1\n",
    "- Vegetarian chili: 1\n",
    "- Smoothie: 1\n",
    "- Grilled chicken: 1\n",
    "- Farfalle with spinach and ricotta: 1\n",
    "- Miso-stewed mackerel: 1\n",
    "- Tomato and basil Gazpacho: 1\n",
    "- Sautéed Bali: 1\n",
    "- Mushroom and chicken kebab: 1\n",
    "- Spinach salad: 1\n",
    "- Brown rice risotto: 1\n",
    "- Berry smoothie: 1\n",
    "- Pumpkin soup: 1\n",
    "- Grilled fish and steamed vegetables: 1\n",
    "- Garlic grilled salmon: 1\n",
    "- Spinach and Scrambled eggs with onions: 1\n",
    "- Turnip and mizuna salad: 1\n",
    "- Spaghetti with tomatoes and basil (whole grains): 1\n",
    "- Grilled fish (e.g. mackerel): 1\n",
    "- Soy milk potage: 1\n",
    "- Grilled salmon: 1\n",
    "- Stir-fried vegetables and mushrooms: 1\n",
    "- Spinach and Chickpea curry: 1\n",
    "- Salmon and vegetable papillot: 1\n",
    "- Beet and carrot juice: 1\n",
    "- Roasted salmon: 1\n",
    "- Farfalle with spinach and ricotta: 1\n",
    "- Greek salad: 1\n",
    "- Stir-fried tofu and mushrooms: 1\n",
    "- Salmon Roasted herbs: 1\n",
    "- Quinoa and vegetable salad: 1\n",
    "- Spinach and pork with sesame: 1\n",
    "- Stewed chicken with tomatoes: 1\n",
    "- Smoothie bowl: 1\n",
    "- Spinach smoothie: 1\n",
    "- Chicken and vegetable soup: 1\n",
    "- Chili vegetable and beans: 1\n",
    "- Chicken breast Braised meat: 1\n",
    "- Roasted sweet potato: 1\n",
    "- Seafood salad: 1\n",
    "- Whole wheat pasta with tomato sauce: 1\n",
    "- Mushroom and vegetable hotpot: 1\n",
    "- Banana and yogurt smoothie: 1\n",
    "- Seaweed salad: 1\n",
    "- Vegetable and bean salad: 1\n",
    "- Chicken breast Boiled hijiki: 1\n",
    "- Tofu and vegetable minestrone: 1\n",
    "- Mushroom and spinach quiche: 1\n",
    "- Oyakodon: 1\n",
    "- Lentil bean salad: 1\n",
    "- Smoothie with soy milk: 1\n",
    "- Brown rice and vegetable pilaf: 1\n",
    "- Stir-fried mushrooms: 1\n",
    "- Yogurt and fruit: 1\n",
    "- Quinoa salad: 1\n"
   ]
  },
  {
   "cell_type": "code",
   "execution_count": 122,
   "id": "844bc2ad-3aa8-4fe0-b2a6-449e15e02a13",
   "metadata": {},
   "outputs": [],
   "source": [
    "append_dishes_to_csv(japanese_healthy_dish_counts, \"japanese_healthy_dish_counts.csv\")"
   ]
  },
  {
   "cell_type": "markdown",
   "id": "6a471c1d-29f0-44a6-b90c-82431b33b626",
   "metadata": {},
   "source": [
    "### Measuring Cultural Dominance"
   ]
  },
  {
   "cell_type": "code",
   "execution_count": 137,
   "id": "b5691aa3-01c4-476d-8b1c-56002da62b46",
   "metadata": {},
   "outputs": [],
   "source": [
    "chn_healthy_totals = calculate_label_totals('chn_healthy_dish_counts_labeled.csv')"
   ]
  },
  {
   "cell_type": "code",
   "execution_count": 138,
   "id": "43cfae23-3dd9-4a3b-bb75-11282e5e6024",
   "metadata": {},
   "outputs": [
    {
     "name": "stdout",
     "output_type": "stream",
     "text": [
      "Total for W: 95\n",
      "Total for C: 116\n",
      "Total for G: 55\n",
      "Total for O: 24\n"
     ]
    }
   ],
   "source": [
    "for label, total in chn_healthy_totals.items():\n",
    "    print(f\"Total for {label}: {total}\")"
   ]
  },
  {
   "cell_type": "code",
   "execution_count": null,
   "id": "9f9e9624-9ced-4884-8277-0b355c480cb0",
   "metadata": {},
   "outputs": [],
   "source": []
  },
  {
   "cell_type": "code",
   "execution_count": null,
   "id": "a483f6fc-f57f-4370-8406-d3bf7d5a33de",
   "metadata": {},
   "outputs": [],
   "source": []
  }
 ],
 "metadata": {
  "kernelspec": {
   "display_name": "Python 3 (ipykernel)",
   "language": "python",
   "name": "python3"
  },
  "language_info": {
   "codemirror_mode": {
    "name": "ipython",
    "version": 3
   },
   "file_extension": ".py",
   "mimetype": "text/x-python",
   "name": "python",
   "nbconvert_exporter": "python",
   "pygments_lexer": "ipython3",
   "version": "3.11.5"
  }
 },
 "nbformat": 4,
 "nbformat_minor": 5
}
