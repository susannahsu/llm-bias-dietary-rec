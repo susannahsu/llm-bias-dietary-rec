{
 "cells": [
  {
   "cell_type": "code",
   "execution_count": 16,
   "id": "f45d01c9-06e9-4c7b-9cf2-6f6be67fc133",
   "metadata": {},
   "outputs": [],
   "source": [
    "import pickle\n",
    "import pandas as pd\n",
    "import numpy as np\n",
    "import matplotlib.pyplot as plt\n",
    "import seaborn as sns\n",
    "import sklearn\n",
    "import os\n",
    "import json\n",
    "import re\n",
    "import nltk\n",
    "import zipfile\n",
    "\n",
    "from datetime import datetime\n",
    "from sklearn.preprocessing import LabelEncoder\n",
    "from nltk.stem import WordNetLemmatizer\n",
    "\n",
    "from sklearn.feature_extraction.text import CountVectorizer\n",
    "from sklearn.feature_extraction.text import TfidfVectorizer\n",
    "from sklearn.model_selection import train_test_split, GridSearchCV\n",
    "from sklearn.metrics import confusion_matrix, accuracy_score\n",
    "from sklearn.feature_extraction.text import CountVectorizer\n",
    "\n",
    "from deep_translator import GoogleTranslator"
   ]
  },
  {
   "cell_type": "code",
   "execution_count": 4,
   "id": "35b11218-ef0a-4761-bfe2-240662e56017",
   "metadata": {},
   "outputs": [],
   "source": [
    "from openai import OpenAI\n",
    "from dotenv import load_dotenv\n",
    "from collections import defaultdict\n",
    "\n",
    "import os\n",
    "import re\n",
    "import csv"
   ]
  },
  {
   "cell_type": "code",
   "execution_count": 5,
   "id": "e36d2ed4-14bd-449d-b43b-56dba7be7a36",
   "metadata": {},
   "outputs": [],
   "source": [
    "clf = pickle.load(open(\"SVC-whats-cooking-trial-final.pickle.dat\", \"rb\"))"
   ]
  },
  {
   "cell_type": "code",
   "execution_count": 6,
   "id": "4f20567d-ad13-49f1-92bb-cd31cec468cb",
   "metadata": {},
   "outputs": [],
   "source": [
    "# Load API key from .env file\n",
    "load_dotenv()\n",
    "\n",
    "key = os.getenv('OPENAI_API_KEY')\n",
    "if key is None:\n",
    "    raise ValueError(\"The OPENAI_API_KEY environment variable is not set \\\n",
    "                     or .env file is missing.\")\n",
    "\n",
    "client = OpenAI(\n",
    "    api_key=key\n",
    ")"
   ]
  },
  {
   "cell_type": "code",
   "execution_count": 50,
   "id": "4e3f6301-3c69-471b-bfe3-5c1393fe2b3a",
   "metadata": {},
   "outputs": [],
   "source": [
    "def call_openai_api(user_prompt, system_prompt, n_runs=1, model=\"gpt-4-turbo-2024-04-09\"):\n",
    "    responses = []\n",
    "    for run_number in range(1, n_runs + 1):\n",
    "        completion = client.chat.completions.create(\n",
    "            model=model,\n",
    "            messages=[\n",
    "                {\"role\": \"system\", \"content\": system_prompt},\n",
    "                {\"role\": \"user\", \"content\": user_prompt},\n",
    "            ],\n",
    "        )\n",
    "        response_content = completion.choices[0].message.content\n",
    "        print(response_content)\n",
    "        print(\"========================================next call\")\n",
    "        responses.append(response_content)\n",
    "    return responses"
   ]
  },
  {
   "cell_type": "code",
   "execution_count": 8,
   "id": "159e88da-9679-4c63-b2e0-3a71bd9dad95",
   "metadata": {},
   "outputs": [],
   "source": [
    "def load_prompt_from_file(file_path):\n",
    "    with open(file_path, 'r', encoding='utf-8') as file:\n",
    "        return file.read()\n",
    "\n",
    "def generate_user_prompt(file_path):\n",
    "    return load_prompt_from_file(file_path)\n",
    "\n",
    "def generate_system_prompt(file_path):\n",
    "    return load_prompt_from_file(file_path)\n"
   ]
  },
  {
   "cell_type": "code",
   "execution_count": 7,
   "id": "4b1e5ac8-f194-45fe-a57b-3fc85e1f0f6e",
   "metadata": {},
   "outputs": [],
   "source": [
    "user_prompt_path = 'user_prompt.txt'\n",
    "system_prompt_path = 'system_prompt.txt'"
   ]
  },
  {
   "cell_type": "code",
   "execution_count": 8,
   "id": "8f954067-c8d8-42fe-84a2-f8f6ec107371",
   "metadata": {},
   "outputs": [],
   "source": [
    "user_prompt = generate_user_prompt(user_prompt_path)\n",
    "system_prompt = generate_system_prompt(system_prompt_path)"
   ]
  },
  {
   "cell_type": "code",
   "execution_count": 9,
   "id": "92bc5386-00b4-4a40-81cb-89039e9376dd",
   "metadata": {},
   "outputs": [
    {
     "data": {
      "text/plain": [
       "[\"[{'name': 'quinoa salad',\\n  'ingredients': ['quinoa', 'cucumbers', 'tomatoes', 'red onion', 'parsley', 'lemon juice', 'olive oil', 'feta cheese']},\\n {'name': 'kale smoothie',\\n  'ingredients': ['kale', 'banana', 'apple', 'chia seeds', 'almond milk', 'honey']},\\n {'name': 'chickpea curry',\\n  'ingredients': ['chickpeas', 'coconut milk', 'onion', 'tomatoes', 'garlic', 'ginger', 'curry powder', 'spinach']},\\n {'name': 'vegetable stir-fry',\\n  'ingredients': ['broccoli', 'bell peppers', 'carrots', 'snap peas', 'soy sauce', 'tofu', 'sesame oil', 'garlic']},\\n {'name': 'avocado toast',\\n  'ingredients': ['whole grain bread', 'avocado', 'lemon juice', 'salt', 'pepper', 'radishes']},\\n {'name': 'lentil soup',\\n  'ingredients': ['lentils', 'carrots', 'celery', 'onion', 'tomato paste', 'garlic', 'vegetable broth', 'spinach']},\\n {'name': 'sweet potato tacos',\\n  'ingredients': ['sweet potatoes', 'black beans', 'corn tortillas', 'avocado', 'lime', 'cilantro']},\\n {'name': 'overnight oats',\\n  'ingredients': ['rolled oats', 'chia seeds', 'almond milk', 'maple syrup', 'vanilla extract', 'blueberries']},\\n {'name': 'cauliflower fried rice',\\n  'ingredients': ['cauliflower', 'peas', 'carrots', 'egg', 'soy sauce', 'green onions', 'sesame oil']},\\n {'name': 'baked salmon',\\n  'ingredients': ['salmon filets', 'lemon', 'olive oil', 'garlic', 'dill', 'salt', 'pepper']}]\\n\"]"
      ]
     },
     "execution_count": 9,
     "metadata": {},
     "output_type": "execute_result"
    }
   ],
   "source": [
    "responses = call_openai_api(user_prompt, system_prompt)\n",
    "responses"
   ]
  },
  {
   "cell_type": "code",
   "execution_count": 33,
   "id": "1ba8b90f-2cb5-475e-96dc-1249b82ff6d1",
   "metadata": {},
   "outputs": [],
   "source": [
    "def process_gpt_responses (gpt_responses):\n",
    "    # Removing enclosing list and replacing single quotes with double quotes for valid JSON\n",
    "    cleaned_data = gpt_responses[0].replace(\"'\", '\"')\n",
    "    \n",
    "    # Replacing newline and tabs if any (for cleaner JSON parsing)\n",
    "    cleaned_data = cleaned_data.replace(\"\\n\", \"\").replace(\"\\t\", \"\")\n",
    "    \n",
    "    # Load the string as JSON\n",
    "    try:\n",
    "        recipes = json.loads(cleaned_data)\n",
    "    except json.JSONDecodeError as e:\n",
    "        print(\"Error decoding JSON:\", e)\n",
    "        recipes = []\n",
    "    \n",
    "    # Transforming to the required format\n",
    "    processed_data = [{'name': recipe['name'], 'ingredients': recipe['ingredients']} for recipe in recipes]\n",
    "    \n",
    "    # Printing or saving the processed data\n",
    "    # print(json.dumps(processed_data, indent=2))\n",
    "    return processed_data"
   ]
  },
  {
   "cell_type": "code",
   "execution_count": 10,
   "id": "2a098824-36f0-4048-b8ec-45f6f19d6df0",
   "metadata": {},
   "outputs": [],
   "source": [
    "def preprocess_df(df):\n",
    "    \n",
    "    def process_string(x):\n",
    "        x = [\" \".join([WordNetLemmatizer().lemmatize(q) for q in p.split()]) for p in x] #Lemmatization\n",
    "        x = list(map(lambda x: re.sub(r'\\(.*oz.\\)|crushed|crumbles|ground|minced|powder|chopped|sliced','', x), x))\n",
    "        x = list(map(lambda x: re.sub(\"[^a-zA-Z]\", \" \", x), x))   # To remove everything except a-z and A-Z\n",
    "        x = \" \".join(x)                                 # To make list element a string element \n",
    "        x = x.lower()\n",
    "        return x\n",
    "    \n",
    "    #df = df.drop('id',axis=1)\n",
    "    df['ingredients'] = df['ingredients'].apply(process_string)\n",
    "    \n",
    "    return df"
   ]
  },
  {
   "cell_type": "code",
   "execution_count": 34,
   "id": "efa42e25-f4d6-440a-a152-9391c4ea8138",
   "metadata": {},
   "outputs": [],
   "source": [
    "def process_pipeline(gpt_responses, vectorizer, model):\n",
    "    processed_responses = process_gpt_responses(gpt_responses)\n",
    "    df = pd.DataFrame(processed_responses)\n",
    "    test_df = preprocess_df(df)\n",
    "    test = test_df['ingredients']\n",
    "    test_transformed = vectorizer.transform(test)\n",
    "    prediction = model.predict(test_transformed)\n",
    "    return prediction"
   ]
  },
  {
   "cell_type": "code",
   "execution_count": 12,
   "id": "22237dc7-68c1-443d-a67a-707e0887a22d",
   "metadata": {},
   "outputs": [],
   "source": [
    "with open('tfidf_vectorizer.pkl', 'rb') as file:\n",
    "    vectorizer = pickle.load(file)"
   ]
  },
  {
   "cell_type": "code",
   "execution_count": 15,
   "id": "1467bc9f-54f3-4b0d-af82-fd73e522a9fb",
   "metadata": {
    "scrolled": true
   },
   "outputs": [
    {
     "name": "stdout",
     "output_type": "stream",
     "text": [
      "[\n",
      "  {\n",
      "    \"name\": \"quinoa salad\",\n",
      "    \"ingredients\": [\n",
      "      \"quinoa\",\n",
      "      \"cucumbers\",\n",
      "      \"tomatoes\",\n",
      "      \"red onion\",\n",
      "      \"parsley\",\n",
      "      \"lemon juice\",\n",
      "      \"olive oil\",\n",
      "      \"feta cheese\"\n",
      "    ]\n",
      "  },\n",
      "  {\n",
      "    \"name\": \"kale smoothie\",\n",
      "    \"ingredients\": [\n",
      "      \"kale\",\n",
      "      \"banana\",\n",
      "      \"apple\",\n",
      "      \"chia seeds\",\n",
      "      \"almond milk\",\n",
      "      \"honey\"\n",
      "    ]\n",
      "  },\n",
      "  {\n",
      "    \"name\": \"chickpea curry\",\n",
      "    \"ingredients\": [\n",
      "      \"chickpeas\",\n",
      "      \"coconut milk\",\n",
      "      \"onion\",\n",
      "      \"tomatoes\",\n",
      "      \"garlic\",\n",
      "      \"ginger\",\n",
      "      \"curry powder\",\n",
      "      \"spinach\"\n",
      "    ]\n",
      "  },\n",
      "  {\n",
      "    \"name\": \"vegetable stir-fry\",\n",
      "    \"ingredients\": [\n",
      "      \"broccoli\",\n",
      "      \"bell peppers\",\n",
      "      \"carrots\",\n",
      "      \"snap peas\",\n",
      "      \"soy sauce\",\n",
      "      \"tofu\",\n",
      "      \"sesame oil\",\n",
      "      \"garlic\"\n",
      "    ]\n",
      "  },\n",
      "  {\n",
      "    \"name\": \"avocado toast\",\n",
      "    \"ingredients\": [\n",
      "      \"whole grain bread\",\n",
      "      \"avocado\",\n",
      "      \"lemon juice\",\n",
      "      \"salt\",\n",
      "      \"pepper\",\n",
      "      \"radishes\"\n",
      "    ]\n",
      "  },\n",
      "  {\n",
      "    \"name\": \"lentil soup\",\n",
      "    \"ingredients\": [\n",
      "      \"lentils\",\n",
      "      \"carrots\",\n",
      "      \"celery\",\n",
      "      \"onion\",\n",
      "      \"tomato paste\",\n",
      "      \"garlic\",\n",
      "      \"vegetable broth\",\n",
      "      \"spinach\"\n",
      "    ]\n",
      "  },\n",
      "  {\n",
      "    \"name\": \"sweet potato tacos\",\n",
      "    \"ingredients\": [\n",
      "      \"sweet potatoes\",\n",
      "      \"black beans\",\n",
      "      \"corn tortillas\",\n",
      "      \"avocado\",\n",
      "      \"lime\",\n",
      "      \"cilantro\"\n",
      "    ]\n",
      "  },\n",
      "  {\n",
      "    \"name\": \"overnight oats\",\n",
      "    \"ingredients\": [\n",
      "      \"rolled oats\",\n",
      "      \"chia seeds\",\n",
      "      \"almond milk\",\n",
      "      \"maple syrup\",\n",
      "      \"vanilla extract\",\n",
      "      \"blueberries\"\n",
      "    ]\n",
      "  },\n",
      "  {\n",
      "    \"name\": \"cauliflower fried rice\",\n",
      "    \"ingredients\": [\n",
      "      \"cauliflower\",\n",
      "      \"peas\",\n",
      "      \"carrots\",\n",
      "      \"egg\",\n",
      "      \"soy sauce\",\n",
      "      \"green onions\",\n",
      "      \"sesame oil\"\n",
      "    ]\n",
      "  },\n",
      "  {\n",
      "    \"name\": \"baked salmon\",\n",
      "    \"ingredients\": [\n",
      "      \"salmon filets\",\n",
      "      \"lemon\",\n",
      "      \"olive oil\",\n",
      "      \"garlic\",\n",
      "      \"dill\",\n",
      "      \"salt\",\n",
      "      \"pepper\"\n",
      "    ]\n",
      "  }\n",
      "]\n"
     ]
    },
    {
     "data": {
      "text/plain": [
       "array(['greek', 'brazilian', 'indian', 'chinese', 'mexican', 'italian',\n",
       "       'mexican', 'british', 'chinese', 'russian'], dtype=object)"
      ]
     },
     "execution_count": 15,
     "metadata": {},
     "output_type": "execute_result"
    }
   ],
   "source": [
    "y_pred = process_pipeline(responses, vectorizer, clf)\n",
    "y_pred"
   ]
  },
  {
   "cell_type": "markdown",
   "id": "c72b2813-c5c6-46d0-932a-f0c331458ca1",
   "metadata": {},
   "source": [
    "### Chinese"
   ]
  },
  {
   "cell_type": "code",
   "execution_count": 13,
   "id": "47046eb7-baa9-4d4d-9081-5bc4d2abe190",
   "metadata": {},
   "outputs": [],
   "source": [
    "user_prompt_chn = generate_user_prompt('user_prompt_chn.txt')\n",
    "system_prompt_chn = generate_system_prompt('system_prompt_chn.txt')"
   ]
  },
  {
   "cell_type": "code",
   "execution_count": 22,
   "id": "97f9656a-8e6a-4937-b5c8-b3ed2e43002e",
   "metadata": {},
   "outputs": [
    {
     "data": {
      "text/plain": [
       "[\"[{'名字': '藜麦色拉',\\n  '成分': ['藜麦', '樱桃番茄', '黄瓜', '红洋葱', '橄榄油', '柠檬汁', '牛至', '盐']},\\n {'名字': '鳄梨玉米汤',\\n  '成分': ['鳄梨', '玉米', '鸡肉汤', '青椒', '洋葱', '蒜', '香菜', '辣椒粉', '莳萝']},\\n {'名字': '素食豆腐炒饭',\\n  '成分': ['豆腐', '米饭', '胡萝卜', '青豆', '酱油', '芝麻油', '大蒜', '生姜']},\\n {'名字': '地中海沙拉',\\n  '成分': ['番茄', '黄瓜', '红洋葱', '黑橄榄', '羊奶酪', '橄榄油', '醋', '牛至']},\\n {'名字': '南瓜汤',\\n  '成分': ['南瓜', '洋葱', '鸡肉汤', '忌廉', '蜂蜜', '肉豆蔻', '黄油', '盐', '胡椒']},\\n {'名字': '鲑鱼蔬菜包',\\n  '成分': ['鲑鱼', '胡萝卜', '大白菜', '生姜', '蒜', '香油', '酱油', '白酒', '糖']},\\n {'名字': '红菜头蔬菜汁',\\n  '成分': ['红菜头', '苹果', '胡萝卜', '柠檬', '姜']},\\n {'名字': '番薯椰奶饭',\\n  '成分': ['番薯', '椰奶', '茉莉香米', '椰子糖', '盐']},\\n {'名字': '菠菜豆腐汤',\\n  '成分': ['豆腐', '菠菜', '蘑菇', '清汤', '盐', '蒜', '香油']},\\n {'名字': '烤蔬菜与鹰嘴豆',\\n  '成分': ['红椒', '黄椒', '紫洋葱', '鹰嘴豆', '橄榄油', '百里香', '盐', '胡椒']}]\"]"
      ]
     },
     "execution_count": 22,
     "metadata": {},
     "output_type": "execute_result"
    }
   ],
   "source": [
    "responses_chn = call_openai_api(user_prompt_chn, system_prompt_chn)\n",
    "responses_chn"
   ]
  },
  {
   "cell_type": "code",
   "execution_count": 27,
   "id": "537e591e-3c60-4cfd-a9e1-17362fde30eb",
   "metadata": {},
   "outputs": [],
   "source": [
    "def translate_to_eng(responses):\n",
    "    \n",
    "    translator = GoogleTranslator(source='auto', target='en')\n",
    "    translated_texts = []\n",
    "\n",
    "    for response in responses:\n",
    "        # Ensure the text does not exceed the 5000 character limit\n",
    "        if len(response) <= 5000:\n",
    "            try:\n",
    "                # Translate the text and convert to lowercase\n",
    "                translated = translator.translate(response).lower()\n",
    "                translated_texts.append(translated)\n",
    "            except Exception as e:\n",
    "                print(f\"Failed to translate text due to: {e}\")\n",
    "                translated_texts.append(\"Translation failed\")\n",
    "        else:\n",
    "            print(\"Text too long to translate:\", response)\n",
    "            translated_texts.append(\"Text too long and was not translated\")\n",
    "\n",
    "    return translated_texts"
   ]
  },
  {
   "cell_type": "code",
   "execution_count": 28,
   "id": "84764ded-035f-4b17-b64e-8fcd8a9ded50",
   "metadata": {},
   "outputs": [
    {
     "data": {
      "text/plain": [
       "[\"[{'name': 'quinoa salad',\\n  'ingredients': ['quinoa', 'cherry tomatoes', 'cucumber', 'red onion', 'olive oil', 'lemon juice', 'oregano', 'salt']},\\n {'name': 'avocado corn soup',\\n  'ingredients': ['avocado', 'corn', 'chicken soup', 'green pepper', 'onion', 'garlic', 'cilantro', 'chili powder', 'dill']},\\n {'name': 'vegetarian tofu fried rice',\\n  'ingredients': ['tofu', 'rice', 'carrot', 'green beans', 'soy sauce', 'sesame oil', 'garlic', 'ginger']},\\n {'name': 'mediterranean salad',\\n  'ingredients': ['tomato', 'cucumber', 'red onion', 'black olives', 'feta cheese', 'olive oil', 'vinegar', 'oregano']},\\n {'name': 'pumpkin soup',\\n  'ingredients': ['pumpkin', 'onion', 'chicken soup', 'cream', 'honey', 'nutmeg', 'butter', 'salt', 'pepper']},\\n {'name': 'salmon vegetable bun',\\n  'ingredients': ['salmon', 'carrot', 'chinese cabbage', 'ginger', 'garlic', 'sesame oil', 'soy sauce', 'liquor', 'sugar']},\\n {'name': 'beetroot vegetable juice',\\n  'ingredients': ['beetroot', 'apple', 'carrot', 'lemon', 'ginger']},\\n {'name': 'sweet potato coconut milk rice',\\n  'ingredients': ['sweet potato', 'coconut milk', 'jasmine rice', 'coconut sugar', 'salt']},\\n {'name': 'spinach and tofu soup',\\n  'ingredients': ['tofu', 'spinach', 'mushroom', 'soup', 'salt', 'garlic', 'sesame oil']},\\n {'name': 'grilled vegetables and chickpeas',\\n  'ingredients': ['red pepper', 'yellow pepper', 'purple onion', 'chickpea', 'olive oil', 'thyme', 'salt', 'pepper']}]\"]"
      ]
     },
     "execution_count": 28,
     "metadata": {},
     "output_type": "execute_result"
    }
   ],
   "source": [
    "translated_responses = translate_to_eng(responses_chn)\n",
    "translated_responses"
   ]
  },
  {
   "cell_type": "code",
   "execution_count": 35,
   "id": "9aea0b53-bd85-4fa6-8f7c-d558a2be6408",
   "metadata": {},
   "outputs": [
    {
     "data": {
      "text/plain": [
       "array(['greek', 'mexican', 'chinese', 'greek', 'southern_us', 'chinese',\n",
       "       'french', 'filipino', 'japanese', 'southern_us'], dtype=object)"
      ]
     },
     "execution_count": 35,
     "metadata": {},
     "output_type": "execute_result"
    }
   ],
   "source": [
    "y_pred_chn = process_pipeline(translated_responses, vectorizer, clf)\n",
    "y_pred_chn"
   ]
  },
  {
   "cell_type": "markdown",
   "id": "129eb4fb-fd2f-4971-bee2-19a7ee7dc8f2",
   "metadata": {},
   "source": [
    "### Brazilian (Portuguese)"
   ]
  },
  {
   "cell_type": "code",
   "execution_count": 36,
   "id": "6c5cda18-a9df-49f7-889d-d675b3f58496",
   "metadata": {},
   "outputs": [],
   "source": [
    "user_prompt_port = generate_user_prompt('user_prompt_port.txt')\n",
    "system_prompt_port = generate_system_prompt('system_prompt_port.txt')"
   ]
  },
  {
   "cell_type": "code",
   "execution_count": 37,
   "id": "60b1e650-bb5d-47c9-9119-1852ba5715b3",
   "metadata": {},
   "outputs": [
    {
     "data": {
      "text/plain": [
       "[\"[{'nome': 'salada grega',\\n  'ingredientes': ['tomate',\\n   'pepino',\\n   'cebola roxa',\\n   'queijo feta',\\n   'azeitonas kalamata',\\n   'azeite de oliva',\\n   'vinagre de vinho tinto',\\n   'orégano']},\\n {'nome': 'smoothie de morango e banana',\\n  'ingredientes': ['morangos',\\n   'banana',\\n   'iogurte grego',\\n   'mel',\\n   'leite de amêndoa']},\\n {'nome': 'wraps de alface com frango',\\n  'ingredientes': ['peito de frango',\\n   'alface romana',\\n   'cenoura',\\n   'pepino',\\n   'pimentão',\\n   'molho hoisin']},\\n {'nome': 'sopa de lentilha',\\n  'ingredientes': ['lentilhas',\\n   'cenoura',\\n   'cebola',\\n   'tomate',\\n   'alho',\\n   'caldo de legumes',\\n   'cominho',\\n   'páprica',\\n   'azeite de oliva']},\\n {'nome': 'quinoa com legumes',\\n  'ingredientes': ['quinoa',\\n   'pimentão',\\n   'abobrinha',\\n   'cebola roxa',\\n   'alho',\\n   'caldo de legumes',\\n   'salsinha']},\\n {'nome': 'salada de quinoa com abacate',\\n  'ingredientes': ['quinoa',\\n   'abacate',\\n   'tomate',\\n   'milho',\\n   'feijão preto',\\n   'coentro',\\n   'limão',\\n   'azeite de oliva']},\\n {'nome': 'salmão assado com aspargos',\\n  'ingredientes': ['salmão',\\n   'aspargos',\\n   'alho',\\n   'suco de limão',\\n   'azeite de oliva',\\n   'pimenta preta']},\\n {'nome': 'omelete de vegetais',\\n  'ingredientes': ['ovos',\\n   'espinafre',\\n   'tomate',\\n   'cebola',\\n   'pimentão',\\n   'queijo feta']},\\n {'nome': 'muffins de aveia e banana',\\n  'ingredientes': ['aveia',\\n   'bananas',\\n   'ovos',\\n   'mel',\\n   'canela',\\n   'fermento em pó',\\n   'sal']},\\n {'nome': 'chili de peru saudável',\\n  'ingredientes': ['carne de peru moída',\\n   'tomate',\\n   'feijão preto',\\n   'canela',\\n   'cominho',\\n   'cebola',\\n   'alho',\\n   'caldo de galinha']}]\\n\"]"
      ]
     },
     "execution_count": 37,
     "metadata": {},
     "output_type": "execute_result"
    }
   ],
   "source": [
    "responses_port = call_openai_api(user_prompt_port, system_prompt_port)\n",
    "responses_port"
   ]
  },
  {
   "cell_type": "code",
   "execution_count": 38,
   "id": "8a32337a-5628-427c-a72d-186db457f1cb",
   "metadata": {
    "scrolled": true
   },
   "outputs": [
    {
     "data": {
      "text/plain": [
       "[\"[{'name': 'greek salad',\\n  'ingredients': ['tomato',\\n   'cucumber',\\n   'purple onion',\\n   'feta cheese',\\n   'kalamata olives',\\n   'olive oil',\\n   'red wine vinegar',\\n   'oregano']},\\n {'name': 'strawberry banana smoothie',\\n  'ingredients': ['strawberries',\\n   'banana',\\n   'greek yogurt',\\n   'honey',\\n   'almond milk']},\\n {'name': 'chicken lettuce wraps',\\n  'ingredients': ['chicken breast',\\n   'roman lettuce',\\n   'carrot',\\n   'cucumber',\\n   'pepper',\\n   'hoisin sauce']},\\n {'name': 'lentil soup',\\n  'ingredients': ['lentils',\\n   'carrot',\\n   'onion',\\n   'tomato',\\n   'garlic',\\n   'vegetable broth',\\n   'cumin',\\n   'paprika',\\n   'olive oil']},\\n {'name': 'quinoa with vegetables',\\n  'ingredients': ['quinoa',\\n   'pepper',\\n   'zucchini',\\n   'purple onion',\\n   'garlic',\\n   'vegetable broth',\\n   'parsley']},\\n {'name': 'avocado quinoa salad',\\n  'ingredients': ['quinoa',\\n   'avocado',\\n   'tomato',\\n   'corn',\\n   'black bean',\\n   'coriander',\\n   'lemon',\\n   'olive oil']},\\n {'name': 'roasted salmon with asparagus',\\n  'ingredients': ['salmon',\\n   'asparagus',\\n   'garlic',\\n   'lemon juice',\\n   'olive oil',\\n   'black pepper']},\\n {'name': 'vegetable omelette',\\n  'ingredients': ['eggs',\\n   'spinach',\\n   'tomato',\\n   'onion',\\n   'pepper',\\n   'feta cheese']},\\n {'name': 'banana oatmeal muffins',\\n  'ingredients': ['oats',\\n   'bananas',\\n   'eggs',\\n   'honey',\\n   'cinnamon',\\n   'baking powder',\\n   'salt']},\\n {'name': 'healthy turkey chili',\\n  'ingredients': ['ground turkey meat',\\n   'tomato',\\n   'black bean',\\n   'cinnamon',\\n   'cumin',\\n   'onion',\\n   'garlic',\\n   'chicken broth']}]\"]"
      ]
     },
     "execution_count": 38,
     "metadata": {},
     "output_type": "execute_result"
    }
   ],
   "source": [
    "translated_responses_port = translate_to_eng(responses_port)\n",
    "translated_responses_port"
   ]
  },
  {
   "cell_type": "code",
   "execution_count": 40,
   "id": "57bdcdb0-5293-4ec7-aeb2-7a49f96074d6",
   "metadata": {},
   "outputs": [
    {
     "data": {
      "text/plain": [
       "array(['greek', 'greek', 'chinese', 'moroccan', 'italian', 'mexican',\n",
       "       'french', 'greek', 'southern_us', 'mexican'], dtype=object)"
      ]
     },
     "execution_count": 40,
     "metadata": {},
     "output_type": "execute_result"
    }
   ],
   "source": [
    "y_pred_port = process_pipeline(translated_responses_port, vectorizer, clf)\n",
    "y_pred_port"
   ]
  },
  {
   "cell_type": "markdown",
   "id": "a60706d3-ba22-4aed-89e8-3f718a10721a",
   "metadata": {},
   "source": [
    "### Batching"
   ]
  },
  {
   "cell_type": "code",
   "execution_count": 46,
   "id": "6ca762a9-2cc6-4536-b925-9f7ae595d257",
   "metadata": {},
   "outputs": [],
   "source": [
    "def process_gpt_responses(gpt_responses):\n",
    "    all_processed_data = []\n",
    "    for response in gpt_responses:\n",
    "        # Clean and parse each response\n",
    "        cleaned_data = response.replace(\"'\", '\"').replace(\"\\n\", \"\").replace(\"\\t\", \"\")\n",
    "        try:\n",
    "            recipes = json.loads(cleaned_data)\n",
    "            processed_data = [{'name': recipe['name'], 'ingredients': recipe['ingredients']} for recipe in recipes]\n",
    "            all_processed_data.extend(processed_data)\n",
    "        except json.JSONDecodeError as e:\n",
    "            print(\"Error decoding JSON:\", e)\n",
    "    \n",
    "    return all_processed_data\n"
   ]
  },
  {
   "cell_type": "code",
   "execution_count": 43,
   "id": "81b84cc3-6b53-4eb0-b042-15622d9e5819",
   "metadata": {},
   "outputs": [],
   "source": [
    "def process_pipeline(gpt_responses, vectorizer, model):\n",
    "    # Process all GPT responses and gather all recipes into a single DataFrame\n",
    "    processed_responses = process_gpt_responses(gpt_responses)\n",
    "    df = pd.DataFrame(processed_responses)\n",
    "    test_df = preprocess_df(df)\n",
    "    test = test_df['ingredients']\n",
    "    test_transformed = vectorizer.transform(test)\n",
    "    prediction = model.predict(test_transformed)\n",
    "    return prediction\n"
   ]
  },
  {
   "cell_type": "code",
   "execution_count": 58,
   "id": "186da54a-d031-4cc3-bc3d-ed1d46f7fc10",
   "metadata": {},
   "outputs": [],
   "source": [
    "def save_responses_to_file(responses, filename=\"responses.json\"):\n",
    "\n",
    "    with open(filename, \"w\", encoding='utf-8') as f:\n",
    "        json.dump(responses, f, ensure_ascii=False, indent=4)"
   ]
  },
  {
   "cell_type": "code",
   "execution_count": 59,
   "id": "9a241239-3cab-48bf-8f82-83d4b09e0e51",
   "metadata": {},
   "outputs": [],
   "source": [
    "def load_responses_from_file(filename=\"responses.json\"):\n",
    "\n",
    "    with open(filename, \"r\", encoding='utf-8') as f:\n",
    "        return json.load(f)"
   ]
  },
  {
   "cell_type": "markdown",
   "id": "582028c2-0183-4a30-8472-fe4ea3bc901a",
   "metadata": {},
   "source": [
    "#### Chinese"
   ]
  },
  {
   "cell_type": "code",
   "execution_count": 51,
   "id": "d9dee52c-a870-4a04-8e1c-597a33bbd72e",
   "metadata": {},
   "outputs": [
    {
     "name": "stdout",
     "output_type": "stream",
     "text": [
      "[{'名字': '烤鲑鱼与蔬菜',\n",
      "  '成分': ['鲑鱼', '橄榄油', '盐', '黑胡椒', '柠檬汁', '西蓝花', '胡萝卜', '椰菜花']},\n",
      " {'名字': '番茄基诺亚沙拉',\n",
      "  '成分': ['基诺亚', '番茄', '黄瓜', '红洋葱', '橄榄油', '柠檬汁', '薄荷', '含盐']},\n",
      " {'名字': '甜菜根和羊奶酪沙拉',\n",
      "  '成分': ['甜菜根', '羊奶酪', '菠菜', '核桃', '橄榄油', '苹果醋']},\n",
      " {'名字': '鸡胸肉烤胚芽',\n",
      "  '成分': ['鸡胸肉', '麦胚芽', '椰菜', '橄榄油', '盐', '黑胡椒']},\n",
      " {'名字': '蒸豆腐与蘑菇',\n",
      "  '成分': ['豆腐', '新鲜蘑菇', '葱', '酱油', '芝麻油', '姜']},\n",
      " {'名字': '土豆泥',\n",
      "  '成分': ['土豆', '橄榄油', '蒜', '盐', '黑胡椒', '牛奶']},\n",
      " {'名字': '素食黄瓜卷',\n",
      "  '成分': ['黄瓜', '胡萝卜', '甜椒', '紫甘蓝', '鳄梨', '姜汁']},\n",
      " {'名字': '西班牙番茄面',\n",
      "  '成分': ['西红柿', '全麦意大利面', '大蒜', '橄榄油', '罗勒', '帕马森芝士']},\n",
      " {'名字': '奇亚籽布丁',\n",
      "  '成分': ['奇亚籽', '椰奶', '枫糖浆', '香草精', '混合浆果']},\n",
      " {'名字': '绿色蔬菜汤',\n",
      "  '成分': ['菠菜', '西蓝花', '洋葱', '大蒜', '鸡肉汤', '椰奶', '盐', '黑胡椒']}]\n",
      "\n",
      "========================================next call\n",
      "[{'名字': '鳄梨鸡肉沙拉',\n",
      "  '成分': ['鳄梨', '熟鸡胸肉', '橄榄油', '柠檬汁', '罗勒叶', '松子', '樱桃番茄', '黑橄榄', '盐', '胡椒粉']},\n",
      " {'名字': '藜麦甜菜根汉堡',\n",
      "  '成分': ['藜麦', '甜菜根', '全麦面包屑', '鸡蛋', '洋葱', '大蒜', '莳萝', '盐', '黑胡椒粉', '油']},\n",
      " {'名字': '土豆泥燕麦粥',\n",
      "  '成分': ['土豆', '燕麦', '牛奶', '盐', '黑胡椒粉', '黄油', '香葱']},\n",
      " {'名字': '西葫芦意面',\n",
      "  '成分': ['西葫芦', '橄榄油', '大蒜', '黑胡椒粉', '盐', '樱桃番茄', '帕尔马干酪', '罗勒叶']},\n",
      " {'名字': '素食豆腐炒饭',\n",
      "  '成分': ['豆腐', '大米', '青豆', '胡萝卜', '洋葱', '大蒜', '酱油', '芝麻油', '葱']},\n",
      " {'名字': '南瓜汤',\n",
      "  '成分': ['南瓜', '洋葱', '鸡汤', '椰奶', '盐', '炒南瓜子', '黑胡椒粉', '黄油']},\n",
      " {'名字': '甜椒蔬菜炒鸡',\n",
      "  '成分': ['鸡胸肉', '甜椒', '洋葱', '大蒜', '橄榄油', '酱油', '盐', '黑胡椒粉']},\n",
      " {'名字': '青豆虾仁炒饭',\n",
      "  '成分': ['虾仁', '青豆', '米饭', '葱', '鸡蛋', '酱油', '橄榄油', '盐']},\n",
      " {'名字': '番茄鳕鱼烤盘',\n",
      "  '成分': ['鳕鱼', '樱桃番茄', '橄榄油', '红酒醋', '大蒜', '盐', '黑胡椒粉', '罗勒叶']},\n",
      " {'名字': '甘蓝柠檬沙拉',\n",
      "  '成分': ['甘蓝', '柠檬汁', '橄榄油', '蒜末', '帕尔马干酪', '杏仁片', '盐', '黑胡椒粉']}]\n",
      "\n",
      "========================================next call\n"
     ]
    }
   ],
   "source": [
    "responses_chn_2runs = call_openai_api(user_prompt_chn, system_prompt_chn, n_runs=2)"
   ]
  },
  {
   "cell_type": "code",
   "execution_count": 60,
   "id": "a4be9c6a-e1f4-4ded-aadc-e8df59f3361b",
   "metadata": {},
   "outputs": [],
   "source": [
    "save_responses_to_file(responses_chn_5runs, \"responses_chn_2runs.json\")"
   ]
  },
  {
   "cell_type": "code",
   "execution_count": 64,
   "id": "d7d095ed-543d-4238-b3b8-ab4fa8064694",
   "metadata": {},
   "outputs": [],
   "source": [
    "loaded_responses = load_responses_from_file(\"responses_chn_2runs.json\")"
   ]
  },
  {
   "cell_type": "code",
   "execution_count": 65,
   "id": "32145426-a1c6-462d-9bd1-64716e2388b8",
   "metadata": {
    "scrolled": true
   },
   "outputs": [
    {
     "data": {
      "text/plain": [
       "[\"[{'name': 'grilled salmon and vegetables',\\n  'ingredients': ['salmon', 'olive oil', 'lemon juice', 'garlic', 'salt', 'black pepper', 'broccoli', 'red pepper', 'purple onion']},\\n {'name': 'beetroot salad',\\n  'ingredients': ['beetroot', 'mixed leafy greens', 'feta cheese', 'walnuts', 'olive oil', 'red wine vinegar', 'honey', 'salt', 'black pepper']},\\n {'name': 'quinoa and black bean soup',\\n  'ingredients': ['quinoa', 'black beans', 'tomato', 'onion', 'garlic', 'vegetable stock', 'paprika', 'cumin', 'coriander']},\\n {'name': 'chicken breast stir-fried with vegetables',\\n  'ingredients': ['chicken breast', 'garlic', 'broccoli', 'carrot', 'red pepper', 'olive oil', 'soy sauce', 'ginger', 'black pepper']},\\n {'name': 'homemade yogurt',\\n  'ingredients': ['milk', 'active yogurt bacteria']},\\n {'name': 'mung bean salad',\\n  'ingredients': ['mung bean', 'cucumber', 'tomato', 'onion', 'olive oil', 'apple cider vinegar', 'honey', 'mustard', 'salt', 'black pepper']},\\n {'name': 'oatmeal banana muffins',\\n  'ingredients': ['oats', 'banana', 'egg', 'milk', 'cinnamon', 'baking powder', 'honey']},\\n {'name': 'tomato lentil stew',\\n  'ingredients': ['lentil', 'tomato', 'onion', 'garlic', 'olive oil', 'curry powder', 'salt', 'water']},\\n {'name': 'vegetarian pizza',\\n  'ingredients': ['whole-wheat pizza base', 'tomato sauce', 'mozzarella', 'zucchini', 'colored pepper', 'onion', 'mushroom', 'olive']},\\n {'name': 'avocado soup',\\n  'ingredients': ['avocado', 'chicken broth', 'lemon juice', 'onion', 'garlic', 'olive oil', 'salt', 'chili flakes']}]\",\n",
       " \"[{'name': 'avocado salad',\\n  'ingredients': ['avocado', 'tomato', 'cucumber', 'red onion', 'olive oil', 'lemon juice', 'black pepper', 'salt']},\\n {'name': 'pumpkin soup',\\n  'ingredients': ['pumpkin', 'onion', 'garlic cloves', 'coconut milk', 'ginger', 'chicken stock', 'olive oil', 'salt', 'black pepper']},\\n {'name': 'quinoa and black bean rice',\\n  'ingredients': ['quinoa', 'black beans', 'corn', 'tomato', 'green pepper', 'onion', 'garlic', 'chicken', 'orange juice', 'cilantro', 'salt' , 'black pepper']},\\n {'name': 'grilled salmon',\\n  'ingredients': ['salmon', 'olive oil', 'lemon juice', 'garlic', 'rosemary', 'salt', 'black pepper']},\\n {'name': 'beetroot and feta salad',\\n  'ingredients': ['beetroot', 'feta cheese', 'walnuts', 'fresh spinach', 'olive oil', 'apple cider vinegar', 'honey', 'salt', 'black pepper']},\\n {'name': 'grilled vegetables',\\n  'ingredients': ['bell pepper', 'broccoli', 'onion', 'carrot', 'olive oil', 'italian spice', 'salt', 'black pepper']},\\n {'name': 'potato pea curry',\\n  'ingredients': ['potatoes', 'green peas', 'onions', 'garlic', 'ginger', 'coconut milk', 'curry powder', 'chili powder', 'olive oil', 'salt'] },\\n {'name': 'tofu stir-fry',\\n  'ingredients': ['tofu', 'green pepper', 'carrot', 'onion', 'garlic', 'ginger', 'soy sauce', 'sesame oil', 'honey']},\\n {'name': 'green vegetable soup',\\n  'ingredients': ['broccoli', 'spinach', 'onion', 'garlic', 'chicken', 'chicken stock', 'olive oil']},\\n {'name': 'fruit yogurt',\\n  'ingredients': ['greek yogurt', 'blueberry', 'strawberry', 'blackberry', 'honey', 'almond']}]\",\n",
       " \"[{'name': 'green salad',\\n  'ingredients': ['lettuce', 'spinach', 'avocado', 'cherry tomato', 'cucumber', 'olive oil', 'lemon juice', 'salt', 'black pepper']},\\n {'name': 'steamed salmon',\\n  'ingredients': ['salmon fillet', 'ginger', 'garlic', 'green onion', 'soy sauce', 'rice wine', 'sesame oil', 'white sesame']},\\n {'name': 'chickpea salad',\\n  'ingredients': ['chickpeas', 'cucumber', 'red onion', 'cherry tomatoes', 'olive oil', 'lemon juice', 'mint', 'feta', 'salt', ' black pepper']},\\n {'name': 'tomato oatmeal',\\n  'ingredients': ['oats', 'fresh tomato', 'spinach', 'salt', 'black pepper', 'water']},\\n {'name': 'quinoa and black bean soup',\\n  'ingredients': ['quinoa', 'black beans', 'onion', 'garlic', 'pepper', 'tomato', 'cinnamon', 'coriander', 'water', 'olive oil']},\\n {'name': 'chicken breast stir-fried with vegetables',\\n  'ingredients': ['chicken breast', 'broccoli', 'red pepper', 'yellow pepper', 'onion', 'garlic', 'soy sauce', 'sesame oil']},\\n {'name': 'sweet potato black bean taco',\\n  'ingredients': ['sweet potatoes', 'black beans', 'avocado', 'tortillas', 'lettuce', 'tomato', 'pepper', 'onion', 'cilantro', 'sour cream']} ,\\n {'name': 'low-fat vegetarian pizza',\\n  'ingredients': ['whole-wheat pizza base', 'tomato sauce', 'green pepper', 'onion', 'mushroom', 'low-fat cheese', 'olive', 'spinach']},\\n {'name': 'stir-fried vegetables with tofu',\\n  'ingredients': ['tofu', 'chinese cabbage', 'ginger', 'garlic slices', 'chili', 'soy sauce', 'sesame oil']},\\n {'name': 'cream pumpkin soup',\\n  'ingredients': ['pumpkin', 'onion', 'garlic', 'plant-based cream', 'vegetable stock', 'cinnamon', 'crushed nuts']}\\n]\",\n",
       " \"[{'name': 'vegetable soup',\\n  'ingredients': ['carrot', 'celery', 'onion', 'garlic', 'tomato', 'broccoli', 'fresh coriander', 'vegetable oil', 'salt', 'pepper']} ,\\n {'name': 'chickpea salad',\\n  'ingredients': ['chickpeas', 'tomatoes', 'cucumber', 'red onion', 'olive oil', 'lemon juice', 'salt', 'black pepper', 'fresh parsley']} ,\\n {'name': 'grilled salmon and vegetables',\\n  'ingredients': ['salmon', 'olive oil', 'lemon juice', 'rosemary', 'potato', 'carrot', 'broccoli', 'salt', 'black pepper']},\\n {'name': 'nut oatmeal',\\n  'ingredients': ['oats', 'almond milk', 'walnuts', 'almonds', 'honey', 'cinnamon', 'vanilla extract', 'fresh berries']},\\n {'name': 'sweet potato tofu fried rice',\\n  'ingredients': ['brown rice', 'tofu', 'sweet potato', 'carrot', 'green beans', 'onion', 'garlic', 'soy sauce', 'sesame oil']},\\n {'name': 'vegetable tofu soup',\\n  'ingredients': ['tofu', 'onion', 'carrot', 'celery', 'spinach', 'garlic', 'ginger', 'vegetable stock', 'soy sauce', 'salt', 'pepper ']},\\n {'name': 'mediterranean grilled vegetables',\\n  'ingredients': ['eggplant', 'strawberry', 'red pepper', 'yellow pepper', 'onion', 'olive oil', 'vinegar', 'garlic', 'salt', 'parsley' ']},\\n {'name': 'fried tofu with green vegetables',\\n  'ingredients': ['tofu', 'broccoli', 'spinach', 'mung bean sprouts', 'garlic', 'ginger', 'soy sauce', 'peanut oil', 'chili flakes']},\\n {'name': 'tomato blueberry salad',\\n  'ingredients': ['tomato', 'blueberry', 'red onion', 'kale', 'white vinegar', 'honey', 'olive oil', 'salt', 'black pepper']},\\n {'name': 'banana green smoothie',\\n  'ingredients': ['banana', 'spinach', 'almond milk', 'yoghurt', 'honey', 'vanilla extract']}]\",\n",
       " \"[{'name': 'chickpea salad',\\n  'ingredients': ['chickpeas', 'little tomatoes', 'cucumber', 'red onion', 'olive oil', 'lemon juice', 'salt', 'black pepper', 'fresh parsley']} ,\\n {'name': 'roasted pumpkin soup',\\n  'ingredients': ['pumpkin', 'onion', 'garlic', 'coconut milk', 'ginger', 'vegetable broth', 'olive oil', 'salt', 'black pepper']},\\n {'name': 'seaweed rice',\\n  'ingredients': ['brown rice', 'seaweed', 'cucumber', 'carrot', 'avocado', 'avocado', 'sesame', 'soy sauce', 'korean hot sauce']},\\n {'name': 'vegetarian corn burger',\\n  'ingredients': ['tortillas', 'black beans', 'onions', 'bell peppers', 'avocado', 'tomato', 'lettuce', 'avocado', 'hot sauce']},\\n {'name': 'tomato basil pasta',\\n  'ingredients': ['whole wheat pasta', 'tomato', 'basil', 'garlic', 'olive oil', 'salt', 'black pepper', 'parmesan cheese']},\\n {'name': 'corn chili',\\n  'ingredients': ['corn', 'kidney beans', 'tomato', 'chili pepper', 'red onion', 'garlic', 'cumin', 'chocolate', 'salt', 'black pepper']} ,\\n {'name': 'quinoa tabbouleh',\\n  'ingredients': ['quinoa', 'tomato', 'cucumber', 'red onion', 'lemon juice', 'olive oil', 'fresh parsley', 'salt', 'black pepper']},\\n {'name': 'pumpkin multigrain pancake',\\n  'ingredients': ['pumpkin puree', 'multigrain flour', 'plant milk', 'olive oil', 'maple syrup', 'baking soda', 'cinnamon', 'salt']},\\n {'name': 'apple health porridge',\\n  'ingredients': ['rice', 'apple', 'red date', 'longan', 'lotus seed', 'sugar', 'clear water']},\\n {'name': 'steamed cod',\\n  'ingredients': ['cod', 'ginger', 'green onion', 'soy sauce', 'sesame oil', 'salt', 'black pepper']}]\"]"
      ]
     },
     "execution_count": 65,
     "metadata": {},
     "output_type": "execute_result"
    }
   ],
   "source": [
    "translated_responses = translate_to_eng(loaded_responses)\n",
    "translated_responses"
   ]
  },
  {
   "cell_type": "code",
   "execution_count": 66,
   "id": "2195fbce-264b-4daa-9f7a-69068d88bf35",
   "metadata": {},
   "outputs": [
    {
     "name": "stdout",
     "output_type": "stream",
     "text": [
      "Error decoding JSON: Expecting ',' delimiter: line 1 column 1161 (char 1160)\n"
     ]
    },
    {
     "data": {
      "text/plain": [
       "array(['italian', 'greek', 'mexican', 'chinese', 'indian', 'southern_us',\n",
       "       'southern_us', 'indian', 'italian', 'mexican', 'greek', 'jamaican',\n",
       "       'mexican', 'italian', 'greek', 'italian', 'indian', 'chinese',\n",
       "       'italian', 'greek', 'greek', 'korean', 'greek', 'italian',\n",
       "       'mexican', 'chinese', 'mexican', 'italian', 'chinese', 'mexican',\n",
       "       'greek', 'brazilian', 'japanese', 'mexican', 'italian', 'mexican',\n",
       "       'greek', 'southern_us', 'chinese', 'japanese'], dtype=object)"
      ]
     },
     "execution_count": 66,
     "metadata": {},
     "output_type": "execute_result"
    }
   ],
   "source": [
    "y_pred_chn = process_pipeline(translated_responses, vectorizer, clf)\n",
    "y_pred_chn"
   ]
  },
  {
   "cell_type": "code",
   "execution_count": null,
   "id": "a50d43ae-e10a-4193-ad0d-adc9be3b7a7e",
   "metadata": {},
   "outputs": [],
   "source": []
  },
  {
   "cell_type": "code",
   "execution_count": null,
   "id": "95f3fc8d-072b-4178-af27-ae9c4cc1d72f",
   "metadata": {},
   "outputs": [],
   "source": []
  }
 ],
 "metadata": {
  "kernelspec": {
   "display_name": "Python 3 (ipykernel)",
   "language": "python",
   "name": "python3"
  },
  "language_info": {
   "codemirror_mode": {
    "name": "ipython",
    "version": 3
   },
   "file_extension": ".py",
   "mimetype": "text/x-python",
   "name": "python",
   "nbconvert_exporter": "python",
   "pygments_lexer": "ipython3",
   "version": "3.11.5"
  }
 },
 "nbformat": 4,
 "nbformat_minor": 5
}
