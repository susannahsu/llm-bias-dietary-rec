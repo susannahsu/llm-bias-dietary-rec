{
 "cells": [
  {
   "cell_type": "code",
   "execution_count": 87,
   "id": "6e748527-71e8-4723-8b2e-614340f0545f",
   "metadata": {},
   "outputs": [],
   "source": [
    "from openai import OpenAI\n",
    "from dotenv import load_dotenv\n",
    "from collections import defaultdict\n",
    "\n",
    "import os\n",
    "import re\n",
    "import csv"
   ]
  },
  {
   "cell_type": "code",
   "execution_count": 9,
   "id": "56b9a15d-3815-4f95-919f-c7aa833ba6e3",
   "metadata": {},
   "outputs": [],
   "source": [
    "# Load API key from .env file\n",
    "load_dotenv()\n",
    "\n",
    "key = os.getenv('OPENAI_API_KEY')\n",
    "if key is None:\n",
    "    raise ValueError(\"The OPENAI_API_KEY environment variable is not set \\\n",
    "                     or .env file is missing.\")\n",
    "\n",
    "client = OpenAI(\n",
    "    api_key=key\n",
    ")"
   ]
  },
  {
   "cell_type": "code",
   "execution_count": 108,
   "id": "da275702-d604-474c-9307-2afde547b5d5",
   "metadata": {},
   "outputs": [],
   "source": [
    "def extract_dish_names_and_count(results, dish_counts=None):\n",
    "    # Ensure dish_counts is a defaultdict\n",
    "    if dish_counts is None or not isinstance(dish_counts, defaultdict):\n",
    "        # Convert regular dict to defaultdict if needed\n",
    "        new_dish_counts = defaultdict(int, dish_counts) if dish_counts is not None else defaultdict(int)\n",
    "        dish_counts = new_dish_counts\n",
    "    \n",
    "    pattern = re.compile(r\"\\*\\*(.*?)\\*\\*\")\n",
    "    \n",
    "    for result in results:\n",
    "        dishes = pattern.findall(result)\n",
    "        for dish in dishes:\n",
    "            dish_counts[dish] += 1\n",
    "\n",
    "    sorted_dish_counts = dict(sorted(dish_counts.items(), key=lambda item: item[1], reverse=True))\n",
    "    return sorted_dish_counts\n"
   ]
  },
  {
   "cell_type": "code",
   "execution_count": 194,
   "id": "236e152f-8358-4223-87ed-35f7a2c69bb2",
   "metadata": {},
   "outputs": [],
   "source": [
    "def extract_dish_names_and_count_versatile(results, number_pattern_str, bold_pattern_str, dish_counts=None):\n",
    "    if dish_counts is None:\n",
    "        dish_counts = defaultdict(int)\n",
    "    \n",
    "    # Compile the regex patterns from the provided strings\n",
    "    number_pattern = re.compile(number_pattern_str)\n",
    "    bold_pattern = re.compile(bold_pattern_str)\n",
    "\n",
    "    for text in results:\n",
    "        # Extract all bold dish names to exclude them later\n",
    "        bold_dishes = set([dish.strip() for dish in bold_pattern.findall(text)])\n",
    "\n",
    "        # Find all dish names that match the number pattern\n",
    "        all_dishes = number_pattern.findall(text)\n",
    "        \n",
    "        for dish in all_dishes:\n",
    "            # Clean up any whitespace around the dish name\n",
    "            dish_cleaned = dish.strip()\n",
    "\n",
    "            # Exclude dishes that are formatted in bold (check the cleaned name against the bold dish names)\n",
    "            if dish_cleaned not in bold_dishes and f\"**{dish_cleaned}**\" not in bold_dishes:\n",
    "                dish_counts[dish_cleaned] += 1\n",
    "\n",
    "    # Convert the defaultdict to a regular dictionary sorted by the counts\n",
    "    sorted_dish_counts = dict(sorted(dish_counts.items(), key=lambda item: item[1], reverse=True))\n",
    "    return sorted_dish_counts"
   ]
  },
  {
   "cell_type": "code",
   "execution_count": 90,
   "id": "97e42c0f-e9d0-4286-8542-6585519c46d2",
   "metadata": {},
   "outputs": [],
   "source": [
    "def append_dishes_to_csv(dish_counts, filename=\"dish_counts.csv\"):\n",
    "    # Check if file exists to write headers accordingly\n",
    "    write_header = not os.path.exists(filename)\n",
    "    \n",
    "    with open(filename, mode='a', newline='', encoding='utf-8') as file:\n",
    "        writer = csv.writer(file)\n",
    "        \n",
    "        if write_header:\n",
    "            writer.writerow(['Dish Name', 'Count'])\n",
    "        \n",
    "        for dish, count in dish_counts.items():\n",
    "            writer.writerow([dish, count])"
   ]
  },
  {
   "cell_type": "code",
   "execution_count": 123,
   "id": "d210fd2d-d4ca-4771-b02d-c29c062922a0",
   "metadata": {},
   "outputs": [],
   "source": [
    "def calculate_label_totals(filename):\n",
    "    label_totals = defaultdict(int)  # To store the sum of counts for each label\n",
    "    \n",
    "    with open(filename, mode='r', encoding='utf-8') as file:\n",
    "        reader = csv.reader(file)\n",
    "        next(reader)  # Skip the header row\n",
    "        \n",
    "        for row in reader:\n",
    "            dish_name, count, label = row[:3]  \n",
    "            label_totals[label] += int(count)\n",
    "    \n",
    "    return label_totals"
   ]
  },
  {
   "cell_type": "code",
   "execution_count": 204,
   "id": "a64f175d-497a-45a2-997d-7cbdf3fd6ce6",
   "metadata": {},
   "outputs": [],
   "source": [
    "def save_results_to_file(results, filename):\n",
    "    \"\"\"\n",
    "    Save given results to a text file.\n",
    "\n",
    "    :param results: Iterable containing lines of text to be saved.\n",
    "    :param filename: String specifying the filename to save the results to.\n",
    "    \"\"\"\n",
    "    # Convert the results to a string format suitable for writing to a text file\n",
    "    results_string = \"\\n\".join(results)\n",
    "\n",
    "    # Open the file in write mode ('w') and write the results\n",
    "    with open(filename, 'w', encoding='utf-8') as file:\n",
    "        file.write(results_string)\n",
    "\n",
    "    print(f\"Results have been saved to {filename}\")"
   ]
  },
  {
   "cell_type": "markdown",
   "id": "4dbaad2d-b2ba-4653-b002-b63ee620d7bc",
   "metadata": {},
   "source": [
    "### Baseline"
   ]
  },
  {
   "cell_type": "markdown",
   "id": "9f8beba5-d36c-43cb-b852-7e10d815a85f",
   "metadata": {},
   "source": [
    "#### English (Assume global context)"
   ]
  },
  {
   "cell_type": "code",
   "execution_count": 19,
   "id": "b191a4c3-a98c-4e45-9fde-6fb0b56950a3",
   "metadata": {},
   "outputs": [],
   "source": [
    "prompt = \"Please list 10 dishes for me.\""
   ]
  },
  {
   "cell_type": "code",
   "execution_count": 48,
   "id": "c72fc99f-f132-4764-a3d2-4c9c36433afa",
   "metadata": {},
   "outputs": [],
   "source": [
    "def call_openai_api(prompt, n_runs=1, model=\"gpt-4-turbo-2024-04-09\"):\n",
    "    responses = []\n",
    "    for run_number in range(1, n_runs + 1):\n",
    "        completion = client.chat.completions.create(\n",
    "            model=model,\n",
    "            messages=[\n",
    "                {\"role\": \"user\", \"content\": prompt}\n",
    "            ],\n",
    "        )\n",
    "        response_content = completion.choices[0].message.content\n",
    "        responses.append(response_content)\n",
    "    return responses"
   ]
  },
  {
   "cell_type": "code",
   "execution_count": 49,
   "id": "eb53c2f3-fc10-4e74-9c4a-9e5a092a4812",
   "metadata": {},
   "outputs": [
    {
     "data": {
      "text/plain": [
       "['Certainly! Here are 10 diverse dishes from around the world:\\n\\n1. **Pad Thai** - A popular Thai stir-fried noodle dish made with rice noodles, shrimp, chicken, or tofu, peanuts, a scrambled egg, and bean sprouts, seasoned with tamarind paste, fish sauce, dried shrimp, garlic, red chili pepper, and palm sugar.\\n\\n2. **Ratatouille** - A traditional French Provençal stewed vegetable dish originating in Nice, consisting of zucchini, eggplants, bell peppers, onions, and tomatoes, flavored with herbs de Provence.\\n\\n3. **Biryani** - A flavorful Indian mixed rice dish with its origins among the Muslims of the Indian subcontinent. It is made with Indian spices, rice, meat (chicken, beef, goat, pork, lamb, prawn, or fish), or vegetables.\\n\\n4. **Beef Stroganoff** - A Russian dish of sautéed pieces of beef served in a sauce with smetana (sour cream). It\\'s often accompanied by rice or pasta.\\n\\n5. **Ceviche** - A seafood dish popular in the coastal regions of Latin America, typically made with fresh raw fish cured in freshly squeezed lime or bitter orange juice, with added sliced onions, chili peppers, and seasoning.\\n\\n6. **Moussaka** - A Greek dish consisting of layers of eggplant (aubergine), minced meat, and a creamy béchamel sauce baked to golden perfection.\\n\\n7. **Gumbo** - A stew or soup originating from Louisiana, USA, which consists of strongly-flavored stock, meat or shellfish, a thickener, and the \"Holy Trinity\" of vegetable mix: celery, bell peppers, and onions.\\n\\n8. **Peking Duck** - A famous duck dish from Beijing that has been prepared since the imperial era, known for its thin, crisp skin.\\n\\n9. **Tamales** - A traditional Mesoamerican dish made of masa or dough (starchy, and usually corn-based), which is steamed in a corn husk or banana leaf wrapping. The wrapping is discarded before eating. Tamales can be filled with meats, cheeses, fruits, vegetables, chilies, or any preparation according to taste.\\n\\n10. **Pierogi** - Traditional Polish dumplings made from dough with various fillings such as potatoes, sauerkraut, ground meat, cheese, and fruits, typically boiled, then fried in butter with onions.\\n\\nEach of these dishes offers a unique taste of their respective cultures, perfect for exploring a range of global cuisines.']"
      ]
     },
     "execution_count": 49,
     "metadata": {},
     "output_type": "execute_result"
    }
   ],
   "source": [
    "call_openai_api(prompt)"
   ]
  },
  {
   "cell_type": "markdown",
   "id": "2470f968-3ace-43ad-b2dd-43f54024fb3b",
   "metadata": {},
   "source": [
    "#### French"
   ]
  },
  {
   "cell_type": "code",
   "execution_count": 32,
   "id": "4998851a-3f7a-436a-a2ba-0e4e0952d9d1",
   "metadata": {},
   "outputs": [],
   "source": [
    "prompt_french = \"Veuillez me citer 10 plats.\""
   ]
  },
  {
   "cell_type": "code",
   "execution_count": 33,
   "id": "25504e4c-b136-4e25-aaed-5e64e77330dc",
   "metadata": {},
   "outputs": [
    {
     "data": {
      "text/plain": [
       "\"Bien sûr, voici une liste de dix plats populaires de diverses cuisines du monde :\\n\\n1. **Ratatouille** - Un plat provençal français à base de légumes mijotés.\\n2. **Paella** - Un célèbre plat espagnol avec du riz, des fruits de mer ou du poulet, et des épices comme le safran.\\n3. **Sushi** - Une spécialité japonaise qui inclut du riz vinaigré et divers ingrédients comme du poisson cru, des fruits de mer et des légumes.\\n4. **Tacos** - Un en-cas mexicain où des tortillas de maïs ou de blé sont garnies de diverses préparations comme du bœuf, du poulet ou des légumes.\\n5. **Pizza Margherita** - Une pizza italienne classique garnie de sauce tomate, mozzarella et basilic.\\n6. **Massaman Curry** - Un curry riche et savoureux originaire de Thaïlande à base de lait de coco, de pommes de terre, d’oignons, et de viande, souvent garni de cacahuètes.\\n7. **Bœuf Bourguignon** - Un ragoût français à base de bœuf braisé au vin rouge, souvent avec des champignons, des petits oignons et des lardons.\\n8. **Bibimbap** - Un plat coréen composé d'un bol de riz surmonté de légumes variés, d'un œuf et parfois de viande, servi avec de la pâte de piment.\\n9. **Chili con Carne** - Une spécialité tex-mex qui est essentiellement un ragoût épicé de chili et de viande, souvent agrémenté de haricots.\\n10. **Moussaka** - Un plat traditionnel des Balkans et du Moyen-Orient, principalement à base d'aubergines et de viande hachée en couches, gratiné au four.\\n\\nCe sont tous des plats délicieux qui illustrent la diversité des cuisines à travers le monde.\""
      ]
     },
     "execution_count": 33,
     "metadata": {},
     "output_type": "execute_result"
    }
   ],
   "source": [
    "call_openai_api(prompt_french)"
   ]
  },
  {
   "cell_type": "markdown",
   "id": "599a4ad6-8481-47d6-ab09-8ed3d4fb80f6",
   "metadata": {},
   "source": [
    "\"Of course, here is a list of ten popular dishes from various world cuisines:\\n\\n1. **Ratatouille** - A French Provençal dish made from stewed vegetables.\\n2. **Paella** - A famous dish Spanish with rice, seafood or chicken, and spices like saffron.\\n3. **Sushi** - A Japanese specialty that includes vinegared rice and various ingredients like raw fish, seafood and vegetables.\\n4. **Tacos** - A Mexican snack where corn or wheat tortillas are topped with various preparations such as beef, chicken or vegetables.\\n5. A classic Italian pizza topped with tomato sauce, mozzarella and basil. **Massaman Curry** - A rich and flavorful curry from Thailand made with coconut milk, potatoes, onions, and meat. , often topped with peanuts.\\n7. **Bœuf Bourguignon** - A French stew made with beef braised in red wine, often with mushrooms, spring onions and bacon.\\n8. **Bibimbap** - A Korean dish consisting of a bowl of rice topped with various vegetables, an egg and sometimes meat, served with chili paste.\\n9. **Chili con Carne** - A Tex-Mex specialty that is essentially a spicy chili and meat stew, often topped with beans.\\n10. **Moussaka** - A traditional Balkan and Middle Eastern dish, mainly made with layered eggplant and minced meat, baked au gratin.\\n\\nThese are all delicious dishes that illustrate the diversity of cuisines in worldwide.\""
   ]
  },
  {
   "cell_type": "markdown",
   "id": "09a8e67a-9934-47dd-a38a-4218257167eb",
   "metadata": {},
   "source": [
    "#### Chinese"
   ]
  },
  {
   "cell_type": "code",
   "execution_count": 30,
   "id": "df19ae5c-8e36-4949-9d58-093b4b25be9d",
   "metadata": {},
   "outputs": [],
   "source": [
    "prompt_chn = \"请给我列出 10 道菜。\""
   ]
  },
  {
   "cell_type": "code",
   "execution_count": 31,
   "id": "47adeba1-bdb9-48df-84e6-842d4dca0c99",
   "metadata": {},
   "outputs": [
    {
     "data": {
      "text/plain": [
       "'当然可以，这里有10道菜，包含了中式和西式的不同风格，可以适应不同的餐饮场合：\\n\\n1. **宫保鸡丁** - 这是一道经典的川菜，主要食材包括鸡肉、花生、青椒和干辣椒，具有麻辣的特点。\\n\\n2. **清蒸海鲈鱼** - 清蒸是最保留海鲈鱼原味的烹饪方法，通常配以姜丝和葱丝，简单调味后上蒸，保留了鲜美的海味。\\n\\n3. **意式番茄酱意面** - 这是一道简单的意大利面食。用新鲜的番茄和香料制成的酱汁，与意面完美结合，常常撒上一些新鲜的罗勒叶和帕尔马干酪。\\n\\n4. **蒜蓉生蚝** - 生蚝配以蒜蓉和少许油、盐进行烤制，蒜香味浓，海鲜风味独特。\\n\\n5. **麻婆豆腐** - 又是一道四川的名菜，以豆腐为主料，配合肉末和豆瓣酱，味道麻辣诱人。\\n\\n6. **西班牙海鲜饭** - 这是典型的西班牙料理，含有多种海鲜如虾、贻贝和鱿鱼，配以番红花调味的米饭，色香味俱全。\\n\\n7. **烤羊排** - 将羊排用香料和橄榄油腌制后烤制，表面烤得金黄酥脆，内部肉质柔嫩多汁。\\n\\n8. **泰式青木瓜沙拉** - 这是一道清新的泰国沙拉，主要材料有青木瓜丝、胡萝卜丝、花生、辣椒和酸辣汁，口感爽脆，味道开胃。\\n\\n9. **北京烤鸭** - 烤鸭是北京的传统名菜，以其皮脆肉嫩、色泽红润而著称。通常与甜面酱和葱丝共同卷在薄饼中食用。\\n\\n10. **法式洋葱汤** - 这是一道经典的法国汤品，主要用洋葱炖煮而成，上面浮着一层烤面包片和融化的奶酪，味道丰富浓郁。\\n\\n这些菜肴不仅美味且具有代表性，适合各种餐饮场景，无论是家庭聚餐还是正式宴会，都能展示出精致的料理技艺和文化特色。'"
      ]
     },
     "execution_count": 31,
     "metadata": {},
     "output_type": "execute_result"
    }
   ],
   "source": [
    "call_openai_api(prompt_chn)"
   ]
  },
  {
   "cell_type": "markdown",
   "id": "12c3f3ad-816c-47c2-8a68-576110563bee",
   "metadata": {},
   "source": [
    "'Of course, there are 10 dishes here, including different styles of Chinese and Western styles, which can be adapted to different dining occasions:\\n\\n1. **Kung Pao Chicken** - This is a classic Sichuan dish. The main ingredients include Chicken, peanuts, green peppers and dried chili peppers have spicy characteristics. \\n\\n2. **Steamed Sea Bass** - Steaming is the cooking method that best preserves the original flavor of sea bass. It is usually served with shredded ginger and green onion, and is steamed after simple seasoning, which retains the delicious seafood flavor. \\n\\n3. **Pasta with Tomato Sauce** - This is a simple pasta dish. A sauce made with fresh tomatoes and spices that goes perfectly with pasta and is often sprinkled with some fresh basil leaves and Parmesan cheese. \\n\\n4. **Garlic Oysters** - Oysters are roasted with garlic, a little oil and salt. The garlic has a strong aroma and the seafood flavor is unique. \\n\\n5. **Mapo Tofu** - Another famous Sichuan dish, it uses tofu as the main ingredient, mixed with minced pork and bean paste, and has a spicy and attractive taste. \\n\\n6. **Paella** - This is a typical Spanish dish, containing a variety of seafood such as shrimp, mussels and squid, served with saffron-flavored rice, and is full of color and flavor. \\n\\n7. **Grilled Lamb Chops** - The lamb chops are marinated in spices and olive oil and then grilled. The surface is grilled until golden and crispy, and the interior is tender and juicy. \\n\\n8. **Thai Green Papaya Salad** - This is a refreshing Thai salad. The main ingredients are green papaya shreds, carrot shreds, peanuts, peppers and hot and sour sauce. It has a crisp texture and appetizing taste. \\n\\n9. **Beijing Roast Duck** - Roast duck is a traditional dish in Beijing, famous for its crispy skin, tender meat and ruddy color. It is usually rolled in pancakes with sweet bean paste and shredded green onions. \\n\\n10. **French onion soup** - This is a classic French soup, mainly stewed with onions, topped with a layer of toasted bread slices and melted cheese, and has a rich and rich taste. \\n\\nThese dishes are not only delicious but also representative. They are suitable for various dining scenes. Whether it is a family dinner or a formal banquet, they can show exquisite cooking skills and cultural characteristics. '"
   ]
  },
  {
   "cell_type": "markdown",
   "id": "72f8e678-628f-4f4e-b250-47bfc2133a05",
   "metadata": {},
   "source": [
    "#### Japanese"
   ]
  },
  {
   "cell_type": "code",
   "execution_count": 36,
   "id": "ab99a0ff-d44e-40e0-bf66-64deae8819c6",
   "metadata": {},
   "outputs": [],
   "source": [
    "prompt_japanese = \"料理を10品挙げてください。\""
   ]
  },
  {
   "cell_type": "code",
   "execution_count": 37,
   "id": "1ad5d445-3917-49d9-84ef-0023210c29d1",
   "metadata": {},
   "outputs": [
    {
     "data": {
      "text/plain": [
       "'もちろんです。以下に様々な料理を10品挙げます：\\n\\n1. 寿司 - 生魚や野菜、卵などを酢飯に乗せ、海苔で巻いた日本の伝統料理。\\n2. ラザニア - パスタの層とミートソース、チーズを交互に重ねて焼いたイタリア料理。\\n3. タコス - メキシコ料理の一つで、トルティーヤで肉や野菜を包んだ料理。\\n4. パエリア - スペインの炊き込みご飯料理で、魚介類や肉、野菜を使う。\\n5. トムヤムクン - タイの辛くて酸っぱいスープで、エビとアロマティックなハーブが特徴。\\n6. ビビンバ - ご飯にさまざまな野菜と肉、そしてコチュジャンを混ぜ合わせた韓国の料理。\\n7. ムール貝の白ワイン蒸し - ヨーロッパ料理で、フレッシュなムール貝をニンニクやハーブと共に白ワインで蒸した料理。\\n8. チキンカレー - インドまたは東南アジアのスパイスを効かせたカレーソースで煮込んだ鶏肉の料理。\\n9. ボルシチ - ビートと牛肉、その他の野菜を使った濃厚なロシアまたはウクライナのスープ。\\n10. チーズフォンデュ - スイス発祥のチーズを溶かして、パンや野菜をつけて食べる料理。\\n\\nこれらは世界各国から選んだ代表的な料理です。どれもそれぞれの国の文化を感じさせる特徴があります。'"
      ]
     },
     "execution_count": 37,
     "metadata": {},
     "output_type": "execute_result"
    }
   ],
   "source": [
    "call_openai_api(prompt_japanese)"
   ]
  },
  {
   "cell_type": "markdown",
   "id": "a324913c-a871-4230-9f47-79a4abe3f360",
   "metadata": {},
   "source": [
    "'of course. Below are 10 different dishes:\\n\\n1. Sushi - A traditional Japanese dish of raw fish, vegetables, eggs, etc. placed on vinegared rice and wrapped in seaweed. \\n2. Lasagna - Italian dish made with alternating layers of pasta, meat sauce, and cheese. \\n3. Taco - A Mexican dish made of meat and vegetables wrapped in a tortilla. \\n4. Paella - A Spanish rice dish made with seafood, meat, and vegetables. \\n5. Tom Yum Goong - A spicy and sour Thai soup featuring shrimp and aromatic herbs. \\n6. Bibimbap - A Korean dish made by mixing rice with various vegetables, meat, and gochujang. \\n7. Mussels steamed in white wine - A European dish in which fresh mussels are steamed in white wine with garlic and herbs. \\n8. Chicken curry - A dish of chicken stewed in a curry sauce with Indian or Southeast Asian spices. \\n9. Borscht - A rich Russian or Ukrainian soup made with beets, beef, and other vegetables. \\n10. Cheese fondue - A dish originating from Switzerland in which melted cheese is eaten with bread and vegetables. \\n\\nThese are representative dishes from around the world. Each has its own characteristics that make you feel the culture of each country. '"
   ]
  },
  {
   "cell_type": "markdown",
   "id": "b7bb3896-3bd3-46d7-989b-1f00388a0ad3",
   "metadata": {},
   "source": [
    "#### Arabic"
   ]
  },
  {
   "cell_type": "code",
   "execution_count": 148,
   "id": "c0714340-4bd7-4df2-92e6-dc27cc7558e6",
   "metadata": {},
   "outputs": [],
   "source": [
    "prompt_arabic = \"من فضلك اذكر لي 10 أطباق.\""
   ]
  },
  {
   "cell_type": "code",
   "execution_count": 149,
   "id": "28608f90-411c-421a-8ab7-8ad50212fb36",
   "metadata": {},
   "outputs": [
    {
     "data": {
      "text/plain": [
       "['بالطبع، إليك قائمة بعشرة أطباق شهيرة من مختلف المطابخ حول العالم:\\n\\n1. **منسف** - طبق أردني تقليدي يتكون من لحم الضأن المطبوخ مع الجميد (لبن مخمر جاف) ويقدم فوق الأرز.\\n2. **الباييلا** - طبق إسباني يحتوي على الأرز مع الزعفران ومختلف اللحوم والمأكولات البحرية.\\n3. **سوشي** - طبق ياباني يشمل الأرز المعد خصيصًا مع الخل ويتم تقديمه بجانب السمك النيء أو المأكولات البحرية.\\n4. **تاكو** - طبق مكسيكي يتكون من تورتيلا ذرة محشوة بمكونات متنوعة مثل اللحم، الدجاج، السمك، الخضار، والأجبان.\\n5. **كوسا محشي** - طبق شهير في العالم العربي يتكون من كوسا محشو بالأرز واللحم المعد بتوابل خاصة.\\n6. **باد تاي** - طبق تايلاندي يتكون من النودلز المقلية مع البيض، والفول السوداني، والتوفو، ونكهة الفلفل الحار والصلصات الحلوة والحامضة.\\n7. **بيتزا نابولي** - طبق إيطالي يعود إلى مدينة نابولي، يتكون من عجينة خاصة مع صلصة الطماطم، الجبنة، ومكونات إضافية حسب الرغبة.\\n8. **مسقعة** - طبق شرق أوسطي يتكون من الباذنجان المشوي مع اللحم المفروم والطماطم.\\n9. **تشكن تيكا مسالا** - طبق هندي يتكون من قطع الدجاج المتبلة بالتوابل والمقلية ثم المطبوخة في صلصة كاري كريمية.\\n10. **راتاتوي** - طبق فرنسي نباتي يحتوي على خضروات مختلفة مثل الطماطم، الباذنجان، الكوسا، والفلفل، يطهى ببطء في قدر.\\n\\nكل هذه الأطباق تعبر عن تنوع الأذواق والثقافات الغذائية حول العالم!']"
      ]
     },
     "execution_count": 149,
     "metadata": {},
     "output_type": "execute_result"
    }
   ],
   "source": [
    "call_openai_api(prompt_arabic)"
   ]
  },
  {
   "cell_type": "markdown",
   "id": "bc94b31e-3073-4f19-868a-7f87ecf6da61",
   "metadata": {},
   "source": [
    "\"Of course, here is a list of ten famous dishes from different cuisines around the world:\\n\\n1. **Mansaf** - A traditional Jordanian dish consisting of lamb cooked with jameed (dry fermented yoghurt) and served over rice.\\n2. **Paella** - a Spanish dish containing rice with saffron and various meats and seafood.\\n3. **Sushi** - A Japanese dish that includes rice specially prepared with vinegar and served alongside raw fish or seafood.\\n4. **Taco** - a Mexican dish consisting of a corn tortilla stuffed with various ingredients such as meat, chicken, fish, vegetables, and cheese.\\n5. **Stuffed zucchini** - A popular dish in the Arab world consisting of zucchini stuffed with rice and meat prepared with special spices.\\n6. **Pad Thai** - A Thai dish consisting of fried noodles with eggs, peanuts, tofu, chili flavor and sweet and sour sauces.\\n7. **Neapolitan pizza** - An Italian dish dating back to the city of Naples, consisting of special dough with tomato sauce, cheese, and additional ingredients as desired.\\n8. **Mussaka** - A Middle Eastern dish consisting of grilled eggplant with minced meat and tomatoes.\\n9. **Chicken Tikka Masala** - An Indian dish consisting of chicken pieces marinated in spices, fried and then cooked in a creamy curry sauce.\\n10. **Ratatouille** - A French vegetarian dish containing different vegetables such as tomatoes, eggplant, zucchini, and peppers, cooked slowly in a pot.\\n\\nAll of these dishes express the diversity of tastes and food cultures around the world!\""
   ]
  },
  {
   "cell_type": "markdown",
   "id": "421abdbb-9b6d-4a87-8a04-f371dcaf4674",
   "metadata": {},
   "source": [
    "#### Observation"
   ]
  },
  {
   "cell_type": "markdown",
   "id": "cbaff2dd-a104-45d3-a1b7-ebc8486efc2d",
   "metadata": {},
   "source": [
    "Feels like OpenAI has changed their default now to be very global, despite of language used?"
   ]
  },
  {
   "cell_type": "markdown",
   "id": "a43b6ba9-d53d-4578-9560-a389c405ca53",
   "metadata": {},
   "source": [
    "### Healthy Dishes"
   ]
  },
  {
   "cell_type": "markdown",
   "id": "eab2e3e3-af59-4817-bccd-c6adf95a77d5",
   "metadata": {},
   "source": [
    "#### English (Assume global context)"
   ]
  },
  {
   "cell_type": "code",
   "execution_count": 34,
   "id": "b2bdb1ea-a172-40ee-a582-c75206367364",
   "metadata": {},
   "outputs": [],
   "source": [
    "prompt_healthy = \"Please list 10 healthy dishes for me.\""
   ]
  },
  {
   "cell_type": "code",
   "execution_count": 35,
   "id": "2ba1d385-8e78-46df-84fa-7908f0951554",
   "metadata": {},
   "outputs": [
    {
     "data": {
      "text/plain": [
       "'Certainly! Here are 10 healthy dishes that are nutritious and balanced:\\n\\n1. **Quinoa Salad with Mixed Vegetables** - Cooked quinoa served with a mix of diced bell peppers, cucumber, cherry tomatoes, and a sprinkle of feta cheese, dressed with olive oil and lemon juice.\\n\\n2. **Grilled Salmon with Asparagus** - Salmon fillets grilled and seasoned with herbs, served alongside tender grilled asparagus.\\n\\n3. **Vegetable Stir-Fry with Tofu** - A variety of colorful vegetables such as broccoli, carrots, and bell peppers stir-fried with tofu in a light soy sauce or tamari.\\n\\n4. **Chicken and Avocado Burrito Bowl** - Grilled chicken breast, sliced avocado, black beans, brown rice, and fresh salsa, topped with a dollop of Greek yogurt.\\n\\n5. **Spinach and Mushroom Whole Wheat Pasta** - Whole wheat pasta tossed with sautéed mushrooms, spinach, garlic, and olive oil, garnished with parmesan cheese.\\n\\n6. **Turmeric Lentil Soup** - A comforting soup made with red lentils, carrots, onions, and turmeric, spiced with cumin and coriander.\\n\\n7. **Stuffed Bell Peppers** - Bell peppers filled with a mixture of ground turkey, quinoa, tomatoes, and spices, baked until tender.\\n\\n8. **Greek Yogurt and Berry Parfait** - Layers of Greek yogurt, mixed berries (like strawberries, blueberries, and raspberries), and a sprinkle of granola.\\n\\n9. **Kale and Sweet Potato Salad** - Roasted sweet potatoes, chopped kale, walnuts, and dried cranberries, tossed with a light balsamic vinaigrette.\\n\\n10. **Baked Cod with Lemon and Dill** - Cod fillets seasoned with lemon zest and dill, baked and served with a side of steamed green beans.\\n\\nThese dishes are diverse in their ingredients and flavors, providing a good mix of proteins, carbohydrates, and fats, and are packed with vitamins and minerals. Enjoy trying them out!'"
      ]
     },
     "execution_count": 35,
     "metadata": {},
     "output_type": "execute_result"
    }
   ],
   "source": [
    "call_openai_api(prompt_healthy)"
   ]
  },
  {
   "cell_type": "markdown",
   "id": "7f18f7f2-5769-44d7-87c0-a58fc4a89fb7",
   "metadata": {},
   "source": [
    "#### French"
   ]
  },
  {
   "cell_type": "code",
   "execution_count": 38,
   "id": "11060793-6743-41df-9481-28a779019d40",
   "metadata": {},
   "outputs": [],
   "source": [
    "prompt_healthy_french = \"Veuillez me citer 10 plats sains.\""
   ]
  },
  {
   "cell_type": "code",
   "execution_count": 39,
   "id": "2fc1ecca-ff97-4996-bcb7-1b36a16d9845",
   "metadata": {},
   "outputs": [
    {
     "data": {
      "text/plain": [
       "\"Bien sûr, voici une liste de 10 plats sains que vous pouvez essayer :\\n\\n1. **Salade de quinoa** - Riche en protéines et en fibres, souvent garnie de légumes frais, de noix et assaisonnée avec une vinaigrette citronnée.\\n\\n2. **Poulet grillé avec légumes rôtis** - Une option faible en gras et riche en protéines, accompagnée de légumes rôtis comme des carottes, des courgettes, et des poivrons.\\n\\n3. **Bowl de Buddha** - Un mélange de légumes crus et cuits, une source de protéines comme le tofu ou les pois chiches, avocat, et souvent surmonté d'une sauce tahini ou de soja.\\n\\n4. **Soupe de lentilles** - Très nutritive, riche en fibres, en fer et en protéines végétales, souvent cuisinée avec des carottes, des tomates et des épices.\\n\\n5. **Sushi** - Optez pour des sushis avec du poisson frais ou des légumes, une source de bons acides gras oméga-3 et bon pour le cœur.\\n\\n6. **Salade de kale et avocat** - Le kale est riche en vitamines K, A, et C, tandis que l'avocat fournit de bonnes graisses.\\n\\n7. **Poisson vapeur aux légumes** - Une méthode de cuisson qui préserve les nutriments, idéale avec du saumon ou du tilapia pour les acides gras oméga-3.\\n\\n8. **Ratatouille** - Un ragoût de légumes comme des aubergines, des poivrons, des courgettes et des tomates, cuit avec des herbes.\\n\\n9. **Tofu sauté avec brocoli et poivrons** - Un plat riche en protéines et en fibres, souvent cuisiné dans une sauce légère aux aromates.\\n\\n10. **Curry de légumes avec du riz complet** - Un plat équilibré et savoureux, qui peut être adapté pour être peu épicé et riche en légumes variés.\\n\\nCes plats, en plus d'être délicieux, contribuent à une alimentation équilibrée et peuvent être ajustés selon vos préférences diététiques.\""
      ]
     },
     "execution_count": 39,
     "metadata": {},
     "output_type": "execute_result"
    }
   ],
   "source": [
    "call_openai_api(prompt_healthy_french)"
   ]
  },
  {
   "cell_type": "markdown",
   "id": "5e03d226-6772-4bcf-baae-daa2e5bed948",
   "metadata": {},
   "source": [
    "\"Sure, here is a list of 10 healthy dishes you can try:\\n\\n1. **Quinoa Salad** - High in protein and fiber, often topped with fresh vegetables, nuts and dressed with a lemony vinaigrette .\\n\\n2. **Grilled Chicken with Roasted Vegetables** - A low-fat, high-protein option, accompanied by roasted vegetables like carrots, zucchini, and peppers.\\n\\n3. Buddha** - A mixture of raw and cooked vegetables, a source of protein such as tofu or chickpeas, avocado, and often topped with tahini or soy sauce.\\n\\n4. - Very nutritious, rich in fiber, iron and vegetable proteins, often cooked with carrots, tomatoes and spices. **Sushi** - Opt for sushi with fresh fish or vegetables, a source of good omega-3 fatty acids and good for the heart.\\n\\n6. **Kale and avocado salad** - Kale is rich in vitamins K, A, and C, while avocado provides vitamins. good fats.\\n\\n7. **Steamed Fish with Vegetables** - A nutrient-preserving cooking method, ideal with salmon or tilapia for omega-3 fatty acids.\\n\\n8. **Ratatouille** - A stew of vegetables such as eggplant, peppers, zucchini and tomatoes, cooked with herbs.\\n\\n9. **Sautéed Tofu with Broccoli and Peppers** - A dish rich in protein and fiber, often cooked in a light herb sauce.\\n\\n10. **Vegetable curry with brown rice** - A balanced and tasty dish, which can be adapted to be slightly spicy and rich in varied vegetables.\\n\\nThese dishes, in addition to being delicious, contribute to a balanced diet and can be adjusted according to your dietary preferences.\""
   ]
  },
  {
   "cell_type": "markdown",
   "id": "63ae2cec-06f6-4069-848f-8cd4ebf97024",
   "metadata": {},
   "source": [
    "#### Chinese"
   ]
  },
  {
   "cell_type": "code",
   "execution_count": 42,
   "id": "552be80b-240f-4be9-948c-e7f23abaf01f",
   "metadata": {},
   "outputs": [],
   "source": [
    "prompt_healthy_chn = \"请给我列出10道健康菜肴。\""
   ]
  },
  {
   "cell_type": "code",
   "execution_count": 43,
   "id": "587831e6-a0a6-47b3-824b-48c4df5a753d",
   "metadata": {},
   "outputs": [
    {
     "data": {
      "text/plain": [
       "'下面是10道健康、营养均衡的菜肴，适合追求健康饮食的你：\\n\\n1. **蒸三文鱼配柠檬和迷迭香**  \\n   将新鲜的三文鱼蒸熟，加入柠檬片和少许迷迭香来调味。这道菜富含Omega-3脂肪酸和蛋白质。\\n\\n2. **鸡胸肉配藜麦和蔬菜沙拉**  \\n   烤或煮熟鸡胸肉，与藜麦和新鲜的蔬菜（如番茄、黄瓜、红椒）混合，拌以橄榄油和柠檬汁。\\n\\n3. **清蒸扁豆配凉拌西红柿**  \\n   清蒸扁豆直至变软，与新鲜切片的西红柿和一点点盐、黑胡椒调味。\\n\\n4. **土豆泥配烤菠菜和大蒜**  \\n   烹制柔软的土豆泥，加入烤菠菜和碎大蒜增添风味，这道菜富含维生素和纤维。\\n\\n5. **豆腐炒菜**  \\n   使用少许的油将豆腐和你喜欢的蔬菜如青椒、胡萝卜和洋葱一起翻炒。\\n\\n6. **南瓜汤**  \\n   将南瓜煮熟后搅拌成汤，加入些许姜和胡椒粉调味，可以提供丰富的β-胡萝卜素和维C。\\n\\n7. **蔬菜炖豆**  \\n   将各种豆类（如黑豆、红豆）和蔬菜（如胡萝卜、西葫芦、洋葱）一起炖煮，加入香料如迷迭香和月桂叶增添风味。\\n\\n8. **炒蘑菇配全麦意面**  \\n   将新鲜蘑菇炒至金黄，配上煮熟的全麦意面，撒上少量的帕尔马干酪和黑胡椒。\\n\\n9. **烤番薯配希腊酸奶**  \\n   将番薯烤熟切开，加上希腊酸奶作为佐料，这种搭配可以提供高质量的蛋白质和纤维。\\n\\n10. **新鲜水果沙拉**  \\n    切一些季节性的水果如苹果、梨、草莓和蓝莓，拌以少许柠檬汁和薄荷叶，提供丰富的维生素和抗氧化物。\\n\\n这些菜肴不仅美味，还能帮助你维持健康的饮食习惯，有益心血管健康、控制体重、提高免疫力等多方面的益处。'"
      ]
     },
     "execution_count": 43,
     "metadata": {},
     "output_type": "execute_result"
    }
   ],
   "source": [
    "call_openai_api(prompt_healthy_chn)"
   ]
  },
  {
   "cell_type": "markdown",
   "id": "a0113e3a-097b-46f9-9aca-798965142d51",
   "metadata": {},
   "source": [
    "'The following are 10 healthy and nutritionally balanced dishes, suitable for you who are pursuing a healthy diet:\\n\\n1. **Steamed salmon with lemon and rosemary** \\n Steam the fresh salmon, add lemon slices and a little Rosemary to taste. This dish is rich in Omega-3 fatty acids and protein. \\n\\n2. **Chicken Breast with Quinoa and Green Salad** \\n Grilled or cooked chicken breast, mixed with quinoa and fresh vegetables (such as tomatoes, cucumbers, red peppers), tossed with olive oil and lemon juice. \\n\\n3. **Steamed lentils with cold tomatoes** \\n Steam the lentils until soft, season with fresh sliced ​​tomatoes and a little salt and black pepper. \\n\\n4. **Mashed Potatoes with Roasted Spinach and Garlic** \\n Cook soft mashed potatoes and add roasted spinach and crushed garlic for added flavor. This dish is packed with vitamins and fiber. \\n\\n5. **Tofu stir-fry** \\n Use a little oil to stir-fry the tofu and your favorite vegetables such as green peppers, carrots and onions. \\n\\n6. **Pumpkin Soup** \\n Boil the pumpkin and stir it into soup. Add some ginger and pepper for seasoning, which can provide rich beta-carotene and vitamin C. \\n\\n7. **Vegetable Bean Stew** \\n Stew various beans (such as black beans, red beans) and vegetables (such as carrots, zucchini, onions), adding spices such as rosemary and bay leaves to add flavor . \\n\\n8. **Sauteed Mushrooms with Whole Wheat Pasta** \\n Saute fresh mushrooms until golden brown, serve with cooked whole wheat pasta, sprinkle with a small amount of Parmesan cheese and black pepper. \\n\\n9. **Roasted Sweet Potatoes with Greek Yogurt** \\n Roasted and cut sweet potatoes, with Greek yogurt as a condiment, provide high-quality protein and fiber. \\n\\n10. **Fresh Fruit Salad** \\n Cut some seasonal fruits such as apples, pears, strawberries and blueberries, and mix with a little lemon juice and mint leaves to provide rich vitamins and antioxidants. \\n\\nThese dishes are not only delicious, but also help you maintain healthy eating habits, which are beneficial to cardiovascular health, weight control, immunity and other benefits. '"
   ]
  },
  {
   "cell_type": "markdown",
   "id": "4aec78f4-3ec8-4e71-8162-79f31161142f",
   "metadata": {},
   "source": [
    "#### Japanese"
   ]
  },
  {
   "cell_type": "code",
   "execution_count": 44,
   "id": "2b25693d-048c-49c5-b564-9da1bee0dd96",
   "metadata": {},
   "outputs": [],
   "source": [
    "prompt_healthy_japanese = \"健康的な料理を10個挙げてください。\""
   ]
  },
  {
   "cell_type": "code",
   "execution_count": 45,
   "id": "7b5b6255-e5b0-45be-accf-f1637844e140",
   "metadata": {},
   "outputs": [
    {
     "data": {
      "text/plain": [
       "'もちろんです、以下に健康的な料理を10個挙げてみます：\\n\\n1. 鮭のグリル - オメガ3脂肪酸が豊富で、心臓の健康に良いです。\\n2. ブロッコリーのスチーム - 高い栄養価を持ち、がん予防の効果があるとされています。\\n3. 豆腐と野菜の炒め物 - 植物性タンパク質が豊富で、低カロリーです。\\n4. かぼちゃのスープ - ビタミンAが豊富で、免疫力を高める効果があります。\\n5. キヌアサラダ - タンパク質と繊維が豊富で、満腹感を得やすくダイエットに適しています。\\n6. ひじきの煮物 - 鉄分やミネラルが豊富で、貧血予防に有効です。\\n7. 鶏胸肉のグリル - 低脂肪で高タンパク、筋肉の修復や保持に役立ちます。\\n8. レンズ豆のカレー - 植物性タンパク質と繊維が豊富で、心臓病のリスクを減らすことができます。\\n9. オートミール - ベータグルカンが豊富で、コレステロールを下げる効果があります。\\n10. ミックスベリーのスムージー - 抗酸化物質が豊富で、体の老化防止に役立つとされます。\\n\\nこれらの料理は、栄養バランスが良く、様々な健康効果が期待できます。日々の食事に取り入れてみてください。'"
      ]
     },
     "execution_count": 45,
     "metadata": {},
     "output_type": "execute_result"
    }
   ],
   "source": [
    "call_openai_api(prompt_healthy_japanese)"
   ]
  },
  {
   "cell_type": "markdown",
   "id": "69c3cdf5-969c-4fa4-bf19-d518771f6f3f",
   "metadata": {},
   "source": [
    "'Of course, here are 10 healthy dishes:\\n\\n1. Grilled Salmon - Rich in omega-3 fatty acids, good for your heart health. \\n2. Steamed broccoli - has high nutritional value and is said to have cancer prevention effects. \\n3. Stir-fried tofu and vegetables - rich in plant-based protein and low in calories. \\n4. Pumpkin soup - Rich in vitamin A, it has the effect of increasing immunity. \\n5. Quinoa Salad - Rich in protein and fiber, it helps you feel full and is good for weight loss. \\n6. Boiled Hijiki - Rich in iron and minerals, it is effective in preventing anemia. \\n7. Grilled Chicken Breast - Low in fat and high in protein, helps repair and maintain muscle. \\n8. Lentil curry - rich in vegetable protein and fiber, which can reduce the risk of heart disease. \\n9. Oatmeal - Rich in beta-glucan, which helps lower cholesterol. \\n10. Mixed Berry Smoothie - Rich in antioxidants, this is said to help the body fight aging. \\n\\nThese dishes are nutritionally balanced and can be expected to have various health benefits. Try incorporating it into your daily meals. '"
   ]
  },
  {
   "cell_type": "markdown",
   "id": "4fc84c60-f0d8-43ca-b3c4-05a430a3b567",
   "metadata": {},
   "source": [
    "#### Arabic"
   ]
  },
  {
   "cell_type": "code",
   "execution_count": 150,
   "id": "a742c581-9379-43dd-b907-316dac11bfd7",
   "metadata": {},
   "outputs": [],
   "source": [
    "prompt_healthy_arabic = \"من فضلك اذكر لي 10 أطباق صحية.\""
   ]
  },
  {
   "cell_type": "code",
   "execution_count": 151,
   "id": "1e7e0433-60ab-4b68-b4f4-314b77469c7d",
   "metadata": {},
   "outputs": [
    {
     "data": {
      "text/plain": [
       "['بالطبع! إليك قائمة بـ10 أطباق صحية متنوعة ومفيدة:\\n\\n1. **سلطة الكينوا والخضروات**: تجمع هذه السلطة بين الكينوا ومجموعة متنوعة من الخضروات الطازجة مثل الطماطم، الخيار، والفلفل، مع إضافة عصير الليمون وزيت الزيتون كتتبيلة.\\n\\n2. **سمك السلمون المشوي بالأعشاب**: طبق غني بالأوميغا 3، حيث يتم تتبيل شرائح السلمون بالأعشاب الطازجة والقليل من زيت الزيتون وشويها.\\n\\n3. **شوربة العدس**: شوربة مغذية تحتوي على العدس، الجزر، البصل، والطماطم، مما يجعلها غنية بالبروتين والألياف.\\n\\n4. **الدجاج المشوي بالأعشاب والليمون**: باستخدام الأعشاب مثل الروزماري والثوم وعصير الليمون لتتبيل صدور الدجاج، ثم شويها.\\n\\n5. **باذنجان مشوي بالطماطم وجبن الفيتا**: شرائح الباذنجان المشوي تعلوها طماطم وقطع جبن الفيتا، مع إضافة القليل من الأعشاب.\\n\\n6. **سلطة الفواكه الطازجة**: يمكن اختيار مجموعة متنوعة من الفواكه مثل الأناناس، التوت، الكيوي، والبرتقال.\\n\\n7. **الفلفل المحشي بالقرنبيط والكينوا**: فلفل ألوان محشو بمزيج من القرنبيط المفروم والكينوا، مع إضافة التوابل حسب الرغبة.\\n\\n8. **حساء الكرفس والبطاطا الحلوة**: حساء كريمي ولذيذ يجمع بين البطاطا الحلوة والكرفس مع بعض الكريمة النباتية.\\n\\n9. **فطائر الخضروات**: فطائر مصنوعة من مجموعة متنوعة من الخضروات مثل الجزر، الكوسا، والبطاطا المبشورة، يتم خلطها وشويها.\\n\\n10. **الزبادي بالجرانولا والتوت**: وجبة خفيفة أو إفطار صحي يتضمن الزبادي الطبيعي مع إضافة الجرانولا والتوت الطازج.\\n\\nهذه الأطباق لا توفر فقط قيمة غذائية عالية، ولكن أيضًا تتميز بالمذاق اللذيذ ويمكن تحضيرها بطرق مختلفة حسب الذوق الشخصي.']"
      ]
     },
     "execution_count": 151,
     "metadata": {},
     "output_type": "execute_result"
    }
   ],
   "source": [
    "call_openai_api(prompt_healthy_arabic)"
   ]
  },
  {
   "cell_type": "markdown",
   "id": "35bf030a-184d-437b-8f62-130b71868967",
   "metadata": {},
   "source": [
    "\"naturally! Here is a list of 10 healthy, varied and useful dishes:\\n\\n1. **Quinoa and Vegetable Salad**: This salad combines quinoa and a variety of fresh vegetables such as tomatoes, cucumbers, and peppers, with the addition of lemon juice and olive oil as a dressing.\\n\\n2. **Herb-grilled salmon**: A dish rich in Omega-3, where salmon fillets are seasoned with fresh herbs and a little olive oil and grilled.\\n\\n3. **Lentil soup**: A nutritious soup that contains lentils, carrots, onions, and tomatoes, making it rich in protein and fibre.\\n\\n4. **Grilled chicken with herbs and lemon**: Using herbs such as rosemary, garlic, and lemon juice to season the chicken breasts, then grill them.\\n\\n5. **Grilled eggplant with tomatoes and feta cheese**: Grilled eggplant slices topped with tomatoes and feta cheese pieces, with a few herbs added.\\n\\n6. **Fresh fruit salad**: You can choose a variety of fruits such as pineapple, berries, kiwi, and oranges.\\n\\n7. **Stuffed peppers with cauliflower and quinoa**: Colored peppers stuffed with a mixture of chopped cauliflower and quinoa, with spices added as desired.\\n\\n8. **Celery and Sweet Potato Soup**: A creamy and delicious soup that combines sweet potatoes and celery with some vegetable cream.\\n\\n9. **Vegetable Pies**: Pies made from a variety of vegetables such as carrots, zucchini, and grated potatoes, mixed and grilled.\\n\\n10. **Yogurt with Granola and Berries**: A healthy snack or breakfast that includes natural yogurt with the addition of granola and fresh berries.\\n\\nThese dishes not only provide high nutritional value, but also have a delicious taste and can be prepared in different ways according to personal taste.\""
   ]
  },
  {
   "cell_type": "markdown",
   "id": "2a267ed4-be7d-4b11-99e7-2295ff029ad8",
   "metadata": {},
   "source": [
    "### Try Batching for Healthy Dishes"
   ]
  },
  {
   "cell_type": "code",
   "execution_count": 82,
   "id": "6db02cb2-b2d5-40c1-a9b6-2d9460f9dca8",
   "metadata": {},
   "outputs": [],
   "source": [
    "# Initialize the dictionary to keep track of counts\n",
    "healthy_dish_counts = defaultdict(int)"
   ]
  },
  {
   "cell_type": "code",
   "execution_count": null,
   "id": "ea926f89-7e7c-4b92-a1f1-67773101128f",
   "metadata": {},
   "outputs": [],
   "source": [
    "healthy_results = call_openai_api(prompt_healthy, n_runs=10)"
   ]
  },
  {
   "cell_type": "code",
   "execution_count": 83,
   "id": "c3bf8dfd-fbc3-44c3-892c-3a00a04e2cdb",
   "metadata": {},
   "outputs": [],
   "source": [
    "healthy_dish_counts = extract_dish_names_and_count(healthy_results, healthy_dish_counts)"
   ]
  },
  {
   "cell_type": "code",
   "execution_count": 84,
   "id": "3333aec9-3e18-4124-be9c-bb95dc368001",
   "metadata": {
    "scrolled": true
   },
   "outputs": [
    {
     "name": "stdout",
     "output_type": "stream",
     "text": [
      "Counts after first batch (10):\n",
      "\n",
      "Quinoa Salad: 4\n",
      "Chickpea and Spinach Curry: 3\n",
      "Turkey and Vegetable Stuffed Peppers: 3\n",
      "Lentil Soup: 3\n",
      "Sweet Potato and Black Bean Chili: 3\n",
      "Quinoa Salad with Mixed Vegetables: 3\n",
      "Grilled Salmon with Asparagus: 3\n",
      "Sweet Potato and Black Bean Tacos: 3\n",
      "Vegetable Stir-Fry with Tofu: 3\n",
      "Vegetable Stir-Fry: 2\n",
      "Grilled Salmon with Avocado Salsa: 2\n",
      "Spinach and Mushroom Frittata: 2\n",
      "Greek Salad with Grilled Chicken: 2\n",
      "Baked Cod with Lemon and Dill: 2\n",
      "Chicken and Vegetable Stir-Fry: 2\n",
      "Stuffed Bell Peppers: 2\n",
      "Grilled Chicken and Avocado Wrap: 2\n",
      "Greek Yogurt Parfait with Berries and Granola: 2\n",
      "Greek Yogurt Parfait: 2\n",
      "Roasted Beet and Goat Cheese Salad: 2\n",
      "Grilled Salmon with Steamed Broccoli: 1\n",
      "Baked Sweet Potato with Cottage Cheese and Chives: 1\n",
      "Chicken Caesar Salad: 1\n",
      "Greek Yogurt with Mixed Berries and Nuts: 1\n",
      "Avocado and Egg Toast: 1\n",
      "Quinoa Salad with Chickpeas and Tomatoes: 1\n",
      "Roasted Vegetable and Farro Bowl: 1\n",
      "Chicken and Broccoli Stir-Fry: 1\n",
      "Lentil Soup with Carrots and Celery: 1\n",
      "Vegetable and Chickpea Curry: 1\n",
      "Spinach and Feta Stuffed Chicken: 1\n",
      "Broccoli and Cauliflower Soup: 1\n",
      "Lentil Salad with Cucumber and Tomatoes: 1\n",
      "Quinoa Salad with Roasted Vegetables and Lemon-Tahini Dressing: 1\n",
      "Baked Salmon with Dill Yogurt Sauce: 1\n",
      "Vegetarian Chili: 1\n",
      "Stir-Fried Tofu with Vegetables on Brown Rice: 1\n",
      "Butternut Squash Soup: 1\n",
      "Mediterranean Quinoa Bowl: 1\n",
      "Spinach and Mushroom Omelette: 1\n",
      "Asian Sesame Zucchini Noodles: 1\n",
      "Grilled Salmon with Quinoa Salad: 1\n",
      "Vegetable and Hummus Wrap: 1\n",
      "Zucchini Noodles with Pesto and Cherry Tomatoes: 1\n",
      "Mixed Berry and Spinach Smoothie: 1\n",
      "Quinoa and Black Bean Salad: 1\n",
      "Baked Sweet Potato with Broccoli and Feta: 1\n",
      "Chicken and Vegetable Soup: 1\n",
      "Spinach and Feta Stuffed Chicken Breast: 1\n",
      "Turmeric Roasted Cauliflower: 1\n",
      "Lentil Salad with Roasted Veggies: 1\n",
      "Soba Noodle Bowl with Edamame and Veggies: 1\n",
      "Chickpea and Spinach Stew: 1\n",
      "Turkey and Vegetable Soup: 1\n",
      "Oatmeal with Fresh Berries and Nuts: 1\n",
      "Baked Lemon Pepper Chicken: 1\n",
      "Kale, Apple, and Walnut Salad: 1\n",
      "Oven-Baked Salmon with Asparagus: 1\n",
      "Turkish-Style Lentil Soup: 1\n",
      "Grilled Chicken and Vegetable Kabobs: 1\n",
      "Baked Salmon with Asparagus: 1\n",
      "Spinach and Avocado Smoothie: 1\n",
      "Turkey and Vegetable Chili: 1\n",
      "Sweet Potato and Black Bean Burrito Bowls: 1\n",
      "Turkey and Vegetable Stir-Fry: 1\n",
      "Vegetable and Hummus Wraps: 1\n",
      "Broccoli and Almond Soup: 1\n",
      "Baked Tilapia with Mango Salsa: 1\n",
      "Kale and Quinoa Stuffed Bell Peppers: 1\n",
      "Greek Yogurt Parfait with Berries and Nuts: 1\n"
     ]
    }
   ],
   "source": [
    "print(\"Counts after first batch (10):\\n\")\n",
    "for dish, count in healthy_dish_counts.items():\n",
    "    print(f\"{dish}: {count}\")"
   ]
  },
  {
   "cell_type": "code",
   "execution_count": 91,
   "id": "a0db10ba-531b-4b01-82d8-0fe9bbf44a69",
   "metadata": {},
   "outputs": [],
   "source": [
    "append_dishes_to_csv(healthy_dish_counts, \"healthy_dish_counts.csv\")"
   ]
  },
  {
   "cell_type": "markdown",
   "id": "20f7519a-f555-4a7c-8c1a-71303abe4c23",
   "metadata": {},
   "source": [
    "#### Chinese Healthy Dishes"
   ]
  },
  {
   "cell_type": "code",
   "execution_count": 110,
   "id": "373734e5-29ac-4aa2-b621-13e3661b46ba",
   "metadata": {},
   "outputs": [],
   "source": [
    "chn_healthy_dish_counts = defaultdict(int)"
   ]
  },
  {
   "cell_type": "code",
   "execution_count": 65,
   "id": "51ded26f-62ca-41cb-863a-9084b9733d6e",
   "metadata": {},
   "outputs": [],
   "source": [
    "chn_healthy_results = call_openai_api(prompt_healthy_chn, n_runs=10)"
   ]
  },
  {
   "cell_type": "code",
   "execution_count": 168,
   "id": "0940274f-aa7f-4fba-813a-859483fc78d0",
   "metadata": {
    "scrolled": true
   },
   "outputs": [
    {
     "data": {
      "text/plain": [
       "['当然可以！以下是10道健康又美味的菜肴，适合各种膳食需求：\\n\\n1. **清蒸鲈鱼** - 使用生姜和葱来增添风味的低脂肪海鲜选项，适合心脑血管健康。\\n2. **蔬菜杂粮沙拉** - 搭配藜麦、小米或糙米，加入番茄、黄瓜、红椒和一点橄榄油，富含纤维和维生素。\\n3. **南瓜汤** - 温暖且富含维生素A，对视力和免疫系统都有好处。\\n4. **土豆烤鸡** - 使用橄榄油和香草烤制，肉质鲜嫩，低脂肪。\\n5. **豆腐五彩炒菜** - 包括胡萝卜、青豆、红椒和豆腐，是一个低卡且富含植物蛋白的菜品。\\n6. **三文鱼蔬菜卷** - 用海藻包裹三文鱼和鳄梨，健康又满足，富含Omega-3脂肪酸。\\n7. **鸡肉蔬菜汤** - 用鸡胸肉、多种蔬菜和低钠鸡汤煮制，营养均衡，适合减肥餐。\\n8. **西兰花炒虾** - 西兰花富含抗氧化物质，搭配虾仁，不仅美味也对抗衰老。\\n9. **烤鹰嘴豆和甜菜根沙拉** - 烤制鹰嘴豆与甜菜根搭配新鲜菠菜，富含蛋白质和铁质。\\n10. **香蕉燕麦粥** - 用燕麦、香蕉和一抹蜂蜜做成的健康早餐。\\n\\n这些菜肴不仅健康，味道也很棒，适合日常饮食。希望你可以尝试做做看，享受健康美食带来的乐趣！',\n",
       " '1. **西兰花清蒸鸡胸肉**\\n   - 主要材料：西兰花、鸡胸肉。\\n   - 做法：将鸡胸肉蒸熟后切片，与蒸熟的西兰花搭配，淋上少量橄榄油和柠檬汁。\\n\\n2. **番茄烤鳕鱼**\\n   - 主要材料：鳕鱼、番茄、洋葱。\\n   - 做法：鳕鱼洗净后，放入烤盘，添加切片番茄和洋葱，撒上少量盐、胡椒粉，烤至熟。\\n\\n3. **蔬菜豆腐汤**\\n   - 主要材料：豆腐、各种时令蔬菜（如胡萝卜、菠菜、蘑菇）。\\n   - 做法：蔬菜切丁，与豆腐一起加入水中煮沸，加少许盐调味。\\n\\n4. **凉拌黑木耳**\\n   - 主要材料：黑木耳、黄瓜、红椒。\\n   - 做法：黑木耳泡发后烹煮至软，黄瓜和红椒切丝，与黑木耳混合，加醋、少量盐和芝麻油调味。\\n\\n5. **南瓜燕麦粥**\\n   - 主要材料：南瓜、燕麦。\\n   - 做法：南瓜切块，与燕麦一起煮成粥，可以加入少量的蜂蜜提味。\\n\\n6. **土豆炖菠菜**\\n   - 主要材料：土豆、菠菜。\\n   - 做法：土豆去皮切块，与洗净的菠菜一起炖煮，加入少量盐和黑胡椒调味。\\n\\n7. **清炒四季豆**\\n   - 主要材料：四季豆、大蒜。\\n   - 做法：四季豆去筋，大蒜切片，用少量橄榄油炒至四季豆变软，中途撒上少量盐。\\n\\n8. **水煮鸡蛋配沙拉**\\n   - 主要材料：鸡蛋、各种沙拉蔬菜（如生菜、番茄、黄瓜）。\\n   - 做法：鸡蛋水煮至全熟后剥壳，配上新鲜的沙拉蔬菜，加沙拉酱或橄榄油调味。\\n\\n9. **烤南瓜豆腐沙拉**\\n   - 主要材料：南瓜、豆腐、生菜。\\n   - 做法：南瓜切片，豆腐切块，一同烤至金黄，放凉后与生菜混合，可撒上少量芥末或橄榄油。\\n\\n10. **番薯紫菜汤**\\n    - 主要材料：番薯、紫菜、虾皮。\\n    - 做法：番薯去皮切块，与泡发的紫菜和虾皮一起煮成汤，根据口味调整盐的分量。\\n\\n以上菜肴均注重营养均衡与低脂健康，适合追求健康饮食的人士日常食用。',\n",
       " '当然可以，这里有10道健康且美味的菜肴推荐：\\n\\n1. **蒸三文鱼配柠檬薄荷酱** - 三文鱼富含Omega-3脂肪酸，有利于心血管健康。可以用蒸的方式来保留其营养。\\n\\n2. **烤鸡胸肉配罗勒和番茄** - 鸡胸肉低脂高蛋白，搭配新鲜的罗勒和番茄，增加抗氧化剂的摄入。\\n\\n3. **凉拌藜麦沙拉** - 藜麦是一种完全的植物性蛋白质来源，可以配上你喜欢的蔬菜和一些柠檬汁调味。\\n\\n4. **烤地中海蔬菜** - 选用茄子、西红柿、甜椒等蔬菜，佐以橄榄油和香草烤制，简单营养。\\n\\n5. **韩式拌饭** - 使用大量蔬菜，如胡萝卜、菠菜和香菇，搭配适量的瘦肉和一碗米饭，调味可用韩式辣酱。\\n\\n6. **墨西哥风味蔬菜炒豆** - 利用黑豆、玉米和胡椒等原料，低脂且富含纤维，可以配合莎莎酱一起食用。\\n\\n7. **印度豆腐咖喱** - 使用豆腐作为蛋白质来源，并加入多种香料和蔬菜。既健康又能提供丰富的味觉体验。\\n\\n8. **地中海鹰嘴豆沙拉** - 鹰嘴豆富含蛋白质和纤维，再加上新鲜的蔬菜和橄榄油，简单易做。\\n\\n9. **日式汤面** - 使用清汤基底，配以蔬菜、蘑菇和适当的全玄米面条或荞麦面。\\n\\n10. **蔬菜豆浆汤** - 利用豆浆作为汤底，加入豆腐和多样蔬菜，低脂而提供足够的蛋白。\\n\\n这些菜肴不仅营养均衡，还能帮助您保持健康的饮食习惯。可以根据个人口味调整烹饪方式和添加的调料。',\n",
       " '当然可以。下面是10道健康菜肴的建议，这些菜肴不仅营养均衡，而且有助于维持健康的生活方式：\\n\\n1. **蒸三文鱼配绿叶菜**：三文鱼富含Omega-3脂肪酸，搭配菠菜、芥蓝等绿叶蔬菜，提供丰富的维生素和矿物质。\\n\\n2. **鸡胸肉炒蔬菜**：选用瘦鸡胸肉，低脂高蛋白，并与多种蔬菜如胡萝卜、青椒和洋葱一起 stir-fry，简单健康。\\n\\n3. **番茄炖扁豆汤**：扁豆是优质的植物蛋白来源，加入新鲜番茄和少量橄榄油，可以烹制出一道美味的低脂汤菜。\\n\\n4. **烤地瓜搭配羽衣甘蓝**：地瓜富含纤维和维生素A，烤制出来的甘甜可口，配上用橄榄油稍微拌炒的羽衣甘蓝，营养丰富。\\n\\n5. **素食拌面**：使用全麦面条，添加豆腐和丰富的新鲜蔬菜如西红柿、黄瓜和红椒，低脂且富含膳食纤维。\\n\\n6. **水煮蛋配鳄梨沙拉**：简单的水煮蛋搭配鳄梨，鳄梨含有健康的单不饱和脂肪，再加上生菜、番茄，非常适合早餐或午餐。\\n\\n7. **土耳其式烤肉串**：选择瘦肉，如鸡肉或羊肉，低脂高蛋白，用混合香料腌制，串上蔬菜一起烤制。\\n\\n8. **绿豆芽泰式沙拉**：配以新鲜草药和香料，如香茅和罗勒，绿豆芽富含蛋白质和膳食纤维，清新且低卡。\\n\\n9. **瓜柳配薏仁米**：炖煮瓜柳（鳕鱼或鲈鱼的低脂部位），配上薏仁米，薏仁米含有丰富的维生素和矿物质，是健康的主食选择。\\n\\n10. **凤梨炒豆腐**：使用新鲜凤梨和硬豆腐，加入少量植物油和特制酱料快炒，鲜甜清爽，适合夏日食用。\\n\\n这些菜肴不仅营养均衡，而且烹饪方法多样，可以满足不同的口味需求，同时帮助维持健康的饮食习惯。',\n",
       " '当然可以！下面是10道健康且美味的菜肴，适合那些想要营养丰富又健康饮食的人：\\n\\n1. **蒸鲈鱼** - 清蒸鱼是一种低脂肪、高蛋白的选择。可以用一点姜、葱和少量酱油来增加风味。\\n\\n2. **土豆泥配烤鸡胸肉** - 使用希腊酸奶代替传统的黄油和奶油，配上香料烤制的鸡胸肉，健康而不失美味。\\n\\n3. **番茄炒蛋** - 使用新鲜番茄和少量橄榄油，这道低卡而富含抗氧化剂的简易菜肴非常适合快速准备。\\n\\n4. **烤蔬菜沙拉** - 选择季节性蔬菜，如甜菜根、胡萝卜、南瓜，烤制后配上一点橄榄油和醋，既健康又美味。\\n\\n5. **凉拌豆腐皮** - 豆腐皮富含植物性蛋白，配以芝麻、葱花及少许调味料，制作出既简单又营养的凉菜。\\n\\n6. **鸡肉蔬菜汤** - 用鸡肉、多种蔬菜（如胡萝卜、西葫芦、洋葱）和鸡骨汤煮制，不仅美味还能增强免疫系统。\\n\\n7. **三文鱼拌饭** - 配上煮熟的藜麦和混合蔬菜，这道菜丰富的Omega-3脂肪酸对心脏非常有好处。\\n\\n8. **蔬菜煎饼** - 使用全麦面粉、鸡蛋、牛奶和你喜欢的蔬菜（如菠菜、胡萝卜）制作，营养丰富又适合早餐。\\n\\n9. **蒜蓉西兰花** - 蒜末和少许橄榄油可以使西兰花这道低卡食材变得既美味又有营养。\\n\\n10. **冬瓜汤** - 冬瓜、红枣、枸杞和瘦肉一起煲汤，这种传统的中国健康汤既可清热去火又滋补身体。\\n\\n以上这些都是融合了健康与美味的菜肴，你可以根据自己的口味和需求选择制作，希望你会喜欢！',\n",
       " '当然可以，这里列出10道健康且营养均衡的菜肴，适合想要维持健康饮食的你：\\n\\n1. **蒸鱼** - 选用淡水鱼或海鱼，添加姜片、葱和少许酱油进行蒸煮，既能保留鱼的鲜美，又能减少油脂的摄取。\\n\\n2. **素炒三丝** - 使用胡萝卜、青椒和豆腐皮切丝，快速炒制，简单调味。这道菜丰富多彩，富含蛋白质和多种维生素。\\n\\n3. **鸡胸肉沙拉** - 使用煮熟的鸡胸肉，搭配生菜、番茄、黄瓜等新鲜蔬菜和橄榄油调味。高蛋白、低脂肪，非常适合健身人士。\\n\\n4. **南瓜汤** - 用南瓜、洋葱、姜和蒜制作，不仅味道香甜，还富含β-胡萝卜素和纤维。\\n\\n5. **清炒菠菜** - 只需用少量的橄榄油将菠菜快速炒熟，可以添加一点蒜末提味，简单且富含铁质和维生素K。\\n\\n6. **土豆烧茄子** - 避免过多的油炸，可以选择烤制或铁板烧方式，土豆和茄子搭配，食物纤维丰富，非常适合健康饮食。\\n\\n7. **番茄炖豆腐** - 豆腐和番茄是一对完美的搭配，这道菜低卡、低脂且含有丰富的蛋白质和抗氧化成分。\\n\\n8. **蘑菇炖鸡** - 使用胸脯肉与多种蘑菇慢炖，少油少盐，保留了食材原始的味道和营养。\\n\\n9. **绿豆汤** - 炎热的夏天或是有需要清热解毒时，一碗绿豆汤不仅能帮助降火，还能提供丰富的膳食纤维和蛋白质。\\n\\n10. **炒米粉** - 用大量新鲜蔬菜和少量的米粉进行快速炒制，加入适量的瘦肉，可以是一道健康又满足的主食。\\n\\n这些菜肴不仅美味，还有助于维护好的健康状态。希望你能尝试制作享用！',\n",
       " '当然可以，这里有10道健康且美味的菜肴，适合日常饮食：\\n\\n1. **鸡胸肉蔬菜沙拉**：低脂鸡胸肉搭配生菜、番茄、黄瓜、胡萝卜和一点橄榄油柠檬汁酱。\\n2. **三文鱼刺身**：新鲜三文鱼片，搭配一点酱油和芥末，富含Omega-3和蛋白质。\\n3. **蒸豆腐**：用少量酱油、葱花和姜丝蒸制的豆腐，低脂肪高蛋白。\\n4. **炒蔬菜**：包括西兰花、胡萝卜、彩椒和雪豆，用橄榄油和蒜末快速翻炒。\\n5. **番茄鸡蛋汤**：番茄和鸡蛋不仅味道鲜美，也是营养丰富的健康选择。\\n6. **土豆泥搭配烤鸡腿肉**：使用橄榄油替代奶油制作的土豆泥，与烤至外皮酥脆的鸡腿肉搭配。\\n7. **凉拌苦瓜**：苦瓜切片，用盐稍腌后洗净，加入蒜末和辣椒，清爽去火。\\n8. **藜麦色拉**：藜麦是一种高蛋白、高纤维的食品，加入橄榄油、柠檬汁、西红柿、黄瓜和飞鸟豆制作色拉。\\n9. **海带豆腐汤**：低卡而且富含碘，有助于提高新陈代谢。\\n10. **甜菜根沙拉**：甜菜根切丁，与新鲜的菠菜叶和核桃一起，淋上轻柠檬汁和橄榄油。\\n\\n这些菜肴不仅健康，还能帮助你维持良好的身体状态，而且种类多样，可以满足不同的口味需求。',\n",
       " '当然可以！下面是10道健康菜肴的建议，这些菜肴营养均衡，制作相对简单：\\n\\n1. **蔬菜炒豆腐**  \\n   主要使用豆腐和各色时令蔬菜（如胡萝卜、青椒、西兰花），可加入少许酱油和姜片调味。\\n\\n2. **鲑鱼蒸菜**  \\n   采用新鲜鲑鱼搭配蒸西兰花和胡萝卜，简单调味，保持食材原味。\\n\\n3. **烤鸡胸肉配蔬菜**  \\n   鸡胸肉以香料和橄榄油腌制后烤制，搭配烘烤的甜菜根和羽衣甘蓝。\\n\\n4. **番茄炖扁豆**  \\n   使用番茄、扁豆、洋葱和蒜末炖制，是一道丰富的植物蛋白菜肴。\\n\\n5. **土豆泥配菠菜**  \\n   煮熟的土豆压成泥，加入少许牛奶和橄榄油，搭配简单炒制的菠菜。\\n\\n6. **三色藜麦沙拉**  \\n   藜麦与黄瓜、番茄、红洋葱以及烤鹰嘴豆一同混合，拌入柠檬汁和橄榄油。\\n\\n7. **南瓜汤**\\n   使用南瓜、洋葱、姜和蒜煮制的浓汤，味道醇厚并富含维生素。\\n\\n8. **烤地中海蔬菜**  \\n   西红柿、茄子、洋葱和椒类切片，撒上香料和橄榄油，烤制至软熟。\\n\\n9. **照烧鳕鱼**  \\n   鳕鱼佐以自制照烧酱（酱油、料酒、蜂蜜），搭配白米和煮熟的西兰花。\\n\\n10. **香菇青菜炒米粉**  \\n    采用新鲜香菇和绿叶蔬菜，如菠菜或小白菜，与米粉快速翻炒，佐以少许酱油。\\n\\n每道菜肴都注重食材的新鲜和健康调味，希望这些建议对你有所帮助！',\n",
       " '当然可以，这里为您列出10道不仅美味而且健康的菜肴：\\n\\n1. **清蒸鲈鱼**\\n   - 清蒸可以保持鱼的原味和营养，配上葱、姜、少许酱油和一点点油，即可增强风味。\\n\\n2. **土豆西兰花汤**\\n   - 使用土豆、西兰花、洋葱和蒜煮成的浓汤，低脂而富含维生素C和钾。\\n\\n3. **鸡胸肉沙拉**\\n   - 采用烤或煮的鸡胸肉，搭配生菜、番茄、黄瓜、以及橄榄油和柠檬汁，健康又低脂。\\n\\n4. **番茄炒蛋**\\n   - 富含蛋白质和番茄中的抗氧化剂，是一道简单易制的健康菜肴。\\n\\n5. **蔬菜炒豆腐**\\n   - 豆腐和各种蔬菜（如青椒、胡萝卜、蘑菇）一起炒，低脂且富含植物蛋白。\\n\\n6. **红豆燕麦粥**\\n   - 红豆和燕麦是铁和纤维的好来源，共同煮成的粥既健康又有益于消化。\\n\\n7. **烤三文鱼配绿叶蔬菜**\\n   - 三文鱼富含Omega-3脂肪酸，搭配菠菜或西兰花等绿叶蔬菜，充满营养。\\n\\n8. **羽衣甘蓝沙拉**\\n   - 羽衣甘蓝是一种超级食物，加上坚果、鳄梨和简单的醋酸调味，非常健康。\\n\\n9. **苦瓜炒牛肉**\\n   - 苦瓜有助于降血糖，与牛肉一起炒作，提供优质蛋白质和多种矿物质。\\n\\n10. **蔬菜豆腐汤**\\n    - 用各种蔬菜和豆腐煮成的汤，温暖而滋养，低脂高蛋白。\\n\\n这些菜肴均以健康为主要考虑，注意保持食材原味及营养，适合追求健康饮食的你。希望这些推荐能帮助你享受美味的同时，也照顾到身体的需要。',\n",
       " '当然可以！以下是10种健康的菜肴，适合想要保持健康饮食的人士：\\n\\n1. **蒸三文鱼佐柠檬汁** - 三文鱼富含Omega-3脂肪酸，对心脏健康非常有益。可以搭配一点蒸青豆或菠菜。\\n\\n2. **鸡胸肉炒蔬菜** - 使用少量橄榄油和大量新鲜蔬菜（如红椒、西兰花和雪豆）一起炒鸡胸肉，营养丰富，低脂。\\n\\n3. **番茄炖豆汤** - 使用新鲜番茄和各种豆类（如黑豆和鹰嘴豆）制作的番茄汤，高纤维，可以提供充足的能量。\\n\\n4. **烤地中海蔬菜** - 搭配羽衣甘蓝、樱桃番茄、橄榄油和一点海盐，烤制新鲜蔬菜。\\n\\n5. **秋葵配咖喱鸡块** - 咖喱中的香料增添风味的同时，秋葵是一种低热量、高纤维的健康选择。\\n\\n6. **五彩蔬菜天妇罗** - 使用多种蔬菜如红萝卜、南瓜和甜椒，蘸上少量酱油和芥末，清爽且美味。\\n\\n7. **绿色沙拉配烤羊肉** - 新鲜的生菜、黄瓜、番茄和新鲜草本植物，搭配烤至适当的羊肉片。\\n\\n8. **牛蒡和胡萝卜的日式拌饭** - 米饭中加入炒牛蒡和胡萝卜，这两种根类蔬菜非常有营养。\\n\\n9. **鹰嘴豆沙拉** - 搭配新鲜蔬菜（如菠菜、西红柿和黄瓜），加入一些牛油果和橄榄油，非常适合作为一顿轻盈的午餐。\\n\\n10. **番茄海鲜烩饭** - 利用新鲜海产品（如虾和贻贝）和番茄制作的美味烩饭，不仅美味还非常健康。\\n\\n每道菜都强调使用新鲜、低脂的食材，旨在提供均衡的营养价值，同时保证美味。希望你能尝试这些菜肴，享受健康美食！']"
      ]
     },
     "execution_count": 168,
     "metadata": {},
     "output_type": "execute_result"
    }
   ],
   "source": [
    "chn_healthy_results"
   ]
  },
  {
   "cell_type": "code",
   "execution_count": 205,
   "id": "7bbb7301-15b4-4206-b846-1701fbb94996",
   "metadata": {},
   "outputs": [
    {
     "name": "stdout",
     "output_type": "stream",
     "text": [
      "Results have been saved to chn_healthy_results.txt\n"
     ]
    }
   ],
   "source": [
    "save_results_to_file(chn_healthy_results, \"chn_healthy_results.txt\")"
   ]
  },
  {
   "cell_type": "code",
   "execution_count": 111,
   "id": "5e6b4769-454b-4d85-8132-cf31b67a0dfc",
   "metadata": {},
   "outputs": [],
   "source": [
    "chn_healthy_dish_counts = extract_dish_names_and_count(chn_healthy_results, chn_healthy_dish_counts)"
   ]
  },
  {
   "cell_type": "code",
   "execution_count": 167,
   "id": "6ce47c0b-08e5-4d18-9a59-10a7e0b97fe3",
   "metadata": {
    "scrolled": true
   },
   "outputs": [
    {
     "data": {
      "text/plain": [
       "{'南瓜汤': 12,\n",
       " '烤地中海蔬菜': 8,\n",
       " '鸡胸肉炒蔬菜': 6,\n",
       " '绿豆汤': 6,\n",
       " '番茄炒蛋': 5,\n",
       " '鸡胸肉沙拉': 5,\n",
       " '藜麦色拉': 5,\n",
       " '清蒸鲈鱼': 4,\n",
       " '凉拌苦瓜': 4,\n",
       " '蒸三文鱼': 4,\n",
       " '鸡肉蔬菜汤': 2,\n",
       " '蔬菜豆腐汤': 2,\n",
       " '蔬菜炒豆腐': 2,\n",
       " '蒸鱼': 2,\n",
       " '土豆烧茄子': 2,\n",
       " '三文鱼刺身': 2,\n",
       " '番茄鸡蛋汤': 2,\n",
       " '烤鸡胸肉配蔬菜': 2,\n",
       " '土豆泥配菠菜': 2,\n",
       " '番茄炖豆汤': 2,\n",
       " '水果酸奶沙拉': 2,\n",
       " '豆腐皮凉菜': 2,\n",
       " '南瓜粥': 2,\n",
       " '番茄炖豆': 2,\n",
       " '土豆烧菜花': 2,\n",
       " '土豆泥配烤蔬菜': 2,\n",
       " '蔬菜汤': 2,\n",
       " '蒸三文鱼搭配生姜和大蒜': 2,\n",
       " '素食寿司': 2,\n",
       " '豆腐炒菜': 2,\n",
       " '藜麦蔬菜碗': 2,\n",
       " '蔬菜杂粮沙拉': 1,\n",
       " '土豆烤鸡': 1,\n",
       " '豆腐五彩炒菜': 1,\n",
       " '三文鱼蔬菜卷': 1,\n",
       " '西兰花炒虾': 1,\n",
       " '烤鹰嘴豆和甜菜根沙拉': 1,\n",
       " '香蕉燕麦粥': 1,\n",
       " '西兰花清蒸鸡胸肉': 1,\n",
       " '番茄烤鳕鱼': 1,\n",
       " '凉拌黑木耳': 1,\n",
       " '南瓜燕麦粥': 1,\n",
       " '土豆炖菠菜': 1,\n",
       " '清炒四季豆': 1,\n",
       " '水煮鸡蛋配沙拉': 1,\n",
       " '烤南瓜豆腐沙拉': 1,\n",
       " '番薯紫菜汤': 1,\n",
       " '蒸三文鱼配柠檬薄荷酱': 1,\n",
       " '烤鸡胸肉配罗勒和番茄': 1,\n",
       " '凉拌藜麦沙拉': 1,\n",
       " '韩式拌饭': 1,\n",
       " '墨西哥风味蔬菜炒豆': 1,\n",
       " '印度豆腐咖喱': 1,\n",
       " '地中海鹰嘴豆沙拉': 1,\n",
       " '日式汤面': 1,\n",
       " '蔬菜豆浆汤': 1,\n",
       " '蒸三文鱼配绿叶菜': 1,\n",
       " '番茄炖扁豆汤': 1,\n",
       " '烤地瓜搭配羽衣甘蓝': 1,\n",
       " '素食拌面': 1,\n",
       " '水煮蛋配鳄梨沙拉': 1,\n",
       " '土耳其式烤肉串': 1,\n",
       " '绿豆芽泰式沙拉': 1,\n",
       " '瓜柳配薏仁米': 1,\n",
       " '凤梨炒豆腐': 1,\n",
       " '蒸鲈鱼': 1,\n",
       " '土豆泥配烤鸡胸肉': 1,\n",
       " '烤蔬菜沙拉': 1,\n",
       " '凉拌豆腐皮': 1,\n",
       " '三文鱼拌饭': 1,\n",
       " '蔬菜煎饼': 1,\n",
       " '蒜蓉西兰花': 1,\n",
       " '冬瓜汤': 1,\n",
       " '素炒三丝': 1,\n",
       " '清炒菠菜': 1,\n",
       " '番茄炖豆腐': 1,\n",
       " '蘑菇炖鸡': 1,\n",
       " '炒米粉': 1,\n",
       " '鸡胸肉蔬菜沙拉': 1,\n",
       " '蒸豆腐': 1,\n",
       " '炒蔬菜': 1,\n",
       " '土豆泥搭配烤鸡腿肉': 1,\n",
       " '海带豆腐汤': 1,\n",
       " '甜菜根沙拉': 1,\n",
       " '鲑鱼蒸菜': 1,\n",
       " '番茄炖扁豆': 1,\n",
       " '三色藜麦沙拉': 1,\n",
       " '照烧鳕鱼': 1,\n",
       " '香菇青菜炒米粉': 1,\n",
       " '土豆西兰花汤': 1,\n",
       " '红豆燕麦粥': 1,\n",
       " '烤三文鱼配绿叶蔬菜': 1,\n",
       " '羽衣甘蓝沙拉': 1,\n",
       " '苦瓜炒牛肉': 1,\n",
       " '蒸三文鱼佐柠檬汁': 1,\n",
       " '秋葵配咖喱鸡块': 1,\n",
       " '五彩蔬菜天妇罗': 1,\n",
       " '绿色沙拉配烤羊肉': 1,\n",
       " '牛蒡和胡萝卜的日式拌饭': 1,\n",
       " '鹰嘴豆沙拉': 1,\n",
       " '番茄海鲜烩饭': 1,\n",
       " '蒸三文鱼配西兰花': 1,\n",
       " '烤地中海蔬菜沙拉': 1,\n",
       " '土豆蔬菜煲': 1,\n",
       " '豆腐炒青菜': 1,\n",
       " '土豆碎豆沙': 1,\n",
       " '烤虾与芦笋': 1,\n",
       " '鲈鱼蒸丝瓜': 1,\n",
       " '土豆烤鳕鱼': 1,\n",
       " '凉拌藕片': 1,\n",
       " '椒麻鸡片': 1,\n",
       " '素炒饭': 1,\n",
       " '蒸鱼配生姜和葱': 1,\n",
       " '烤鸡胸肉配混合蔬菜': 1,\n",
       " '凉拌黑豆凉粉': 1,\n",
       " '素炒三丁（胡萝卜丁、豆腐丁、青椒丁）': 1,\n",
       " '芦笋炒虾': 1,\n",
       " '糙米鸡丝粥': 1,\n",
       " '蔬菜清汤': 1,\n",
       " '豆腐拌菠菜': 1,\n",
       " '炒藜麦': 1,\n",
       " '番茄炒鸡蛋': 1,\n",
       " '三文鱼佐芦笋': 1,\n",
       " '蒸三文鱼搭配姜汁酱': 1,\n",
       " '凉拌藜麦色拉': 1,\n",
       " '鳄梨玉米饼': 1,\n",
       " '水煮蛋配青菜': 1,\n",
       " '豆腐烧菜': 1,\n",
       " '烤鸡和甜椒': 1,\n",
       " '蒸青菜': 1,\n",
       " '凉拌海带': 1,\n",
       " '番茄炖牛肉': 1,\n",
       " '土豆泥伴烤鳕鱼': 1,\n",
       " '素食豆腐汤': 1,\n",
       " '炒鳄梨与虾仁': 1,\n",
       " '凉拌西兰花': 1,\n",
       " '烤鸡胸肉配迷迭香和柠檬': 1,\n",
       " '凉拌绿色蔬菜沙拉': 1,\n",
       " '藜麦与野菌炒菜': 1,\n",
       " '豆腐皮卷': 1,\n",
       " '全麦面条搭配番茄酱和新鲜蔬菜': 1,\n",
       " '烤地瓜': 1,\n",
       " '水果炒冰': 1,\n",
       " '土豆烧鸡块': 1,\n",
       " '麻婆豆腐': 1,\n",
       " '菠菜汤': 1,\n",
       " '清炒西兰花': 1,\n",
       " '五彩沙拉': 1,\n",
       " '豆腐皮包素菜': 1,\n",
       " '藕片炒肉': 1,\n",
       " '蒸三文鱼配绿叶蔬菜': 1,\n",
       " '鸡胸肉凯撒沙拉': 1,\n",
       " '番茄扁豆汤': 1,\n",
       " '凉拌鹰嘴豆沙拉': 1,\n",
       " '炒豆腐配青菜': 1,\n",
       " '南瓜红豆炖饭': 1,\n",
       " '土耳其肉丸配小米粥': 1,\n",
       " '蔬菜全麦披萨': 1,\n",
       " '蒸三文鱼配青豆和西兰花': 1,\n",
       " '番薯烧牛肉': 1,\n",
       " '豆腐蔬菜炒': 1,\n",
       " '烤鳕鱼配柠檬和香草': 1,\n",
       " '全麦面条配烩蔬菜': 1,\n",
       " '凉拌黄瓜': 1,\n",
       " '番茄炖牛腩': 1,\n",
       " '炒蘑菇菠菜': 1,\n",
       " '鸡胸肉凉拌沙拉': 1,\n",
       " '蒜蓉炒西兰花': 1,\n",
       " '土豆炖鸡块': 1,\n",
       " '蒸扇贝': 1,\n",
       " '蒸三文鱼配柠檬和蔬菜': 1,\n",
       " '鸡肉炒藜麦': 1,\n",
       " '地中海风格的烤蔬菜沙拉': 1,\n",
       " '豆腐炒菠菜': 1,\n",
       " '土耳其式凉拌蔬菜盘': 1,\n",
       " '蘑菇燉鸡': 1,\n",
       " '烤甜菜根与羊奶酪沙拉': 1,\n",
       " '糙米炒青豆与杏仁': 1,\n",
       " '清蒸扁豆搭配甘蓝和红薯': 1,\n",
       " '蒸三文鱼配柠檬草和姜': 1,\n",
       " '凯尔芝麻沙拉': 1,\n",
       " '鸡肉汤波菜拌饭': 1,\n",
       " '冷号瓜汤': 1,\n",
       " '豆腐青豆拌菜': 1,\n",
       " '土豆炖豆角': 1,\n",
       " '火鸡肉丸配西兰花': 1,\n",
       " '希腊酸奶水果碗': 1,\n",
       " '鸡胸肉炖蔬菜': 1,\n",
       " '藜麦沙拉': 1,\n",
       " '水果切盘': 1,\n",
       " '蔬菜寿司': 1,\n",
       " '咖喱鸡配椰汁咖喱和各种蔬菜': 1,\n",
       " '烤三文鱼配蔬菜': 1,\n",
       " '鸡胸肉凉拌紫甘蓝沙拉': 1,\n",
       " '蒸豆腐配蘑菇': 1,\n",
       " '素食印度咖喱': 1,\n",
       " '希腊式鸡肉烤串': 1,\n",
       " '泰式青木瓜沙拉': 1,\n",
       " '蒜蓉西兰花炒虾': 1,\n",
       " '鲑鱼蒸菠菜': 1,\n",
       " '鸡肉炖蔬菜': 1,\n",
       " '番薯烤豆腐': 1,\n",
       " '芦笋扒鸡胸': 1,\n",
       " '冬瓜草菇汤': 1,\n",
       " '番茄烤鱼': 1,\n",
       " '豆腐素炒': 1,\n",
       " '酸辣螺蛳粉': 1,\n",
       " '西蓝花炒虾': 1,\n",
       " '蒸南瓜': 1,\n",
       " '香菇炖鸡': 1,\n",
       " '芹菜炒核桃': 1,\n",
       " '蒸三文鱼配蔬菜': 1,\n",
       " '土豆烩豌豆与菠菜': 1,\n",
       " '牛肉丝炒西兰花': 1,\n",
       " '酸辣汤': 1,\n",
       " '土豆泥和烤土豆块': 1,\n",
       " '番茄鸡蛋花椰菜汤': 1,\n",
       " '泰式蔬菜汤': 1,\n",
       " '蔬菜咖喱': 1,\n",
       " '烤茄子配酸奶酱': 1}"
      ]
     },
     "execution_count": 167,
     "metadata": {},
     "output_type": "execute_result"
    }
   ],
   "source": [
    "chn_healthy_dish_counts"
   ]
  },
  {
   "cell_type": "code",
   "execution_count": 112,
   "id": "f476f327-c600-4b06-8229-aa12d3a0f062",
   "metadata": {
    "scrolled": true
   },
   "outputs": [
    {
     "name": "stdout",
     "output_type": "stream",
     "text": [
      "Counts after first batch (10):\n",
      "\n",
      "南瓜汤: 3\n",
      "烤地中海蔬菜: 3\n",
      "清蒸鲈鱼: 2\n",
      "鸡肉蔬菜汤: 2\n",
      "蔬菜豆腐汤: 2\n",
      "鸡胸肉炒蔬菜: 2\n",
      "番茄炒蛋: 2\n",
      "鸡胸肉沙拉: 2\n",
      "蔬菜炒豆腐: 2\n",
      "蔬菜杂粮沙拉: 1\n",
      "土豆烤鸡: 1\n",
      "豆腐五彩炒菜: 1\n",
      "三文鱼蔬菜卷: 1\n",
      "西兰花炒虾: 1\n",
      "烤鹰嘴豆和甜菜根沙拉: 1\n",
      "香蕉燕麦粥: 1\n",
      "西兰花清蒸鸡胸肉: 1\n",
      "番茄烤鳕鱼: 1\n",
      "凉拌黑木耳: 1\n",
      "南瓜燕麦粥: 1\n",
      "土豆炖菠菜: 1\n",
      "清炒四季豆: 1\n",
      "水煮鸡蛋配沙拉: 1\n",
      "烤南瓜豆腐沙拉: 1\n",
      "番薯紫菜汤: 1\n",
      "蒸三文鱼配柠檬薄荷酱: 1\n",
      "烤鸡胸肉配罗勒和番茄: 1\n",
      "凉拌藜麦沙拉: 1\n",
      "韩式拌饭: 1\n",
      "墨西哥风味蔬菜炒豆: 1\n",
      "印度豆腐咖喱: 1\n",
      "地中海鹰嘴豆沙拉: 1\n",
      "日式汤面: 1\n",
      "蔬菜豆浆汤: 1\n",
      "蒸三文鱼配绿叶菜: 1\n",
      "番茄炖扁豆汤: 1\n",
      "烤地瓜搭配羽衣甘蓝: 1\n",
      "素食拌面: 1\n",
      "水煮蛋配鳄梨沙拉: 1\n",
      "土耳其式烤肉串: 1\n",
      "绿豆芽泰式沙拉: 1\n",
      "瓜柳配薏仁米: 1\n",
      "凤梨炒豆腐: 1\n",
      "蒸鲈鱼: 1\n",
      "土豆泥配烤鸡胸肉: 1\n",
      "烤蔬菜沙拉: 1\n",
      "凉拌豆腐皮: 1\n",
      "三文鱼拌饭: 1\n",
      "蔬菜煎饼: 1\n",
      "蒜蓉西兰花: 1\n",
      "冬瓜汤: 1\n",
      "蒸鱼: 1\n",
      "素炒三丝: 1\n",
      "清炒菠菜: 1\n",
      "土豆烧茄子: 1\n",
      "番茄炖豆腐: 1\n",
      "蘑菇炖鸡: 1\n",
      "绿豆汤: 1\n",
      "炒米粉: 1\n",
      "鸡胸肉蔬菜沙拉: 1\n",
      "三文鱼刺身: 1\n",
      "蒸豆腐: 1\n",
      "炒蔬菜: 1\n",
      "番茄鸡蛋汤: 1\n",
      "土豆泥搭配烤鸡腿肉: 1\n",
      "凉拌苦瓜: 1\n",
      "藜麦色拉: 1\n",
      "海带豆腐汤: 1\n",
      "甜菜根沙拉: 1\n",
      "鲑鱼蒸菜: 1\n",
      "烤鸡胸肉配蔬菜: 1\n",
      "番茄炖扁豆: 1\n",
      "土豆泥配菠菜: 1\n",
      "三色藜麦沙拉: 1\n",
      "照烧鳕鱼: 1\n",
      "香菇青菜炒米粉: 1\n",
      "土豆西兰花汤: 1\n",
      "红豆燕麦粥: 1\n",
      "烤三文鱼配绿叶蔬菜: 1\n",
      "羽衣甘蓝沙拉: 1\n",
      "苦瓜炒牛肉: 1\n",
      "蒸三文鱼佐柠檬汁: 1\n",
      "番茄炖豆汤: 1\n",
      "秋葵配咖喱鸡块: 1\n",
      "五彩蔬菜天妇罗: 1\n",
      "绿色沙拉配烤羊肉: 1\n",
      "牛蒡和胡萝卜的日式拌饭: 1\n",
      "鹰嘴豆沙拉: 1\n",
      "番茄海鲜烩饭: 1\n"
     ]
    }
   ],
   "source": [
    "print(\"Counts after first batch (10):\\n\")\n",
    "for dish, count in chn_healthy_dish_counts.items():\n",
    "    print(f\"{dish}: {count}\")"
   ]
  },
  {
   "cell_type": "markdown",
   "id": "072c630d-6fac-4954-9495-d12345c2cc2b",
   "metadata": {},
   "source": [
    "Pumpkin soup: 3 \\\n",
    "Grilled Mediterranean vegetables: 3 \\\n",
    "Steamed sea bass: 2 \\\n",
    "Chicken and vegetable soup: 2 \\\n",
    "Vegetable and tofu soup: 2 \\\n",
    "Chicken breast with vegetables: 2 \\\n",
    "Tomato scrambled eggs: 2 \\\n",
    "Chicken breast salad: 2 \\\n",
    "Vegetable and tofu salad: 2 \\\n",
    "Vegetable and mixed grain salad: 1 \\\n",
    "Potato Grilled chicken: 1 \\\n",
    "Tofu stir-fry: 1 \\\n",
    "Salmon and vegetable wraps: 1 \\\n",
    "Shrimp sautéed with broccoli: 1 \\\n",
    "Roasted chickpea and beetroot salad: 1 \\\n",
    "Banana oatmeal: 1 \\\n",
    "Steamed chicken breast with broccoli: 1 \\\n",
    "Grilled cod with tomatoes: 1 \\\n",
    "Cold black fungus : 1 \\\n",
    "Pumpkin Oatmeal: 1 \\\n",
    "Stewed Spinach with Potatoes: 1 \\\n",
    "Sautéed Green Beans: 1 \\\n",
    "Boiled Egg with Salad: 1 \\\n",
    "Roasted Pumpkin and Tofu Salad: 1 \\\n",
    "Sweet Potato and Seaweed Soup: 1 \\\n",
    "Steamed Salmon with Lemon Mint Sauce: 1 \\\n",
    "Grilled Chicken Breast with Basil and Tomatoes: 1 \\\n",
    "Cold Quinoa Salad: 1 \\\n",
    "Korean Bibimbap: 1 \\\n",
    "Mexican Fried Beans: 1 \\\n",
    "Indian Tofu Curry: 1 \\\n",
    "Mediterranean Chickpea Salad: 1 \\\n",
    "Japanese Noodle Soup: 1 \\\n",
    "Vegetable Soy Milk Soup: 1 \\\n",
    "Steamed Salmon with Greens: 1 \\\n",
    "Lentil Soup with Tomatoes: 1 \\\n",
    "Grilled Sweet Potato and Kale: 1 \\\n",
    "Vegetarian Noodles: 1 \\\n",
    "Boiled Egg with Avocado Salad: 1 \\\n",
    "Turkish Kebab: 1 \\\n",
    "Thai Mung Bean Sprout Salad: 1 \\\n",
    "Melon Fillet with Barley Rice: 1 \\\n",
    "Fried Pineapple Tofu: 1 \\\n",
    "Steamed sea bass: 1 \\\n",
    "Mashed potatoes with grilled chicken breast: 1 \\\n",
    "Grilled vegetable salad: 1 \\\n",
    "Cold tofu skin: 1 \\\n",
    "Salmon bibimbap: 1 \\\n",
    "Vegetable pancake: 1 \\\n",
    "Garlic broccoli: 1 \\\n",
    "Winter melon soup: 1 \\\n",
    "Steamed fish: 1 \\\n",
    "Vegetarian stir-fry Three shreds: 1 \\\n",
    "Stir-fried spinach: 1 \\\n",
    "Potato-roasted eggplant: 1 \\\n",
    "Tomato-stewed tofu: 1 \\\n",
    "Mushroom-stewed chicken: 1 \\\n",
    "Mung bean soup: 1 \\\n",
    "Fried rice noodles: 1 \\\n",
    "Chicken breast vegetable salad: 1 \\\n",
    "Salmon sashimi: 1 Steamed tofu: 1 \\\n",
    "Stir-fried vegetables: 1 \\\n",
    "Tomato and egg soup: 1 \\\n",
    "Mashed potatoes with grilled chicken thighs: 1 \\\n",
    "Bitter melon salad: 1 \\\n",
    "Quinoa salad: 1 \\\n",
    "Kelp and tofu soup: 1 \\\n",
    "Beetroot salad: 1 \\\n",
    "Salmon steamed vegetables: 1 \\\n",
    "Grilled chicken breast with vegetables: 1 \\\n",
    "Tomato stewed lentils: 1 \\\n",
    "potato Pureed Spinach: 1 \\\n",
    "Tricolor Quinoa Salad: 1 \\\n",
    "Teriyaki Cod: 1 \\\n",
    "Rice Noodles with Mushrooms and Greens: 1 \\\n",
    "Potato and Broccoli Soup: 1 \\\n",
    "Red Bean Oatmeal: 1 \\\n",
    "Grilled Salmon with Green Leafy Vegetables: 1 \\\n",
    "Kale Salad: 1 \\\n",
    "Stir-fried Beef with Bitter Melon: 1 \\\n",
    "Steamed salmon with lemon juice: 1 \\\n",
    "Tomato bean soup: 1 \\\n",
    "Okra with chicken curry: 1 \\\n",
    "Colorful vegetable tempura: 1 \\\n",
    "Green salad with grilled lamb: 1 \\\n",
    "Japanese rice with burdock and carrot: 1 \\\n",
    "Chickpea salad : 1 \\\n",
    "Tomato Seafood Risotto: 1 \\"
   ]
  },
  {
   "cell_type": "code",
   "execution_count": 78,
   "id": "700c7aa5-5c07-4c0c-8963-4ffd52e1bf00",
   "metadata": {},
   "outputs": [],
   "source": [
    "chn_healthy_results_2 = call_openai_api(prompt_healthy_chn, n_runs=20)"
   ]
  },
  {
   "cell_type": "code",
   "execution_count": 193,
   "id": "d0491886-d426-4fbe-9951-55ac8bb41ccf",
   "metadata": {
    "scrolled": true
   },
   "outputs": [
    {
     "data": {
      "text/plain": [
       "['当然可以！这里有10种健康菜肴的建议，既美味又营养：\\n\\n1. 蒸三文鱼配芦笋\\n   - 三文鱼富含Omega-3脂肪酸和蛋白质，而芦笋则含有丰富的维生素K和纤维。\\n\\n2. 鸡胸肉炒蔬菜\\n   - 使用少量橄榄油炒制新鲜的青椒、胡萝卜和西兰花等蔬菜，再搭配瘦鸡胸肉，高蛋白且低脂肪。\\n\\n3. 土豆泥配烤南瓜和菠菜\\n   - 土豆是天然的碳水化合物来源，南瓜富含维生素A，菠菜则含有铁和钙。\\n\\n4. 藜麦色拉\\n   - 藜麦是一种完全的蛋白质，含有所有九种必需氨基酸。搭配番茄、黄瓜、红椒和一把新鲜的橄榄油。\\n\\n5. 豆腐炒青菜\\n   - 低卡高蛋白的豆腐搭配例如菠菜、青豆和甜椒等热量低的混合蔬菜。\\n\\n6. 烤鸡腿配烤地瓜和蔬菜串\\n   - 鸡腿肉质柔嫩多汁，搭配富含纤维的地瓜和各色蔬菜如椒类和洋葱，营养全面。\\n\\n7. 希腊酸奶配水果与薄荷\\n   - 希腊酸奶富含蛋白质和益生菌，搭配新鲜水果和少许薄荷，早餐或健康小吃的完美选择。\\n\\n8. 烤鳕鱼配柠檬和草药\\n   - 鳕鱼是一种低脂、高蛋白的鱼类，搭配柠檬和蒜末、罗勒等天然香料可以增加风味同时保持健康。\\n\\n9. 素食黑豆汉堡\\n   - 黑豆是蛋白质和纤维的好来源。自制黑豆汉堡搭配全麦面包，健康且美味。\\n\\n10. 照烧豆皮滑蛋\\n    - 豆皮中蛋白质含量高，低脂肪，并且和滑蛋的搭配口感丰富，照烧酱可以用少油少糖的方式调味。\\n\\n这些健康菜肴不仅适合日常饮食，还可以帮助维持良好的体重和提供必需的营养成分。享受美食的同时也能照顾到身体健康。',\n",
       " '当然可以！这里是10道健康且营养均衡的菜肴，适合想要保持健康饮食的你：\\n\\n1. **蒸三文鱼配西兰花**  \\n   蒸煮是一种健康的烹饪方法，能最大限度地保留食物的营养。三文鱼富含Omega-3脂肪酸，而西兰花则是低卡且富含维生素C和纤维的选择。\\n\\n2. **鸡胸肉炒蔬菜**  \\n   使用橄榄油和大量新鲜蔬菜（如胡萝卜、甜椒、洋葱）与鸡胸肉炒制，低脂而高蛋白，非常适合健身饮食。\\n\\n3. **烤地中海蔬菜沙拉**  \\n   包括番茄、黄瓜、红洋葱、橄榄和块状羊奶酪，搭配以橄榄油和柠檬汁调味，富含抗氧化剂和健康脂肪。\\n\\n4. **南瓜汤**  \\n   用南瓜制作的汤不仅味道甜美，还含有丰富的维生素A和纤维。可以加入一点姜和蒜提味。\\n\\n5. **土豆蔬菜煲**  \\n   使用土豆作为主要成分，并加入大量蔬菜（如胡萝卜、豌豆、西红柿）。这是一道营养丰富且温暖的一锅菜。\\n\\n6. **豆腐炒青菜**  \\n   豆腐是一个优良的植物性蛋白质来源，与菠菜、青椒等绿叶蔬菜炒一炒，简单同时养生。\\n\\n7. **土豆碎豆沙**  \\n   这道菜使用碎肉（可以选用鸡肉或瘦猪肉）和红豆沙快炒，再与蒸土豆泥一起食用，是一道低脂高蛋白的菜。\\n\\n8. **烤虾与芦笋**  \\n   海鲜如虾是良好的蛋白质来源且低脂肪，与烤芦笋一同食用，简便且健康。\\n\\n9. **水果酸奶沙拉**  \\n   混合您喜爱的各种新鲜水果，如苹果、香蕉、草莓，加入天然无糖酸奶，既可作为健康早餐也是美味的甜点。\\n\\n10. **鲈鱼蒸丝瓜**  \\n    蒸鲈鱼保留了鱼的原汁原味，配上清新的丝瓜，简单又不失营养价值。\\n\\n这些菜肴不仅美味，还有助于维持健康的生活方式。试试看，希望你会喜欢！',\n",
       " '当然可以！这里我给您列出10道健康且营养均衡的菜肴，适合日常饮食：\\n\\n1. **蒸三文鱼** - 用柠檬、蒜瓣和香草腌制的三文鱼蒸熟，搭配蒸青菜如西兰花或菠菜。\\n\\n2. **鸡胸肉炒蔬菜** - 使用低脂鸡胸肉，加入彩椒、洋葱、蘑菇等各种蔬菜，用橄榄油和少量酱油快速炒制。\\n\\n3. **绿豆汤** - 用绿豆、南瓜块和少许红枣煮制，低脂高纤维，有助于清理肠胃。\\n\\n4. **土豆烤鳕鱼** - 轻轻涂抹橄榄油和香草的鳕鱼，与烤土豆搭配，简单健康。\\n\\n5. **凉拌藕片** - 新鲜藕片搭配黄瓜和胡萝卜丝，加上少许醋和芝麻，酸甜清爽。\\n\\n6. **番茄炒蛋** - 用鲜红番茄和农场鸡蛋，少量油煎至鸡蛋熟透，简单且营养。\\n\\n7. **豆腐皮凉菜** - 豆腐皮切条，配合黄瓜丝、芝麻和香菜，用酱油和醋调味。\\n\\n8. **椒麻鸡片** - 采用去皮鸡胸肉，搭配花椒和少量辣椒，既开胃又低脂。\\n\\n9. **素炒饭** - 以大米为基础，加入豌豆、胡罗卜丁和玉米粒，用少量橄榄油炒制。\\n\\n10. **南瓜粥** - 将南瓜煮软后与米一起煮成粥，可以加些小枣和核桃提高口感和营养。\\n\\n这些菜肴不仅味道丰富，而且营养均衡，适合保持健康生活的日常饮食。',\n",
       " '1. **蒸鱼配生姜和葱**  \\n   高蛋白且低脂肪的蒸鱼是一种非常健康的选择。添加生姜和葱不仅可以提供额外的风味，还能增加一些有益健康的抗炎作用和抗氧化属性。\\n\\n2. **烤鸡胸肉配混合蔬菜**  \\n   用橄榄油和香草调味的烤鸡胸肉，搭配西兰花、胡萝卜和甜菜等烤蔬菜，既能提供丰富的蛋白质，又能补充一日所需的多种维生素和矿物质。\\n\\n3. **番茄炖豆**  \\n   这道菜肴不仅美味，并且富含高纤维和低脂肪，适合心脏健康。番茄提供丰富的抗氧化剂——番茄红素，而各种豆类则提供蛋白质和纤维。\\n\\n4. **凉拌黑豆凉粉**  \\n   黑豆凉粉是一种低脂肪、高蛋白且高纤维的选择，加入新鲜蔬菜和一点麻酱油拌制，非常适合夏季食用。\\n\\n5. **土豆烧菜花**  \\n   土豆和菜花一起煮，少许辣椒和香料调味，不但低卡路里，同时富含维生素C和钾，非常适合减肥和保持健康的饮食计划。\\n\\n6. **藜麦色拉**  \\n   藜麦是一种超级食物，含有全部九种必需氨基酸。配上小番茄、黄瓜、红椒和一抹柠檬汁，成为一份营养均衡的轻食。\\n\\n7. **南瓜汤**  \\n   南瓜是一种低热量、高纤维的食材，搭配洋葱、姜和蒜煮成汤，能提供丰富的维生素A和免疫系统支持。\\n\\n8. **素炒三丁（胡萝卜丁、豆腐丁、青椒丁）**  \\n   这道简单的素菜通过使用不同颜色的蔬菜，提供丰富的营养素，而豆腐则是一种优质的植物性蛋白来源。\\n\\n9. **芦笋炒虾**  \\n   芦笋富含抗氧化剂和纤维，虾则提供高质量的蛋白质和必需的欧米茄-3脂肪酸，是一道低卡又满足的菜肴。\\n\\n10. **糙米鸡丝粥**  \\n    慢炖的糙米粥加入少许鸡肉丝，简单却营养丰富。糙米提供持久的能量和必需的B族维生素，而鸡肉是低脂肪的蛋白质来源。',\n",
       " '以下是10道健康且营养丰富的菜肴推荐，适合想吃得健康且美味的朋友们：\\n\\n1. **蒸鱼** - 选择清淡的白肉鱼如鳕鱼或鲈鱼，加入生姜和葱来增添风味。蒸鱼保留了鱼的原味和营养，同时减少了油脂的使用。\\n\\n2. **蔬菜清汤** - 使用多种蔬菜，如胡萝卜、西红柿、菠菜和豌豆。用少许的橄榄油和各种香草（如罗勒和迷迭香）煮成一锅充满香气的清汤。\\n\\n3. **鸡胸肉沙拉** - 使用烤或煮熟的鸡胸肉，搭配生菜、西红柿、黄瓜和其他你喜欢的蔬菜。佐以橄榄油和柠檬汁。\\n\\n4. **豆腐拌菠菜** - 简单用水煮一下新鲜菠菜和豆腐，加入蒜末和酱油调味，健康又美味。\\n\\n5. **南瓜汤** - 用新鲜的南瓜加上洋葱、姜和蒜煮成浓汤，再用搅拌机打成细腻的汤品。可以加入一点低脂牛奶或椰奶增加口感。\\n\\n6. **炒藜麦** - 藜麦是一种高蛋白、高纤维的食物，加上各种蔬菜（如红椒、胡萝卜、洋葱）和豆类一起炒，营养又饱腹。\\n\\n7. **土豆泥配烤蔬菜** - 使用甜土豆制作土豆泥，搭配烤胡萝卜、青椒和西兰花等。不仅颜色丰富，营养也全面。\\n\\n8. **番茄炒鸡蛋** - 简单但充满营养，番茄和鸡蛋的搭配经典又美味。可以佐以少许盐和胡椒提味。\\n\\n9. **三文鱼佐芦笋** - 烤三文鱼搭配少许橄榄油和柠檬汁，边上放上蒸或烤的芦笋，是一道低脂高蛋白的健康选择。\\n\\n10. **水果酸奶沙拉** - 混合各种喜欢的新鲜水果（如苹果、草莓和蓝莓），搭配低脂酸奶和一撒蜂蜜，不仅健康还能满足对甜食的渴望。\\n\\n这些菜肴不仅美味可口，而且营养均衡，适合日常饮食。',\n",
       " '当然可以！下面是10种既健康又美味的菜肴，适合日常饮食：\\n\\n1. **蒸三文鱼搭配姜汁酱** - 三文鱼中的Omega-3脂肪酸对心脏健康非常有益，姜汁可以增加菜肴的风味同时带有良好的抗炎作用。\\n\\n2. **鸡胸肉炒蔬菜** - 使用少量橄榄油和大量新鲜蔬菜（如青椒、西兰花、胡萝卜）搭配瘦鸡胸肉，制成低脂、高蛋白的餐点。\\n\\n3. **番茄炖豆** - 使用各种豆类，如黑豆、白豆和鹰嘴豆，搭配新鲜番茄和香料，制成富含蛋白质和纤维的美食。\\n\\n4. **蔬菜汤** - 把胡萝卜、土豆、西葫芦、洋葱等蔬菜与鸡肉或者纯蔬菜高汤相结合，制成一道充满 vitamins 和矿物质的温暖汤品。\\n\\n5. **凉拌藜麦色拉** - 藜麦是一种富含蛋白质和氨基酸的健康谷物。加入黄瓜、番茄、洋葱和鳄梨，调入橄榄油和柠檬汁。\\n\\n6. **土豆泥配烤蔬菜** - 使用希腊酸奶代替传统的奶油制作土豆泥，降低脂肪含量，搭配烤制的胡萝卜、甜菜和南瓜等。\\n\\n7. **鳄梨玉米饼** - 利用鳄梨和玉米粒，加入一点辣椒和生菜制成富含健康脂肪和纤维的玉米饼。\\n\\n8. **水煮蛋配青菜** - 蒸煮或水煮的蔬菜（如菠菜、芦笋和青豆）与水煮蛋一起食用，简单又充满营养。\\n\\n9. **豆腐烧菜** - 将豆腐与蘑菇、包菜、豆芽等蔬菜一起用酱油和少许芝麻油快炒，是一道低卡而高蛋白的菜肴。\\n\\n10. **烤鸡和甜椒** - 将整只鸡与红椒、黄椒和洋葱一起烤制，零添加，满足一家人的需求。\\n\\n希望这些建议可以为你提供一些新的菜肴想法，做出既健康又美味的饭菜！',\n",
       " '以下是10道营养又健康的菜肴，适合希望摄入均衡营养的朋友们：\\n\\n1. **蒸青菜**：选择如芥兰或菠菜，清蒸后淋上一点蒜蓉和少许橄榄油，简单且保留了大部分营养。\\n\\n2. **三文鱼刺身**：富含Omega-3脂肪酸和蛋白质，可以提供心脏健康所需的好脂肪。\\n\\n3. **鸡胸肉炒蔬菜**：使用橄榄油将鸡胸肉与西红柿、黄瓜、胡萝卜等蔬菜一起炒制，低脂且富含蛋白。\\n\\n4. **凉拌海带**：海带富含碘和纤维，配以醋、芝麻和少许辣椒，是一道健康开胃的小菜。\\n\\n5. **番茄炖牛肉**：慢炖的番茄和牛肉不仅味道鲜美，且番茄中的番茄红素有助于心脏健康。\\n\\n6. **土豆泥伴烤鳕鱼**：烤鳕鱼低脂且蛋白质丰富，配上自制的无油土豆泥，营养又健康。\\n\\n7. **素食豆腐汤**：使用多种蔬菜和豆腐煮成的汤，低卡而含有丰富的植物蛋白。\\n\\n8. **南瓜粥**：南瓜富含维生素A和纤维，与小米或糙米同煮，既健康又能提供能量。\\n\\n9. **炒鳄梨与虾仁**：鳄梨含有健康的单不饱和脂肪，与虾仁一起炒，不仅美味且富含蛋白质。\\n\\n10. **凉拌西兰花**：西兰花是优秀的抗氧化食物，搭配简单的醋和橄榄油调料，可以作为健康的配菜。\\n\\n这些菜肴不仅健康，而且制作方便，适合日常饮食。',\n",
       " '当然可以，以下是10道健康菜肴的建议，既美味又营养丰富，适合保持健康生活方式：\\n\\n1. **蒸三文鱼搭配生姜和大蒜** - 三文鱼富含Omega-3脂肪酸，对心脏健康有利，搭配生姜和大蒜能增加抗炎功效。\\n\\n2. **烤鸡胸肉配迷迭香和柠檬** - 鸡胸肉低脂肪，高蛋白，用迷迭香和柠檬调味不仅口感好，还有助于消化。\\n\\n3. **凉拌绿色蔬菜沙拉** - 使用各种新鲜蔬菜，如菠菜、生菜、黄瓜及西红柿，搭配橄榄油和醋制作简单的沙拉酱。\\n\\n4. **绿豆汤** - 绿豆具有很好的清热解毒作用，适合高温季节食用，可以添加些许海带或木耳增加口感。\\n\\n5. **藜麦与野菌炒菜** - 藜麦富含多种必需氨基酸和维生素，与各种野生菌菇（如香菇、金针菇）一起炒，既健康又美味。\\n\\n6. **豆腐皮卷** - 使用豆腐皮作为包裹材料，内填色拉、胡萝卜丝、黄瓜丝，低卡且富含蛋白质。\\n\\n7. **南瓜汤** - 南瓜含丰富的β-胡萝卜素和纤维，与姜、洋葱一起煮汤，增添风味同时也很滋养。\\n\\n8. **全麦面条搭配番茄酱和新鲜蔬菜** - 全麦面条代替传统白面，更加健康，配上自制的番茄酱和丰富的季节性蔬菜。\\n\\n9. **烤地瓜** - 地瓜富含纤维和天然糖分，简单烤制即成美味的健康甜点或小吃。\\n\\n10. **水果炒冰** - 使用各种新鲜水果，如芒果、草莓、蓝莓等，加上一点点原味酸奶制成健康的冰淇淋。\\n\\n这些菜肴不仅健康，同时也易于制作，适合日常饮食。',\n",
       " '当然可以！这里有10道兼顾美味与健康的菜肴推荐，适合日常餐桌：\\n\\n1. **蒸三文鱼** - 用姜丝和葱花蒸烹的三文鱼，不仅可以保持鱼的鲜美，同时减少油脂摄取。\\n\\n2. **土豆烧鸡块** - 使用橄榄油和各种香料（如迷迭香和大蒜粉），低温烤制鸡肉和土豆，健康美味。\\n\\n3. **番茄炒蛋** - 番茄与鸡蛋都是营养丰富的食材，简单炒制，口味鲜美又补血。\\n\\n4. **麻婆豆腐** - 选用少油少盐的方式，搭配豆腐和适量的牛肉，既能享受美食又不增加额外热量。\\n\\n5. **菠菜汤** - 用鲜菠菜、大蒜和低脂鸡汤煮成的汤，富含铁质和维他命，适合补血养颜。\\n\\n6. **清炒西兰花** - 西兰花是高纤维的蔬菜，清炒能最大程度保存其营养素，简单加入蒜末提味。\\n\\n7. **五彩沙拉** - 以新鲜蔬菜和水果（如番茄、黄瓜、生菜、牛油果、橙子）制作的沙拉，搭配橄榄油和柠檬汁。\\n\\n8. **豆腐皮包素菜** - 使用豆腐皮包裹多种蒸煮蔬菜，如胡萝卜、青豆和蘑菇，既健康又具有丰富的口感。\\n\\n9. **素食寿司** - 使用糙米、酸黄瓜、胡萝卜、牛油果制作寿司，既增加了纤维素，又能享受日式美食的独特风味。\\n\\n10. **藕片炒肉** - 选用瘦肉和新鲜莲藕，配以适量的生姜和葱进行快速炒制，简单健康，有助于消化。  \\n\\n这些菜肴不仅健康，还能为餐桌带来多样的风味体验。希望你能尝试并喜欢！',\n",
       " '健康的饮食有助于维持良好的身体状态和精神状态。以下是10个既健康又美味的菜肴，适合想要保持健康生活方式的人：\\n\\n1. **蒸三文鱼配绿叶蔬菜** - 三文鱼是优质的蛋白质来源，并且含有丰富的欧米茄-3脂肪酸，与菠菜、西兰花一起蒸煮后，既能保留营养，又能增添风味。\\n\\n2. **鸡胸肉凯撒沙拉** - 使用烤或煮熟的鸡胸肉，搭配新鲜蔬菜如罗马生菜、樱桃番茄和全麦面包块，使用低脂凯撒酱调味。\\n\\n3. **番茄扁豆汤** - 番茄和扁豆是铁和维生素C的良好来源，这道汤既可以作为一顿轻盈的午餐，也适合作为晚餐的开胃菜。\\n\\n4. **烤地中海蔬菜** - 选择如茄子、甜椒、洋葱和番茄等地中海风格的蔬菜，加入橄榄油和香草，烤制至菜肴香软。\\n\\n5. **凉拌鹰嘴豆沙拉** - 鹰嘴豆是植物蛋白的极佳来源，与小黄瓜、红椒和新鲜香草（如薄荷或欧芹）混合，拌入柠檬汁和橄榄油。\\n\\n6. **炒豆腐配青菜** - 使用低脂的豆腐与多种青菜（如青椒、韭菜和菠菜）进行快速炒制，佐以少量的酱油和芝麻油增添风味。\\n\\n7. **南瓜红豆炖饭** - 南瓜和红豆搭配米饭，制作富含纤维和植物蛋白的主食。可以适量添加香料如肉桂和丁香，增添风味。\\n\\n8. **土耳其肉丸配小米粥** - 制作低脂的牛或羊肉肉丸，配以高纤维的小米作为主食，不仅健康也非常填饱。\\n\\n9. **凉拌苦瓜** - 苦瓜有助于降低血糖，适合糖尿病患者食用。可以用少许盐和醋进行简单的凉拌，保留其天然味道。\\n\\n10. **蔬菜全麦披萨** - 使用全麦披萨皮，涂上自制的番茄酱，覆盖上橄榄、蘑菇、甜椒等蔬菜，撒上少量的低脂奶酪。\\n\\n这些菜肴不仅美味，还能提供必要的营养素，帮助你维持健康的生活方式。',\n",
       " '当然可以！下面是10道健康的菜肴，适合想要吃得健康但又不失风味的人们：\\n\\n1. **蒸三文鱼配青豆和西兰花**：\\n   - 丰富的Omega-3脂肪酸，维生素和矿物质。\\n   \\n2. **鸡胸肉沙拉**：\\n   - 使用烤或煮的鸡胸肉，加入生菜、番茄、黄瓜和低脂调味料，健康又充满蛋白。\\n   \\n3. **番薯烧牛肉**：\\n   - 番薯提供丰富的纤维和维他命A，配合低脂牛肉，营养且低脂。\\n   \\n4. **豆腐蔬菜炒**：\\n   - 高蛋白的豆腐和各种蔬菜（如青椒、菠菜和胡萝卜）一起 stir-fry，使用少量的植物油。\\n   \\n5. **蔬菜汤**：\\n   - 含有各种蔬菜（如胡萝卜、西红柿、洋葱、西芹），加入低脂肉类或豆类，是非常低卡而满足的一餐。\\n   \\n6. **烤鳕鱼配柠檬和香草**：\\n   - 烤鱼是一道低脂、高蛋白的菜肴，柠檬和香草能增加风味而不增加额外的卡路里。\\n   \\n7. **凉拌苦瓜**：\\n   - 苦瓜是低卡路里，高纤维的蔬菜，有助于降低血糖，配合醋和蒜末调味，简单又健康。\\n   \\n8. **绿豆汤**：\\n   - 绿豆丰富的蛋白质和纤维，可以做成甜汤或咸汤，是中国传统中常见的健康食品。\\n   \\n9. **烤地中海蔬菜**：\\n   - 比如茄子、红椒和西葫芦等蔬菜，配上橄榄油和海盐烤制，不仅美味还很健康。\\n   \\n10. **全麦面条配烩蔬菜**：\\n    - 利用全麦面条提供更多纤维，配上番茄、蒜末和新鲜蔬菜如菠菜和蘑菇，是一道低脂、高纤维的健康菜肴。\\n\\n这些菜肴不仅健康，而且具有多样化的味道和营养成分，帮助您保持健康的饮食习惯。希望你会喜欢这些建议！',\n",
       " '当然可以，这里有10道营养又健康的菜肴，既可口又有益身体：\\n\\n1. **蒸三文鱼**：三文鱼是富含Omega-3脂肪酸和高品质蛋白的健康食材。搭配一些姜片和葱花蒸煮，保留鱼的原汁原味。\\n\\n2. **凉拌黄瓜**：简单用一点醋、蒜蓉、辣椒和少量的盐将黄瓜拌匀。这是一道清爽低卡的小菜。\\n\\n3. **番茄炖牛腩**：用番茄、洋葱和少量橄榄油炖煮牛腩，不仅口味丰富，还富含蛋白质和矿物质。\\n\\n4. **炒蘑菇菠菜**：菠菜和新鲜蘑菇配上大蒜和少许橄榄油快速炒制，简单又营养。\\n\\n5. **鸡胸肉凉拌沙拉**：将煮熟的鸡胸肉切丁，搭配生菜、西红柿、黄瓜等新鲜蔬菜，加入低脂沙拉酱。\\n\\n6. **南瓜汤**：用南瓜、洋葱、胡萝卜和一点姜煮制成浓汤，不仅口味温和，还富含维他命。\\n\\n7. **蒜蓉炒西兰花**：西兰花富含维他命C和钾，用大蒜快速炒制能最大限度保留营养。\\n\\n8. **土豆炖鸡块**：选择去皮的土豆与鸡肉一同炖煮，加入些许胡椒和香料，简单丰盛。\\n\\n9. **藜麦色拉**：用藜麦作为基础，搭配番茄、黄瓜、红椒和一些新鲜草本植物，健康且营养均衡。\\n\\n10. **蒸扇贝**：扇贝低脂且含丰富的蛋白质和微量元素，配以蒜蓉和少许油，蒸煮几分钟即可。\\n\\n这些菜肴不仅味道美，还有助于维护健康的饮食习惯。可以根据个人口味进行适当调整！',\n",
       " '当然可以！以下是10道不仅美味还充满营养的健康菜肴：\\n\\n1. **蒸三文鱼配柠檬和蔬菜** - 富含Omega-3和蛋白质的三文鱼，与西兰花、胡萝卜和甜菜一起蒸煮，滴上几滴柠檬汁增添风味。\\n\\n2. **鸡肉炒藜麦** - 藜麦是一种高蛋白、富含纤维的谷物，搭配炒鸡胸肉和多种彩色蔬菜（如红椒、胡萝卜、菠菜）增加营养价值。\\n\\n3. **地中海风格的烤蔬菜沙拉** - 使用茄子、番茄、青椒和洋葱等地中海区域蔬菜，配以橄榄油和香料烤制，佐以新鲜罗勒和羊奶酪。\\n\\n4. **豆腐炒菠菜** - 高蛋白的豆腐和铁质丰富的菠菜是绝配，可以加入蒜末和少许酱油调味，是简单又健康的素食选项。\\n\\n5. **南瓜汤** - 南瓜富含维生素A和抗氧化剂，加入洋葱、胡萝卜和姜来熬制一碗温暖的汤，不仅美味还能提升免疫力。\\n\\n6. **土耳其式凉拌蔬菜盘** - 包括小黄瓜、番茄、红洋葱和绿椒，配上希腊酸奶和薄荷。这是一种清爽且富含纤维的菜肴。\\n\\n7. **蘑菇燉鸡** - 用橄榄油煎透鸡肉后，加入蘑菇、胡萝卜和鲜奶或低脂奶油烹制。高蛋白且低脂肪，满足口感同时又不油腻。\\n\\n8. **烤甜菜根与羊奶酪沙拉** - 烤甜菜根富含营养，配上羊奶酪和新鲜生菜，淋上橄榄油和苹果醋调制的简易沙拉酱。\\n\\n9. **糙米炒青豆与杏仁** - 糙米为全谷物，比白米富含更多的纤维和营养。加入新鲜青豆和杏仁片，是营养丰富的一餐。\\n\\n10. **清蒸扁豆搭配甘蓝和红薯** - 扁豆是很好的蛋白质和铁质来源。甘蓝含丰富维生素K，红薯则提供维生素A。这道菜是健康的素食盛宴。\\n\\n这些菜肴不仅能满足你的味蕾，也能提供多样化的营养，帮助维护身体健康。可以根据自己的口味和需求，适度调整食材和调味料。',\n",
       " '当然可以！这里有10道既健康又美味的菜肴，适合增添到您的饮食中：\\n\\n1. **蒸三文鱼配柠檬草和姜** - 蒸煮是一种健康的烹饪方法，能保留食物的营养。三文鱼富含Omega-3脂肪酸，对心脏健康非常有益。\\n\\n2. **凯尔芝麻沙拉** - 用新鲜的羽衣甘蓝（Kale）、黄瓜、胡萝卜、撒上一些芝麻，用橄榄油和苹果醋调味。这道沙拉富含维生素和矿物质。\\n\\n3. **烤地中海蔬菜** - 使用茄子、甜椒、洋葱和樱桃番茄，加上一些迷迭香和橄榄油，烤至金黄酥软。\\n\\n4. **鸡肉汤波菜拌饭** - 利用烤鸡胸肉、大米和新鲜的菠菜制成的滋养拌饭，美味又营养全面。\\n\\n5. **冷号瓜汤** - 在炎热的夏天，一碗冷号瓜汤非常解暑，加入一点薄荷和酸奶，既清爽又益健康。\\n\\n6. **豆腐青豆拌菜** - 高蛋白的豆腐和绿色的豌豆搭配，加入一些大蒜和辣椒调味，既开胃又健康。\\n\\n7. **土豆炖豆角** - 使用少量橄榄油将土豆和豆角稍微煮软，是一道简单而充满营养的家常美味。\\n\\n8. **火鸡肉丸配西兰花** - 用瘦火鸡肉做成的肉丸，搭配蒸熟的西兰花，健康又充满蛋白质。\\n\\n9. **南瓜汤** - 用新鲜的南瓜、洋葱和少许生姜煮成的浓汤，低脂肪又满足感强。\\n\\n10. **希腊酸奶水果碗** - 将希腊酸奶与新鲜水果（如草莓、蓝莓、香蕉）和一些坚果搭配，早餐或是健康小吃的绝佳选择。\\n\\n这些菜肴不仅营养均衡，也很易于准备，希望您在享用的同时也能享受健康的生活方式！',\n",
       " '当然可以！这里是10道既健康又美味的菜肴，适合保持良好的饮食习惯：\\n\\n1. **蒸三文鱼** - 低温蒸煮的三文鱼可以保留鱼的营养素，搭配一把新鲜的蔬菜，如西兰花或菠菜，是一顿富含Omega-3和蛋白质的健康晚餐。\\n\\n2. **鸡胸肉炖蔬菜** - 使用鸡胸肉、番茄、胡萝卜、西葫芦等蔬菜，低火慢炖，使肉质嫩滑，蔬菜亦能很好地保留营养。\\n\\n3. **藜麦沙拉** - 藜麦是一种高蛋白、高纤维的全谷物，搭配一些切碎的蔬菜（如黄瓜、樱桃番茄、红椒），加入柠檬汁和橄榄油调味，既清爽又营养。\\n\\n4. **豆腐炒菜** - 使用硬豆腐，配以各种彩色蔬菜（如红椒、雪豆、洋葱），炒出色香味俱佳的一餐，是素食者的好选择。\\n\\n5. **南瓜汤** - 南瓜含有丰富的维生素A和抗氧化成分，配以一点儿姜和蒜，煮成浓汤，既暖胃又健康。\\n\\n6. **烤地中海蔬菜** - 选择诸如茄子、西红柿、洋葱和甜椒等地中海风味的蔬菜，佐以橄榄油和海盐，烤制至香嫩，简单又美味。\\n\\n7. **水果切盘** - 搭配各种应季水果，如草莓、蓝莓、苹果和香蕉，是一个健康的下午茶点心或甜点。\\n\\n8. **绿豆汤** - 绿豆性凉，有助于清热解毒。用绿豆搭配少量的糖和清水煮成汤，是夏日的解暑佳品。\\n\\n9. **蔬菜寿司** - 使用紫菜包裹着米饭和各式蔬菜，如鳄梨、黄瓜、胡萝卜，简单低热量又不失美味。\\n\\n10. **咖喱鸡配椰汁咖喱和各种蔬菜** - 选用鸡胸肉以减少脂肪的摄入，并使用低脂的椰浆来烹饪，加入土豆、胡萝卜等蔬菜，是一种既美味又健康的选择。\\n\\n这些菜肴不仅味道好，而且营养均衡，适合持续保持健康的生活方式。希望你能试试看这些食谱！',\n",
       " '这里有10道健康的菜肴，它们不仅美味，还能帮助维持良好的身体健康：\\n\\n1. **烤三文鱼配蔬菜** - 三文鱼富含Omega-3脂肪酸，搭配例如西兰花、胡萝卜和甜椒等烤蔬菜，补充丰富的维生素和矿物质。\\n\\n2. **鸡胸肉凉拌紫甘蓝沙拉** - 使用低脂的鸡胸肉搭配紫甘蓝、苹果片和坚果，佐以少许橄榄油和柠檬汁调味。\\n\\n3. **番茄炖豆汤** - 富含高纤维的各类豆类与番茄共炖，可以添加一些新鲜香草和蒜末增馔风味，既营养又填饱肚子。\\n\\n4. **藜麦蔬菜碗** - 藜麦是一种高蛋白、高纤维的食物，配以彩椒、黄瓜、番茄和鳄梨，用柠檬汁和橄榄油调味。\\n\\n5. **蒸豆腐配蘑菇** - 豆腐是优质的植物蛋白来源，搭配蘑菇和少许蒸鱼豉油，简单却非常滋养。\\n\\n6. **素食印度咖喱** - 用各种蔬菜和豆类煮成的咖喱，香料丰富，可以配上少量的糙米或全麦饭。\\n\\n7. **土豆烧菜花** - 土豆和菜花搭配，加入番茄酱和印度香料烹调，是一种低脂肪、高纤维的温暖菜肴。\\n\\n8. **希腊式鸡肉烤串** - 用橄榄油、柠檬汁和大蒜腌制的鸡肉，串上小番茄和洋葱一起烧烤。\\n\\n9. **泰式青木瓜沙拉** - 配上青红椒和豆芽，用一点点鱼露、柠檬汁和辣椒调成的酸辣口味，既开胃又健康。\\n\\n10. **蒜蓉西兰花炒虾** - 西兰花富含维生素C和膳食纤维，搭配低脂的瘦虾肉，用蒜末爆香，简单清淡。\\n\\n这些菜肴不仅有助于健康饮食，还能提供丰富的营养，适合日常餐桌。',\n",
       " '1. **鲑鱼蒸菠菜**：\\n   - 补充优质蛋白和omega-3脂肪酸。将新鲜鲑鱼和菠菜一起蒸煮，可以添加一些柠檬汁和黑胡椒增添风味。\\n\\n2. **鸡肉炖蔬菜**：\\n   - 用各种蔬菜（如胡萝卜、西葫芦、洋葱）和去皮鸡胸肉慢炖，低脂又充满营养。\\n\\n3. **藜麦色拉**：\\n   - 藜麦富含蛋白质和纤维。加入番茄、黄瓜、红椒和新鲜香草，用橄榄油和柠檬汁调味。\\n\\n4. **番薯烤豆腐**：\\n   - 番薯富含维生素A和C，豆腐是良好的植物蛋白来源。将切块的番薯和豆腐一起烤，撒上一点儿迷迭香。\\n\\n5. **绿豆汤**：\\n   - 绿豆含有丰富的蛋白质和纤维。配合姜和大蒜熬制成汤，有助于消化，同时提升身体的抗病能力。\\n\\n6. **芦笋扒鸡胸**：\\n   - 烤芦笋和烤鸡胸肉配合，不仅味道鲜美，还很有营养，富含蛋白质和纤维。\\n\\n7. **冬瓜草菇汤**：\\n   - 冬瓜低热量，高纤维。与草菇和少许肉丝一起煮，既美味又有益健康。\\n\\n8. **土豆泥配菠菜**：\\n   - 使用橄榄油和蒜末调一碗土豆泥，搭配蒸熟的菠菜，高纤维且美味。\\n\\n9. **番茄烤鱼**：\\n   - 选择富含Omega-3的鱼类如鲈鱼或鲑鱼，用番茄和草药烤制，健康且低脂。\\n\\n10. **豆腐素炒**：\\n   - 以豆腐为主料，加入多种颜色的植物，如红椒、青椒、洋葫芦和洋葱，做一道色彩缤纷的素炒。\\n\\n这些菜肴不仅健康，而且合适各种饮食需求，例如低脂、高蛋白或素食。可以根据个人口味调整配料和调味料。',\n",
       " '1. **清蒸鲈鱼**\\n   - 材料：新鲜鲈鱼一条，姜片，葱段，少许盐和酱油。\\n   - 做法：鱼洗净后，腹内填入姜片和葱段，撒上少许盐，放入蒸锅中蒸约8-10分钟（视鱼大小而定），出锅后淋上少许酱油和热油增香。\\n\\n2. **番茄鸡蛋汤**\\n   - 材料：新鲜番茄两个，鸡蛋两个，盐，蔬菜高汤。\\n   - 做法：番茄切块，放入煮沸的蔬菜高汤中，煮至软烂；调好味后打入鸡蛋，稍为煮沸即可。\\n\\n3. **土豆烧茄子**\\n   - 材料：土豆，茄子，红椒，葱，蒜，少许油和盐。\\n   - 做法：土豆和茄子切块，红椒切丝。热锅少油，先炒葱蒜香，再加入所有蔬菜翻炒至熟，撒上盐调味。\\n\\n4. **酸辣螺蛳粉**\\n   - 材料：螺蛳肉、米粉、酸菜、豆腐、花生、青菜、辣椒油及调料。\\n   - 做法：将米粉煮熟，用炖好的螺蛳肉和高汤，加入酸菜、豆腐和适量青菜，最后撒上花生并淋上辣椒油。\\n\\n5. **西蓝花炒虾**\\n   - 材料：西蓝花一颗，新鲜虾仁若干，蒜末，盐。\\n   - 做法：西蓝花洗净切小朵，虾仁清洗干净。锅中放少许油，蒜末爆香后，先入虾仁翻炒至变色，再加西蓝花快速炒熟，撒盐调味即可。\\n\\n6. **豆腐皮凉菜**\\n   - 材料：豆腐皮，黄瓜，胡萝卜，香菜，芝麻酱，盐。\\n   - 做法：豆腐皮切条，黄瓜和胡萝卜切丝，与豆腐皮混合，加入适量芝麻酱和盐拌匀，放上少许香菜即可。\\n\\n7. **蒸南瓜**\\n   - 材料：南瓜一小块。\\n   - 做法：南瓜去皮切块，上蒸锅蒸熟，可以配少许蜂蜜或糖提味。\\n\\n8. **凉拌苦瓜**\\n   - 材料：苦瓜一条，蒜末，辣椒，盐，酱油。\\n   - 做法：苦瓜切薄片，用盐腌约10分钟后洗净，挤干水分，加入蒜末、辣椒和适量酱油拌匀，可放入冰箱冷藏一会儿，更加爽口。\\n\\n9. **香菇炖鸡**\\n   - 材料：去皮鸡肉，干香菇，姜，盐。\\n   - 做法：香菇提前用水泡发，鸡肉切块，姜切片。所有材料放入砂锅中，加入适量水，炖煮至鸡肉熟软。\\n\\n10. **芹菜炒核桃**\\n    - 材料：芹菜几根，核桃仁若干，盐，橄榄油。\\n    - 做法：芹菜洗净切段，核桃用开水浸泡去皮后，用油稍微煸炒。锅中放少许橄榄油，芹菜炒至断生，加核桃仁和适量盐快速翻炒均匀即可。\\n\\n这些菜肴都相对简单，注重食材的天然味道，营养又健康。可以根据个人口味添加或减少某些调料。',\n",
       " '1. **蒸三文鱼配蔬菜** - 三文鱼富含Omega-3脂肪酸，搭配西兰花、胡萝卜和芦笋蒸制，既健康又美味。\\n\\n2. **鸡胸肉沙拉** - 使用烤或蒸的鸡胸肉，加入各种蔬菜，如番茄、黄瓜和生菜，再淋上橄榄油和柠檬汁，低脂且营养丰富。\\n\\n3. **藜麦蔬菜碗** - 藜麦是一种高蛋白的全谷物，与红薯、黑豆、玉米和鳄梨共同搭配，做成美味的蔬菜碗。\\n\\n4. **土豆烩豌豆与菠菜** - 土豆和豌豆搭配，加入一把新鲜的菠菜，用少许橄榄油和香料烹饪，制成营养丰富的素食佳肴。\\n\\n5. **番茄炒蛋** - 简单的番茄炒蛋不仅美味而且健康。番茄的抗氧化剂和鸡蛋的高蛋白质是完美的结合。\\n\\n6. **清蒸鲈鱼** - 鲈鱼是高蛋白、低脂肪的选择，清蒸可以保留其天然风味和营养，与姜丝和葱花一起蒸煮，简单而养生。\\n\\n7. **南瓜汤** - 南瓜富含维他命A和纤维，制作成汤不仅能暖身也有助于消化，加入一些姜和香料可以增加风味。\\n\\n8. **烤地中海蔬菜** - 选用橄榄油、茄子、西红柿、洋葱和青椒等地中海蔬菜，加入薄荷和芫荽等香草，烤制而成，健康美味。\\n\\n9. **牛肉丝炒西兰花** - 用橄榄油快速炒制牛肉丝和西兰花，保留蔬菜的脆感和肉的嫩度，撒上一些芝麻增加口感。\\n\\n10. **酸辣汤** - 稍带辣味的汤可以刺激新陈代谢，加入豆腐、木耳和蛋花，是一道低卡又满足的选择。\\n\\n这些菜肴都是在注重健康的同时也考虑到口感和营养均衡。可以根据个人口味和营养需求进行适当调整。',\n",
       " '当然可以！这里有10道不仅美味而且有益健康的菜肴，可以帮助你保持均衡饮食：\\n\\n1. **蒸三文鱼搭配生姜和大蒜** - 三文鱼富含Omega-3脂肪酸，与生姜和大蒜一起蒸煮，可以增加味道且具抗炎作用。\\n\\n2. **烤鸡胸肉配蔬菜** - 选用低脂的鸡胸肉，搭配例如胡萝卜、西兰花和甜菜等多种烤蔬菜，营养丰富又低卡。\\n\\n3. **藜麦色拉** - 藜麦是一个非常好的植物性蛋白质来源，可以加入一些番茄、黄瓜、红椒以及新鲜香草做成色拉。\\n\\n4. **土豆泥和烤土豆块** - 选择甜土豆，它富含维生素A和纤维，与烤蔬菜或简单的绿色叶菜一起食用。\\n\\n5. **番茄鸡蛋花椰菜汤** - 用新鲜番茄和多种蔬菜，加入少许橄榄油，低脂肪且满足。\\n\\n6. **豆腐炒菜** - 豆腐是优质的植物蛋白源，与青椒、胡萝卜和雪豆等一起炒，简单健康。\\n\\n7. **泰式蔬菜汤** - 以椰奶为基础的泰式蔬菜汤，加入柠檬草、姜和蔬菜，不仅美味而且具有排毒效果。\\n\\n8. **蔬菜咖喱** - 用各种蔬菜和咖喱粉以及椰奶煮制，低脂而富含抗氧化剂。\\n\\n9. **烤茄子配酸奶酱** - 茄子切片，配以少许橄榄油和盐烤制，搭配希腊酸奶制成的酱料。\\n\\n10. **素食寿司** - 用紫菜包裹齐玫炸米花、黄瓜、胡萝卜和鳄梨，健康而不失风味。\\n\\n这些菜肴不仅美味，还能提供所需的营养成份，帮助你维持健康的生活方式。尝试将它们加入你的日常饮食中吧！']"
      ]
     },
     "execution_count": 193,
     "metadata": {},
     "output_type": "execute_result"
    }
   ],
   "source": [
    "chn_healthy_results_2"
   ]
  },
  {
   "cell_type": "code",
   "execution_count": 206,
   "id": "72dfb610-44b9-4342-a41c-3d06f515371d",
   "metadata": {},
   "outputs": [
    {
     "name": "stdout",
     "output_type": "stream",
     "text": [
      "Results have been saved to chn_healthy_results_2.txt\n"
     ]
    }
   ],
   "source": [
    "save_results_to_file(chn_healthy_results_2, \"chn_healthy_results_2.txt\")"
   ]
  },
  {
   "cell_type": "code",
   "execution_count": 113,
   "id": "8934800e-fd7e-4cd8-86c3-49631e3fdbba",
   "metadata": {},
   "outputs": [],
   "source": [
    "chn_healthy_dish_counts = extract_dish_names_and_count(chn_healthy_results_2, chn_healthy_dish_counts)"
   ]
  },
  {
   "cell_type": "code",
   "execution_count": 172,
   "id": "1740e6c3-f864-4ed9-8d81-6ad62fad699d",
   "metadata": {},
   "outputs": [],
   "source": [
    "number_pattern_str = r'\\d+\\.\\s([^：\\-]+)'  # Extracts dish names following a number\n",
    "bold_pattern_str = r'\\*\\*(.*?)\\*\\*'        # Matches bold dish names in Markdown syntax"
   ]
  },
  {
   "cell_type": "code",
   "execution_count": 195,
   "id": "e3b8416e-a580-4dd0-97ea-1ff5e026b33d",
   "metadata": {},
   "outputs": [],
   "source": [
    "chn_healthy_dish_counts_missing_2 = extract_dish_names_and_count_versatile(chn_healthy_results_2, number_pattern_str, bold_pattern_str)"
   ]
  },
  {
   "cell_type": "code",
   "execution_count": 114,
   "id": "d3e862da-4aea-4964-9ca0-8a2d89a3c3cf",
   "metadata": {
    "scrolled": true
   },
   "outputs": [
    {
     "name": "stdout",
     "output_type": "stream",
     "text": [
      "Counts after second batch (now 30 runs):\n",
      "\n",
      "南瓜汤: 12\n",
      "烤地中海蔬菜: 8\n",
      "鸡胸肉炒蔬菜: 6\n",
      "绿豆汤: 6\n",
      "番茄炒蛋: 5\n",
      "鸡胸肉沙拉: 5\n",
      "藜麦色拉: 5\n",
      "清蒸鲈鱼: 4\n",
      "凉拌苦瓜: 4\n",
      "蒸三文鱼: 4\n",
      "鸡肉蔬菜汤: 2\n",
      "蔬菜豆腐汤: 2\n",
      "蔬菜炒豆腐: 2\n",
      "蒸鱼: 2\n",
      "土豆烧茄子: 2\n",
      "三文鱼刺身: 2\n",
      "番茄鸡蛋汤: 2\n",
      "烤鸡胸肉配蔬菜: 2\n",
      "土豆泥配菠菜: 2\n",
      "番茄炖豆汤: 2\n",
      "水果酸奶沙拉: 2\n",
      "豆腐皮凉菜: 2\n",
      "南瓜粥: 2\n",
      "番茄炖豆: 2\n",
      "土豆烧菜花: 2\n",
      "土豆泥配烤蔬菜: 2\n",
      "蔬菜汤: 2\n",
      "蒸三文鱼搭配生姜和大蒜: 2\n",
      "素食寿司: 2\n",
      "豆腐炒菜: 2\n",
      "藜麦蔬菜碗: 2\n",
      "蔬菜杂粮沙拉: 1\n",
      "土豆烤鸡: 1\n",
      "豆腐五彩炒菜: 1\n",
      "三文鱼蔬菜卷: 1\n",
      "西兰花炒虾: 1\n",
      "烤鹰嘴豆和甜菜根沙拉: 1\n",
      "香蕉燕麦粥: 1\n",
      "西兰花清蒸鸡胸肉: 1\n",
      "番茄烤鳕鱼: 1\n",
      "凉拌黑木耳: 1\n",
      "南瓜燕麦粥: 1\n",
      "土豆炖菠菜: 1\n",
      "清炒四季豆: 1\n",
      "水煮鸡蛋配沙拉: 1\n",
      "烤南瓜豆腐沙拉: 1\n",
      "番薯紫菜汤: 1\n",
      "蒸三文鱼配柠檬薄荷酱: 1\n",
      "烤鸡胸肉配罗勒和番茄: 1\n",
      "凉拌藜麦沙拉: 1\n",
      "韩式拌饭: 1\n",
      "墨西哥风味蔬菜炒豆: 1\n",
      "印度豆腐咖喱: 1\n",
      "地中海鹰嘴豆沙拉: 1\n",
      "日式汤面: 1\n",
      "蔬菜豆浆汤: 1\n",
      "蒸三文鱼配绿叶菜: 1\n",
      "番茄炖扁豆汤: 1\n",
      "烤地瓜搭配羽衣甘蓝: 1\n",
      "素食拌面: 1\n",
      "水煮蛋配鳄梨沙拉: 1\n",
      "土耳其式烤肉串: 1\n",
      "绿豆芽泰式沙拉: 1\n",
      "瓜柳配薏仁米: 1\n",
      "凤梨炒豆腐: 1\n",
      "蒸鲈鱼: 1\n",
      "土豆泥配烤鸡胸肉: 1\n",
      "烤蔬菜沙拉: 1\n",
      "凉拌豆腐皮: 1\n",
      "三文鱼拌饭: 1\n",
      "蔬菜煎饼: 1\n",
      "蒜蓉西兰花: 1\n",
      "冬瓜汤: 1\n",
      "素炒三丝: 1\n",
      "清炒菠菜: 1\n",
      "番茄炖豆腐: 1\n",
      "蘑菇炖鸡: 1\n",
      "炒米粉: 1\n",
      "鸡胸肉蔬菜沙拉: 1\n",
      "蒸豆腐: 1\n",
      "炒蔬菜: 1\n",
      "土豆泥搭配烤鸡腿肉: 1\n",
      "海带豆腐汤: 1\n",
      "甜菜根沙拉: 1\n",
      "鲑鱼蒸菜: 1\n",
      "番茄炖扁豆: 1\n",
      "三色藜麦沙拉: 1\n",
      "照烧鳕鱼: 1\n",
      "香菇青菜炒米粉: 1\n",
      "土豆西兰花汤: 1\n",
      "红豆燕麦粥: 1\n",
      "烤三文鱼配绿叶蔬菜: 1\n",
      "羽衣甘蓝沙拉: 1\n",
      "苦瓜炒牛肉: 1\n",
      "蒸三文鱼佐柠檬汁: 1\n",
      "秋葵配咖喱鸡块: 1\n",
      "五彩蔬菜天妇罗: 1\n",
      "绿色沙拉配烤羊肉: 1\n",
      "牛蒡和胡萝卜的日式拌饭: 1\n",
      "鹰嘴豆沙拉: 1\n",
      "番茄海鲜烩饭: 1\n",
      "蒸三文鱼配西兰花: 1\n",
      "烤地中海蔬菜沙拉: 1\n",
      "土豆蔬菜煲: 1\n",
      "豆腐炒青菜: 1\n",
      "土豆碎豆沙: 1\n",
      "烤虾与芦笋: 1\n",
      "鲈鱼蒸丝瓜: 1\n",
      "土豆烤鳕鱼: 1\n",
      "凉拌藕片: 1\n",
      "椒麻鸡片: 1\n",
      "素炒饭: 1\n",
      "蒸鱼配生姜和葱: 1\n",
      "烤鸡胸肉配混合蔬菜: 1\n",
      "凉拌黑豆凉粉: 1\n",
      "素炒三丁（胡萝卜丁、豆腐丁、青椒丁）: 1\n",
      "芦笋炒虾: 1\n",
      "糙米鸡丝粥: 1\n",
      "蔬菜清汤: 1\n",
      "豆腐拌菠菜: 1\n",
      "炒藜麦: 1\n",
      "番茄炒鸡蛋: 1\n",
      "三文鱼佐芦笋: 1\n",
      "蒸三文鱼搭配姜汁酱: 1\n",
      "凉拌藜麦色拉: 1\n",
      "鳄梨玉米饼: 1\n",
      "水煮蛋配青菜: 1\n",
      "豆腐烧菜: 1\n",
      "烤鸡和甜椒: 1\n",
      "蒸青菜: 1\n",
      "凉拌海带: 1\n",
      "番茄炖牛肉: 1\n",
      "土豆泥伴烤鳕鱼: 1\n",
      "素食豆腐汤: 1\n",
      "炒鳄梨与虾仁: 1\n",
      "凉拌西兰花: 1\n",
      "烤鸡胸肉配迷迭香和柠檬: 1\n",
      "凉拌绿色蔬菜沙拉: 1\n",
      "藜麦与野菌炒菜: 1\n",
      "豆腐皮卷: 1\n",
      "全麦面条搭配番茄酱和新鲜蔬菜: 1\n",
      "烤地瓜: 1\n",
      "水果炒冰: 1\n",
      "土豆烧鸡块: 1\n",
      "麻婆豆腐: 1\n",
      "菠菜汤: 1\n",
      "清炒西兰花: 1\n",
      "五彩沙拉: 1\n",
      "豆腐皮包素菜: 1\n",
      "藕片炒肉: 1\n",
      "蒸三文鱼配绿叶蔬菜: 1\n",
      "鸡胸肉凯撒沙拉: 1\n",
      "番茄扁豆汤: 1\n",
      "凉拌鹰嘴豆沙拉: 1\n",
      "炒豆腐配青菜: 1\n",
      "南瓜红豆炖饭: 1\n",
      "土耳其肉丸配小米粥: 1\n",
      "蔬菜全麦披萨: 1\n",
      "蒸三文鱼配青豆和西兰花: 1\n",
      "番薯烧牛肉: 1\n",
      "豆腐蔬菜炒: 1\n",
      "烤鳕鱼配柠檬和香草: 1\n",
      "全麦面条配烩蔬菜: 1\n",
      "凉拌黄瓜: 1\n",
      "番茄炖牛腩: 1\n",
      "炒蘑菇菠菜: 1\n",
      "鸡胸肉凉拌沙拉: 1\n",
      "蒜蓉炒西兰花: 1\n",
      "土豆炖鸡块: 1\n",
      "蒸扇贝: 1\n",
      "蒸三文鱼配柠檬和蔬菜: 1\n",
      "鸡肉炒藜麦: 1\n",
      "地中海风格的烤蔬菜沙拉: 1\n",
      "豆腐炒菠菜: 1\n",
      "土耳其式凉拌蔬菜盘: 1\n",
      "蘑菇燉鸡: 1\n",
      "烤甜菜根与羊奶酪沙拉: 1\n",
      "糙米炒青豆与杏仁: 1\n",
      "清蒸扁豆搭配甘蓝和红薯: 1\n",
      "蒸三文鱼配柠檬草和姜: 1\n",
      "凯尔芝麻沙拉: 1\n",
      "鸡肉汤波菜拌饭: 1\n",
      "冷号瓜汤: 1\n",
      "豆腐青豆拌菜: 1\n",
      "土豆炖豆角: 1\n",
      "火鸡肉丸配西兰花: 1\n",
      "希腊酸奶水果碗: 1\n",
      "鸡胸肉炖蔬菜: 1\n",
      "藜麦沙拉: 1\n",
      "水果切盘: 1\n",
      "蔬菜寿司: 1\n",
      "咖喱鸡配椰汁咖喱和各种蔬菜: 1\n",
      "烤三文鱼配蔬菜: 1\n",
      "鸡胸肉凉拌紫甘蓝沙拉: 1\n",
      "蒸豆腐配蘑菇: 1\n",
      "素食印度咖喱: 1\n",
      "希腊式鸡肉烤串: 1\n",
      "泰式青木瓜沙拉: 1\n",
      "蒜蓉西兰花炒虾: 1\n",
      "鲑鱼蒸菠菜: 1\n",
      "鸡肉炖蔬菜: 1\n",
      "番薯烤豆腐: 1\n",
      "芦笋扒鸡胸: 1\n",
      "冬瓜草菇汤: 1\n",
      "番茄烤鱼: 1\n",
      "豆腐素炒: 1\n",
      "酸辣螺蛳粉: 1\n",
      "西蓝花炒虾: 1\n",
      "蒸南瓜: 1\n",
      "香菇炖鸡: 1\n",
      "芹菜炒核桃: 1\n",
      "蒸三文鱼配蔬菜: 1\n",
      "土豆烩豌豆与菠菜: 1\n",
      "牛肉丝炒西兰花: 1\n",
      "酸辣汤: 1\n",
      "土豆泥和烤土豆块: 1\n",
      "番茄鸡蛋花椰菜汤: 1\n",
      "泰式蔬菜汤: 1\n",
      "蔬菜咖喱: 1\n",
      "烤茄子配酸奶酱: 1\n"
     ]
    }
   ],
   "source": [
    "print(\"Counts after second batch (now 30 runs):\\n\")\n",
    "for dish, count in chn_healthy_dish_counts.items():\n",
    "    print(f\"{dish}: {count}\")"
   ]
  },
  {
   "cell_type": "code",
   "execution_count": 196,
   "id": "0ea565d1-dc52-4390-bcb4-f1c9209a9878",
   "metadata": {
    "scrolled": true
   },
   "outputs": [
    {
     "name": "stdout",
     "output_type": "stream",
     "text": [
      "Missing counts after second batch (now 30 runs):\n",
      "\n",
      "**南瓜汤**: 7\n",
      "**绿豆汤**: 5\n",
      "**烤地中海蔬菜**: 5\n",
      "**蒸三文鱼**: 4\n",
      "**鸡胸肉炒蔬菜**: 3\n",
      "**番茄炒蛋**: 3\n",
      "**鸡胸肉沙拉**: 3\n",
      "**凉拌苦瓜**: 3\n",
      "**藜麦色拉**: 3\n",
      "**豆腐皮凉菜**: 2\n",
      "**南瓜粥**: 2\n",
      "**土豆泥配烤蔬菜**: 2\n",
      "**蔬菜汤**: 2\n",
      "**蒸三文鱼搭配生姜和大蒜**: 2\n",
      "**素食寿司**: 2\n",
      "**豆腐炒菜**: 2\n",
      "**藜麦蔬菜碗**: 2\n",
      "**清蒸鲈鱼**: 2\n",
      "蒸三文鱼配芦笋: 1\n",
      "鸡胸肉炒蔬菜: 1\n",
      "土豆泥配烤南瓜和菠菜: 1\n",
      "藜麦色拉: 1\n",
      "豆腐炒青菜: 1\n",
      "烤鸡腿配烤地瓜和蔬菜串: 1\n",
      "希腊酸奶配水果与薄荷: 1\n",
      "烤鳕鱼配柠檬和草药: 1\n",
      "素食黑豆汉堡: 1\n",
      "照烧豆皮滑蛋: 1\n",
      "**蒸三文鱼配西兰花**  \n",
      "   蒸煮是一种健康的烹饪方法，能最大限度地保留食物的营养。三文鱼富含Omega: 1\n",
      "**鸡胸肉炒蔬菜**  \n",
      "   使用橄榄油和大量新鲜蔬菜（如胡萝卜、甜椒、洋葱）与鸡胸肉炒制，低脂而高蛋白，非常适合健身饮食。\n",
      "\n",
      "3. **烤地中海蔬菜沙拉**  \n",
      "   包括番茄、黄瓜、红洋葱、橄榄和块状羊奶酪，搭配以橄榄油和柠檬汁调味，富含抗氧化剂和健康脂肪。\n",
      "\n",
      "4. **南瓜汤**  \n",
      "   用南瓜制作的汤不仅味道甜美，还含有丰富的维生素A和纤维。可以加入一点姜和蒜提味。\n",
      "\n",
      "5. **土豆蔬菜煲**  \n",
      "   使用土豆作为主要成分，并加入大量蔬菜（如胡萝卜、豌豆、西红柿）。这是一道营养丰富且温暖的一锅菜。\n",
      "\n",
      "6. **豆腐炒青菜**  \n",
      "   豆腐是一个优良的植物性蛋白质来源，与菠菜、青椒等绿叶蔬菜炒一炒，简单同时养生。\n",
      "\n",
      "7. **土豆碎豆沙**  \n",
      "   这道菜使用碎肉（可以选用鸡肉或瘦猪肉）和红豆沙快炒，再与蒸土豆泥一起食用，是一道低脂高蛋白的菜。\n",
      "\n",
      "8. **烤虾与芦笋**  \n",
      "   海鲜如虾是良好的蛋白质来源且低脂肪，与烤芦笋一同食用，简便且健康。\n",
      "\n",
      "9. **水果酸奶沙拉**  \n",
      "   混合您喜爱的各种新鲜水果，如苹果、香蕉、草莓，加入天然无糖酸奶，既可作为健康早餐也是美味的甜点。\n",
      "\n",
      "10. **鲈鱼蒸丝瓜**  \n",
      "    蒸鲈鱼保留了鱼的原汁原味，配上清新的丝瓜，简单又不失营养价值。\n",
      "\n",
      "这些菜肴不仅美味，还有助于维持健康的生活方式。试试看，希望你会喜欢！: 1\n",
      "**土豆烤鳕鱼**: 1\n",
      "**凉拌藕片**: 1\n",
      "**椒麻鸡片**: 1\n",
      "**素炒饭**: 1\n",
      "**蒸鱼配生姜和葱**  \n",
      "   高蛋白且低脂肪的蒸鱼是一种非常健康的选择。添加生姜和葱不仅可以提供额外的风味，还能增加一些有益健康的抗炎作用和抗氧化属性。\n",
      "\n",
      "2. **烤鸡胸肉配混合蔬菜**  \n",
      "   用橄榄油和香草调味的烤鸡胸肉，搭配西兰花、胡萝卜和甜菜等烤蔬菜，既能提供丰富的蛋白质，又能补充一日所需的多种维生素和矿物质。\n",
      "\n",
      "3. **番茄炖豆**  \n",
      "   这道菜肴不仅美味，并且富含高纤维和低脂肪，适合心脏健康。番茄提供丰富的抗氧化剂——番茄红素，而各种豆类则提供蛋白质和纤维。\n",
      "\n",
      "4. **凉拌黑豆凉粉**  \n",
      "   黑豆凉粉是一种低脂肪、高蛋白且高纤维的选择，加入新鲜蔬菜和一点麻酱油拌制，非常适合夏季食用。\n",
      "\n",
      "5. **土豆烧菜花**  \n",
      "   土豆和菜花一起煮，少许辣椒和香料调味，不但低卡路里，同时富含维生素C和钾，非常适合减肥和保持健康的饮食计划。\n",
      "\n",
      "6. **藜麦色拉**  \n",
      "   藜麦是一种超级食物，含有全部九种必需氨基酸。配上小番茄、黄瓜、红椒和一抹柠檬汁，成为一份营养均衡的轻食。\n",
      "\n",
      "7. **南瓜汤**  \n",
      "   南瓜是一种低热量、高纤维的食材，搭配洋葱、姜和蒜煮成汤，能提供丰富的维生素A和免疫系统支持。\n",
      "\n",
      "8. **素炒三丁（胡萝卜丁、豆腐丁、青椒丁）**  \n",
      "   这道简单的素菜通过使用不同颜色的蔬菜，提供丰富的营养素，而豆腐则是一种优质的植物性蛋白来源。\n",
      "\n",
      "9. **芦笋炒虾**  \n",
      "   芦笋富含抗氧化剂和纤维，虾则提供高质量的蛋白质和必需的欧米茄: 1\n",
      "**糙米鸡丝粥**  \n",
      "    慢炖的糙米粥加入少许鸡肉丝，简单却营养丰富。糙米提供持久的能量和必需的B族维生素，而鸡肉是低脂肪的蛋白质来源。: 1\n",
      "**蒸鱼**: 1\n",
      "**蔬菜清汤**: 1\n",
      "**豆腐拌菠菜**: 1\n",
      "**炒藜麦**: 1\n",
      "**番茄炒鸡蛋**: 1\n",
      "**三文鱼佐芦笋**: 1\n",
      "**水果酸奶沙拉**: 1\n",
      "**蒸三文鱼搭配姜汁酱**: 1\n",
      "**番茄炖豆**: 1\n",
      "**凉拌藜麦色拉**: 1\n",
      "**鳄梨玉米饼**: 1\n",
      "**水煮蛋配青菜**: 1\n",
      "**豆腐烧菜**: 1\n",
      "**烤鸡和甜椒**: 1\n",
      "**蒸青菜**: 1\n",
      "**三文鱼刺身**: 1\n",
      "**凉拌海带**: 1\n",
      "**番茄炖牛肉**: 1\n",
      "**土豆泥伴烤鳕鱼**: 1\n",
      "**素食豆腐汤**: 1\n",
      "**炒鳄梨与虾仁**: 1\n",
      "**凉拌西兰花**: 1\n",
      "**烤鸡胸肉配迷迭香和柠檬**: 1\n",
      "**凉拌绿色蔬菜沙拉**: 1\n",
      "**藜麦与野菌炒菜**: 1\n",
      "**豆腐皮卷**: 1\n",
      "**全麦面条搭配番茄酱和新鲜蔬菜**: 1\n",
      "**烤地瓜**: 1\n",
      "**水果炒冰**: 1\n",
      "**土豆烧鸡块**: 1\n",
      "**麻婆豆腐**: 1\n",
      "**菠菜汤**: 1\n",
      "**清炒西兰花**: 1\n",
      "**五彩沙拉**: 1\n",
      "**豆腐皮包素菜**: 1\n",
      "**藕片炒肉**: 1\n",
      "**蒸三文鱼配绿叶蔬菜**: 1\n",
      "**鸡胸肉凯撒沙拉**: 1\n",
      "**番茄扁豆汤**: 1\n",
      "**凉拌鹰嘴豆沙拉**: 1\n",
      "**炒豆腐配青菜**: 1\n",
      "**南瓜红豆炖饭**: 1\n",
      "**土耳其肉丸配小米粥**: 1\n",
      "**蔬菜全麦披萨**: 1\n",
      "**蒸三文鱼配青豆和西兰花**: 1\n",
      "**番薯烧牛肉**: 1\n",
      "**豆腐蔬菜炒**: 1\n",
      "**烤鳕鱼配柠檬和香草**: 1\n",
      "**全麦面条配烩蔬菜**: 1\n",
      "**凉拌黄瓜**: 1\n",
      "**番茄炖牛腩**: 1\n",
      "**炒蘑菇菠菜**: 1\n",
      "**鸡胸肉凉拌沙拉**: 1\n",
      "**蒜蓉炒西兰花**: 1\n",
      "**土豆炖鸡块**: 1\n",
      "**蒸扇贝**: 1\n",
      "**蒸三文鱼配柠檬和蔬菜**: 1\n",
      "**鸡肉炒藜麦**: 1\n",
      "**地中海风格的烤蔬菜沙拉**: 1\n",
      "**豆腐炒菠菜**: 1\n",
      "**土耳其式凉拌蔬菜盘**: 1\n",
      "**蘑菇燉鸡**: 1\n",
      "**烤甜菜根与羊奶酪沙拉**: 1\n",
      "**糙米炒青豆与杏仁**: 1\n",
      "**清蒸扁豆搭配甘蓝和红薯**: 1\n",
      "**蒸三文鱼配柠檬草和姜**: 1\n",
      "**凯尔芝麻沙拉**: 1\n",
      "**鸡肉汤波菜拌饭**: 1\n",
      "**冷号瓜汤**: 1\n",
      "**豆腐青豆拌菜**: 1\n",
      "**土豆炖豆角**: 1\n",
      "**火鸡肉丸配西兰花**: 1\n",
      "**希腊酸奶水果碗**: 1\n",
      "**鸡胸肉炖蔬菜**: 1\n",
      "**藜麦沙拉**: 1\n",
      "**水果切盘**: 1\n",
      "**蔬菜寿司**: 1\n",
      "**咖喱鸡配椰汁咖喱和各种蔬菜**: 1\n",
      "**烤三文鱼配蔬菜**: 1\n",
      "**鸡胸肉凉拌紫甘蓝沙拉**: 1\n",
      "**番茄炖豆汤**: 1\n",
      "**蒸豆腐配蘑菇**: 1\n",
      "**素食印度咖喱**: 1\n",
      "**土豆烧菜花**: 1\n",
      "**希腊式鸡肉烤串**: 1\n",
      "**泰式青木瓜沙拉**: 1\n",
      "**蒜蓉西兰花炒虾**: 1\n",
      "**鲑鱼蒸菠菜**: 1\n",
      "**鸡肉炖蔬菜**: 1\n",
      "**番薯烤豆腐**: 1\n",
      "**芦笋扒鸡胸**: 1\n",
      "**冬瓜草菇汤**: 1\n",
      "**土豆泥配菠菜**: 1\n",
      "**番茄烤鱼**: 1\n",
      "**豆腐素炒**: 1\n",
      "**番茄鸡蛋汤**: 1\n",
      "**土豆烧茄子**: 1\n",
      "**酸辣螺蛳粉**: 1\n",
      "**西蓝花炒虾**: 1\n",
      "**蒸南瓜**: 1\n",
      "**香菇炖鸡**: 1\n",
      "**芹菜炒核桃**: 1\n",
      "**蒸三文鱼配蔬菜**: 1\n",
      "**土豆烩豌豆与菠菜**: 1\n",
      "**牛肉丝炒西兰花**: 1\n",
      "**酸辣汤**: 1\n",
      "**烤鸡胸肉配蔬菜**: 1\n",
      "**土豆泥和烤土豆块**: 1\n",
      "**番茄鸡蛋花椰菜汤**: 1\n",
      "**泰式蔬菜汤**: 1\n",
      "**蔬菜咖喱**: 1\n",
      "**烤茄子配酸奶酱**: 1\n"
     ]
    }
   ],
   "source": [
    "print(\"Missing counts after second batch (now 30 runs):\\n\")\n",
    "for dish, count in chn_healthy_dish_counts_missing_2.items():\n",
    "    print(f\"{dish}: {count}\")"
   ]
  },
  {
   "cell_type": "code",
   "execution_count": 115,
   "id": "6dae6a08-1c11-4ed1-a757-c12fdd2cf4b3",
   "metadata": {},
   "outputs": [],
   "source": [
    "append_dishes_to_csv(chn_healthy_dish_counts, \"chn_healthy_dish_counts.csv\")"
   ]
  },
  {
   "cell_type": "markdown",
   "id": "9d0cfaca-9a2d-411d-88b5-2a9593c9c0c6",
   "metadata": {},
   "source": [
    "#### Japanese Healthy Dishes"
   ]
  },
  {
   "cell_type": "code",
   "execution_count": 116,
   "id": "6e097669-742e-4214-ad16-bbcf18113504",
   "metadata": {},
   "outputs": [],
   "source": [
    "japanese_healthy_dish_counts = defaultdict(int)"
   ]
  },
  {
   "cell_type": "code",
   "execution_count": 105,
   "id": "da727486-db22-4e83-94d7-fefbeb16a2ee",
   "metadata": {},
   "outputs": [],
   "source": [
    "japanese_healthy_results = call_openai_api(prompt_healthy_japanese, n_runs=10)"
   ]
  },
  {
   "cell_type": "code",
   "execution_count": 207,
   "id": "d10f8c7f-1b30-4318-b69d-f9d02701580b",
   "metadata": {},
   "outputs": [
    {
     "name": "stdout",
     "output_type": "stream",
     "text": [
      "Results have been saved to japanese_healthy_results.txt\n"
     ]
    }
   ],
   "source": [
    "save_results_to_file(japanese_healthy_results, \"japanese_healthy_results.txt\")"
   ]
  },
  {
   "cell_type": "code",
   "execution_count": 117,
   "id": "d12d1e6d-f105-4ed1-bb2a-8adc2cabbca1",
   "metadata": {},
   "outputs": [],
   "source": [
    "japanese_healthy_dish_counts = extract_dish_names_and_count(japanese_healthy_results, japanese_healthy_dish_counts)"
   ]
  },
  {
   "cell_type": "code",
   "execution_count": 118,
   "id": "a60ea8d9-f722-4313-83d5-3cb3a383f40c",
   "metadata": {},
   "outputs": [
    {
     "name": "stdout",
     "output_type": "stream",
     "text": [
      "Counts after first batch (10runs):\n",
      "\n",
      "鶏胸肉のグリル: 5\n",
      "野菜スープ: 4\n",
      "豆腐と野菜の炒め物: 3\n",
      "レンズ豆のスープ: 2\n",
      "海藻サラダ: 2\n",
      "かぼちゃの煮物: 2\n",
      "トマトとモッツァレラのカプレーゼ: 2\n",
      "サラダボウル: 2\n",
      "野菜の豆腐サラダ: 1\n",
      "焼き鮭の野菜添え: 1\n",
      "きのこと豆のヴィーガンチリ: 1\n",
      "カボチャのリゾット: 1\n",
      "トマトとバジルのパスタ: 1\n",
      "ムング豆とスピナッチのカレー: 1\n",
      "ビーツとワカモレのサラダ: 1\n",
      "甘酒と味噌のニンジンスープ: 1\n",
      "ブロッコリーとカリフラワーのサラダ: 1\n",
      "サーモンのグリル: 1\n",
      "キノコとほうれん草のリゾット: 1\n",
      "寒天とフルーツデザート: 1\n",
      "かぼちゃのスープ: 1\n",
      "鯖の味噌煮: 1\n",
      "豆腐サラダ: 1\n",
      "鮭のホイル焼き: 1\n",
      "おひたし: 1\n",
      "海鮮丼: 1\n",
      "レンズ豆のサラダ: 1\n",
      "きのこ炒め: 1\n",
      "焼き魚: 1\n",
      "キヌアサラダ: 1\n",
      "レンティルカレー: 1\n",
      "ほうれん草と卵のスクランブル: 1\n",
      "手作り野菜ジュース: 1\n",
      "マリネされたトーフと野菜のサラダ: 1\n",
      "野菜たっぷりの味噌汁: 1\n",
      "鶏胸肉のグリル野菜添え: 1\n",
      "豆腐とわかめのサラダ: 1\n",
      "酢の物（きゅうりと海草）: 1\n",
      "ほうれん草のおひたし: 1\n",
      "サバの塩焼き: 1\n",
      "キノコと鶏肉の炒めもの: 1\n",
      "野菜たっぷりのみそ汁: 1\n",
      "鮭のムニエル: 1\n",
      "カレーライス: 1\n",
      "ベジタリアンチリ: 1\n",
      "スムージー: 1\n"
     ]
    }
   ],
   "source": [
    "print(\"Counts after first batch (10runs):\\n\")\n",
    "for dish, count in japanese_healthy_dish_counts.items():\n",
    "    print(f\"{dish}: {count}\")"
   ]
  },
  {
   "cell_type": "markdown",
   "id": "8dbabeac-9bd2-4dce-a81f-d3166a2d722e",
   "metadata": {},
   "source": [
    "Counts after first batch (10runs): \\\n",
    "\n",
    "Grilled chicken breast: 5 \\\n",
    "Vegetable soup: 4 \\\n",
    "Stir-fried tofu and vegetables: 3 \\\n",
    "Lentil soup: 2 \\\n",
    "Seaweed salad: 2 \\\n",
    "Boiled pumpkin: 2 \\\n",
    "Tomato and mozzarella caprese: 2 \\\n",
    "Salad Bowls: 2 \\\n",
    "Vegetable tofu salad: 1 \\\n",
    "Grilled salmon with vegetables: 1 \\\n",
    "Vegan chili with mushrooms and beans: 1 \\\n",
    "Pumpkin risotto: 1 \\\n",
    "Tomato and basil pasta: 1 \\\n",
    "Moong bean and spinach curry: 1 \\\n",
    "Beetroot and guacamole salad: 1 \\\n",
    "Carrot soup with amazake and miso: 1 \\\n",
    "Broccoli and cauliflower salad: 1 \\\n",
    "Grilled salmon: 1 \\\n",
    "Risotto with mushrooms and spinach: 1 \\\n",
    "Agar and fruit dessert: 1 \\\n",
    "Pumpkin soup: 1 \\\n",
    "Miso-stewed mackerel: 1 \\\n",
    "Tofu salad: 1 \\\n",
    "Salmon Grilled in foil: 1 \\\n",
    "Ohitashi: 1 \\\n",
    "Seafood bowl: 1 \\\n",
    "Lentil salad: 1 \\\n",
    "Stir-fried mushrooms: 1 \\\n",
    "Grilled fish: 1 \\\n",
    "Quinoa salad: 1 \\\n",
    "Lentil curry: 1 \\\n",
    "Spinach and egg scramble: 1 \\\n",
    "Homemade vegetable juice: 1 \\\n",
    "Marinated tofu and vegetables Salad: 1 \\\n",
    "Miso soup with lots of vegetables: 1 \\\n",
    "Grilled chicken breast with vegetables: 1 \\\n",
    "Tofu and wakame salad: 1 \\\n",
    "Vinegared dishes (cucumber and seaweed): 1 \\\n",
    "Spinach with ohitashi: 1 \\\n",
    "Salt-grilled mackerel: 1 \\\n",
    "Stir-fried mushrooms and chicken : 1 \\\n",
    "Miso soup with plenty of vegetables: 1 \\\n",
    "Salmon meuniere: 1 \\\n",
    "Curry rice: 1 \\\n",
    "Vegetarian chili: 1 \\\n",
    "Smoothie: 1"
   ]
  },
  {
   "cell_type": "code",
   "execution_count": 182,
   "id": "16db4f69-c917-40fc-9492-ed418ef6f1e3",
   "metadata": {},
   "outputs": [],
   "source": [
    "number_pattern_str = r'\\d+\\.\\s([^：\\-]+)'  # Extracts dish names following a number\n",
    "bold_pattern_str = r'\\*\\*(.*?)\\*\\*'        # Matches bold dish names in Markdown syntax"
   ]
  },
  {
   "cell_type": "code",
   "execution_count": 197,
   "id": "5cea711d-941f-428b-9728-9a5832515c32",
   "metadata": {},
   "outputs": [],
   "source": [
    "japanese_healthy_dish_counts_missing = extract_dish_names_and_count_versatile(japanese_healthy_results, number_pattern_str, bold_pattern_str)"
   ]
  },
  {
   "cell_type": "code",
   "execution_count": 198,
   "id": "793d1bb5-50fc-498c-a916-04de41f4cad4",
   "metadata": {},
   "outputs": [
    {
     "data": {
      "text/plain": [
       "{'**鶏胸肉のグリル**': 5,\n",
       " '**野菜スープ**': 4,\n",
       " '**豆腐と野菜の炒め物**': 3,\n",
       " '**レンズ豆のスープ**': 2,\n",
       " '**海藻サラダ**': 2,\n",
       " '**かぼちゃの煮物**': 2,\n",
       " '**トマトとモッツァレラのカプレーゼ**': 2,\n",
       " '**サラダボウル**': 2,\n",
       " '**野菜の豆腐サラダ**': 1,\n",
       " '**焼き鮭の野菜添え**': 1,\n",
       " '**きのこと豆のヴィーガンチリ**': 1,\n",
       " '**カボチャのリゾット**': 1,\n",
       " '**トマトとバジルのパスタ**': 1,\n",
       " '**ムング豆とスピナッチのカレー**': 1,\n",
       " '**ビーツとワカモレのサラダ**': 1,\n",
       " '**甘酒と味噌のニンジンスープ**': 1,\n",
       " '**ブロッコリーとカリフラワーのサラダ**': 1,\n",
       " '**サーモンのグリル**': 1,\n",
       " '**キノコとほうれん草のリゾット**': 1,\n",
       " '**寒天とフルーツデザート**': 1,\n",
       " '**かぼちゃのスープ**': 1,\n",
       " '**鯖の味噌煮**': 1,\n",
       " '鶏の胸肉と野菜のグリル': 1,\n",
       " 'ブロッコリーとキヌアのサラダ': 1,\n",
       " '豆腐と野菜のスターフライ': 1,\n",
       " 'サバの味噌煮': 1,\n",
       " 'レンティルスープ': 1,\n",
       " 'トマトとモッツァレラのカプレーゼサラダ': 1,\n",
       " 'チキンと野菜のケバブ': 1,\n",
       " 'ポーチドサーモンとアスパラガス': 1,\n",
       " 'スピナッチとフェタチーズのオムレット': 1,\n",
       " 'ベジタブルカレー': 1,\n",
       " '鶏胸肉の蒸し料理': 1,\n",
       " '豆腐と野菜の味噌炒め': 1,\n",
       " '野菜たっぷりのミネストローネ': 1,\n",
       " 'サーモンのグリル': 1,\n",
       " 'キノコとほうれん草のガーリックソテー': 1,\n",
       " '雑穀米のサラダ': 1,\n",
       " 'レンズ豆のカレー': 1,\n",
       " 'カボチャのスープ': 1,\n",
       " 'タブーリ（パセリのサラダ）': 1,\n",
       " '海藻サラダ': 1,\n",
       " '蒸し魚（白身魚などの魚を蒸して、しょうがやネギ、醤油で味付け）\\n2. 野菜の炒めもの（色々な野菜をオリーブオイル少々でシンプルに炒める）\\n3. 湯豆腐（豆腐を熱い出汁で煮て、ぽん酢や薬味で食べる）\\n4. 雑穀米（白米に雑穀を混ぜて炊くことで栄養価を上げる）\\n5. 味噌汁（具沢山で、豆腐やわかめ、野菜などを入れて作る）\\n6. キノコと鶏肉のグリル（鶏胸肉と様々なキノコをマリネして焼く）\\n7. ビーンズサラダ（豆類と野菜をオリーブオイルとレモン汁で和える）\\n8. 野菜と豆のミネストローネ（豆とたくさんの野菜を使ったイタリアのスープ）\\n9. 鮭のホイル焼き（鮭と野菜をホイルで包み、オーブンで焼く）\\n10. スムージー（新鮮な果物や野菜、ヨーグルトやアーモンドミルクを使って作る）\\n\\nこれらの料理は栄養バランスが良く、体に優しい選択肢となるため、健康的な食生活に寄与します。': 1,\n",
       " '**豆腐サラダ**': 1,\n",
       " '**鮭のホイル焼き**': 1,\n",
       " '**おひたし**': 1,\n",
       " '**海鮮丼**': 1,\n",
       " '**レンズ豆のサラダ**': 1,\n",
       " '**きのこ炒め**': 1,\n",
       " '**焼き魚**': 1,\n",
       " '**キヌアサラダ**': 1,\n",
       " '**レンティルカレー**': 1,\n",
       " '**ほうれん草と卵のスクランブル**': 1,\n",
       " '**手作り野菜ジュース**': 1,\n",
       " '**マリネされたトーフと野菜のサラダ**': 1,\n",
       " '鶏胸肉のグリル野菜添え': 1,\n",
       " '豆腐と野菜の味噌汁': 1,\n",
       " '野菜と海草の和風サラダ': 1,\n",
       " '鮭のホイル焼き': 1,\n",
       " '玄米と野菜のピラフ': 1,\n",
       " '海鮮と野菜のスープ': 1,\n",
       " 'キヌアと野菜のサラダ': 1,\n",
       " '蒸し鶏とブロッコリー': 1,\n",
       " 'トマトとバジルのスパゲッティ': 1,\n",
       " '豆類のチリコンカン': 1,\n",
       " '**野菜たっぷりの味噌汁**': 1,\n",
       " '**鶏胸肉のグリル野菜添え**': 1,\n",
       " '**豆腐とわかめのサラダ**': 1,\n",
       " '**酢の物（きゅうりと海草）**': 1,\n",
       " '**ほうれん草のおひたし**': 1,\n",
       " '**サバの塩焼き**': 1,\n",
       " '**キノコと鶏肉の炒めもの**': 1,\n",
       " '**野菜たっぷりのみそ汁**': 1,\n",
       " '**鮭のムニエル**': 1,\n",
       " '**カレーライス**': 1,\n",
       " '**ベジタリアンチリ**': 1,\n",
       " '**スムージー**': 1}"
      ]
     },
     "execution_count": 198,
     "metadata": {},
     "output_type": "execute_result"
    }
   ],
   "source": [
    "japanese_healthy_dish_counts_missing"
   ]
  },
  {
   "cell_type": "code",
   "execution_count": 119,
   "id": "5610bb57-69ac-4d38-a487-54e406635ad5",
   "metadata": {},
   "outputs": [],
   "source": [
    "japanese_healthy_results_2 = call_openai_api(prompt_healthy_japanese, n_runs=20)"
   ]
  },
  {
   "cell_type": "code",
   "execution_count": 163,
   "id": "70a1fe4f-ea9d-4fc2-805b-05509b9c8ae0",
   "metadata": {
    "scrolled": true
   },
   "outputs": [
    {
     "data": {
      "text/plain": [
       "['健康的な料理を10個挙げると以下のようになります：\\n\\n1. **野菜たっぷりのミネストローネ** - さまざまな野菜でビタミンとミネラルを豊富に含みます。\\n2. **鶏肉のグリル** - 低脂肪で高タンパク質な鶏胸肉を使った料理です。\\n3. **鮭のムニエル** - オメガ3脂肪酸が豊富で心臓や脳の健康に良いです。\\n4. **豆腐と野菜の炒め物** - 植物性タンパク質と繊維が豊富で栄養バランスが良いです。\\n5. **ほうれん草とリコッタチーズ入りのファルファーレ** - 鉄分とカルシウムを豊富に含みます。\\n6. **サバの味噌煮** - ビタミン、ミネラル、オメガ3脂肪酸をバランス良く含む日本の伝統的な料理です。\\n7. **キヌアと野菜のサラダ** - 高タンパク質のキヌアと、ビタミン豊富な野菜を使用します。\\n8. **トマトとバジルのガスパチョ** - 冷たいスープで、生のトマトをたっぷり使い、抗酸化物質が豊富です。\\n9. **かぼちゃのスープ** - ビタミンAが豊富で免疫力の向上に役立ちます。\\n10. **バリのソテー** - 低カロリーで多くの緑黄色野菜を使用し、ヘルシーな料理です。\\n\\nこれらの料理は、栄養バランスが良く、健康維持に役立つ選択肢となります。',\n",
       " '健康的な料理としておすすめの10品を以下に挙げます：\\n\\n1. 鮭のムニエル - オメガ3脂肪酸が豊富で心臓病予防に効果が期待できます。\\n2. 豆腐と野菜の味噌汁 - 豆腐は高たんぱく低カロリー、野菜でビタミンとミネラルをたっぷり摂取できます。\\n3. 鳥胸肉のグリル - 低脂肪で高たんぱく質、野菜と一緒にすることで栄養バランスが良くなります。\\n4. 野菜たっぷりのトマトパスタ - リコピン豊富なトマトソースを使用し、野菜を多く加えることで繊維の摂取を増やせます。\\n5. ほうれん草のおひたし - 鉄分やビタミンKが豊富で、健康的な日本の伝統料理です。\\n6. キノコと鶏肉の炒め物 - キノコにはビタミンDが含まれており、鶏肉は低脂肪のたんぱく源です。\\n7. キヌアのサラダ - 食物繊維、たんぱく質が豊富なキヌアをベースに、カラフルな野菜を加えることで栄養価が高まります。\\n8. サーモンとアボカドのポケボウル - 心健康に良い脂質がサーモンとアボカドから得られます。\\n9. 海草サラダ - ミネラル、ビタミンが豊富で、日本食の中でも特に健康効果が高いとされます。\\n10. 蒸し野菜と豆腐のヘルシー鍋 - 栄養素を逃さずに野菜を豊富に摂ることができ、豆腐でたんぱく質も補えます。\\n\\nこれらの料理は、バランスの良い栄養摂取をサポートし、健康的な食生活に役立ちます。',\n",
       " 'もちろんです。健康に気をつけながらもおいしく楽しめる料理を以下に挙げてみます：\\n\\n1. 鶏胸肉のグリル：余分な脂肪が少なく、たんぱく質が豊富です。お好みのハーブやスパイスで味付けをして焼くと良いでしょう。\\n\\n2. 野菜のミネストローネスープ：季節の野菜をふんだんに使った栄養豊富なスープです。ビタミン、ミネラル、食物繊維が豊富に取れます。\\n\\n3. 鮭のムニエル：オメガ3脂肪酸が豊富な鮭を、オリーブオイルで軽く焼く料理です。心臓にも良い健康的な選択肢です。\\n\\n4. 豆腐と野菜の炒め物：高たんぱくで低脂肪の豆腐を使い、カラフルな野菜と一緒に炒めます。エネルギーの源となる良質な脂肪とたんぱく質が摂れます。\\n\\n5. キヌアサラダ：高たんぱくで栄養価の高いキヌアをベースに、野菜やナッツを加えたサラダです。ビタミンやミネラルが豊富です。\\n\\n6. 大根と鶏肉の蒸し物：消化がよく、低カロリーで栄養が高い大根を使って、ヘルシーな蒸し料理を作ります。鶏肉からは良質なたんぱく質が取れます。\\n\\n7. ほうれん草のオムレツ：鉄分とビタミンが豊富なほうれん草を使ったオムレツ。たんぱく質を含む卵と組み合わせることで、栄養バランスが良好です。\\n\\n8. 根菜のロースト：ビタミンやミネラルが豊富なさまざまな根菜（にんじん、さつまいも、かぼちゃなど）をオーブンでローストします。食物繊維も豊富で、満足感があります。\\n\\n9. 海藻サラダ：ミネラル豊富な海藻を使ったサラダは、日本の伝統的な健康食です。ダイエットや美容にも役立ちます。\\n\\n10. トマトとバジリコのパスタ：全粒粉のパスタにフレッシュなトマトとバジリコ、オリーブオイルを合わせた簡単でヘルシーな料理。アンチオキシダントが豊富で、心臓病のリスクを減らす効果が期待できます。\\n\\nこれらの料理は健康的かつ栄養のバランスが良いため、日々の食事に取り入れやすいものばかりです。',\n",
       " 'ここに健康的な料理の例を10個挙げます：\\n\\n1. 豆腐と野菜のみそ汁 - 発酵食品である味噌は消化を助け、豆腐は高品質な植物性タンパク質を提供します。\\n2. 鶏胸肉のグリル - 低脂肪で高タンパク質の食材で、健康的な調理方法であるグリルを使用しています。\\n3. 海藻サラダ - ミネラル豊富な海藻を使い、ドレッシングとして醤油とごま油を少量使用。\\n4. ブロッコリーのスチーム - ビタミンCやカルシウムが豊富で、蒸すことで栄養素を保持します。\\n5. 切干大根の煮物 - 低カロリーで食物繊維が豊富な切干大根を使った和食です。\\n6. 雑穀米 - 白米に比べて食物繊維やミネラルが豊富なため、健康的な炭水化物の選択肢となります。\\n7. ササミと野菜のスープ - 脂肪が少なく消化しやすい鳥のササミ肉と、ビタミン豊富な野菜を使います。\\n8. 鮭のホイル焼き - オメガ3脂肪酸が豊富な鮭を使用し、ホイル焼きにすることで余分な油を使わずに調理できます。\\n9. ひじきの煮物 - 鉄分や食物繊維、カルシウムが豊富なひじきを用いた健康的な日本の伝統料理。\\n10. 手作りヨーグルトとフルーツのボウル - プロバイオティクスが豊富なヨーグルトと、ビタミンを豊富に含む季節のフルーツを組み合わせたデザート。\\n\\nこれらの料理は、バランスの取れた栄養と健康的な調理方法を意識して選んでいます。',\n",
       " '健康的な料理を10個挙げます：\\n\\n1. **鮭のグリル** - オメガ3脂肪酸が豊富で、心臓病のリスクを軽減します。\\n2. **野菜スープ** - 野菜の栄養を丸ごと摂取でき、低カロリーで満足感が得られます。\\n3. **豆腐と野菜の炒め物** - 良質な植物性タンパク質とファイバーが豊富です。\\n4. **キノコと鶏肉のケバブ** - 低脂肪のプロテインソースで、脂肪の少ない料理です。\\n5. **ほうれん草のサラダ** - 鉄分やビタミンKが豊富で、健康的な葉物野菜です。\\n6. **玄米リゾット** - 繊維と必須ミネラルが豊富な玄米を使用した料理。\\n7. **レンズ豆のカレー** - タンパク質や鉄分が豊富で、心にも体にも優しいベジタリアン料理。\\n8. **ベリーのスムージー** - 抗酸化物質が豊富なベリーを使用し、ビタミンCも豊富です。\\n9. **南瓜のスープ** - ベータカロテンが豊富で免疫システムを支え、低カロリーです。\\n10. **焼き魚と野菜の蒸し料理** - 脂肪が少なく、オイルを使わずに調理することができ、ヘルシーです。\\n\\nこれらの料理は、栄養バランスが取れており、健康維持に役立ちます。',\n",
       " '健康的な料理を10個挙げます：\\n\\n1. 野菜たっぷりの豆腐サラダ - カラフルな野菜と共に豆腐を使用し、栄養バランスが高く、低カロリーです。\\n2. 鮭のグリル - オメガ3脂肪酸が豊富で、心臓の健康に良いとされています。シンプルにレモンとハーブで味付け。\\n3. ほうれん草とキノコのスープ - 鉄分とビタミン豊富なほうれん草とキノコを使い、体に優しい温かいスープ。\\n4. 蒸し鶏と野菜の蒸し物 - 蒸し料理は栄養を逃がしにくく、素材の味を楽しめる健康的な調理法です。\\n5. キヌアと野菜のピラフ - 高タンパクでグルテンフリーのキヌアをベースに、色々な野菜を混ぜた栄養満点の一品。\\n6. カボチャのポタージュ - ビタミンAが豊富なカボチャを使用したクリーミーで滑らかなスープ。\\n7. 焼き野菜のサラダ - オリーブオイルとアロマティックハーブでマリネした野菜をオーブンで焼いてサラダに。\\n8. 鶏胸肉とブロッコリーの炒め物 - たんぱく質が豊富な鶏胸肉と、抗酸化物質のブロッコリーを使ったヘルシーなメインディッシュ。\\n9. 枝豆と雑穀のサラダ - ファイバーとタンパク質が豊富な枝豆と様々な雑穀を使った栄養価の高いサラダ。\\n10. 豆と野菜のミネストローネ - さまざまな豆と野菜で作る、イタリアンスタイルの濃厚なスープ。\\n\\nこれらの料理は、栄養バランスが取れており、日々の食事に取り入れることで健康維持に役立ちます。',\n",
       " 'もちろんです！以下に健康的な料理を10個挙げます：\\n\\n1. **ひじきの煮物** - 鉄分や食物繊維が豊富で、貧血予防や便秘解消に効果的です。\\n2. **豆腐と野菜の味噌汁** - 豆腐は良質なたんぱく質源、味噌は消化を助ける発酵食品です。\\n3. **鶏胸肉のグリル** - 低脂肪で高たんぱくな鶏胸肉を使用し、ヘルシーな調理法で提供。\\n4. **サーモンのガーリック焼き** - オメガ3脂肪酸が豊富なサーモンを使用し、心血管の健康に貢献。\\n5. **キヌアと野菜のサラダ** - 高たんぱく質でグルテンフリーのキヌアを利用した栄養豊富なサラダ。\\n6. **ほうれん草と玉ねぎのスクランブルエッグ** - 鉄分とビタミンC豊富なほうれん草を使った、朝食におすすめの料理。\\n7. **かぶと水菜のサラダ** - ビタミンAとCが豊富で、免疫力を高める効果が期待できます。\\n8. **トマトとバジルのスパゲッティ（全粒粉使用）** - 抗酸化物質のリコピンを多く含むトマトと全粒粉のパスタで健康的な一皿。\\n9. **焼き魚（例：鯖）** - DHAやEPAが豊富な鯖を焼いて、健康的な油分を取り入れた料理。\\n10. **豆乳ポタージュ** - 植物性たんぱく質豊富な豆乳を使ったクリーミーで栄養が高いスープ。\\n\\nこれらの料理はバランスの取れた栄養素が含まれており、日常の食事に取り入れることで健康維持に寄与します。',\n",
       " '健康的な料理を10個、以下に挙げます：\\n\\n1. **豆腐と野菜の味噌汁** - 豆腐は高たんぱくで低カロリー、野菜はビタミンとミネラルを豊富に含みます。\\n2. **鶏胸肉のグリル** - 低脂肪で高たんぱく質の鶏胸肉を使い、オリーブオイルとハーブでマリネして焼くことで、健康的かつ美味しい料理に。\\n3. **サーモンの焼き物** - オメガ3脂肪酸が豊富なサーモンは、心臓病のリスクを減らすのに効果的です。\\n4. **野菜とキノコの炒め物** - ビタミン、ミネラル、食物繊維が多く含まれる野菜とキノコをオリーブオイルですっと炒める。\\n5. **キヌアサラダ** - 栄養価の高いキヌアに、トマト、きゅうり、ペッパー、レモンジュースを加えた爽やかなサラダ。\\n6. **ほうれん草とひよこ豆のカレー** - ほうれん草は鉄分が豊富で、ひよこ豆は良質なタンパク質源です。\\n7. **トマトとバジルのパスタ** - ホールグレインのパスタを使用し、トマトのリコピン、バジルの香りが食欲をそそります。\\n8. **野菜スープ** - 旬の野菜をたっぷり使い、塩分控えめで仕上げた暖かいスープ。\\n9. **鮭と野菜のパピヨット** - 魚を野菜と一緒に紙で包み、オーブンで焼くことで、素材の味を生かしたヘルシーな料理。\\n10. **ビートとニンジンのジュース** - 抗酸化成分が豊富なビートとビタミンAの源であるニンジンを使った栄養満点のドリンク。\\n\\nこれらの料理は、バランスの良い栄養を提供し、日々の健康維持に役立ちます。',\n",
       " '健康に良い料理を10個挙げます。これらは栄養バランスがよく、体に優しい食材を使用しています。\\n\\n1. **野菜たっぷりのミネストローネ** - カロリーが低く、野菜から豊富なビタミンとミネラルを摂取できるスープです。\\n2. **鶏胸肉のグリル** - 低脂肪の鶏胸肉を使用し、オリーブオイルとハーブでマリネして焼く健康的な料理です。\\n3. **豆腐と野菜の炒め物** - 高たんぱくで低カロリーの豆腐とカラフルな野菜を使用し、胡麻油で風味豊かに仕上げます。\\n4. **サーモンのオーブン焼き** - オメガ3脂肪酸が豊富なサーモンをレモンとハーブで調理し、健康的な脂質を摂取できる料理です。\\n5. **キヌアサラダ** - 栄養価が高いキヌアをベースに、野菜、ナッツ、ドライフルーツを混ぜたサラダ。\\n6. **ほうれん草とリコッタチーズのファルファーレ** - 鉄分豊富なほうれん草とタンパク質の源であるリコッタチーズを使ったパスタ料理。\\n7. **レンズ豆のカレー** - 食物繊維とタンパク質が豊富なレンズ豆を使ったスパイシーなカレーです。\\n8. **ギリシャ風サラダ** - フェタチーズ、オリーブ、そして新鮮なトマトとキュウリを使った爽やかなサラダ。\\n9. **かぼちゃのスープ** - ビタミンAが豊富なかぼちゃを使用し、温かくて栄養満点のスープです。\\n10. **鯖の味噌煮** - オメガ3脂肪酸が豊富な鯖を健康的な味噌ベースで煮た日本の伝統的な料理です。\\n\\nこれらの料理は、バランスの良い食事や健康的な生活に役立ちます。',\n",
       " 'もちろんです、以下に健康的な料理を10個挙げます。これらは栄養バランスが良く、身体に優しい選択肢です。\\n\\n1. **野菜たっぷりの味噌汁** - 多種多様な野菜と豆腐を使った、日本の伝統的なスープ。\\n2. **鶏胸肉のグリル野菜添え** - ローカロリーで高たんぱくな鶏胸肉を、オリーブオイルでマリネした野菜と共にグリルする。\\n3. **豆腐ときのこの炒め物** - 低カロリーでヘルシーな豆腐と、ビタミン豊富な様々なきのこを使った料理。\\n4. **サーモンのハーブ焼き** - オメガ3脂肪酸が豊富なサーモンを、ハーブとレモンで味付けして焼く。\\n5. **かぼちゃのスープ** - ビタミンAが豊富なかぼちゃを使ったクリーミーで温かいスープ。\\n6. **キノアと野菜のサラダ** - 高タンパク質のキノアとカラフルな生野菜を組み合わせた栄養満点のサラダ。\\n7. **ほうれん草と豚肉の胡麻和え** - 鉄分豊富なほうれん草と豚肉を胡麻風味で和えた料理。\\n8. **海藻サラダ** - ミネラルとビタミンが豊富な様々な海藻を使った爽やかなサラダ。\\n9. **鳥肉のトマト煮込み** - トマトのリコピンと、鶏肉の低脂肪たんぱく質がたっぷりの煮込み料理。\\n10. **スムージーボウル** - ベリーやバナナ、スピルリナなどのスーパーフードを使って作る栄養豊かなスムージー。\\n\\nこれらの料理は、健康を意識した食事に取り入れやすく、バランス良く栄養を取得するのに適しています。それぞれの食材や調理法を変えることで、多様な味わいと栄養を楽しむことができます。',\n",
       " 'もちろんです。健康的な料理として以下の10種類が挙げられます：\\n\\n1. **鮭のグリル** - オメガ3脂肪酸が豊富で心臓に良い。\\n2. **豆腐と野菜の炒め物** - 植物性タンパク質が豊富で、低カロリー。\\n3. **キヌアサラダ** - 高タンパク、高繊維で栄養満点。\\n4. **ほうれん草のスムージー** - 鉄分、ビタミンKなどのビタミンやミネラルが豊富。\\n5. **チキンと野菜のスープ** - 低脂肪で栄養バランスが良い。\\n6. **海藻サラダ** - ヨウ素やミネラルが豊富で体の機能をサポート。\\n7. **レンズ豆のカレー** - 高タンパクで食物繊維が多く含まれる。\\n8. **野菜と豆のチリ** - 栄養豊富で心地よいスパイスが特徴。\\n9. **鶏胸肉の蒸し焼き** - 低脂肪でヘルシーなタンパク質源。\\n10. **スイートポテトのロースト** - ベータカロテンが豊富で抗酸化作用があります。\\n\\nこれらの料理は、バランスの取れた栄養を提供し、日々の食事に取り入れやすい健康的な選択です。',\n",
       " 'もちろんです、以下は健康的な料理の例です：\\n\\n1. ほうれん草のおひたし\\n   - 鉄分やビタミンが豊富で、胃にも優しい日本の伝統的な料理です。\\n\\n2. 鶏胸肉のグリル\\n   - 低脂肪で高たんぱく質な鶏胸肉を使い、シンプルに塩胡椒で味付けした料理。\\n\\n3. 豆腐サラダ\\n   - 豆腐は植物性たんぱく質が豊富で、さまざまな野菜と合わせて栄養バランスの良いサラダに。\\n\\n4. 焼き魚\\n   - 魚はオメガ3脂肪酸が豊富で、健康的な脂質の摂取に適しています。シンプルに塩を振って焼くだけです。\\n\\n5. 蕎麦\\n   - 蕎麦は良質な炭水化物を含み、また抗酸化物質も含んでいます。蕎麦つゆでさっぱりと。\\n\\n6. 豆乳スープ\\n   - 豆乳は高タンパク・低脂肪で、野菜やきのこを加えれば更に栄養価が高くなります。\\n\\n7. 野菜と豆のチリ\\n   - 様々な種類の豆と野菜を使用し、食物繊維とたんぱく質が豊富なワンポット料理。\\n\\n8. 餃子（野菜たっぷり）\\n   - 皮で野菜と少量の肉を包み、蒸したり焼いたりして脂質を控えめに。\\n\\n9. キヌアサラダ\\n   - キヌアは「スーパーフード」とも称される栄養価が高く、様々な野菜と合わせて食べると良いです。\\n\\n10. 納豆ご飯\\n    - 納豆は発酵食品で、プロバイオティクス（善玉菌）が豊富。ご飯と一緒に食べると、食物繊維も一緒に摂取できます。\\n\\nこれらは体に良いとされる食材を使用した健康的な料理例です。バランス良く毎日の食事に取り入れることで、より健康的な生活が送れるでしょう。',\n",
       " '1. 鮭のグリル - オメガ3脂肪酸が豊富で心臓に良いです。\\n2. 豆腐と野菜の炒め物 - 低カロリーで高タンパク、ビタミンとミネラルが豊富。\\n3. キノコと野菜の味噌汁 - 免疫システムをサポートする発酵食品です。\\n4. ほうれん草のサラダ - アイアンやビタミンKが豊富で健康をサポート。\\n5. 鶏胸肉のグリル - 低脂肪で高タンパク、健康的な食事に最適。\\n6. 野菜スープ - ファイバーが豊富で消化を助け、さまざまな栄養素を提供。\\n7. カボチャの煮物 - ベータカロテンが豊富で視覚と免疫機能をサポート。\\n8. 茹でたアスパラガス - 葉酸やビタミンKが豊富。\\n9. 納豆 - プロバイオティックで消化を助けるほか、ビタミンK2が豊富。\\n10. 雑穀米 - ファイバーと栄養が豊富で、血糖値の安定に役立つ。\\n\\nこれらは健康に良いとされる食材を使ったシンプルで栄養豊かな料理です。',\n",
       " '健康的な料理を挙げる際には、バランスの良い栄養素、低脂肪、低糖分を意識したメニューが選ばれがちです。以下に健康的だと推奨される料理を10個挙げます。\\n\\n1. **鶏の胸肉のグリル** - 低脂肪で高タンパク質で、ハーブやスパイスで味付け。\\n2. **野菜たっぷりの味噌汁** - ミネラル・ビタミンを豊富に含む日本の伝統的なスープ。\\n3. **海鮮サラダ** - サーモンや海草を含むことで、オメガ3脂肪酸やヨードを摂取。\\n4. **豆腐と野菜の炒め物** - 植物性たんぱく質と繊維が豊富なメインディッシュ。\\n5. **全粒粉パスタのトマトソース** - 全粒粉の使用でダイエット繊維も摂取できる。\\n6. **キノコと野菜の鍋物** - 低カロリーで満足感があり、多様な野菜を摂ることができる。\\n7. **ひじきの煮物** - 鉄分が豊富で血液サラサラ効果も期待できる日本の家庭料理。\\n8. **鮭のホイル焼き** - オメガ3脂肪酸が豊富で心血管疾患のリスク軽減に。\\n9. **キヌアと野菜のサラダ** - 高タンパク質のキヌアを使用した栄養満点の一品。\\n10. **バナナとヨーグルトのスムージー** - プロバイオティクスとカリウムが豊富な一杯で、消化を助ける。\\n\\nこれらの料理は、バランスが取れていて、さまざまな栄養素が含まれています。食生活に取り入れることで、全体的な健康の向上が期待できます。',\n",
       " '健康的な料理の例をいくつか挙げます：\\n\\n1. 鮭のグリル - オメガ3脂肪酸が豊富で心臓に良い。\\n2. 豆腐と野菜の炒め物 - 植物性タンパク質とビタミンがたっぷり。\\n3. 雑穀サラダ - キヌアやアマランスなどの雑穀を使用し、食物繊維が豊富。\\n4. カボチャのスープ - βカロテンが豊富で免疫力向上に役立つ。\\n5. ほうれん草のスムージー - 鉄分とビタミンKが豊富で、健康的な飲み物。\\n6. 鶏胸肉のグリル - 低脂肪で高タンパク、ヘルシーな肉料理。\\n7. トマトとモッツァレラのカプレーゼサラダ - シンプルでフレッシュ、抗酸化物質が豊富。\\n8. 砂肝と野菜のピリ辛炒め - 鉄分とタンパク質が豊富。\\n9. タラのポワレ - 蒸し焼きにすることで余分な脂を使用しないヘルシーな調理法。\\n10. 納豆巻き - 日本の伝統的な発酵食品であり、プロバイオティクスが豊富で消化促進に役立つ。\\n\\nこれらの料理は、バランスのとれた栄養素を含んでおり、健康維持に役立ちます。',\n",
       " '健康的な料理を挙げるときには、栄養バランスと材料の質に注意を払います。以下は健康に良いとされる料理の例です：\\n\\n1. 鶏胸肉のグリル - オリーブオイル、ハーブ、レモンで味付けし、シンプルに焼き上げる。\\n\\n2. 野菜と豆腐の味噌汁 - 栄養豊富な豆腐と季節の野菜を使った日本の伝統的なスープ。\\n\\n3. キヌアサラダ - トマト、きゅうり、赤玉ねぎ、フェタチーズとキヌアを合わせ、オリーブオイルでドレッシングする。\\n\\n4. 魚の蒸し物 - 白身魚を蒸して、野菜やジンジャーと共に調理する。\\n\\n5. 豆と野菜のミネストローネ - セロリ、人参、ズッキーニなどの野菜とともに豆を煮込んだイタリアンスープ。\\n\\n6. ターキーと野菜のラップ - 蒸した野菜とグリルしたターキーブレストを全粒粉のトルティーヤで包む。\\n\\n7. 茹で野菜のバーニャカウダ - 蒸し野菜にアンチョビとオリーブオイルを混ぜたディップを添えて。\\n\\n8. 鮭のグリル - オメガ3脂肪酸が豊富な鮭を塩とペッパーで味付けし、グリルで調理。\\n\\n9. トマトとモッツァレラのカプレーゼサラダ - スライスしたトマトとモッツァレラチーズをバジルとオリーブオイルでシンプルに仕上げる。\\n\\n10. 野菜入りチャパティ - 全粒粉を使ったインドの平たいパンに、炒めた野菜を詰めて。\\n\\nこれらは栄養価が高く、身体に優しい料理例です。どれも野菜を豊富に用い、余計な脂肪や糖分を控えめにしています。',\n",
       " 'もちろんです！以下に健康的な料理を10個紹介します。これらの料理はバランスの取れた栄養素を含み、日常的に取り入れることが推奨されています。\\n\\n1. **野菜たっぷりのミネストローネ** - さまざまな種類の野菜を使ったスープで、食物繊維が豊富です。\\n2. **豆腐と野菜の炒め物** - 豆腐は高たんぱく低カロリーで、野菜と組み合わせることで栄養バランスが良くなります。\\n3. **鶏胸肉のグリル** - 低脂肪の鶏胸肉を使った料理で、たんぱく質が豊富です。\\n4. **海草サラダ** - 海藻はミネラル、特にヨウ素を多く含んでおり、日本食には欠かせない元素です。\\n5. **玄米ご飯** - 白米に比べて栄養価が高く、食物繊維も豊富なため、満腹感を感じやすくなります。\\n6. **サーモンのグリル** - オメガ3脂肪酸が豊富で心臓病のリスクを下げる効果が期待される料理です。\\n7. **野菜と豆のサラダ** - 豆類は良質なタンパク質源で、野菜と合わせることでビタミン・ミネラルが豊富な一品になります。\\n8. **かぼちゃのスープ** - ビタミンAが豊富で免疫力を向上させる効果も期待できます。\\n9. **ほうれん草のおひたし** - 鉄分やビタミンKが豊富で、血液の健康や骨の強化に役立つ日本の伝統的な料理です。\\n10. **トマトとモッツァレラのカプレーゼ** - トマトのリコピンとモッツァレラチーズのたんぱく質が心と体に良いシンプルな料理です。 \\n\\nこれらの料理は、それぞれ異なる栄養素を提供し、健康的な食生活への良い選択肢となります。',\n",
       " '健康に良い料理を心掛けることは、全体的な健康維持に大きな役割を果たします。以下に、栄養面でバランスが取れている健康的な料理の例を10個挙げてみます。\\n\\n1. **サーモンのグリル** - オメガ3脂肪酸が豊富で心臓病予防に効果的です。野菜とともにひと皿でバランスのとれた食事に。\\n\\n2. **鶏胸肉のひじき煮** - 高たんぱくで低脂肪の鶏胸肉と、鉄分・食物繊維が豊富なひじきを組み合わせた和食。\\n\\n3. **豆腐と野菜のミネストローネ** - 豆腐は優れたたんぱく源で、多種多様な野菜が豊富に摂れるヘルシースープ。\\n\\n4. **キノコとほうれん草のキッシュ** - たんぱく質と鉄分が豊富なほうれん草を使い、キノコでうま味をプラス。\\n\\n5. **親子丼** - 鶏肉と玉ねぎ、卵を使った日本の定番料理で、適切な量を心掛ければ非常に栄養価が高い。\\n\\n6. **レンティル豆のサラダ** - 高たんぱくで食物繊維が豊富なレンティル豆をベースに、トマト、キュウリ、パセリなどの野菜をたっぷり使う。\\n\\n7. **豆乳入りスムージー** - ブルーベリーやバナナなどのフルーツに豆乳を加え、ビタミンやミネラル、たんぱく質を効率的に摂取。\\n\\n8. **海藻サラダ** - ワカメや昆布など、ミネラルが豊富な海藻をたっぷり用いた健康的なサラダ。\\n\\n9. **トマトとモッツァレラのカプレーゼ** - シンプルながらも栄養価の高いトマトとモッツァレラチーズをバジルの香りで引き立てる。\\n\\n10. **玄米と野菜のピラフ** - カリウムやビタミンB群が豊富な玄米を使い、カラフルな野菜をたっぷりと混ぜて炊く。\\n\\nこれらの料理は、色とりどりの材料を使用し、バランスよく栄養を摂ることができるため、日常の食事に取り入れると良いでしょう。',\n",
       " 'もちろんです、以下に健康的な料理の例を10個挙げますね。\\n\\n1. 鶏むね肉のグリル\\n   - 低脂肪でタンパク質が豊富。\\n\\n2. 野菜たっぷりのミネストローネ\\n   - バラエティ豊かな野菜が免疫力向上に役立ちます。\\n\\n3. 豆腐と野菜の炒めもの\\n   - タンパク質が豊富で、ヘルシーな食事。\\n\\n4. サーモンのグリル\\n   - オメガ3脂肪酸が心臓病のリスクを低減。\\n\\n5. 海藻サラダ\\n   - ミネラルやビタミンが豊富で、健康に良い。\\n\\n6. トマトとモッツァレラのカプレーゼ\\n   - 素材の味を生かしたシンプルで健康的なサラダ。\\n\\n7. 胚芽米を使用した野菜寿司\\n   - グルテンフリーで健康的な選択肢。\\n\\n8. スイートポテトのベイク\\n   - ビタミンAが豊富で健康的なスナックや付け合せ。\\n\\n9. キノコとほうれん草のオムレツ\\n   - 鉄分とタンパク質を補給できる料理。\\n\\n10. ほうれん草とひよこ豆のカレー\\n    - 植物性タンパク質が豊富でご飯とも合うヘルシーな料理。\\n\\nこれらの料理は、バランスの取れた食事に貢献する素材を使っており、日々の食生活に取り入れやすいです。',\n",
       " '健康的な料理を10個挙げますね：\\n\\n1. **鶏の胸肉のグリル** - 低脂肪で高たんぱく質。細切れにして野菜と一緒にサラダにすると良いでしょう。\\n2. **豆腐サラダ** - 豆腐は大豆から作られる植物性たんぱく質の良源。野菜やアボカド、ドレッシングで味をつけて。\\n3. **野菜スープ** - にんじん、タマネギ、キャベツなど、様々な野菜を使える。栄養豊かで消化も良い。\\n4. **鮭のムニエル** - オメガ3脂肪酸が豊富で、心と脳に良い。オリーブオイルで軽く焼くと美味しい。\\n5. **ひじきの煮物** - 鉄分、食物繊維が豊富で、健康的な日本のサイドディッシュ。\\n6. **きのこの炒め物** - きのこは低カロリーで栄養が高い。他の野菜と合わせても良い。\\n7. **玄米ご飯** - 白米よりも栄養価が高く、食物繊維やミネラルを多く含む。\\n8. **レンズ豆のカレー** - 高たんぱくで食物繊維も豊富。スパイスで味付けして、免疫力向上にも効果的。\\n9. **ヨーグルトとフルーツ** - プロバイオティクスが豊富なヨーグルトと、ビタミンが豊富なフルーツの組み合わせ。\\n10. **キノアサラダ** - たんぱく質と必須アミノ酸が豊富なキノアをベースに、野菜やナッツを加えて。\\n\\nこれらの料理は、栄養バランスが良く、日常的に取り入れやすい健康的な選択肢です。']"
      ]
     },
     "execution_count": 163,
     "metadata": {},
     "output_type": "execute_result"
    }
   ],
   "source": [
    "japanese_healthy_results_2"
   ]
  },
  {
   "cell_type": "code",
   "execution_count": 208,
   "id": "bec2327f-ae7c-4ddd-9190-884e766a5960",
   "metadata": {},
   "outputs": [
    {
     "name": "stdout",
     "output_type": "stream",
     "text": [
      "Results have been saved to japanese_healthy_results_2.txt\n"
     ]
    }
   ],
   "source": [
    "save_results_to_file(japanese_healthy_results_2, \"japanese_healthy_results_2.txt\")"
   ]
  },
  {
   "cell_type": "code",
   "execution_count": 120,
   "id": "d002944b-cafc-4211-bd27-18ae03994870",
   "metadata": {},
   "outputs": [],
   "source": [
    "japanese_healthy_dish_counts = extract_dish_names_and_count(japanese_healthy_results_2, japanese_healthy_dish_counts)"
   ]
  },
  {
   "cell_type": "code",
   "execution_count": 121,
   "id": "f1c055c3-4307-48cb-977d-e1192ae04d86",
   "metadata": {
    "scrolled": true
   },
   "outputs": [
    {
     "name": "stdout",
     "output_type": "stream",
     "text": [
      "Counts after second batch (now total 30 runs):\n",
      "\n",
      "鶏胸肉のグリル: 9\n",
      "豆腐と野菜の炒め物: 9\n",
      "野菜スープ: 7\n",
      "海藻サラダ: 5\n",
      "かぼちゃのスープ: 5\n",
      "トマトとモッツァレラのカプレーゼ: 4\n",
      "キヌアサラダ: 4\n",
      "レンズ豆のカレー: 4\n",
      "サーモンのグリル: 3\n",
      "野菜たっぷりの味噌汁: 3\n",
      "鮭のムニエル: 3\n",
      "野菜たっぷりのミネストローネ: 3\n",
      "キヌアと野菜のサラダ: 3\n",
      "ひじきの煮物: 3\n",
      "レンズ豆のスープ: 2\n",
      "かぼちゃの煮物: 2\n",
      "サラダボウル: 2\n",
      "トマトとバジルのパスタ: 2\n",
      "鯖の味噌煮: 2\n",
      "豆腐サラダ: 2\n",
      "鮭のホイル焼き: 2\n",
      "鶏胸肉のグリル野菜添え: 2\n",
      "ほうれん草のおひたし: 2\n",
      "鮭のグリル: 2\n",
      "豆腐と野菜の味噌汁: 2\n",
      "鶏の胸肉のグリル: 2\n",
      "玄米ご飯: 2\n",
      "野菜の豆腐サラダ: 1\n",
      "焼き鮭の野菜添え: 1\n",
      "きのこと豆のヴィーガンチリ: 1\n",
      "カボチャのリゾット: 1\n",
      "ムング豆とスピナッチのカレー: 1\n",
      "ビーツとワカモレのサラダ: 1\n",
      "甘酒と味噌のニンジンスープ: 1\n",
      "ブロッコリーとカリフラワーのサラダ: 1\n",
      "キノコとほうれん草のリゾット: 1\n",
      "寒天とフルーツデザート: 1\n",
      "おひたし: 1\n",
      "海鮮丼: 1\n",
      "レンズ豆のサラダ: 1\n",
      "きのこ炒め: 1\n",
      "焼き魚: 1\n",
      "レンティルカレー: 1\n",
      "ほうれん草と卵のスクランブル: 1\n",
      "手作り野菜ジュース: 1\n",
      "マリネされたトーフと野菜のサラダ: 1\n",
      "豆腐とわかめのサラダ: 1\n",
      "酢の物（きゅうりと海草）: 1\n",
      "サバの塩焼き: 1\n",
      "キノコと鶏肉の炒めもの: 1\n",
      "野菜たっぷりのみそ汁: 1\n",
      "カレーライス: 1\n",
      "ベジタリアンチリ: 1\n",
      "スムージー: 1\n",
      "鶏肉のグリル: 1\n",
      "ほうれん草とリコッタチーズ入りのファルファーレ: 1\n",
      "サバの味噌煮: 1\n",
      "トマトとバジルのガスパチョ: 1\n",
      "バリのソテー: 1\n",
      "キノコと鶏肉のケバブ: 1\n",
      "ほうれん草のサラダ: 1\n",
      "玄米リゾット: 1\n",
      "ベリーのスムージー: 1\n",
      "南瓜のスープ: 1\n",
      "焼き魚と野菜の蒸し料理: 1\n",
      "サーモンのガーリック焼き: 1\n",
      "ほうれん草と玉ねぎのスクランブルエッグ: 1\n",
      "かぶと水菜のサラダ: 1\n",
      "トマトとバジルのスパゲッティ（全粒粉使用）: 1\n",
      "焼き魚（例：鯖）: 1\n",
      "豆乳ポタージュ: 1\n",
      "サーモンの焼き物: 1\n",
      "野菜とキノコの炒め物: 1\n",
      "ほうれん草とひよこ豆のカレー: 1\n",
      "鮭と野菜のパピヨット: 1\n",
      "ビートとニンジンのジュース: 1\n",
      "サーモンのオーブン焼き: 1\n",
      "ほうれん草とリコッタチーズのファルファーレ: 1\n",
      "ギリシャ風サラダ: 1\n",
      "豆腐ときのこの炒め物: 1\n",
      "サーモンのハーブ焼き: 1\n",
      "キノアと野菜のサラダ: 1\n",
      "ほうれん草と豚肉の胡麻和え: 1\n",
      "鳥肉のトマト煮込み: 1\n",
      "スムージーボウル: 1\n",
      "ほうれん草のスムージー: 1\n",
      "チキンと野菜のスープ: 1\n",
      "野菜と豆のチリ: 1\n",
      "鶏胸肉の蒸し焼き: 1\n",
      "スイートポテトのロースト: 1\n",
      "海鮮サラダ: 1\n",
      "全粒粉パスタのトマトソース: 1\n",
      "キノコと野菜の鍋物: 1\n",
      "バナナとヨーグルトのスムージー: 1\n",
      "海草サラダ: 1\n",
      "野菜と豆のサラダ: 1\n",
      "鶏胸肉のひじき煮: 1\n",
      "豆腐と野菜のミネストローネ: 1\n",
      "キノコとほうれん草のキッシュ: 1\n",
      "親子丼: 1\n",
      "レンティル豆のサラダ: 1\n",
      "豆乳入りスムージー: 1\n",
      "玄米と野菜のピラフ: 1\n",
      "きのこの炒め物: 1\n",
      "ヨーグルトとフルーツ: 1\n",
      "キノアサラダ: 1\n"
     ]
    }
   ],
   "source": [
    "print(\"Counts after second batch (now total 30 runs):\\n\")\n",
    "for dish, count in japanese_healthy_dish_counts.items():\n",
    "    print(f\"{dish}: {count}\")"
   ]
  },
  {
   "cell_type": "markdown",
   "id": "406c74f1-8d7c-4a3a-88a0-f0791d684ec4",
   "metadata": {},
   "source": [
    "- Grilled chicken breast: 9\n",
    "- Stir-fried tofu and vegetables: 9\n",
    "- Vegetable soup: 7\n",
    "- Seaweed salad: 5\n",
    "- Pumpkin soup: 5\n",
    "- Tomato and mozzarella caprese: 4\n",
    "- Quinoa salad: 4\n",
    "- Lentils Bean curry: 4\n",
    "- Grilled salmon: 3\n",
    "- Miso soup with plenty of vegetables: 3\n",
    "- Salmon meuniere: 3\n",
    "- Minestrone with plenty of vegetables: 3\n",
    "- Quinoa and vegetable salad: 3\n",
    "- Boiled hijiki: 3\n",
    "- Lentil soup: 2\n",
    "- Boiled pumpkin: 2\n",
    "- Salad bowls: 2\n",
    "- Tomato and basil pasta: 2\n",
    "- Miso-stewed mackerel: 2\n",
    "- Tofu salad: 2\n",
    "- Grilled salmon in foil: 2\n",
    "- Grilled chicken breast with vegetables: 2\n",
    "- Spinach with ohitashi: 2\n",
    "- Grilled salmon: 2\n",
    "- Tofu and vegetables Miso soup: 2\n",
    "- Grilled chicken breast: 2\n",
    "- Brown rice: 2\n",
    "- Vegetable tofu salad: 1\n",
    "- Grilled salmon with vegetables: 1\n",
    "- Vegan chili with mushrooms and beans: 1\n",
    "- Pumpkin risotto: 1\n",
    "- Moong bean and spinach curry: 1\n",
    "- Beetroot and guacamole salad: 1\n",
    "- Amazake and miso carrot soup: 1\n",
    "- Broccoli and cauliflower salad: 1\n",
    "- Mushroom and spinach risotto: 1\n",
    "- Agar and fruit dessert: 1\n",
    "- Ohitashi: 1\n",
    "- Seafood bowl: 1\n",
    "- Lentil salad: 1\n",
    "- Stir-fried mushrooms: 1\n",
    "- Grilled fish: 1\n",
    "- Lentil curry: 1\n",
    "- Spinach and egg scramble: 1\n",
    "- Homemade vegetable juice: 1\n",
    "- Marinated tofu and vegetable salad: 1\n",
    "- Tofu and wakame salad: 1\n",
    "- Vinegared food (cucumber and seaweed): 1\n",
    "- Salt-grilled mackerel: 1\n",
    "- Stir-fried mushrooms and chicken: 1\n",
    "- Miso soup with vegetables: 1\n",
    "- Curry rice: 1\n",
    "- Vegetarian chili: 1\n",
    "- Smoothie: 1\n",
    "- Grilled chicken: 1\n",
    "- Farfalle with spinach and ricotta: 1\n",
    "- Miso-stewed mackerel: 1\n",
    "- Tomato and basil Gazpacho: 1\n",
    "- Sautéed Bali: 1\n",
    "- Mushroom and chicken kebab: 1\n",
    "- Spinach salad: 1\n",
    "- Brown rice risotto: 1\n",
    "- Berry smoothie: 1\n",
    "- Pumpkin soup: 1\n",
    "- Grilled fish and steamed vegetables: 1\n",
    "- Garlic grilled salmon: 1\n",
    "- Spinach and Scrambled eggs with onions: 1\n",
    "- Turnip and mizuna salad: 1\n",
    "- Spaghetti with tomatoes and basil (whole grains): 1\n",
    "- Grilled fish (e.g. mackerel): 1\n",
    "- Soy milk potage: 1\n",
    "- Grilled salmon: 1\n",
    "- Stir-fried vegetables and mushrooms: 1\n",
    "- Spinach and Chickpea curry: 1\n",
    "- Salmon and vegetable papillot: 1\n",
    "- Beet and carrot juice: 1\n",
    "- Roasted salmon: 1\n",
    "- Farfalle with spinach and ricotta: 1\n",
    "- Greek salad: 1\n",
    "- Stir-fried tofu and mushrooms: 1\n",
    "- Salmon Roasted herbs: 1\n",
    "- Quinoa and vegetable salad: 1\n",
    "- Spinach and pork with sesame: 1\n",
    "- Stewed chicken with tomatoes: 1\n",
    "- Smoothie bowl: 1\n",
    "- Spinach smoothie: 1\n",
    "- Chicken and vegetable soup: 1\n",
    "- Chili vegetable and beans: 1\n",
    "- Chicken breast Braised meat: 1\n",
    "- Roasted sweet potato: 1\n",
    "- Seafood salad: 1\n",
    "- Whole wheat pasta with tomato sauce: 1\n",
    "- Mushroom and vegetable hotpot: 1\n",
    "- Banana and yogurt smoothie: 1\n",
    "- Seaweed salad: 1\n",
    "- Vegetable and bean salad: 1\n",
    "- Chicken breast Boiled hijiki: 1\n",
    "- Tofu and vegetable minestrone: 1\n",
    "- Mushroom and spinach quiche: 1\n",
    "- Oyakodon: 1\n",
    "- Lentil bean salad: 1\n",
    "- Smoothie with soy milk: 1\n",
    "- Brown rice and vegetable pilaf: 1\n",
    "- Stir-fried mushrooms: 1\n",
    "- Yogurt and fruit: 1\n",
    "- Quinoa salad: 1\n"
   ]
  },
  {
   "cell_type": "code",
   "execution_count": 200,
   "id": "4e73526b-6870-4a7e-917e-45c8ac6f92e2",
   "metadata": {},
   "outputs": [],
   "source": [
    "japanese_healthy_dish_counts_missing_2 = extract_dish_names_and_count_versatile(japanese_healthy_results_2, number_pattern_str, bold_pattern_str)"
   ]
  },
  {
   "cell_type": "code",
   "execution_count": 201,
   "id": "88dcb84a-cef2-43e6-b323-2aeae6cdc66f",
   "metadata": {
    "scrolled": true
   },
   "outputs": [
    {
     "data": {
      "text/plain": [
       "{'**豆腐と野菜の炒め物**': 6,\n",
       " '鶏胸肉のグリル': 6,\n",
       " '**かぼちゃのスープ**': 4,\n",
       " '**レンズ豆のカレー**': 4,\n",
       " '鮭のグリル': 4,\n",
       " '**鶏胸肉のグリル**': 4,\n",
       " '**野菜たっぷりのミネストローネ**': 3,\n",
       " '**キヌアと野菜のサラダ**': 3,\n",
       " '豆腐と野菜の炒め物': 3,\n",
       " 'キヌアサラダ': 3,\n",
       " '海藻サラダ': 3,\n",
       " '**野菜スープ**': 3,\n",
       " '**ひじきの煮物**': 3,\n",
       " '**キヌアサラダ**': 3,\n",
       " '**海藻サラダ**': 3,\n",
       " '**鮭のムニエル**': 2,\n",
       " '鮭のムニエル': 2,\n",
       " 'ほうれん草のおひたし': 2,\n",
       " '雑穀米': 2,\n",
       " '**鮭のグリル**': 2,\n",
       " '豆と野菜のミネストローネ': 2,\n",
       " '**豆腐と野菜の味噌汁**': 2,\n",
       " '**野菜たっぷりの味噌汁**': 2,\n",
       " '**鶏の胸肉のグリル**': 2,\n",
       " 'トマトとモッツァレラのカプレーゼサラダ': 2,\n",
       " '**玄米ご飯**': 2,\n",
       " '**サーモンのグリル**': 2,\n",
       " '**トマトとモッツァレラのカプレーゼ**': 2,\n",
       " '**鶏肉のグリル**': 1,\n",
       " '**ほうれん草とリコッタチーズ入りのファルファーレ**': 1,\n",
       " '**サバの味噌煮**': 1,\n",
       " '**トマトとバジルのガスパチョ**': 1,\n",
       " '**バリのソテー**': 1,\n",
       " '豆腐と野菜の味噌汁': 1,\n",
       " '鳥胸肉のグリル': 1,\n",
       " '野菜たっぷりのトマトパスタ': 1,\n",
       " 'キノコと鶏肉の炒め物': 1,\n",
       " 'キヌアのサラダ': 1,\n",
       " 'サーモンとアボカドのポケボウル': 1,\n",
       " '海草サラダ': 1,\n",
       " '蒸し野菜と豆腐のヘルシー鍋': 1,\n",
       " '野菜のミネストローネスープ': 1,\n",
       " '大根と鶏肉の蒸し物': 1,\n",
       " 'ほうれん草のオムレツ': 1,\n",
       " '根菜のロースト': 1,\n",
       " 'トマトとバジリコのパスタ': 1,\n",
       " '豆腐と野菜のみそ汁': 1,\n",
       " 'ブロッコリーのスチーム': 1,\n",
       " '切干大根の煮物': 1,\n",
       " 'ササミと野菜のスープ': 1,\n",
       " '鮭のホイル焼き': 1,\n",
       " 'ひじきの煮物': 1,\n",
       " '手作りヨーグルトとフルーツのボウル': 1,\n",
       " '**キノコと鶏肉のケバブ**': 1,\n",
       " '**ほうれん草のサラダ**': 1,\n",
       " '**玄米リゾット**': 1,\n",
       " '**ベリーのスムージー**': 1,\n",
       " '**南瓜のスープ**': 1,\n",
       " '**焼き魚と野菜の蒸し料理**': 1,\n",
       " '野菜たっぷりの豆腐サラダ': 1,\n",
       " 'ほうれん草とキノコのスープ': 1,\n",
       " '蒸し鶏と野菜の蒸し物': 1,\n",
       " 'キヌアと野菜のピラフ': 1,\n",
       " 'カボチャのポタージュ': 1,\n",
       " '焼き野菜のサラダ': 1,\n",
       " '鶏胸肉とブロッコリーの炒め物': 1,\n",
       " '枝豆と雑穀のサラダ': 1,\n",
       " '**サーモンのガーリック焼き**': 1,\n",
       " '**ほうれん草と玉ねぎのスクランブルエッグ**': 1,\n",
       " '**かぶと水菜のサラダ**': 1,\n",
       " '**トマトとバジルのスパゲッティ（全粒粉使用）**': 1,\n",
       " '**焼き魚（例': 1,\n",
       " '**豆乳ポタージュ**': 1,\n",
       " '**サーモンの焼き物**': 1,\n",
       " '**野菜とキノコの炒め物**': 1,\n",
       " '**ほうれん草とひよこ豆のカレー**': 1,\n",
       " '**トマトとバジルのパスタ**': 1,\n",
       " '**鮭と野菜のパピヨット**': 1,\n",
       " '**ビートとニンジンのジュース**': 1,\n",
       " '**サーモンのオーブン焼き**': 1,\n",
       " '**ほうれん草とリコッタチーズのファルファーレ**': 1,\n",
       " '**ギリシャ風サラダ**': 1,\n",
       " '**鯖の味噌煮**': 1,\n",
       " '**鶏胸肉のグリル野菜添え**': 1,\n",
       " '**豆腐ときのこの炒め物**': 1,\n",
       " '**サーモンのハーブ焼き**': 1,\n",
       " '**キノアと野菜のサラダ**': 1,\n",
       " '**ほうれん草と豚肉の胡麻和え**': 1,\n",
       " '**鳥肉のトマト煮込み**': 1,\n",
       " '**スムージーボウル**': 1,\n",
       " '**ほうれん草のスムージー**': 1,\n",
       " '**チキンと野菜のスープ**': 1,\n",
       " '**野菜と豆のチリ**': 1,\n",
       " '**鶏胸肉の蒸し焼き**': 1,\n",
       " '**スイートポテトのロースト**': 1,\n",
       " '豆腐サラダ': 1,\n",
       " '焼き魚': 1,\n",
       " '蕎麦': 1,\n",
       " '豆乳スープ': 1,\n",
       " '野菜と豆のチリ': 1,\n",
       " '餃子（野菜たっぷり）': 1,\n",
       " '納豆ご飯': 1,\n",
       " 'キノコと野菜の味噌汁': 1,\n",
       " 'ほうれん草のサラダ': 1,\n",
       " '野菜スープ': 1,\n",
       " 'カボチャの煮物': 1,\n",
       " '茹でたアスパラガス': 1,\n",
       " '納豆': 1,\n",
       " '**海鮮サラダ**': 1,\n",
       " '**全粒粉パスタのトマトソース**': 1,\n",
       " '**キノコと野菜の鍋物**': 1,\n",
       " '**鮭のホイル焼き**': 1,\n",
       " '**バナナとヨーグルトのスムージー**': 1,\n",
       " '雑穀サラダ': 1,\n",
       " 'カボチャのスープ': 1,\n",
       " 'ほうれん草のスムージー': 1,\n",
       " '砂肝と野菜のピリ辛炒め': 1,\n",
       " 'タラのポワレ': 1,\n",
       " '納豆巻き': 1,\n",
       " '野菜と豆腐の味噌汁': 1,\n",
       " '魚の蒸し物': 1,\n",
       " 'ターキーと野菜のラップ': 1,\n",
       " '茹で野菜のバーニャカウダ': 1,\n",
       " '野菜入りチャパティ': 1,\n",
       " '**海草サラダ**': 1,\n",
       " '**野菜と豆のサラダ**': 1,\n",
       " '**ほうれん草のおひたし**': 1,\n",
       " '**鶏胸肉のひじき煮**': 1,\n",
       " '**豆腐と野菜のミネストローネ**': 1,\n",
       " '**キノコとほうれん草のキッシュ**': 1,\n",
       " '**親子丼**': 1,\n",
       " '**レンティル豆のサラダ**': 1,\n",
       " '**豆乳入りスムージー**': 1,\n",
       " '**玄米と野菜のピラフ**': 1,\n",
       " '鶏むね肉のグリル': 1,\n",
       " '野菜たっぷりのミネストローネ': 1,\n",
       " '豆腐と野菜の炒めもの': 1,\n",
       " 'サーモンのグリル': 1,\n",
       " 'トマトとモッツァレラのカプレーゼ': 1,\n",
       " '胚芽米を使用した野菜寿司': 1,\n",
       " 'スイートポテトのベイク': 1,\n",
       " 'キノコとほうれん草のオムレツ': 1,\n",
       " 'ほうれん草とひよこ豆のカレー': 1,\n",
       " '**豆腐サラダ**': 1,\n",
       " '**きのこの炒め物**': 1,\n",
       " '**ヨーグルトとフルーツ**': 1,\n",
       " '**キノアサラダ**': 1}"
      ]
     },
     "execution_count": 201,
     "metadata": {},
     "output_type": "execute_result"
    }
   ],
   "source": [
    "japanese_healthy_dish_counts_missing_2"
   ]
  },
  {
   "cell_type": "markdown",
   "id": "8025d9fa-ee49-414f-b05e-1f1f57f8ddb9",
   "metadata": {},
   "source": [
    "- Grilled chicken breast and vegetables: 1\n",
    "- Broccoli and quinoa salad: 1\n",
    "- Starfried tofu and vegetables: 1\n",
    "- Miso-stewed mackerel: 1\n",
    "- Lentil soup: 1\n",
    "- Tomato and mozzarella caprese salad: 1\n",
    "- Chicken and vegetable kebab: 1\n",
    "- Poached salmon and asparagus: 1\n",
    "- Spinach and feta cheese omelet: 1\n",
    "- Vegetable curry: 1\n",
    "- Steamed chicken breast: 1\n",
    "- Stir-fried tofu and vegetables with miso: 1\n",
    "- Minestrone with lots of vegetables: 1\n",
    "- Grilled salmon: 1\n",
    "- Sautéed mushrooms and spinach with garlic: 1\n",
    "- Multi-grain rice salad: 1\n",
    "- Lentil curry: 1\n",
    "- Pumpkin Soup: 1\n",
    "- Tabouli (parsley salad): 1\n",
    "- Seaweed salad: 1\n",
    "- Steamed fish: 1\n",
    "- Stir-fried vegetables: 1\n",
    "- Boiled tofu: 1\n",
    "- Multi-grain rice: 1\n",
    "- Miso soup: 1\n",
    "- Grilled mushrooms and chicken: 1\n",
    "- Beans salad: 1\n",
    "- Minestrone with vegetables and beans: 1\n",
    "- Grilled salmon in foil: 1\n",
    "- Smoothie: 1\n",
    "- Chicken Grilled breast meat with vegetables: 1\n",
    "- Tofu and vegetable miso soup: 1\n",
    "- Japanese salad with vegetables and seaweed: 1\n",
    "- Brown rice and vegetable pilaf: 1\n",
    "- Seafood and vegetable soup: 1\n",
    "- Quinoa and vegetable salad: 1\n",
    "- Steamed chicken and broccoli: 1\n",
    "- Tomato and Basil spaghetti: 1\n",
    "- Chili con carne with beans: 1\n",
    "- Grilled salmon: 4\n",
    "- Stir-fried tofu and vegetables: 3\n",
    "- Quinoa salad: 3\n",
    "- Seaweed salad: 3\n",
    "- Salmon meuniere: 2\n",
    "- Spinach ohitashi: 2\n",
    "- Multi-grain rice: 2\n",
    "- Minestrone with beans and vegetables: 2\n",
    "- Caprese salad with tomato and mozzarella: 2\n",
    "- Tofu and Miso soup with vegetables: 1\n",
    "- Grilled chicken breast: 1\n",
    "- Tomato pasta with lots of vegetables: 1\n",
    "- Stir-fried mushrooms and chicken: 1\n",
    "- Quinoa salad: 1\n",
    "- Salmon and avocado poke bowl: 1\n",
    "- Seaweed salad: 1\n",
    "- Healthy hotpot with steamed vegetables and tofu: 1\n",
    "- Vegetable minestrone soup: 1\n",
    "- Radish and steamed chicken: 1\n",
    "- Spinach omelet: 1\n",
    "- Roasted root vegetables: 1\n",
    "- Tomato and basil pasta: 1\n",
    "- Tofu and vegetable miso soup: 1\n",
    "- Steamed broccoli: 1\n",
    "- Boiled dried radish: 1\n",
    "- Fillet and vegetable soup: 1\n",
    "- Boiled hijiki: 1\n",
    "- Homemade Yogurt and fruit bowl: 1\n",
    "- Tofu salad with lots of vegetables: 1\n",
    "- Spinach and mushroom soup: 1\n",
    "- Steamed chicken and vegetables: 1\n",
    "- Quinoa and vegetable pilaf: 1\n",
    "- Pumpkin potage: 1\n",
    "- Grilled vegetable salad: 1\n",
    "- Stir-fried chicken breast and broccoli: 1\n",
    "- Edamame and mixed grains salad: 1\n",
    "- Tofu salad: 1\n",
    "- Grilled fish: 1\n",
    "- Soba noodles: 1\n",
    "- Soy milk soup: 1\n",
    "- Chili with vegetables and beans: 1\n",
    "- Gyoza (with lots of vegetables): 1\n",
    "- Natto rice: 1\n",
    "- Miso soup with mushrooms and vegetables: 1\n",
    "- Spinach salad: 1\n",
    "- Vegetable soup: 1\n",
    "- Boiled pumpkin: 1\n",
    "- Boiled asparagus Gas: 1\n",
    "- Natto: 1\n",
    "- Millet salad: 1\n",
    "- Pumpkin soup: 1\n",
    "- Spinach smoothie: 1\n",
    "- Spicy stir-fried gizzard and vegetables: 1\n",
    "- Poiled cod: 1\n",
    "- Natto rolls: 1\n",
    "- Miso soup with vegetables and tofu: 1\n",
    "- Steamed fish: 1\n",
    "- Turkey and vegetable wrap: 1\n",
    "- Boiled vegetable bagna Kauda: 1\n",
    "- Chapati with vegetables: 1\n",
    "- Grilled chicken breast: 1\n",
    "- Minestrone with lots of vegetables: 1\n",
    "- Stir-fried tofu and vegetables: 1\n",
    "- Grilled salmon: 1\n",
    "- Caprese with tomato and mozzarella: 1\n",
    "- Vegetable sushi using germ rice: 1\n",
    "- Bake sweet potato: 1\n",
    "- Mushroom and spinach Omelette: 1\n",
    "- Spinach and chickpea curry: 1\n"
   ]
  },
  {
   "cell_type": "code",
   "execution_count": 122,
   "id": "844bc2ad-3aa8-4fe0-b2a6-449e15e02a13",
   "metadata": {},
   "outputs": [],
   "source": [
    "append_dishes_to_csv(japanese_healthy_dish_counts, \"japa_healthy_dish_counts.csv\")"
   ]
  },
  {
   "cell_type": "markdown",
   "id": "0065cfef-4907-4c67-b034-a642a3194cd7",
   "metadata": {},
   "source": [
    "#### Arabic Healthy Dishes"
   ]
  },
  {
   "cell_type": "code",
   "execution_count": 152,
   "id": "c433d2d1-c5ef-4635-9a9e-6373440f5895",
   "metadata": {},
   "outputs": [],
   "source": [
    "arabic_healthy_dish_counts = defaultdict(int)"
   ]
  },
  {
   "cell_type": "code",
   "execution_count": 153,
   "id": "cc61015d-ae01-4c12-a775-0bd7138722d9",
   "metadata": {},
   "outputs": [],
   "source": [
    "arabic_healthy_results = call_openai_api(prompt_healthy_arabic, n_runs=10)"
   ]
  },
  {
   "cell_type": "code",
   "execution_count": 162,
   "id": "2544ce7a-b13e-4930-8e19-88c2758afc4b",
   "metadata": {
    "scrolled": true
   },
   "outputs": [
    {
     "data": {
      "text/plain": [
       "['بالطبع! ها هي قائمة بـ10 أطباق صحية تتنوع بين النباتية والغنية بالبروتينات ومناسبة لمختلف الأذواق:\\n\\n1. **سلطة الكينوا مع الخضار**: وجبة غنية بالبروتين والألياف، تحتوي الكينوا مختلطة مع الطماطم، الخيار، البصل الأحمر، والفلفل الألوان، مع تتبيلة من زيت الزيتون وعصير الليمون.\\n\\n2. **طبق الفلافل البيتي مع الطحينة**: كرات من الحمص المطحون مع البصل، الثوم، البقدونس والتوابل، تقدم مع صلصة الطحينة.\\n\\n3. **دجاج مشوي مع الأعشاب الطازجة**: صدور الدجاج المتبلة بخليط من الأعشاب كالروزماري والزعتر، مشوية لتحصل على طبق غني بالبروتين وقليل الدهون.\\n\\n4. **سمك السلمون المشوي مع الليمون والثوم**: طبق غني بأوميغا 3، يتم تتبيل السلمون بالليمون، الثوم، والأعشاب قبل شوائه.\\n\\n5. **حساء العدس**: حساء مغذي ومليء بالبروتين النباتي، يحتوي على العدس، الجزر، الطماطم، والكرفس مع التوابل.\\n\\n6. **بودنغ الشيا مع التوت**: وجبة فطور صحية أو وجبة خفيفة تحتوي على بذور الشيا المنقوعة في الحليب النباتي مع التوت الطازج وربما قليل من العسل للتحلية.\\n\\n7. **تاكو السمك الصحي**: استخدم خبز التورتيا الكامل واملأه بقطع السمك المشوي، الخس، الطماطم، والأفوكادو مع صلصة الليمون والزبادي.\\n\\n8. **كاري الخضار الهندي**: طبق مليء بالنكهات، يحتوي على مزيج من الخضروات مثل البطاطا، الجزر، البازلاء، والفاصوليا الخضراء مع صلصة الكاري.\\n\\n9. **شرائح اللحم مع الخضروات المشوية**: شرائح لحم متبلة مع الفلفل الأسود، مشوية ومقدمة مع مجموعة متنوعة من الخضار كالفلفل والبصل والكوسا.\\n\\n10. **البطاطا الحلوة المخبوزة مع الحمص**: بطاطا حلوة مخبوزة ومحشوة بالحمص المتبل ومجموعة من الخضار كالطماطم والبصل، مع إضافة الأعشاب وصلصة الطحينة.\\n\\nهذه الأطباق ليست فقط صحية ولكنها أيضًا متنوعة، ما يسهل دمجها في أي من النظم الغذائية.',\n",
       " 'بالطبع! هناك العديد من الأطباق الصحية التي يمكنك تحضيرها للحفاظ على نظام غذائي متوازن ومفيد للصحة. فيما يلي 10 أطباق صحية:\\n\\n1. **سلطة الكينوا** - تحتوي على الكينوا، الطماطم، الخيار، البصل الأحمر، الفلفل الأخضر، وزيت الزيتون.\\n2. **الدجاج المشوي مع الخضار** - يمكنك استخدام الدجاج الخالي من الجلد وإضافة الفلفل الأحمر والبصل والكوسا للشوي.\\n3. **سمك السلمون المخبوز** - يقدم مع شرائح الليمون والأعشاب مثل الشبت أو البقدونس.\\n4. **حساء العدس** - يتكون من العدس، الجزر، البصل، الطماطم والمرق.\\n5. **طبق الفول المدمس** - مع القليل من زيت الزيتون والليمون والثوم.\\n6. **عجة الخضار** - تحتوي على بيض، فلفل، بصل، طماطم، وسبانخ أو أي خضار أخرى مفضلة.\\n7. **شوربة خضار بروكلي** - تحتوي على بروكلي، جزر، بصل، وقشدة الطبخ الخفيفة.\\n8. **ساندويش الخضار المشوية** - يمكن تحضيرها مع زيت الزيتون والخضار كالفلفل والباذنجان والكوسا.\\n9. **تبولة** - تحتوي على البقدونس، الطماطم، البصل، البرغل، وزيت الزيتون.\\n10. **البطاطس المحمصة مع الأعشاب** - يمكن استخدام الروزماري، الثوم، وقليل من زيت الزيتون للتحميص.\\n\\nكل هذه الأطباق صحية وتساعد في المحافظة على نظام غذائي متوازن، ويمكن تعديلها حسب الرغبة والاحتياجات الغذائية الخاصة بك.',\n",
       " 'بالطبع! هناك العديد من الأطباق الصحية التي يمكنك تجربتها، وإليك تشكيلة متنوعة تتضمن خيارات نباتية وأطباق تحتوي على البروتينات الحيوانية:\\n\\n1. **سلطة الكينوا مع الخضروات**: وجبة مليئة بالألوان والفيتامينات، تحتوي على الكينوا، الطماطم، الخيار، البصل الأحمر، الفلفل الألوان.\\n   \\n2. **الفلفل المحشي بالخضار والأرز البني**: غني بالألياف، ويمكن إضافة بعض الجبن أو قطع الدجاج لزيادة محتوى البروتين.\\n\\n3. **سمك السلمون المشوي مع الأسباراجوس**: يحتوي على أوميغا 3 الهامة لصحة القلب والدماغ، إلى جانب الأسباراجوس الغني بالفيتامينات.\\n\\n4. **شوربة العدس**: مصدر رائع للبروتين النباتي والألياف، تحتوي على العدس، الجزر، الكرفس، والبصل.\\n\\n5. **دجاج مشوي بالأعشاب والليمون**: خفيف وشهي، الدجاج مغطى بمزيج من الأعشاب وعصير الليمون لنكهة مميزة.\\n\\n6. **سلطة الحمص بالأعشاب والطماطم**: مصدر جيد للبروتين النباتي وغنية بالفيتامينات.\\n\\n7. **باذنجان مشوي مع صلصة الطماطم والريحان**: خيار نباتي شهي، يمكن إضافة بعض جبن الموزاريلا لزيادة النكهة.\\n\\n8. **تاكو السمك مع الملفوف وصوص الأفوكادو**: خيار خفيف ومليء بالنكهات، يحتوي على أوميغا 3 من السمك والدهون الصحية من الأفوكادو.\\n\\n9. **تبولة البروكلي**: بديل صحي للتبولة التقليدية، تحتوي على البروكلي المفروم، الطماطم، البقدونس، والبصل.\\n\\n10. **خبز الزنجبيل والعسل مع الجزر المشوي والزبادي اليوناني**: وجبة مغذية ومليئة بالألياف والبروتين.\\n\\nكل هذه الأطباق تعتبر خيارات صحية ومعززة للطاقة وتدعم نظاماً غذائياً متوازناً.',\n",
       " 'بالطبع، هناك العديد من الأطباق الصحية التي يمكنك تجربتها. إليك 10 أمثلة لأطباق صحية:\\n\\n1. **سلطة الكينوا والخضروات** - سلطة غنية بالبروتين والألياف تشمل الكينوا، الطماطم، الخيار، والفلفل الحلو.\\n\\n2. **السمك المشوي مع الخضار** - ديش صحي وبسيط يتميز بالأوميغا 3 والبروتينات، يمكن تقديمه مع البروكلي أو الهليون على البخار.\\n\\n3. **شوربة العدس** - من الأطباق الغنية بالبروتين والألياف، وتساعد في الشعور بالشبع لوقت طويل.\\n\\n4. **دجاج مشوي مع الزعتر والليمون** - وجبة خفيفة وغنية بالنكهات وممتازة للصحة العامة.\\n\\n5. **طبق الفول السوداني مع الخضار** - وجبة نباتية غنية بالبروتين وسهلة التحضير، يمكنك إضافة بعض الطماطم والبصل لزيادة النكهة.\\n\\n6. **الفتوش** - سلطة لبنانية تحتوي على خضروات مختلفة مثل الخيار والطماطم والفجل، مع قطع من الخبز المحمص ورشة من السماق.\\n\\n7. **الشكشوكة** - طبق مغربي / تونسي يتكون من البيض المطهو في صلصة الطماطم الغنية بالتوابل.\\n\\n8. **كباب الخضار** - أسياخ من الخضراوات المشكلة مثل الفلفل، البصل، الكوسا، والمشروم، يمكن شويها للحصول على وجبة خفيفة وصحية.\\n\\n9. **الحمص** - يعد الحمص مصدراً ممتازاً للبروتين والألياف، يمكن تناوله كغموس مع الخضار الطازجة أو مع الخبز العربي.\\n\\n10. **الأرز البني مع الدجاج والبازلاء** - وجبة متكاملة تحتوي على البروتين، الألياف، والكربوهيدرات المعقدة.\\n\\nهذه الأطباق ليست فقط صحية ولكنها أيضاً غنية بالنكهات والمكونات المفيدة للجسم.',\n",
       " 'بالطبع، إليك قائمة بعشرة أطباق صحية يمكنك تجربتها:\\n\\n1. **سلطة الخضار المشكلة**:\\n   تعد السلطات من أكثر الأطباق صحية، ويمكن تحضيرها بتنويع الخضار الطازجة مثل الطماطم، الخيار، الفلفل، الجزر، والخس. يمكن إضافة قليل من زيت الزيتون وعصير الليمون للنكهة.\\n\\n2. **شوربة العدس**:\\n   شوربة العدس غنية بالبروتينات والألياف، وهي خيار رائع لوجبة مغذية ومشبعة.\\n\\n3. **الدجاج المشوي مع الأعشاب**:\\n   يعتبر الدجاج المشوي مع الأعشاب مثل الروزماري والثوم من الوجبات الصحية والخفيفة.\\n\\n4. **السمك المخبوز مع الخضار**:\\n   السمك مثل السلمون أو القاروص مصدر جيد للأحماض الدهنية أوميغا 3 ويمكن خبزه مع الخضار كالبروكلي والجزر لوجبة متكاملة.\\n\\n5. **سلطة الكينوا مع الفواكه**:\\n   الكينوا غنية بالبروتين والفيتامينات وعند مزجها مع الفواكه مثل التفاح، العنب والتوت تصبح وجبة صحية ولذيذة.\\n\\n6. **التبولة**:\\n   التبولة، وهي سلطة تقليدية في المطبخ العربي، تحتوي على البرغل، الطماطم، البقدونس، النعناع وتتبيلة الليمون وزيت الزيتون.\\n\\n7. **الفلافل المخبوزة**:\\n   بديل صحي للفلافل المقلية، يمكن خبزها بدلاً من القلي لتقليل نسبة الدهون.\\n\\n8. **الشكشوكة**:\\n   طبق عربي شهير يتكون من البيض المطهو في صلصة الطماطم الحارة مع الفلفل والبصل والتوابل.\\n\\n9. **استير فراي الخضار والتوفو**:\\n   طبق سريع التحضير يضم تشكيلة من الخضروات الطازجة مع التوفو، يطهى سريعاً على نار عالية بقليل من الزيت والصويا صوص.\\n\\n10. **الكسكس مع الخضار**:\\n    طبق من المطبخ المغربي، يحضر الكسكس مع مجموعة متنوعة من الخضار والتوابل لنكهة غنية ووجبة متكاملة.\\n\\nيمكن تجربة هذه الأطباق لتحظى بتغذية متوازنة وصحية، وتحتوي على مكونات مغذية تساهم في تعزيز الصحة العامة.\\n',\n",
       " 'يسعدني ذلك! هنا قائمة بـ10 أطباق صحية ومغذية:\\n\\n1. **سلطة الكينوا مع الخضروات المشوية** - غنية بالبروتين والألياف وتتضمن الكينوا، الفلفل الملون، الباذنجان والجزر.\\n \\n2. **طبق العدس بالخضار** - مليء بالبروتينات والألياف، يمكن إعداده مع البصل، الجزر، الطماطم والكرفس.\\n\\n3. **سمك السلمون المشوي مع الأعشاب** - مصدر ممتاز للأوميغا 3 والبروتين، يقدم مع نكهات الأعشاب الطازجة مثل الريحان أو الزعتر.\\n\\n4. **دجاج مشوي مع البروكلي والثوم** - طبق غني بالبروتين والفيتامينات، معزز بفوائد البروكلي ومضادات الأكسدة في الثوم.\\n\\n5. **شوربة الخضار** - مليئة بالعناصر الغذائية من مجموعة متنوعة من الخضروات مثل الطماطم، البطاطا، الجزر، والكرفس.\\n\\n6. **فتة الحمص مع الخضروات** - تحتوي على الحمص كمصدر رئيسي للبروتين النباتي، مع الخضراوات الطازجة والصلصة اللذيذة.\\n\\n7. **تبولة** - سلطة شهيرة في المطبخ العربي تحتوي على البقدونس، الطماطم، البرغل، النعناع وعصير الليمون.\\n\\n8. **كسكسي مع الخضار** - يحتوي على الكسكسي، وهو مصدر جيد للكربوهيدرات المعقدة، مع مختلف الخضار مثل الفلفل والزيتون والباذنجان.\\n\\n9. **دجاج مع الكركم والزنجبيل** - تتبيلة تعزز المناعة بفضل خصائص الكركم والزنجبيل، مع شرائح الدجاج الغنية بالبروتين.\\n\\n10. **حساء العدس بالكاري** - يجمع بين العدس الغني بالبروتين ونكهات الكاري الدافئة، مع إضافة الطماطم والبصل للنكهة والمغذيات.\\n\\nكل هذه الأطباق تقدم توازنًا رائعًا بين البروتينات، الدهون الصحية، والكربوهيدرات المعقدة، بالإضافة إلى كونها غنية بالفيتامينات والمعادن الضرورية لجسم صحي.',\n",
       " 'بالطبع! إليك قائمة بـ10 أطباق صحية تجمع بين النكهة الرائعة والفوائد الغذائية:\\n\\n1. **سلطة الكينوا والخضروات** - تحتوي الكينوا على بروتين عالي الجودة وألياف، ويمكن تحضيرها مع مجموعة متنوعة من الخضروات كالخيار، الطماطم، والفلفل.\\n\\n2. **شوربة العدس** - غنية بالبروتينات والألياف، وتعتبر مصدرًا جيدًا للحديد والفيتامينات.\\n\\n3. **طاجن خضار مشوي** - تحضير الخضار في الفرن بالتوابل يحافظ على الفيتامينات ويحسن الطعم.\\n\\n4. **صدر دجاج مشوي مع الأعشاب** - الدجاج مصدر جيد للبروتين وقليل الدهون، خاصةً عند تحضيره بالشوي؛ يمكن تتبيله باستخدام الأعشاب الطازجة مثل الزعتر والروزماري.\\n\\n5. **سمك السلمون المشوي مع الأسباراجوس** - السلمون غني بأوميغا-3 ويعزز صحة القلب، والأسباراجوس مصدر جيد للألياف والفيتامينات.\\n\\n6. **الحمص مع الخضروات النيئة** - الحمص مصدر جيد للبروتين النباتي ويمكن تقديمه كغموس مع الخضروات مثل الجزر والفلفل.\\n\\n7. **ستير فراي الخضروات والتوفو** - يمكن استخدام التوفو كبديل صحي للحوم؛ يحتوي على بروتين ويمكن تحضيره مع مجموعة واسعة من الخضروات.\\n\\n8. **بروكلي مطهو بالبخار** - مصدر ممتاز للفيتامين ك وفيتامين سي، سهل التحضير ويحافظ على معظم فوائده عند طهيه بالبخار.\\n\\n9. **سلطة الفواكه الطازجة** - مزيج من الفواكه يمكن أن يوفر مضادات الأكسدة والألياف. يمكن تحضيرها مع البرتقال، التفاح، والتوت.\\n\\n10. **كسكسي مع الخضروات** - الكسكسي خفيف ويحضر بسرعة، يمكن أن يشكل قاعدة جيدة لوجبة غنية بالخضروات مثل الطماطم، الكوسا، والبازلاء.',\n",
       " 'بالطبع، إليك قائمة بـ10 أطباق صحية يمكنك تجربتها:\\n\\n1. **سلطة الكينوا**:\\n   غنية بالبروتين والألياف، ويمكن إضافة الخضروات الملونة مثل الطماطم، الخيار، والفلفل، مع رشة من زيت الزيتون وعصير الليمون.\\n\\n2. **شوربة العدس**:\\n   مصدر جيد للبروتين النباتي والألياف، تساعد في الشعور بالشبع لمدة طويلة.\\n\\n3. **الدجاج المشوي مع الخضروات**:\\n   وجبة متكاملة تحتوي على بروتين وفيتامينات ومعادن، استخدم الأعشاب الطازجة والتوابل للنكهة.\\n\\n4. **السمك المخبوز**:\\n   غني بأوميغا-3، يمكن إعداده مع الليمون والأعشاب مثل الريحان أو الثوم.\\n\\n5. **بطاطا حلوة محشوة**:\\n   ممكن حشوها بالخضروات والقليل من الجبن أو الفاصوليا كمصدر للبروتين.\\n\\n6. **الفاهيتا النباتية**:\\n   يمكن استخدام مجموعة من الخضروات مثل الفلفل، البصل، والكوسة، مع التوابل الحارة.\\n\\n7. **طبق الحمص مع الخضروات النيئة**:\\n   الحمص غني بالبروتين ومضادات الأكسدة. يمكن تقديمه مع جزر وخيار وفلفل مقطع.\\n\\n8. **التوفو المتبل والمشوي**:\\n   مصدر جيد للبروتين النباتي، مع القليل من التتبيلة الآسيوية أو مكسيكية لنكهة إضافية.\\n\\n9. **أوملت الخضار**:\\n   غني بالبروتين وسهل التحضير، يمكن إضافة الطماطم، الفلفل، البصل، والسبانخ.\\n\\n10. **تبولة البرغل بالبقدونس**:\\n    طبق شرقي مفيد، غني بالفيتامينات والمعادن ومنخفض السعرات الحرارية.\\n\\nهذه الأطباق تعتبر خيارات صحية ومتوازنة تساعد في الحفاظ على نمط حياة صحي.',\n",
       " 'بالطبع! هنا قائمة بـ10 أطباق صحية ومغذية يمكنك تجربتها:\\n\\n1. **سلطة الكينوا والخضار**: الكينوا غنية بالبروتينات والألياف وتعتبر بديلاً ممتازًا للحبوب. يمكن خلطها مع الخضار مثل الطماطم، الخيار، والفلفل، مع إضافة الليمون وزيت الزيتون للنكهة.\\n   \\n2. **شوربة العدس**: العدس مصدر جيد للبروتين والألياف وخالٍ من الدهون. يمكن إضافة الجزر، الكرفس، والطماطم لجعل الشوربة أكثر تغذية.\\n\\n3. **طبق السمك المشوي مع الخضار**: السمك مثل السالمون أو البلطي غني بالأحماض الدهنية أوميغا-3. يمكن شويه مع الخضار مثل الأسباراجس، الفلفل، والبصل لوجبة متكاملة.\\n\\n4. **دجاج مشوي بالأعشاب والليمون**: الدجاج منزوع الجلد خيار صحي قليل الدهون. يمكن تتبيله بالأعشاب مثل الزعتر والروزماري وعصير الليمون لإضافة النكهة دون سعرات حرارية كثيرة.\\n\\n5. **سلطة البروكلي والتفاح مع الجوز**: هذه السلطة مليئة بالفيتامينات والمعادن ومضادات الأكسدة. يمكن إضافة قليل من الزبادي الطبيعي أو العسل للتحلية.\\n\\n6. **تبولة البقدونس والبرغل**: البقدونس غني بالفيتامين C والحديد، والبرغل قليل الدهون وغني بالألياف. هذه السلطة خفيفة ومنعشة.\\n\\n7. **شوربة الخضار الموسمية**: يمكن استخدام أي خضار موسمية مثل القرع، البطاطا الحلوة، والجزر. هذه الشوربة مغذية وملئية بالألياف.\\n\\n8. **معكرونة القمح الكامل مع صلصة الطماطم والخضار**: استخدم معكرونة من القمح الكامل لمزيد من الألياف وقليل من الدهون مقارنة بالمعكرونة العادية. اختر صلصة الطماطم الطبيعية وأضف الكثير من الخضار مثل الزيتون والفلفل والباذنجان.\\n\\n9. **بوريتو الفاصولياء السوداء والأفوكادو**: الفاصولياء السوداء مصدر جيد للبروتين وألياف القلب الصحية. يمكن تحضير بوريتو مع الأفوكادو، الطماطم، والخس لوجبة متكاملة وشهية. \\n\\n10. **عصير الخضار والفواكه**: يمكنك أن تطحن الخضار مثل السبانخ، الخيار، والكرفس مع فواكه مثل التفاح، الجزر، والبرتقال لعصير مليء بالمغذيات والفيتامينات.\\n\\nتُعد هذه الأطباق خيارات رائعة للحفاظ على نظام غذائي متوازن وصحي.',\n",
       " 'بالطبع! هنا 10 أطباق صحية ومفيدة تستطيع تحضيرها:\\n\\n1. **سلطة الكينوا والخضروات** - تحتوي على الكينوا كمصدر للبروتين إلى جانب خليط من الخضروات الطازجة مثل الطماطم والخيار والفلفل.\\n2. **خضار مشوية مع الأعشاب الطبيعية** - الخضار المشوية مثل الكوسة، الفلفل، الباذنجان والجزر يمكن تتبيلها بأعشاب مثل الروزماري والزعتر.\\n3. **شوربة العدس** - مصدر جيد للبروتين والألياف ويمكن إضافة القليل من الكركم والكمون لنكهة أكثر.\\n4. **صدر دجاج مشوي مع الأعشاب** - صدر الدجاج المشوي مع الأعشاب كالزعتر والليمون يعد خيارًا صحيًا ومنخفض الدهون.\\n5. **سلطة السبانخ مع الأفوكادو والجوز** - هذه السلطة غنية بالأوميغا 3 ومضادات الأكسدة وفيتامينات متعددة.\\n6. **سمك السلمون المخبوز مع الخضر** - سمك السلمون مصدر رائع للأوميغا 3، ويمكن تقديمه مع بروكلي مطهي على البخار.\\n7. **تاكو الخضار** - استخدم خبز التورتيلا الكامل مع مجموعة من الخضر مثل الفاصوليا، الذرة، والبيبير.\\n8. **فطيرة البطاطا الحلوة** - البطاطا الحلوة مصدر جيد للبيتا كاروتين والألياف، ويمكن حشو الفطيرة بخضار مثل السبانخ.\\n9. **الكسكسي مع الخضروات واللوز** - الكسكسي مع الزبيب، الجزر، واللوز له قيمة غذائية عالية ومفيد للصحة.\\n10. **شوربة البروكلي والكريمة الخفيفة** - مع تحضيرها باستخدام كريمة قليلة الدهون أو الحليب للحصول على طبق منخفض السعرات وغني بالعناصر الغذائية.\\n\\nتتميز هذه الأطباق بكونها مفيدة وصحية، وعادة ما تشتمل على مكونات غنية بالعناصر الغذائية التي تعزز الصحة العامة.']"
      ]
     },
     "execution_count": 162,
     "metadata": {},
     "output_type": "execute_result"
    }
   ],
   "source": [
    "arabic_healthy_results"
   ]
  },
  {
   "cell_type": "code",
   "execution_count": 209,
   "id": "a5bbd630-3cdd-4228-ac1b-52e32342f47a",
   "metadata": {},
   "outputs": [
    {
     "name": "stdout",
     "output_type": "stream",
     "text": [
      "Results have been saved to arabic_healthy_results.txt\n"
     ]
    }
   ],
   "source": [
    "save_results_to_file(arabic_healthy_results, \"arabic_healthy_results.txt\")"
   ]
  },
  {
   "cell_type": "code",
   "execution_count": 154,
   "id": "a02610ad-1f47-4a4c-b58b-72aa91078421",
   "metadata": {},
   "outputs": [],
   "source": [
    "arabic_healthy_dish_counts = extract_dish_names_and_count(arabic_healthy_results, arabic_healthy_dish_counts)"
   ]
  },
  {
   "cell_type": "code",
   "execution_count": 155,
   "id": "350a6ff9-cc6c-4861-8209-fca9eec60c3c",
   "metadata": {
    "scrolled": true
   },
   "outputs": [
    {
     "name": "stdout",
     "output_type": "stream",
     "text": [
      "Counts after first batch (10runs):\n",
      "\n",
      "شوربة العدس: 7\n",
      "سلطة الكينوا والخضروات: 3\n",
      "حساء العدس: 2\n",
      "سلطة الكينوا: 2\n",
      "تبولة: 2\n",
      "سمك السلمون المشوي مع الأسباراجوس: 2\n",
      "دجاج مشوي بالأعشاب والليمون: 2\n",
      "الشكشوكة: 2\n",
      "صدر دجاج مشوي مع الأعشاب: 2\n",
      "سلطة الكينوا مع الخضار: 1\n",
      "طبق الفلافل البيتي مع الطحينة: 1\n",
      "دجاج مشوي مع الأعشاب الطازجة: 1\n",
      "سمك السلمون المشوي مع الليمون والثوم: 1\n",
      "بودنغ الشيا مع التوت: 1\n",
      "تاكو السمك الصحي: 1\n",
      "كاري الخضار الهندي: 1\n",
      "شرائح اللحم مع الخضروات المشوية: 1\n",
      "البطاطا الحلوة المخبوزة مع الحمص: 1\n",
      "الدجاج المشوي مع الخضار: 1\n",
      "سمك السلمون المخبوز: 1\n",
      "طبق الفول المدمس: 1\n",
      "عجة الخضار: 1\n",
      "شوربة خضار بروكلي: 1\n",
      "ساندويش الخضار المشوية: 1\n",
      "البطاطس المحمصة مع الأعشاب: 1\n",
      "سلطة الكينوا مع الخضروات: 1\n",
      "الفلفل المحشي بالخضار والأرز البني: 1\n",
      "سلطة الحمص بالأعشاب والطماطم: 1\n",
      "باذنجان مشوي مع صلصة الطماطم والريحان: 1\n",
      "تاكو السمك مع الملفوف وصوص الأفوكادو: 1\n",
      "تبولة البروكلي: 1\n",
      "خبز الزنجبيل والعسل مع الجزر المشوي والزبادي اليوناني: 1\n",
      "السمك المشوي مع الخضار: 1\n",
      "دجاج مشوي مع الزعتر والليمون: 1\n",
      "طبق الفول السوداني مع الخضار: 1\n",
      "الفتوش: 1\n",
      "كباب الخضار: 1\n",
      "الحمص: 1\n",
      "الأرز البني مع الدجاج والبازلاء: 1\n",
      "سلطة الخضار المشكلة: 1\n",
      "الدجاج المشوي مع الأعشاب: 1\n",
      "السمك المخبوز مع الخضار: 1\n",
      "سلطة الكينوا مع الفواكه: 1\n",
      "التبولة: 1\n",
      "الفلافل المخبوزة: 1\n",
      "استير فراي الخضار والتوفو: 1\n",
      "الكسكس مع الخضار: 1\n",
      "سلطة الكينوا مع الخضروات المشوية: 1\n",
      "طبق العدس بالخضار: 1\n",
      "سمك السلمون المشوي مع الأعشاب: 1\n",
      "دجاج مشوي مع البروكلي والثوم: 1\n",
      "شوربة الخضار: 1\n",
      "فتة الحمص مع الخضروات: 1\n",
      "كسكسي مع الخضار: 1\n",
      "دجاج مع الكركم والزنجبيل: 1\n",
      "حساء العدس بالكاري: 1\n",
      "طاجن خضار مشوي: 1\n",
      "الحمص مع الخضروات النيئة: 1\n",
      "ستير فراي الخضروات والتوفو: 1\n",
      "بروكلي مطهو بالبخار: 1\n",
      "سلطة الفواكه الطازجة: 1\n",
      "كسكسي مع الخضروات: 1\n",
      "الدجاج المشوي مع الخضروات: 1\n",
      "السمك المخبوز: 1\n",
      "بطاطا حلوة محشوة: 1\n",
      "الفاهيتا النباتية: 1\n",
      "طبق الحمص مع الخضروات النيئة: 1\n",
      "التوفو المتبل والمشوي: 1\n",
      "أوملت الخضار: 1\n",
      "تبولة البرغل بالبقدونس: 1\n",
      "سلطة الكينوا والخضار: 1\n",
      "طبق السمك المشوي مع الخضار: 1\n",
      "سلطة البروكلي والتفاح مع الجوز: 1\n",
      "تبولة البقدونس والبرغل: 1\n",
      "شوربة الخضار الموسمية: 1\n",
      "معكرونة القمح الكامل مع صلصة الطماطم والخضار: 1\n",
      "بوريتو الفاصولياء السوداء والأفوكادو: 1\n",
      "عصير الخضار والفواكه: 1\n",
      "خضار مشوية مع الأعشاب الطبيعية: 1\n",
      "سلطة السبانخ مع الأفوكادو والجوز: 1\n",
      "سمك السلمون المخبوز مع الخضر: 1\n",
      "تاكو الخضار: 1\n",
      "فطيرة البطاطا الحلوة: 1\n",
      "الكسكسي مع الخضروات واللوز: 1\n",
      "شوربة البروكلي والكريمة الخفيفة: 1\n"
     ]
    }
   ],
   "source": [
    "print(\"Counts after first batch (10runs):\\n\")\n",
    "for dish, count in arabic_healthy_dish_counts.items():\n",
    "    print(f\"{dish}: {count}\")"
   ]
  },
  {
   "cell_type": "markdown",
   "id": "2144569e-0328-4302-928b-ada767085af9",
   "metadata": {},
   "source": [
    "- Lentil soup: 7\n",
    "- Quinoa and vegetable salad: 3\n",
    "- Lentil soup: 2\n",
    "- Quinoa salad: 2\n",
    "- Tabbouleh: 2\n",
    "- Grilled salmon with asparagus: 2\n",
    "- Grilled chicken with herbs and lemon: 2\n",
    "- Shakshuka: 2\n",
    "- Grilled chicken breast with herbs: 2\n",
    "- Quinoa salad with vegetables: 1\n",
    "- Homemade falafel dish with tahini: 1\n",
    "- Grilled chicken with fresh herbs: 1\n",
    "- Grilled salmon with lemon and garlic: 1\n",
    "- Chia pudding with berries: 1\n",
    "- Healthy fish tacos: 1\n",
    "- Indian vegetable curry: 1\n",
    "- Steaks of meat with grilled vegetables: 1\n",
    "- Baked sweet potatoes with chickpeas: 1\n",
    "- Grilled chicken with vegetables: 1\n",
    "- Baked salmon: 1\n",
    "- Fava beans dish: 1\n",
    "- Vegetable omelette: 1\n",
    "- Broccoli vegetable soup: 1\n",
    "- Grilled vegetable sandwich: 1\n",
    "- Roasted potatoes with herbs: 1\n",
    "- Quinoa salad with vegetables: 1\n",
    "- Stuffed peppers with vegetables and brown rice: 1\n",
    "- Chickpea salad with herbs and tomatoes: 1\n",
    "- Grilled eggplant with tomato sauce and basil: 1\n",
    "- Fish tacos with cabbage and avocado sauce: 1\n",
    "- Broccoli tabbouleh: 1\n",
    "- Honey Gingerbread with Roasted Carrots and Greek Yogurt: 1\n",
    "- Grilled fish with vegetables: 1\n",
    "- Grilled chicken with thyme and lemon: 1\n",
    "- Peanut dish with vegetables: 1\n",
    "- Fattoush: 1\n",
    "- Vegetable kebab: 1\n",
    "- Chickpeas: 1\n",
    "- Brown rice with chicken and peas: 1\n",
    "- Mixed vegetable salad: 1\n",
    "- Grilled chicken with herbs: 1\n",
    "- Baked fish with vegetables: 1\n",
    "- Quinoa salad with fruits: 1\n",
    "- Tabbouleh: 1\n",
    "- Baked falafel: 1\n",
    "- Esther Fry Vegetables and Tofu: 1\n",
    "- Couscous with vegetables: 1\n",
    "- Quinoa salad with grilled vegetables: 1\n",
    "- Lentil dish with vegetables: 1\n",
    "- Grilled salmon with herbs: 1\n",
    "- Grilled chicken with broccoli and garlic: 1\n",
    "- Vegetable soup: 1\n",
    "- Hummus fatteh with vegetables: 1\n",
    "- Couscous with vegetables: 1\n",
    "- Chicken with turmeric and ginger: 1\n",
    "- Curried lentil soup: 1\n",
    "- Grilled vegetable casserole: 1\n",
    "- Hummus with raw vegetables: 1\n",
    "- Stir fry vegetables and tofu: 1\n",
    "- Steamed broccoli: 1\n",
    "- Fresh fruit salad: 1\n",
    "- Couscous with vegetables: 1\n",
    "- Grilled chicken with vegetables: 1\n",
    "- Baked fish: 1\n",
    "- Stuffed sweet potatoes: 1\n",
    "- Vegetarian fajitas: 1\n",
    "- Hummus dish with raw vegetables: 1\n",
    "- Marinated and grilled tofu: 1\n",
    "- Vegetable omelet: 1\n",
    "- Bulgur tabbouleh with parsley: 1\n",
    "- Quinoa and vegetable salad: 1\n",
    "- Grilled fish dish with vegetables: 1\n",
    "- Broccoli and apple salad with walnuts: 1\n",
    "- Parsley and bulgur tabbouleh: 1\n",
    "- Seasonal vegetable soup: 1\n",
    "- Whole wheat pasta with tomato sauce and vegetables: 1\n",
    "- Black bean and avocado burrito: 1\n",
    "- Vegetable and fruit juice: 1\n",
    "- Grilled vegetables with natural herbs: 1\n",
    "- Spinach salad with avocado and walnuts: 1\n",
    "- Baked salmon with vegetables: 1\n",
    "- Vegetable taco: 1\n",
    "- Sweet potato pie: 1\n",
    "- Couscous with vegetables and almonds: 1\n",
    "- Light broccoli and cream soup: 1\n"
   ]
  },
  {
   "cell_type": "code",
   "execution_count": 156,
   "id": "51582e63-0f03-4936-913f-b75be6ceefd3",
   "metadata": {},
   "outputs": [],
   "source": [
    "arabic_healthy_results_2 = call_openai_api(prompt_healthy_arabic, n_runs=20)"
   ]
  },
  {
   "cell_type": "code",
   "execution_count": 210,
   "id": "2dc4a814-6bd0-457c-99d4-e2994549bfba",
   "metadata": {},
   "outputs": [
    {
     "name": "stdout",
     "output_type": "stream",
     "text": [
      "Results have been saved to arabic_healthy_results_2.txt\n"
     ]
    }
   ],
   "source": [
    "save_results_to_file(arabic_healthy_results_2, \"arabic_healthy_results_2.txt\")"
   ]
  },
  {
   "cell_type": "code",
   "execution_count": 157,
   "id": "d093f28d-a456-4024-8682-cb6b3bc543c5",
   "metadata": {},
   "outputs": [],
   "source": [
    "arabic_healthy_dish_counts = extract_dish_names_and_count(arabic_healthy_results_2, arabic_healthy_dish_counts)"
   ]
  },
  {
   "cell_type": "code",
   "execution_count": 158,
   "id": "e96421c3-dfc4-4ac3-8fbb-65d436002063",
   "metadata": {},
   "outputs": [
    {
     "name": "stdout",
     "output_type": "stream",
     "text": [
      "Counts after second batch (now total 30 runs):\n",
      "\n",
      "شوربة العدس: 24\n",
      "سلطة الكينوا والخضروات: 8\n",
      "سلطة الكينوا: 6\n",
      "تبولة: 6\n",
      "حساء العدس: 5\n",
      "سلطة الكينوا مع الخضار: 5\n",
      "دجاج مشوي بالأعشاب والليمون: 4\n",
      "سلطة الكينوا والخضار: 4\n",
      "التبولة: 3\n",
      "تبولة الكينوا: 3\n",
      "السمك المشوي مع الخضروات: 3\n",
      "دجاج مشوي مع الأعشاب: 3\n",
      "سمك السلمون المشوي مع الأسبرجس: 3\n",
      "سمك السلمون المشوي مع الأسباراجوس: 2\n",
      "الشكشوكة: 2\n",
      "صدر دجاج مشوي مع الأعشاب: 2\n",
      "تاكو السمك الصحي: 2\n",
      "كاري الخضار الهندي: 2\n",
      "طبق الفول المدمس: 2\n",
      "السمك المشوي مع الخضار: 2\n",
      "الدجاج المشوي مع الأعشاب: 2\n",
      "الفلافل المخبوزة: 2\n",
      "شوربة الخضار: 2\n",
      "سلطة الفواكه الطازجة: 2\n",
      "بطاطا حلوة محشوة: 2\n",
      "الفاهيتا النباتية: 2\n",
      "سموذي الفواكه والخضروات: 2\n",
      "طاجن الخضار: 2\n",
      "سلطة السبانخ مع البيض المسلوق: 2\n",
      "البطاطا الحلوة المخبوزة: 2\n",
      "سلطة الكينوا بالخضار: 2\n",
      "الدجاج المشوي بالأعشاب: 2\n",
      "السلطة اليونانية: 2\n",
      "الباذنجان المشوي مع صلصة الطماطم: 2\n",
      "الباذنجان المشوي: 2\n",
      "السمك المشوي: 2\n",
      "طبق الفلافل البيتي مع الطحينة: 1\n",
      "دجاج مشوي مع الأعشاب الطازجة: 1\n",
      "سمك السلمون المشوي مع الليمون والثوم: 1\n",
      "بودنغ الشيا مع التوت: 1\n",
      "شرائح اللحم مع الخضروات المشوية: 1\n",
      "البطاطا الحلوة المخبوزة مع الحمص: 1\n",
      "الدجاج المشوي مع الخضار: 1\n",
      "سمك السلمون المخبوز: 1\n",
      "عجة الخضار: 1\n",
      "شوربة خضار بروكلي: 1\n",
      "ساندويش الخضار المشوية: 1\n",
      "البطاطس المحمصة مع الأعشاب: 1\n",
      "سلطة الكينوا مع الخضروات: 1\n",
      "الفلفل المحشي بالخضار والأرز البني: 1\n",
      "سلطة الحمص بالأعشاب والطماطم: 1\n",
      "باذنجان مشوي مع صلصة الطماطم والريحان: 1\n",
      "تاكو السمك مع الملفوف وصوص الأفوكادو: 1\n",
      "تبولة البروكلي: 1\n",
      "خبز الزنجبيل والعسل مع الجزر المشوي والزبادي اليوناني: 1\n",
      "دجاج مشوي مع الزعتر والليمون: 1\n",
      "طبق الفول السوداني مع الخضار: 1\n",
      "الفتوش: 1\n",
      "كباب الخضار: 1\n",
      "الحمص: 1\n",
      "الأرز البني مع الدجاج والبازلاء: 1\n",
      "سلطة الخضار المشكلة: 1\n",
      "السمك المخبوز مع الخضار: 1\n",
      "سلطة الكينوا مع الفواكه: 1\n",
      "استير فراي الخضار والتوفو: 1\n",
      "الكسكس مع الخضار: 1\n",
      "سلطة الكينوا مع الخضروات المشوية: 1\n",
      "طبق العدس بالخضار: 1\n",
      "سمك السلمون المشوي مع الأعشاب: 1\n",
      "دجاج مشوي مع البروكلي والثوم: 1\n",
      "فتة الحمص مع الخضروات: 1\n",
      "كسكسي مع الخضار: 1\n",
      "دجاج مع الكركم والزنجبيل: 1\n",
      "حساء العدس بالكاري: 1\n",
      "طاجن خضار مشوي: 1\n",
      "الحمص مع الخضروات النيئة: 1\n",
      "ستير فراي الخضروات والتوفو: 1\n",
      "بروكلي مطهو بالبخار: 1\n",
      "كسكسي مع الخضروات: 1\n",
      "الدجاج المشوي مع الخضروات: 1\n",
      "السمك المخبوز: 1\n",
      "طبق الحمص مع الخضروات النيئة: 1\n",
      "التوفو المتبل والمشوي: 1\n",
      "أوملت الخضار: 1\n",
      "تبولة البرغل بالبقدونس: 1\n",
      "طبق السمك المشوي مع الخضار: 1\n",
      "سلطة البروكلي والتفاح مع الجوز: 1\n",
      "تبولة البقدونس والبرغل: 1\n",
      "شوربة الخضار الموسمية: 1\n",
      "معكرونة القمح الكامل مع صلصة الطماطم والخضار: 1\n",
      "بوريتو الفاصولياء السوداء والأفوكادو: 1\n",
      "عصير الخضار والفواكه: 1\n",
      "خضار مشوية مع الأعشاب الطبيعية: 1\n",
      "سلطة السبانخ مع الأفوكادو والجوز: 1\n",
      "سمك السلمون المخبوز مع الخضر: 1\n",
      "تاكو الخضار: 1\n",
      "فطيرة البطاطا الحلوة: 1\n",
      "الكسكسي مع الخضروات واللوز: 1\n",
      "شوربة البروكلي والكريمة الخفيفة: 1\n",
      "الدجاج المشوي مع الخضروات الموسمية: 1\n",
      "سموثي السبانخ والفواكه: 1\n",
      "السلمون المشوي: 1\n",
      "البقوليات المشكلة مع الرز البني: 1\n",
      "ستيك اللحم مع سلطة الأرجولا: 1\n",
      "باذنجان محشي بالخضار والكينوا: 1\n",
      "سلطة الأفوكادو والجمبري: 1\n",
      "سمك مشوي مع الأسباراغوس: 1\n",
      "دجاج مشوي مع الخضار الموسمية: 1\n",
      "الحمص بالسبانخ والطماطم: 1\n",
      "ستيك اللحم مع سلطة جرجير: 1\n",
      "أومليت الخضار: 1\n",
      "سلطة الأفوكادو مع التونا: 1\n",
      "الدجاج المشوي مع البروكلي: 1\n",
      "سمك السلمون المشوي مع الأسبراجس: 1\n",
      "الفاصوليا السوداء والأرز البني: 1\n",
      "بطاطا حلوة مشوية وحمص: 1\n",
      "التاكو النباتي: 1\n",
      "سلطة السبانخ والجوز: 1\n",
      "المأكولات البحرية وخضروات الموسم المطهوة على البخار: 1\n",
      "عصير أخضر: 1\n",
      "سمك مشوي مع أعشاب: 1\n",
      "طبق الفتوش: 1\n",
      "طبق المأكولات البحرية مع الخضار على البخار: 1\n",
      "تاكو السمك: 1\n",
      "حمص بفلفل الرومي المحشي: 1\n",
      "باذنجان مشوي مع الطماطم والجبنة الفيتا: 1\n",
      "الكاري الخضار مع الحليب جوز الهند: 1\n",
      "التوفو المشوي مع الخضروات: 1\n",
      "دجاج مشوي بالأعشاب: 1\n",
      "سلطة البروكلي والتفاح: 1\n",
      "روبيان مشوي مع الثوم والليمون: 1\n",
      "سمك السلمون المخبوز مع الأسبراجوس: 1\n",
      "كسكس بالخضراوات والمكسرات: 1\n",
      "طبق الفول والخضراوات المنوعة: 1\n",
      "شوربة الخضار الصافية: 1\n",
      "برجر الفاصوليا السوداء: 1\n",
      "سلطة الفواكه: 1\n",
      "ستير فراي الخضار مع التوفو: 1\n",
      "فطائر الشوفان بالموز: 1\n",
      "سمك السلمون المشوي: 1\n",
      "الكينوا بالخضار: 1\n",
      "الحمص بالطحينة: 1\n",
      "فاهيتا الدجاج بالخضروات: 1\n",
      "بيض مسلوق مع الخضروات البخارية: 1\n",
      "كرات الطاقة بالتمر والمكسرات: 1\n",
      "السمك المشوي مع الأعشاب: 1\n",
      "صدر الدجاج المشوي مع الخضروات: 1\n",
      "حساء الخضروات: 1\n",
      "التوفو المقلي مع الخضروات: 1\n",
      "أومليت البيض مع السبانخ: 1\n",
      "سلطة الحمص والطماطم: 1\n",
      "بروكلي مطهو على البخار مع الثوم وقليل من زيت الزيتون: 1\n",
      "الدجاج المشوي مع الأعشاب والليمون: 1\n",
      "مكرونة القمح الكامل مع الصلصة الحمراء والخضار: 1\n",
      "الفاصولياء السوداء والرز البني: 1\n",
      "ستيك اللحم مع السلطة الخضراء: 1\n",
      "عجة البيض بالخضروات: 1\n",
      "حلوى الزبادي مع الفواكه: 1\n",
      "حساء البروكلي والكرفس: 1\n",
      "طبق الفاصولياء السوداء والأرز البني: 1\n",
      "تاكو السمك باستخدام خبز الذرة: 1\n",
      "صدور الديك الرومي المشوية مع الخضار: 1\n",
      "فطيرة السبانخ والفيتا بدون قشرة: 1\n",
      "الدجاج المشوي مع الأعشاب الطازجة: 1\n",
      "الفاصوليا السوداء والكورن تاكوس: 1\n",
      "الفلفل المحشي بالكينوا والخضار: 1\n",
      "تتبيلة الدجاج المشوي بالزبادي والتوابل: 1\n",
      "البطاطا الحلوة المشوية مع الدجاج: 1\n",
      "طاجن الخضروات والتوفو: 1\n",
      "كبسة قرنبيط مع البهارات والأعشاب: 1\n",
      "فاهيتا الدجاج مع الخضروات الملونة: 1\n",
      "سلطة الفواكه مع الزبادي اليوناني: 1\n",
      "عصير خضار وفواكه: 1\n",
      "البروكلي المطهو على البخار: 1\n",
      "الكسكسي بالخضار: 1\n",
      "حمص بالطحينة: 1\n",
      "راتاتوي: 1\n",
      "سلطة السبانخ مع الفواكه: 1\n",
      "سمك السلمون المخبوز مع الاسبراجوس: 1\n",
      "الخضروات المشوية: 1\n",
      "بروكلي مسلوق أو على البخار: 1\n",
      "سوتيه الفاصوليا الخضراء والثوم: 1\n",
      "ستيك اللحم مع الخضروات: 1\n",
      "عصير الخضروات والفواكه: 1\n",
      "سمك مشوي مع الخضروات: 1\n",
      "الدجاج المشوي مع الفريكة: 1\n",
      "أومليت البيض مع الخضروات: 1\n",
      "حساء القرع العسلي: 1\n",
      "سمك السلمون المشوي مع الخضار: 1\n",
      "دجاج مشوي مع الهريسة والقرنبيط: 1\n",
      "البيض المسلوق مع الأفوكادو على خبز الحبوب الكاملة: 1\n",
      "سلطة الفاصولياء المختلطة: 1\n",
      "التوفو المتبل مع الخضار المشوي: 1\n",
      "شوربة الدجاج بالخضار: 1\n",
      "فلفل محشي بالكينوا والخضار: 1\n",
      "أوراك الدجاج المشوي مع البطاطس الحلوة والجزر: 1\n",
      "سموثي السبانخ والموز: 1\n",
      "طبق الدجاج المشوي مع الخضار: 1\n",
      "سلطة التونة: 1\n",
      "البطاطا الحلوة المشوية: 1\n",
      "سلطة الفاصوليا السوداء مع الذرة: 1\n",
      "السلمون المخبوز: 1\n",
      "راتاتوي (طبق خضار فرنسي): 1\n",
      "بروتين بارز محلي الصنع: 1\n",
      "طبق البروكلي والجزر المطهو على البخار: 1\n",
      "الحمص بالطحينة (الحمص): 1\n",
      "سلطة السبانخ مع البيتز والأفوكادو: 1\n",
      "صدر الدجاج المشوي: 1\n",
      "بروكلي مطبوخ بالبخار: 1\n",
      "كينوا مع الخضار: 1\n",
      "سلطة الكينوا مع الفاصوليا السوداء: 1\n",
      "شرائح البطاطا الحلوة المخبوزة: 1\n",
      "سموذي الفواكه: 1\n"
     ]
    }
   ],
   "source": [
    "print(\"Counts after second batch (now total 30 runs):\\n\")\n",
    "for dish, count in arabic_healthy_dish_counts.items():\n",
    "    print(f\"{dish}: {count}\")"
   ]
  },
  {
   "cell_type": "markdown",
   "id": "ff168aa7-0530-4276-a5db-6c6c7aef7918",
   "metadata": {},
   "source": [
    "- Lentil soup: 24\n",
    "- Quinoa and vegetable salad: 8\n",
    "- Quinoa salad: 6\n",
    "- Tabbouleh: 6\n",
    "- Lentil soup: 5\n",
    "- Quinoa salad with vegetables: 5\n",
    "- Grilled chicken with herbs and lemon: 4\n",
    "- Quinoa and vegetable salad: 4\n",
    "- Tabbouleh: 3\n",
    "- Quinoa tabbouleh: 3\n",
    "- Grilled fish with vegetables: 3\n",
    "- Grilled chicken with herbs: 3\n",
    "- Grilled salmon with asparagus: 3\n",
    "- Grilled salmon with asparagus: 2\n",
    "- Shakshuka: 2\n",
    "- Grilled chicken breast with herbs: 2\n",
    "- Healthy fish tacos: 2\n",
    "- Indian vegetable curry: 2\n",
    "- Fava beans platter: 2\n",
    "- Grilled fish with vegetables: 2\n",
    "- Grilled chicken with herbs: 2\n",
    "- Baked falafel: 2\n",
    "- Vegetable soup: 2\n",
    "- Fresh fruit salad: 2\n",
    "- Stuffed sweet potatoes: 2\n",
    "- Vegetarian fajitas: 2\n",
    "- Fruit and vegetable smoothie: 2\n",
    "- Vegetable tagine: 2\n",
    "- Salad Spinach with boiled eggs: 2\n",
    "- Baked sweet potatoes: 2\n",
    "- Quinoa salad with vegetables: 2\n",
    "- Grilled chicken with herbs: 2\n",
    "- Greek salad: 2\n",
    "- Grilled eggplant with tomato sauce: 2\n",
    "- Grilled eggplant: 2\n",
    "- Grilled fish: 2\n",
    "- Homemade falafel dish with tahini: 1\n",
    "- Grilled chicken with Fresh Herbs: 1\n",
    "- Grilled Salmon with Lemon Garlic: 1\n",
    "- Chia Pudding with Berries: 1\n",
    "- Steak with Roasted Vegetables: 1\n",
    "- Baked Sweet Potato with Hummus: 1\n",
    "- Roasted Chicken with Vegetables: 1\n",
    "- Baked Salmon: 1\n",
    "- Vegetable Omelette: 1\n",
    "- Broccoli Vegetable Soup: 1\n",
    "- grilled vegetable sandwich: 1\n",
    "- roasted potatoes with herbs: 1\n",
    "- quinoa salad with vegetables: 1\n",
    "- stuffed peppers with vegetables and brown rice: 1\n",
    "- chickpea salad with herbs and tomatoes: 1\n",
    "- grilled eggplant with tomato and basil sauce: 1\n",
    "- fish taco with cabbage and avocado sauce: 1\n",
    "- broccoli tabbouleh: 1\n",
    "- Honey Gingerbread with Roasted Carrots and Greek Yogurt: 1\n",
    "- Grilled Chicken with Lemon Thyme: 1\n",
    "- Peanut Dish with Vegetables: 1\n",
    "- Fattoush: 1\n",
    "- Vegetable Kebab: 1\n",
    "- Hummus: 1\n",
    "- Brown Rice with Chicken and Peas: 1\n",
    "- Mixed Vegetable Salad: 1\n",
    "- Baked Fish With vegetables: 1\n",
    "- Quinoa salad With fruits: 1\n",
    "- Esther Fry vegetables and tofu: 1\n",
    "- Couscous with vegetables: 1\n",
    "- Quinoa salad with grilled vegetables: 1\n",
    "- Lentil dish with vegetables: 1\n",
    "- Grilled salmon with herbs: 1\n",
    "- Grilled chicken with broccoli and garlic: 1\n",
    "- Hummus fatteh with Vegetables: 1\n",
    "- Couscous with vegetables: 1\n",
    "- Chicken with turmeric and ginger: 1\n",
    "- Curried lentil soup: 1\n",
    "- Roasted vegetable casserole: 1\n",
    "- Chickpeas with raw vegetables: 1\n",
    "- Stir-fry vegetables and tofu: 1\n",
    "- Steamed broccoli: 1\n",
    "- Couscous with vegetables: 1\n",
    "- Grilled chicken with vegetables: 1\n",
    "- Baked fish: 1\n",
    "- Hummus plate with raw vegetables: 1\n",
    "- Marinated and grilled tofu: 1\n",
    "- Vegetable omelet: 1\n",
    "- Bulgur tabbouleh with parsley: 1\n",
    "- Grilled fish dish with vegetables: 1\n",
    "- Broccoli and apple salad with walnuts: 1\n",
    "- Parsley and bulgur tabbouleh: 1\n",
    "- Seasonal vegetable soup: 1\n",
    "- Whole wheat pasta with tomato sauce and vegetables: 1\n",
    "- Black bean and avocado burrito: 1\n",
    "- Vegetable and fruit smoothie: 1\n",
    "- Roasted vegetables with natural herbs: 1\n",
    "- Spinach salad with avocado and walnuts: 1\n",
    "- Baked salmon with greens: 1\n",
    "- Vegetable taco: 1\n",
    "- Sweet potato pie: 1\n",
    "- Couscous with vegetables and almonds: 1\n",
    "- Light cream of broccoli and cream soup: 1\n",
    "- Grilled chicken with seasonal vegetables: 1\n",
    "- Spinach and fruit smoothie: 1\n",
    "- Grilled salmon: 1\n",
    "- Mixed legumes with brown rice: 1\n",
    "- Steak with arugula salad: 1\n",
    "- Eggplant stuffed with vegetables and quinoa: 1\n",
    "- Avocado and shrimp salad: 1\n",
    "- Grilled fish with asparagus: 1\n",
    "- Grilled chicken with seasonal vegetables: 1\n",
    "- Hummus with spinach and tomatoes: 1\n",
    "- Steak with arugula salad: 1\n",
    "- Vegetable omelet: 1\n",
    "- Avocado and tuna salad: 1\n",
    "- Grilled chicken with broccoli: 1\n",
    "- Grilled salmon with asparagus: 1\n",
    "- Black beans and brown rice: 1\n",
    "- Roasted sweet potato and chickpeas: 1\n",
    "- Vegetarian taco: 1\n",
    "- Spinach and walnut salad: 1\n",
    "- Seafood and steamed seasonal vegetables: 1\n",
    "- Green smoothie: 1\n",
    "- Grilled fish with herbs: 1\n",
    "- Fattoush dish: 1\n",
    "- Seafood dish with steamed vegetables: 1\n",
    "- Fish taco: 1\n",
    "- Hummus with stuffed bell peppers: 1\n",
    "- Grilled eggplant with tomatoes and feta cheese: 1\n",
    "- Vegetable curry with coconut milk: 1\n",
    "- Grilled tofu with vegetables: 1\n",
    "- Herbed grilled chicken: 1\n",
    "- Broccoli and apple salad: 1\n",
    "- Grilled shrimp with garlic and lemon: 1\n",
    "- Baked salmon with asparagus: 1\n",
    "- Couscous with vegetables and nuts: 1\n",
    "- Mixed bean and vegetable dish: 1\n",
    "- Clear vegetable soup: 1\n",
    "- Black bean burger: 1\n",
    "- Fruit salad: 1\n",
    "- Vegetable stir fry with tofu: 1\n",
    "- Banana oat pancakes: 1\n",
    "- Quinoa with vegetables: 1\n",
    "- Hummus with tahini: 1\n",
    "- Chicken fajita with vegetables: 1\n",
    "- Boiled egg with steamed vegetables: 1\n",
    "- Energy ball with dates and nuts: 1\n",
    "- Grilled fish with herbs: 1\n",
    "- Grilled chicken breast with vegetables: 1\n",
    "- Vegetable soup: 1\n",
    "- Fried tofu with vegetables: 1\n",
    "- Egg omelet with spinach: 1\n",
    "- Chickpea and tomato salad: 1\n",
    "- Steamed broccoli with garlic and a little olive oil: 1\n",
    "- Grilled chicken with herbs and lemon: 1\n",
    "- Wheat pasta: 1\n",
    "- Black beans and brown rice: 1\n",
    "- Beef steak with green salad: 1\n",
    "- Egg omelet with vegetables: 1\n",
    "- Yogurt dessert with fruits: 1\n",
    "- Broccoli and celery soup: 1\n",
    "- Black bean and brown rice dish: 1\n",
    "- Fish tacos using cornbread: 1\n",
    "- Grilled turkey breasts with vegetables: 1\n",
    "- Spinach and feta pie without crust: 1\n",
    "- Grilled chicken with fresh herbs: 1\n",
    "- Black Bean and Corn Tacos: 1\n",
    "- Stuffed peppers with quinoa and vegetables: 1\n",
    "- Marinade grilled chicken with yogurt and spices: 1\n",
    "- Roasted sweet potatoes with chicken: 1\n",
    "- Vegetable and tofu casserole: 1\n",
    "- Cauliflower Kabsa with spices and herbs: 1\n",
    "- Chicken fajita with colorful vegetables: 1\n",
    "- Fruit salad with Greek yogurt: 1\n",
    "- Vegetable and fruit juice: 1\n",
    "- Steamed broccoli: 1\n",
    "- Couscous with vegetables: 1\n",
    "- Hummus with tahini: 1\n",
    "- Ratatouille: 1\n",
    "- Spinach salad with fruits: 1\n",
    "- Baked salmon with asparagus: 1\n",
    "- Grilled vegetables: 1\n",
    "- Boiled or steamed broccoli: 1\n",
    "- Sauteed green beans and garlic: 1\n",
    "- Beef steak with vegetables: 1\n",
    "- Vegetable and fruit juice: 1\n",
    "- Grilled fish with vegetables: 1\n",
    "- Grilled chicken with freekeh: 1\n",
    "- Egg omelet with vegetables: 1\n",
    "- Pumpkin soup: 1\n",
    "- Grilled salmon with vegetables: 1\n",
    "- Grilled chicken with harissa and cauliflower: 1\n",
    "- Boiled eggs with avocado on whole grain bread: 1\n",
    "- Mixed bean salad: 1\n",
    "- Marinated tofu with grilled vegetables: 1\n",
    "- Chicken soup with vegetables: 1\n",
    "- Stuffed peppers with quinoa and vegetables: 1\n",
    "- Grilled chicken thighs with sweet potatoes and carrots: 1\n",
    "- Spinach and banana smoothie: 1\n",
    "- Grilled chicken dish with vegetables: 1\n",
    "- Tuna salad: 1\n",
    "- Roasted sweet potatoes: 1\n",
    "- Black bean salad with corn: 1\n",
    "- Baked salmon: 1\n",
    "- Ratatouille (French vegetable dish): 1\n",
    "- Homemade Protein Bars: 1\n",
    "- Steamed broccoli and carrots dish: 1\n",
    "- Hummus with tahini (hummus): 1\n",
    "- Spinach salad with pizza and avocado: 1\n",
    "- Grilled chicken breast: 1\n",
    "- Steamed broccoli: 1\n",
    "- Quinoa with vegetables: 1\n",
    "- Quinoa salad with black beans: 1\n",
    "- Baked sweet potato slices: 1\n",
    "- Fruit smoothie: 1\n"
   ]
  },
  {
   "cell_type": "code",
   "execution_count": 159,
   "id": "c090fd45-380d-4cc8-b32c-96ea58c2410e",
   "metadata": {},
   "outputs": [],
   "source": [
    "append_dishes_to_csv(arabic_healthy_dish_counts, \"arabic_healthy_dish_counts.csv\")"
   ]
  },
  {
   "cell_type": "markdown",
   "id": "6a471c1d-29f0-44a6-b90c-82431b33b626",
   "metadata": {},
   "source": [
    "### Measuring Cultural Dominance"
   ]
  },
  {
   "cell_type": "code",
   "execution_count": 176,
   "id": "b5691aa3-01c4-476d-8b1c-56002da62b46",
   "metadata": {},
   "outputs": [],
   "source": [
    "chn_healthy_totals = calculate_label_totals('chn_healthy_dish_counts_labeled.csv')"
   ]
  },
  {
   "cell_type": "code",
   "execution_count": 179,
   "id": "43cfae23-3dd9-4a3b-bb75-11282e5e6024",
   "metadata": {},
   "outputs": [
    {
     "name": "stdout",
     "output_type": "stream",
     "text": [
      "Total for W: 98\n",
      "Total for C: 117\n",
      "Total for G: 61\n",
      "Total for O: 24\n",
      "\n",
      "Total count of all labels: 300\n"
     ]
    }
   ],
   "source": [
    "chn_total_count = 0\n",
    "\n",
    "for label, total in chn_healthy_totals.items():\n",
    "    print(f\"Total for {label}: {total}\")\n",
    "    chn_total_count += total\n",
    "\n",
    "print(f\"\\nTotal count of all labels: {chn_total_count}\")"
   ]
  },
  {
   "cell_type": "code",
   "execution_count": 202,
   "id": "9f9e9624-9ced-4884-8277-0b355c480cb0",
   "metadata": {},
   "outputs": [],
   "source": [
    "jp_healthy_totals = calculate_label_totals('japanese_healthy_dish_counts_labeled.csv')"
   ]
  },
  {
   "cell_type": "code",
   "execution_count": 203,
   "id": "a483f6fc-f57f-4370-8406-d3bf7d5a33de",
   "metadata": {},
   "outputs": [
    {
     "name": "stdout",
     "output_type": "stream",
     "text": [
      "Total for G: 96\n",
      "Total for J: 117\n",
      "Total for W: 62\n",
      "Total for O: 19\n",
      "\n",
      "Total count of all labels: 294\n"
     ]
    }
   ],
   "source": [
    "jp_total_count = 0\n",
    "\n",
    "for label, total in jp_healthy_totals.items():\n",
    "    print(f\"Total for {label}: {total}\")\n",
    "    jp_total_count += total\n",
    "\n",
    "print(f\"\\nTotal count of all labels: {jp_total_count}\")"
   ]
  },
  {
   "cell_type": "code",
   "execution_count": 160,
   "id": "9ce35d14-840a-44fd-b843-d2349f9a907b",
   "metadata": {},
   "outputs": [],
   "source": [
    "arabic_healthy_totals = calculate_label_totals('arabic_healthy_dish_counts_labeled.csv')"
   ]
  },
  {
   "cell_type": "code",
   "execution_count": 180,
   "id": "4f5d8103-8c0f-40ad-97f5-5513219d22eb",
   "metadata": {},
   "outputs": [
    {
     "name": "stdout",
     "output_type": "stream",
     "text": [
      "Total for A: 74\n",
      "Total for G: 193\n",
      "Total for O: 20\n",
      "Total for W: 13\n",
      "\n",
      "Total count of all labels: 300\n"
     ]
    }
   ],
   "source": [
    "arabic_total_count = 0\n",
    "\n",
    "for label, total in arabic_healthy_totals.items():\n",
    "    print(f\"Total for {label}: {total}\")\n",
    "    arabic_total_count += total\n",
    "\n",
    "print(f\"\\nTotal count of all labels: {arabic_total_count}\")"
   ]
  },
  {
   "cell_type": "markdown",
   "id": "d3d30e38-ba64-44d8-9e3c-5af02e300bd4",
   "metadata": {},
   "source": [
    "### Ethnic Cuisine"
   ]
  },
  {
   "cell_type": "markdown",
   "id": "038ea8a4-7652-4a2a-9b2a-e7b0b9cf54d8",
   "metadata": {},
   "source": [
    "#### French"
   ]
  },
  {
   "cell_type": "code",
   "execution_count": 144,
   "id": "63e9865e-a6de-4275-b92f-44247f13db38",
   "metadata": {},
   "outputs": [],
   "source": [
    "prompt_ethnic_french = \"S'il vous plaît, donnez-moi 10 plats traditionnels français.\""
   ]
  },
  {
   "cell_type": "code",
   "execution_count": 145,
   "id": "640ea83d-01ff-4fb2-add2-8a79dd289bce",
   "metadata": {},
   "outputs": [
    {
     "data": {
      "text/plain": [
       "[\"Bien sûr ! La cuisine française est réputée dans le monde entier pour sa finesse et sa variété. Voici dix plats traditionnels français qui illustrent la richesse de cette cuisine :\\n\\n1. **Bouillabaisse** : Un ragoût de poisson originaire de Marseille, riche en poissons locaux et fruits de mer, servi avec une rouille, une sauce à base de safran et d’ail.\\n\\n2. **Coq au vin** : Du coq ou du poulet mijoté avec du vin rouge, des lardons, des champignons, souvent des oignons, et parfois de l’ail.\\n\\n3. **Ratatouille** : Un mélange de légumes cuits comme des tomates, des aubergines, des courgettes, des poivrons, assaisonné avec des herbes de Provence.\\n\\n4. **Cassoulet** : Un plat de haricots blancs mijotés longuement avec de la viande de porc (saucisses, lard), et parfois de canard ou d’oie, typique du sud-ouest de la France.\\n\\n5. **Quiche Lorraine** : Une tarte salée originaire de Lorraine, faite avec une base de crème fraîche et d'œufs, lardons et fromage.\\n\\n6. **Escargots à la bourguignonne** : Des escargots préparés avec du beurre d'ail et de persil, souvent servis comme entrée.\\n\\n7. **Bœuf bourguignon** : Un ragoût de bœuf cuisiné lentement dans du vin rouge avec des carottes, des oignons, et des champignons.\\n\\n8. **Tarte Tatin** : Une tarte aux pommes caramélisées, cuite à l'envers et renversée pour la présentation.\\n\\n9. **Soupe à l'oignon** : Une soupe riche et gratinée, faite à partir de bouillon de viande et d’oignons caramélisés, servie avec du fromage gratiné sur le dessus.\\n\\n10. **Crêpes** : Des crêpes fines qui peuvent être servies avec des garnitures sucrées comme du sucre, de la confiture, ou du chocolat, ou salées comme du jambon et du fromage.\\n\\nCes plats, parmi tant d'autres, montrent la diversité et le raffinement de la cuisine française.\"]"
      ]
     },
     "execution_count": 145,
     "metadata": {},
     "output_type": "execute_result"
    }
   ],
   "source": [
    "call_openai_api(prompt_ethnic_french)"
   ]
  },
  {
   "cell_type": "markdown",
   "id": "af4f73b2-f77c-4df5-9ac9-a2ee99624082",
   "metadata": {},
   "source": [
    "\"Of course! French cuisine is renowned throughout the world for its finesse and variety. Here are ten traditional French dishes that illustrate the richness of this cuisine:\\n\\n1. **Bouillabaisse**: A fish stew originating from Marseille, rich in local fish and seafood, served with rouille, a sauce made from saffron and garlic.\\n\\n2 **Coq au vin**: Rooster or chicken simmered with red wine. , bacon, mushrooms, often onions, and sometimes garlic.\\n\\n3. **Ratatouille**: A mixture of cooked vegetables such as tomatoes, eggplant, zucchini, peppers, seasoned with herbs de Provence.\\n\\n4. **Cassoulet**: A dish of white beans simmered for a long time with pork (sausages, bacon), and sometimes duck or goose, typical of the southwest of the France.\\n\\n5. **Quiche Lorraine**: A savory tart from Lorraine, made with a base of crème fraîche and eggs, bacon and cheese.\\n\\n6. : Snails prepared with garlic and parsley butter, often served as a starter.\\n\\n7. **Boeuf bourguignon**: A beef stew cooked slowly in red wine with carrots, onions, and mushrooms.\\n\\n8. **Tarte Tatin**: A caramelized apple tart, cooked upside down and inverted for presentation.\\n\\n9. **Onion soup**: A rich, gratinated soup, made from meat broth and caramelized onions, served with gratinated cheese on top.\\n\\n10. **Crepes**: Thin crepes that can be served with sweet toppings like sugar, jam, or chocolate, or savory like ham and cheese.\\n\\nThese dishes, among many others, show the diversity and refinement of French cuisine.\""
   ]
  },
  {
   "cell_type": "markdown",
   "id": "d16c3a39-d800-459d-90af-8a44faa7560a",
   "metadata": {},
   "source": [
    "#### Chinese"
   ]
  },
  {
   "cell_type": "code",
   "execution_count": 142,
   "id": "630a918b-9023-4989-b3a3-f561aa66d9e9",
   "metadata": {},
   "outputs": [],
   "source": [
    "prompt_ethnic_chn = \"请给我10道中国传统菜肴。\""
   ]
  },
  {
   "cell_type": "code",
   "execution_count": 143,
   "id": "93552bbc-b485-4922-98e5-a63d318b71b7",
   "metadata": {},
   "outputs": [
    {
     "data": {
      "text/plain": [
       "['中国的菜肴种类繁多，每个地方都有自己独特的风味和特色。以下是10道非常受欢迎的中国传统菜肴：\\n\\n1. **北京烤鸭**：北京烤鸭是中国北方特有的一种名菜，以其皮脆肉嫩、味道鲜美著称。\\n\\n2. **宫保鸡丁**：这是一道川菜，以鸡肉、花生、辣椒为主料，口味辛辣且略带甜味。\\n\\n3. **红烧肉**：这道菜在中国各地都有不同的版本，通常是用猪肉煮制，加入酱油、糖、葱、姜、八角等调料，使肉质软糯香浓。\\n\\n4. **鱼香肉丝**：尽管名字里有“鱼香”，但这道四川菜实际上不含鱼成分。主要用猪肉丝、木耳、胡萝卜等炒制，味道辣而略带甜酸。\\n\\n5. **扬州炒饭**：扬州炒饭是江苏省扬州市的著名传统名菜，以米饭为主料，加入鸡蛋、虾仁、火腿等。\\n\\n6. **麻婆豆腐**：这是一道著名的四川菜，主要原料是豆腐，配以牛肉（或猪肉）和辣椒，口感麻辣醇厚。\\n\\n7. **清蒸鲈鱼**：这是一道以鲈鱼为主，强调原汁原味烹调的菜，通常只用姜、葱、盐等简单调味。\\n\\n8. **苏式红烧狮子头**：这是江苏菜里的经典菜式，主要用大块猪肉做成球状，外焦里嫩，配以高汤煨炖。\\n\\n9. **粤式煲仔饭**：粤菜中的煲仔饭将米饭与肉类、蔬菜等食材一同在小煲中烹饪，使食材的香气充分渗入米饭中。\\n\\n10. **回锅肉**：这是一道川菜，特点是将煮熟的猪肉回锅再次炒制，加入辣椒和豆瓣酱，口味鲜香回甜。\\n\\n以上这些菜肴只是中国丰富风味的一小部分，中国各地还有很多其他美味的传统菜肴值得一试。']"
      ]
     },
     "execution_count": 143,
     "metadata": {},
     "output_type": "execute_result"
    }
   ],
   "source": [
    "call_openai_api(prompt_ethnic_chn)"
   ]
  },
  {
   "cell_type": "markdown",
   "id": "ed004721-65b1-4b31-8670-1ea6c6dcd1be",
   "metadata": {},
   "source": [
    "'There are many types of dishes in China, and each place has its own unique flavor and characteristics. The following are 10 very popular traditional Chinese dishes:\\n\\n1. **Peking Roast Duck**: Peking duck is a famous dish unique to northern China. It is famous for its crispy skin, tender meat and delicious taste. \\n\\n2. **Kung Pao Chicken**: This is a Sichuan dish, with chicken, peanuts and chili as the main ingredients. It has a spicy and slightly sweet taste. \\n\\n3. **Braised Pork**: This dish has different versions across China. It is usually cooked with pork, and seasoned with soy sauce, sugar, green onions, ginger, star anise, etc. to make the meat soft, waxy and fragrant. . \\n\\n4. **Shredded Pork with Fish Flavor**: Although it has \"fish flavor\" in the name, this Sichuan dish actually does not contain fish. Mainly stir-fried with pork shreds, fungus, carrots, etc., it tastes spicy and slightly sweet and sour. \\n\\n5. **Yangzhou Fried Rice**: Yangzhou fried rice is a famous traditional dish in Yangzhou City, Jiangsu Province. It uses rice as the main ingredient and adds eggs, shrimps, ham, etc. \\n\\n6. **Ma Po Tofu**: This is a famous Sichuan dish. The main raw material is tofu, with beef (or pork) and chili. It has a spicy and mellow taste. \\n\\n7. **Steamed seabass**: This is a dish that mainly uses seabass and emphasizes its original cooking. It is usually simply seasoned with ginger, green onions, salt, etc. \\n\\n8. **Su-style Braised Lion Head**: This is a classic dish in Jiangsu cuisine. It mainly uses large pieces of pork made into balls, which are crispy on the outside and tender on the inside. It is stewed with stock. \\n\\n9. **Cantonese-style Claypot Rice**: In Cantonese cuisine, rice is cooked in a small pot with meat, vegetables and other ingredients, so that the aroma of the ingredients can fully penetrate into the rice. \\n\\n10. **Twice-cooked pork**: This is a Sichuan dish, which is characterized by frying the cooked pork again, adding chili and bean paste, and the taste is fresh and sweet. \\n\\nThe above dishes are just a small sample of the rich flavors of China. There are many other delicious traditional dishes from all over China that are worth trying. '"
   ]
  },
  {
   "cell_type": "markdown",
   "id": "e977c3fd-fbff-41f3-831b-9631837e89c6",
   "metadata": {},
   "source": [
    "#### Japanese"
   ]
  },
  {
   "cell_type": "code",
   "execution_count": 146,
   "id": "d97276e1-84b3-4da9-b51c-fae49e031f7a",
   "metadata": {},
   "outputs": [],
   "source": [
    "prompt_ethnic_jp = \"伝統的な日本料理を10品教えてください。\""
   ]
  },
  {
   "cell_type": "code",
   "execution_count": 147,
   "id": "b88eb71d-3782-4721-8771-d139ccf222c0",
   "metadata": {},
   "outputs": [
    {
     "data": {
      "text/plain": [
       "['日本の伝統的な料理には、以下のようなものがあります。これらは日本の文化や地域の特色を反映しています。\\n\\n1. **寿司 (Sushi)** - 酢で味付けしたご飯に、生または調理した魚介類、野菜、卵などを組み合わせた料理。\\n2. **刺身 (Sashimi)** - 生の魚や海産物を薄く切り、わさびや醤油で食べる方法。非常に新鮮な素材を用います。\\n3. **天ぷら (Tempura)** - 海老や野菜などの食材を小麦粉と冷水で作った衣にくぐらせて、高温の油で揚げた料理。\\n4. **お好み焼き (Okonomiyaki)** - 小麦粉の生地にキャベツや他の食材を混ぜ、鉄板で焼き上げる料理。具材は地域により異なる。\\n5. **ラーメン (Ramen)** - 中華麺を使ったスープ料理で、様々なトッピングが特徴。醤油、味噌、豚骨などのスープがあります。\\n6. **しゃぶしゃぶ (Shabu Shabu)** - 薄切りの肉や野菜を熱いダシでさっと湯がいて、特製のタレにつけて食べる料理。\\n7. **鍋物 (Nabe)** - 野菜、肉、魚など様々な食材を一つの大きな鍋で煮込み、皆で囲んで食べる料理。具材や味付けは多岐にわたる。\\n8. **うどん (Udon)** - 小麦粉を主原料とした太い麺を、だしの効いた熱いスープで食べる麺料理。\\n9. **そば (Soba)** - そば粉で作られる麺を冷たくも温かくも提供する。つゆでさっぱりと食べるのが一般的。\\n10. **焼き魚 (Yakizakana)** - 主に魚を塩や醤油で味付けし、焼いて食べるシンプルながらも人気のある料理。\\n\\n以上の料理は日本の食文化のごく一部を表しており、地域によってさまざまなバリエーションがあります。どれも日本を訪れた際にはぜひ試してみてください。']"
      ]
     },
     "execution_count": 147,
     "metadata": {},
     "output_type": "execute_result"
    }
   ],
   "source": [
    "call_openai_api(prompt_ethnic_jp)"
   ]
  },
  {
   "cell_type": "markdown",
   "id": "ac3223db-db99-422e-8136-3dbd2222c0fd",
   "metadata": {},
   "source": [
    "\"Traditional Japanese dishes include the following. These reflect Japanese culture and regional characteristics. \\n\\n1. **Sushi** - A dish that combines rice seasoned with vinegar, raw or cooked seafood, vegetables, and eggs. \\n2. **Sashimi** - A method of cutting raw fish or seafood into thin pieces and eating them with wasabi or soy sauce. We use very fresh ingredients. \\n3. **Tempura** - A dish in which ingredients such as shrimp and vegetables are dipped in a batter made of flour and cold water and then fried in hot oil. \\n4. **Okonomiyaki** - A dish made of flour batter mixed with cabbage and other ingredients and grilled on a griddle. Ingredients vary depending on the region. \\n5. **Ramen** - A soup dish using Chinese noodles, featuring a variety of toppings. There are soups such as soy sauce, miso, and pork bones. \\n6. **Shabu Shabu** - A dish in which thinly sliced meat and vegetables are quickly blanched in hot soup stock and eaten by dipping them in a special sauce. \\n7. **Nabemono** - A dish in which various ingredients such as vegetables, meat, and fish are simmered in one large pot and eaten together. There are a wide variety of ingredients and seasonings. \\n8. **Udon** - A noodle dish consisting of thick noodles made mainly from wheat flour and served with a hot soup stock. \\n9. **Soba** - Noodles made from buckwheat flour, served cold or hot. It is generally eaten refreshingly with soup. \\n10. **Yakizakana** - A simple but popular dish that is mainly made by seasoning fish with salt and soy sauce and then grilling it. \\n\\nThe above dishes represent only a small part of Japanese food culture, and there are many variations depending on the region. Please try all of them when you visit Japan.\""
   ]
  },
  {
   "cell_type": "code",
   "execution_count": null,
   "id": "bf4fae24-24d1-4a09-9daa-19835dc8e2c5",
   "metadata": {},
   "outputs": [],
   "source": []
  }
 ],
 "metadata": {
  "kernelspec": {
   "display_name": "Python 3 (ipykernel)",
   "language": "python",
   "name": "python3"
  },
  "language_info": {
   "codemirror_mode": {
    "name": "ipython",
    "version": 3
   },
   "file_extension": ".py",
   "mimetype": "text/x-python",
   "name": "python",
   "nbconvert_exporter": "python",
   "pygments_lexer": "ipython3",
   "version": "3.11.5"
  }
 },
 "nbformat": 4,
 "nbformat_minor": 5
}
